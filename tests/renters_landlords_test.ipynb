{
 "cells": [
  {
   "cell_type": "markdown",
   "metadata": {},
   "source": [
    "# DESaster Simulation Set Up Template"
   ]
  },
  {
   "cell_type": "markdown",
   "metadata": {},
   "source": [
    "## Required Modules"
   ]
  },
  {
   "cell_type": "code",
   "execution_count": 287,
   "metadata": {
    "collapsed": false
   },
   "outputs": [],
   "source": [
    "import sys, random\n",
    "desaster_path = \"/Users/geomando/Dropbox/github/SeaGrantSimulation\"\n",
    "sys.path.append(desaster_path)\n",
    "import simpy\n",
    "from simpy import Resource, Container, FilterStore\n",
    "from simpy.util import start_delayed\n",
    "import pandas as pd\n",
    "import numpy as np\n",
    "from desaster import entities, capitals, request, io, movement, search, rebuild"
   ]
  },
  {
   "cell_type": "markdown",
   "metadata": {},
   "source": [
    "## Input Data"
   ]
  },
  {
   "cell_type": "code",
   "execution_count": 288,
   "metadata": {
    "collapsed": true
   },
   "outputs": [],
   "source": [
    "scenario_file = '../inputs/scenario_test_renters.xlsx'"
   ]
  },
  {
   "cell_type": "code",
   "execution_count": 289,
   "metadata": {
    "collapsed": false
   },
   "outputs": [
    {
     "data": {
      "text/html": [
       "<div>\n",
       "<table border=\"1\" class=\"dataframe\">\n",
       "  <thead>\n",
       "    <tr style=\"text-align: right;\">\n",
       "      <th></th>\n",
       "      <th>Name</th>\n",
       "      <th>Income</th>\n",
       "      <th>Savings</th>\n",
       "      <th>Insurance</th>\n",
       "      <th>Address</th>\n",
       "      <th>Occupancy</th>\n",
       "      <th>Cost</th>\n",
       "      <th>Bedrooms</th>\n",
       "      <th>Bathrooms</th>\n",
       "      <th>Area</th>\n",
       "      <th>Year Built</th>\n",
       "      <th>Value</th>\n",
       "      <th>Damage State</th>\n",
       "      <th>Tenure Pref</th>\n",
       "      <th>Tenure</th>\n",
       "      <th>Occupancy Pref</th>\n",
       "    </tr>\n",
       "  </thead>\n",
       "  <tbody>\n",
       "    <tr>\n",
       "      <th>0</th>\n",
       "      <td>Alfred</td>\n",
       "      <td>30000</td>\n",
       "      <td>10000</td>\n",
       "      <td>0</td>\n",
       "      <td>62 That St</td>\n",
       "      <td>Mobile Home</td>\n",
       "      <td>100</td>\n",
       "      <td>1</td>\n",
       "      <td>1</td>\n",
       "      <td>700</td>\n",
       "      <td>1920</td>\n",
       "      <td>100000</td>\n",
       "      <td>None</td>\n",
       "      <td>Own</td>\n",
       "      <td>Own</td>\n",
       "      <td>Single Family Dwelling</td>\n",
       "    </tr>\n",
       "    <tr>\n",
       "      <th>1</th>\n",
       "      <td>Bruce</td>\n",
       "      <td>100000</td>\n",
       "      <td>1000000</td>\n",
       "      <td>10000000</td>\n",
       "      <td>720 This Rd</td>\n",
       "      <td>Single Family Dwelling</td>\n",
       "      <td>100000</td>\n",
       "      <td>5</td>\n",
       "      <td>5</td>\n",
       "      <td>5000</td>\n",
       "      <td>1920</td>\n",
       "      <td>10000000</td>\n",
       "      <td>Slight</td>\n",
       "      <td>Own</td>\n",
       "      <td>Own</td>\n",
       "      <td>Single Family Dwelling</td>\n",
       "    </tr>\n",
       "    <tr>\n",
       "      <th>2</th>\n",
       "      <td>Selena</td>\n",
       "      <td>10000</td>\n",
       "      <td>100</td>\n",
       "      <td>0</td>\n",
       "      <td>1001 Other Ave</td>\n",
       "      <td>Single Family Dwelling</td>\n",
       "      <td>10</td>\n",
       "      <td>0</td>\n",
       "      <td>1</td>\n",
       "      <td>250</td>\n",
       "      <td>1960</td>\n",
       "      <td>10000</td>\n",
       "      <td>Complete</td>\n",
       "      <td>Own</td>\n",
       "      <td>Own</td>\n",
       "      <td>Single Family Dwelling</td>\n",
       "    </tr>\n",
       "    <tr>\n",
       "      <th>3</th>\n",
       "      <td>Fish</td>\n",
       "      <td>50000</td>\n",
       "      <td>1000</td>\n",
       "      <td>550000</td>\n",
       "      <td>26000 Out There Lane</td>\n",
       "      <td>Single Family Dwelling</td>\n",
       "      <td>2000</td>\n",
       "      <td>4</td>\n",
       "      <td>2</td>\n",
       "      <td>2000</td>\n",
       "      <td>2010</td>\n",
       "      <td>800000</td>\n",
       "      <td>Moderate</td>\n",
       "      <td>Own</td>\n",
       "      <td>Own</td>\n",
       "      <td>Single Family Dwelling</td>\n",
       "    </tr>\n",
       "  </tbody>\n",
       "</table>\n",
       "</div>"
      ],
      "text/plain": [
       "     Name  Income  Savings  Insurance               Address  \\\n",
       "0  Alfred   30000    10000          0            62 That St   \n",
       "1   Bruce  100000  1000000   10000000           720 This Rd   \n",
       "2  Selena   10000      100          0        1001 Other Ave   \n",
       "3    Fish   50000     1000     550000  26000 Out There Lane   \n",
       "\n",
       "                Occupancy    Cost  Bedrooms  Bathrooms  Area  Year Built  \\\n",
       "0             Mobile Home     100         1          1   700        1920   \n",
       "1  Single Family Dwelling  100000         5          5  5000        1920   \n",
       "2  Single Family Dwelling      10         0          1   250        1960   \n",
       "3  Single Family Dwelling    2000         4          2  2000        2010   \n",
       "\n",
       "      Value Damage State Tenure Pref Tenure          Occupancy Pref  \n",
       "0    100000         None         Own    Own  Single Family Dwelling  \n",
       "1  10000000       Slight         Own    Own  Single Family Dwelling  \n",
       "2     10000     Complete         Own    Own  Single Family Dwelling  \n",
       "3    800000     Moderate         Own    Own  Single Family Dwelling  "
      ]
     },
     "execution_count": 289,
     "metadata": {},
     "output_type": "execute_result"
    }
   ],
   "source": [
    "# Create Pandas dataframe of attribute data for all owners to be modeled in the simulation\n",
    "owners_df = pd.read_excel(scenario_file, sheetname='owners')\n",
    "owners_df"
   ]
  },
  {
   "cell_type": "code",
   "execution_count": 290,
   "metadata": {
    "collapsed": false
   },
   "outputs": [
    {
     "data": {
      "text/html": [
       "<div>\n",
       "<table border=\"1\" class=\"dataframe\">\n",
       "  <thead>\n",
       "    <tr style=\"text-align: right;\">\n",
       "      <th></th>\n",
       "      <th>Name</th>\n",
       "      <th>Income</th>\n",
       "      <th>Savings</th>\n",
       "      <th>Insurance</th>\n",
       "      <th>Address</th>\n",
       "      <th>Occupancy</th>\n",
       "      <th>Cost</th>\n",
       "      <th>Bedrooms</th>\n",
       "      <th>Bathrooms</th>\n",
       "      <th>Area</th>\n",
       "      <th>Year Built</th>\n",
       "      <th>Value</th>\n",
       "      <th>Damage State</th>\n",
       "      <th>Tenure Pref</th>\n",
       "      <th>Tenure</th>\n",
       "      <th>Occupancy Pref</th>\n",
       "    </tr>\n",
       "  </thead>\n",
       "  <tbody>\n",
       "    <tr>\n",
       "      <th>0</th>\n",
       "      <td>Ivy</td>\n",
       "      <td>30000</td>\n",
       "      <td>10000</td>\n",
       "      <td>0</td>\n",
       "      <td>262 That St</td>\n",
       "      <td>Mobile Home</td>\n",
       "      <td>100</td>\n",
       "      <td>1</td>\n",
       "      <td>1</td>\n",
       "      <td>700</td>\n",
       "      <td>1920</td>\n",
       "      <td>100000</td>\n",
       "      <td>None</td>\n",
       "      <td>Rent</td>\n",
       "      <td>Rent</td>\n",
       "      <td>Single Family Dwelling</td>\n",
       "    </tr>\n",
       "    <tr>\n",
       "      <th>1</th>\n",
       "      <td>Edward</td>\n",
       "      <td>100000</td>\n",
       "      <td>50000</td>\n",
       "      <td>10000000</td>\n",
       "      <td>4720 This Rd</td>\n",
       "      <td>Single Family Dwelling</td>\n",
       "      <td>100000</td>\n",
       "      <td>3</td>\n",
       "      <td>2</td>\n",
       "      <td>5000</td>\n",
       "      <td>1920</td>\n",
       "      <td>10000000</td>\n",
       "      <td>Slight</td>\n",
       "      <td>Own</td>\n",
       "      <td>Rent</td>\n",
       "      <td>Single Family Dwelling</td>\n",
       "    </tr>\n",
       "    <tr>\n",
       "      <th>2</th>\n",
       "      <td>Oswald</td>\n",
       "      <td>10000</td>\n",
       "      <td>100</td>\n",
       "      <td>0</td>\n",
       "      <td>2301 Other Ave</td>\n",
       "      <td>Multi Family Dwelling</td>\n",
       "      <td>10</td>\n",
       "      <td>0</td>\n",
       "      <td>1</td>\n",
       "      <td>250</td>\n",
       "      <td>1960</td>\n",
       "      <td>10000</td>\n",
       "      <td>Complete</td>\n",
       "      <td>Rent</td>\n",
       "      <td>Rent</td>\n",
       "      <td>Multi Family Dwelling</td>\n",
       "    </tr>\n",
       "    <tr>\n",
       "      <th>3</th>\n",
       "      <td>James</td>\n",
       "      <td>50000</td>\n",
       "      <td>1000</td>\n",
       "      <td>550000</td>\n",
       "      <td>74000 Out There Lane</td>\n",
       "      <td>Single Family Dwelling</td>\n",
       "      <td>2000</td>\n",
       "      <td>2</td>\n",
       "      <td>2</td>\n",
       "      <td>2000</td>\n",
       "      <td>2010</td>\n",
       "      <td>800000</td>\n",
       "      <td>Moderate</td>\n",
       "      <td>Own</td>\n",
       "      <td>Rent</td>\n",
       "      <td>Single Family Dwelling</td>\n",
       "    </tr>\n",
       "  </tbody>\n",
       "</table>\n",
       "</div>"
      ],
      "text/plain": [
       "     Name  Income  Savings  Insurance               Address  \\\n",
       "0     Ivy   30000    10000          0           262 That St   \n",
       "1  Edward  100000    50000   10000000          4720 This Rd   \n",
       "2  Oswald   10000      100          0        2301 Other Ave   \n",
       "3   James   50000     1000     550000  74000 Out There Lane   \n",
       "\n",
       "                Occupancy    Cost  Bedrooms  Bathrooms  Area  Year Built  \\\n",
       "0             Mobile Home     100         1          1   700        1920   \n",
       "1  Single Family Dwelling  100000         3          2  5000        1920   \n",
       "2   Multi Family Dwelling      10         0          1   250        1960   \n",
       "3  Single Family Dwelling    2000         2          2  2000        2010   \n",
       "\n",
       "      Value Damage State Tenure Pref Tenure          Occupancy Pref  \n",
       "0    100000         None        Rent   Rent  Single Family Dwelling  \n",
       "1  10000000       Slight         Own   Rent  Single Family Dwelling  \n",
       "2     10000     Complete        Rent   Rent   Multi Family Dwelling  \n",
       "3    800000     Moderate         Own   Rent  Single Family Dwelling  "
      ]
     },
     "execution_count": 290,
     "metadata": {},
     "output_type": "execute_result"
    }
   ],
   "source": [
    "# Create Pandas dataframe of attribute data for all renters to be modeled in the simulation\n",
    "renters_df = pd.read_excel(scenario_file, sheetname='renters')\n",
    "renters_df"
   ]
  },
  {
   "cell_type": "code",
   "execution_count": 291,
   "metadata": {
    "collapsed": false
   },
   "outputs": [
    {
     "data": {
      "text/plain": [
       "Type\n",
       "Contractors             40\n",
       "Engineers               20\n",
       "FEMA Processors         40\n",
       "Inspectors               4\n",
       "Insurance Adjusters     40\n",
       "Loan Processors         40\n",
       "Permit Processors      100\n",
       "Name: Quantity, dtype: int64"
      ]
     },
     "execution_count": 291,
     "metadata": {},
     "output_type": "execute_result"
    }
   ],
   "source": [
    "# Set input data for all human capital types, as dict or Pandas Series\n",
    "# .loc stuff is to convert the DataFrame to a Series ... data will function the same as a dictionary as well\n",
    "human_cap_data = pd.read_excel(scenario_file, sheetname='human_capital', index_col=0).iloc[:,0]\n",
    "human_cap_data"
   ]
  },
  {
   "cell_type": "code",
   "execution_count": 292,
   "metadata": {
    "collapsed": false
   },
   "outputs": [
    {
     "data": {
      "text/plain": [
       "Type\n",
       "Building Materials     2000000\n",
       "FEMA Aid              35000000\n",
       "Name: Quantity, dtype: int64"
      ]
     },
     "execution_count": 292,
     "metadata": {},
     "output_type": "execute_result"
    }
   ],
   "source": [
    "# Set input data for all financial capital types, as dict or Pandas Series\n",
    "financial_cap_data = pd.read_excel(scenario_file, sheetname='financial_capital', index_col=0).iloc[:,0]\n",
    "financial_cap_data"
   ]
  },
  {
   "cell_type": "code",
   "execution_count": 293,
   "metadata": {
    "collapsed": false
   },
   "outputs": [
    {
     "data": {
      "text/html": [
       "<div>\n",
       "<table border=\"1\" class=\"dataframe\">\n",
       "  <thead>\n",
       "    <tr style=\"text-align: right;\">\n",
       "      <th></th>\n",
       "      <th>Address</th>\n",
       "      <th>Occupancy</th>\n",
       "      <th>Cost</th>\n",
       "      <th>Bedrooms</th>\n",
       "      <th>Bathrooms</th>\n",
       "      <th>Area</th>\n",
       "      <th>Year Built</th>\n",
       "      <th>Value</th>\n",
       "      <th>Damage State</th>\n",
       "    </tr>\n",
       "  </thead>\n",
       "  <tbody>\n",
       "    <tr>\n",
       "      <th>0</th>\n",
       "      <td>100 New Ave</td>\n",
       "      <td>Mobile Home</td>\n",
       "      <td>100</td>\n",
       "      <td>1</td>\n",
       "      <td>1</td>\n",
       "      <td>700</td>\n",
       "      <td>1920</td>\n",
       "      <td>99999</td>\n",
       "      <td>Complete</td>\n",
       "    </tr>\n",
       "    <tr>\n",
       "      <th>1</th>\n",
       "      <td>101 New Ave</td>\n",
       "      <td>Single Family Dwelling</td>\n",
       "      <td>100000</td>\n",
       "      <td>6</td>\n",
       "      <td>5</td>\n",
       "      <td>5000</td>\n",
       "      <td>1920</td>\n",
       "      <td>9999</td>\n",
       "      <td>Complete</td>\n",
       "    </tr>\n",
       "    <tr>\n",
       "      <th>2</th>\n",
       "      <td>102 New Ave</td>\n",
       "      <td>Multi Family Dwelling</td>\n",
       "      <td>10</td>\n",
       "      <td>0</td>\n",
       "      <td>1</td>\n",
       "      <td>250</td>\n",
       "      <td>1960</td>\n",
       "      <td>9999</td>\n",
       "      <td>Complete</td>\n",
       "    </tr>\n",
       "    <tr>\n",
       "      <th>3</th>\n",
       "      <td>103 New Ave</td>\n",
       "      <td>Single Family Dwelling</td>\n",
       "      <td>2000</td>\n",
       "      <td>4</td>\n",
       "      <td>2</td>\n",
       "      <td>2000</td>\n",
       "      <td>2010</td>\n",
       "      <td>800000</td>\n",
       "      <td>Complete</td>\n",
       "    </tr>\n",
       "    <tr>\n",
       "      <th>4</th>\n",
       "      <td>104 New Ave</td>\n",
       "      <td>Mobile Home</td>\n",
       "      <td>100</td>\n",
       "      <td>1</td>\n",
       "      <td>1</td>\n",
       "      <td>700</td>\n",
       "      <td>1920</td>\n",
       "      <td>100000</td>\n",
       "      <td>Complete</td>\n",
       "    </tr>\n",
       "  </tbody>\n",
       "</table>\n",
       "</div>"
      ],
      "text/plain": [
       "       Address               Occupancy    Cost  Bedrooms  Bathrooms  Area  \\\n",
       "0  100 New Ave             Mobile Home     100         1          1   700   \n",
       "1  101 New Ave  Single Family Dwelling  100000         6          5  5000   \n",
       "2  102 New Ave   Multi Family Dwelling      10         0          1   250   \n",
       "3  103 New Ave  Single Family Dwelling    2000         4          2  2000   \n",
       "4  104 New Ave             Mobile Home     100         1          1   700   \n",
       "\n",
       "   Year Built   Value Damage State  \n",
       "0        1920   99999     Complete  \n",
       "1        1920    9999     Complete  \n",
       "2        1960    9999     Complete  \n",
       "3        2010  800000     Complete  \n",
       "4        1920  100000     Complete  "
      ]
     },
     "execution_count": 293,
     "metadata": {},
     "output_type": "execute_result"
    }
   ],
   "source": [
    "# Create Pandas dataframe of attribute data for all vacant homes (housing stock) to be modeled in the simulation\n",
    "forsale_stock_df = pd.read_excel(scenario_file, sheetname='forsale_stock')\n",
    "forsale_stock_df.head()"
   ]
  },
  {
   "cell_type": "code",
   "execution_count": 294,
   "metadata": {
    "collapsed": false
   },
   "outputs": [
    {
     "data": {
      "text/html": [
       "<div>\n",
       "<table border=\"1\" class=\"dataframe\">\n",
       "  <thead>\n",
       "    <tr style=\"text-align: right;\">\n",
       "      <th></th>\n",
       "      <th>Address</th>\n",
       "      <th>Occupancy</th>\n",
       "      <th>Cost</th>\n",
       "      <th>Bedrooms</th>\n",
       "      <th>Bathrooms</th>\n",
       "      <th>Area</th>\n",
       "      <th>Year Built</th>\n",
       "      <th>Value</th>\n",
       "      <th>Damage State</th>\n",
       "    </tr>\n",
       "  </thead>\n",
       "  <tbody>\n",
       "    <tr>\n",
       "      <th>0</th>\n",
       "      <td>100 Old Ave</td>\n",
       "      <td>Multi Family Dwelling</td>\n",
       "      <td>100</td>\n",
       "      <td>1</td>\n",
       "      <td>1</td>\n",
       "      <td>700</td>\n",
       "      <td>1920</td>\n",
       "      <td>99999</td>\n",
       "      <td>Slight</td>\n",
       "    </tr>\n",
       "    <tr>\n",
       "      <th>1</th>\n",
       "      <td>101 Old Ave</td>\n",
       "      <td>Single Family Dwelling</td>\n",
       "      <td>100000</td>\n",
       "      <td>2</td>\n",
       "      <td>2</td>\n",
       "      <td>5000</td>\n",
       "      <td>1920</td>\n",
       "      <td>9999</td>\n",
       "      <td>Slight</td>\n",
       "    </tr>\n",
       "    <tr>\n",
       "      <th>2</th>\n",
       "      <td>102 Old Ave</td>\n",
       "      <td>Multi Family Dwelling</td>\n",
       "      <td>10</td>\n",
       "      <td>0</td>\n",
       "      <td>1</td>\n",
       "      <td>250</td>\n",
       "      <td>1960</td>\n",
       "      <td>9999</td>\n",
       "      <td>Slight</td>\n",
       "    </tr>\n",
       "    <tr>\n",
       "      <th>3</th>\n",
       "      <td>103 Old Ave</td>\n",
       "      <td>Single Family Dwelling</td>\n",
       "      <td>2000</td>\n",
       "      <td>3</td>\n",
       "      <td>2</td>\n",
       "      <td>2000</td>\n",
       "      <td>2010</td>\n",
       "      <td>800000</td>\n",
       "      <td>Slight</td>\n",
       "    </tr>\n",
       "    <tr>\n",
       "      <th>4</th>\n",
       "      <td>104 Old Ave</td>\n",
       "      <td>Multi Family Dwelling</td>\n",
       "      <td>100</td>\n",
       "      <td>1</td>\n",
       "      <td>1</td>\n",
       "      <td>700</td>\n",
       "      <td>1920</td>\n",
       "      <td>100000</td>\n",
       "      <td>Slight</td>\n",
       "    </tr>\n",
       "  </tbody>\n",
       "</table>\n",
       "</div>"
      ],
      "text/plain": [
       "       Address               Occupancy    Cost  Bedrooms  Bathrooms  Area  \\\n",
       "0  100 Old Ave   Multi Family Dwelling     100         1          1   700   \n",
       "1  101 Old Ave  Single Family Dwelling  100000         2          2  5000   \n",
       "2  102 Old Ave   Multi Family Dwelling      10         0          1   250   \n",
       "3  103 Old Ave  Single Family Dwelling    2000         3          2  2000   \n",
       "4  104 Old Ave   Multi Family Dwelling     100         1          1   700   \n",
       "\n",
       "   Year Built   Value Damage State  \n",
       "0        1920   99999       Slight  \n",
       "1        1920    9999       Slight  \n",
       "2        1960    9999       Slight  \n",
       "3        2010  800000       Slight  \n",
       "4        1920  100000       Slight  "
      ]
     },
     "execution_count": 294,
     "metadata": {},
     "output_type": "execute_result"
    }
   ],
   "source": [
    "# Create Pandas dataframe of attribute data for all vacant homes (housing stock) to be modeled in the simulation\n",
    "forrent_stock_df = pd.read_excel(scenario_file, sheetname='forrent_stock')\n",
    "forrent_stock_df.head()"
   ]
  },
  {
   "cell_type": "markdown",
   "metadata": {},
   "source": [
    "## Simulation Initiation"
   ]
  },
  {
   "cell_type": "markdown",
   "metadata": {},
   "source": [
    "__Set simulation environment__"
   ]
  },
  {
   "cell_type": "code",
   "execution_count": 295,
   "metadata": {
    "collapsed": true
   },
   "outputs": [],
   "source": [
    "simulation = simpy.Environment()"
   ]
  },
  {
   "cell_type": "markdown",
   "metadata": {},
   "source": [
    "__Indicate whether want to keep track of the stories of each entity (household) in the simulation.__"
   ]
  },
  {
   "cell_type": "code",
   "execution_count": 296,
   "metadata": {
    "collapsed": true
   },
   "outputs": [],
   "source": [
    "write_story = True"
   ]
  },
  {
   "cell_type": "markdown",
   "metadata": {},
   "source": [
    "__Populate the simulation with human and financial capital data.__"
   ]
  },
  {
   "cell_type": "code",
   "execution_count": 297,
   "metadata": {
    "collapsed": true
   },
   "outputs": [],
   "source": [
    "financial_capital = capitals.FinancialCapital(simulation, financial_cap_data) \n",
    "\n",
    "human_capital = capitals.HumanCapital(simulation, human_cap_data)"
   ]
  },
  {
   "cell_type": "markdown",
   "metadata": {},
   "source": [
    "__Create and populate a FilterStore as a vacant housing stock.__"
   ]
  },
  {
   "cell_type": "code",
   "execution_count": 298,
   "metadata": {
    "collapsed": true
   },
   "outputs": [],
   "source": [
    "forsale_stock = capitals.importHousingStock(simulation, forsale_stock_df)"
   ]
  },
  {
   "cell_type": "markdown",
   "metadata": {},
   "source": [
    "__Create an empty FilterStore to use as the occupied housing stock.__"
   ]
  },
  {
   "cell_type": "code",
   "execution_count": 299,
   "metadata": {
    "collapsed": false
   },
   "outputs": [],
   "source": [
    "owned_stock = FilterStore(simulation)\n",
    "rented_stock = FilterStore(simulation)"
   ]
  },
  {
   "cell_type": "markdown",
   "metadata": {},
   "source": [
    "__Import data on households. Everytime a household's residence is created put it in the occupied housing stock.__"
   ]
  },
  {
   "cell_type": "code",
   "execution_count": 300,
   "metadata": {
    "collapsed": false
   },
   "outputs": [],
   "source": [
    "owners = entities.importOwners(simulation, owned_stock, owners_df, write_story)"
   ]
  },
  {
   "cell_type": "code",
   "execution_count": 301,
   "metadata": {
    "collapsed": false
   },
   "outputs": [],
   "source": [
    "renters = entities.importRenters(simulation, rented_stock, renters_df, write_story)"
   ]
  },
  {
   "cell_type": "code",
   "execution_count": 302,
   "metadata": {
    "collapsed": false
   },
   "outputs": [],
   "source": [
    "landlords = []\n",
    "\n",
    "for renter in renters:\n",
    "    landlords.append(entities.Landlord())"
   ]
  },
  {
   "cell_type": "code",
   "execution_count": 303,
   "metadata": {
    "collapsed": false
   },
   "outputs": [],
   "source": [
    "entities.assignLandlords(renters, landlords, write_story)"
   ]
  },
  {
   "cell_type": "code",
   "execution_count": 304,
   "metadata": {
    "collapsed": false
   },
   "outputs": [
    {
     "data": {
      "text/plain": [
       "True"
      ]
     },
     "execution_count": 304,
     "metadata": {},
     "output_type": "execute_result"
    }
   ],
   "source": [
    "renters[1] == renters[1].landlord.tenant"
   ]
  },
  {
   "cell_type": "code",
   "execution_count": 305,
   "metadata": {
    "collapsed": false
   },
   "outputs": [
    {
     "data": {
      "text/plain": [
       "True"
      ]
     },
     "execution_count": 305,
     "metadata": {},
     "output_type": "execute_result"
    }
   ],
   "source": [
    " renters[1].residence == renters[1].landlord.residence"
   ]
  },
  {
   "cell_type": "markdown",
   "metadata": {},
   "source": [
    "__Write a master process that combines process and functions from search, rebuild, and request modules.__"
   ]
  },
  {
   "cell_type": "code",
   "execution_count": 306,
   "metadata": {
    "collapsed": true
   },
   "outputs": [],
   "source": [
    "def landlord_process(simulation, human_capital, financial_capital, entity, write_story):\n",
    "        \n",
    "    yield simulation.process(request.inspection(simulation, human_capital, entity.residence, entity, write_story))\n",
    "    \n",
    "    # Specify the event sequence for households from the time of the hazard through the decisions to relocate \n",
    "    # or rebuild\n",
    "    if entity.residence.damage_state != 'None':\n",
    "        \n",
    "        money_patience = 365  # days until give up the search for rebuild money\n",
    "\n",
    "        # Search for rebuild money\n",
    "        yield simulation.process(search.rebuild_money(simulation, human_capital, \n",
    "                                                        financial_capital, entity, \n",
    "                                                        money_patience, write_story))\n",
    "        \n",
    "        if entity.gave_up_money_search == True:\n",
    "            entity.residence = []\n",
    "            entity.tenant.residence = []\n",
    "            return\n",
    "        \n",
    "        # If home is completely damaged, search for a new home to purchase.\n",
    "        if entity.residence.damage_state == 'Complete':\n",
    "            \n",
    "            home_patience = 550  # days until give up the search for a new home\n",
    "\n",
    "            search_outcome = yield simulation.process(search.permanent_housing(simulation, entity, home_patience, forsale_stock, human_capital, write_story))\n",
    "\n",
    "            if entity.gave_up_home_search == True:\n",
    "                entity.residence = []\n",
    "                entity.tenant.residence = []\n",
    "                return\n",
    "\n",
    "        if entity.residence.damage_state != 'None':\n",
    "            yield simulation.process(request.engineering_assessment(simulation, human_capital, entity, write_story))\n",
    "\n",
    "            yield simulation.process(request.permit(simulation, human_capital, entity, write_story))\n",
    "\n",
    "            yield simulation.process(rebuild.home(simulation, human_capital, financial_capital, entity, write_story))\n",
    "               \n",
    "   \n",
    "   "
   ]
  },
  {
   "cell_type": "code",
   "execution_count": 307,
   "metadata": {
    "collapsed": true
   },
   "outputs": [],
   "source": [
    "def owner_process(simulation, human_capital, financial_capital, entity, write_story):\n",
    "        \n",
    "    yield simulation.process(request.inspection(simulation, human_capital, entity.residence, entity, write_story))\n",
    "    \n",
    "    # Specify the event sequence for households from the time of the hazard through the decisions to relocate \n",
    "    # or rebuild\n",
    "    if entity.residence.damage_state != 'None':\n",
    "        \n",
    "        money_patience = 365  # days until give up the search for rebuild money\n",
    "\n",
    "        # Search for rebuild money\n",
    "        yield simulation.process(search.rebuild_money(simulation, human_capital, \n",
    "                                                        financial_capital, entity, \n",
    "                                                        money_patience, write_story))\n",
    "        \n",
    "        if entity.gave_up_money_search == True:\n",
    "                return\n",
    "        \n",
    "        # If home is completely damaged, search for a new home to purchase.\n",
    "        if entity.residence.damage_state == 'Complete':\n",
    "            \n",
    "            home_patience = 550  # days until give up the search for a new home\n",
    "\n",
    "            search_outcome = yield simulation.process(search.permanent_housing(simulation, entity, home_patience, forsale_stock, human_capital, write_story))\n",
    "\n",
    "            if entity.gave_up_home_search == True:\n",
    "                return\n",
    "\n",
    "        if entity.residence.damage_state != 'None':\n",
    "            yield simulation.process(request.engineering_assessment(simulation, human_capital, entity, write_story))\n",
    "\n",
    "            yield simulation.process(request.permit(simulation, human_capital, entity, write_story))\n",
    "\n",
    "            yield simulation.process(rebuild.home(simulation, human_capital, financial_capital, entity, write_story))\n",
    "               \n",
    "   "
   ]
  },
  {
   "cell_type": "code",
   "execution_count": 308,
   "metadata": {
    "collapsed": false
   },
   "outputs": [],
   "source": [
    "def renter_process(simulation, human_capital, financial_capital, entity, write_story):\n",
    "        \n",
    "    yield simulation.process(landlord_process(simulation, human_capital, financial_capital, entity.landlord, write_story))"
   ]
  },
  {
   "cell_type": "code",
   "execution_count": 309,
   "metadata": {
    "collapsed": false
   },
   "outputs": [],
   "source": [
    "# Initiate a master process for each owner to be modeled in the simulation\n",
    "for i in range(len(owners)):\n",
    "    simulation.process(owner_process(simulation, human_capital, financial_capital, owners[i], write_story))"
   ]
  },
  {
   "cell_type": "code",
   "execution_count": 310,
   "metadata": {
    "collapsed": false
   },
   "outputs": [],
   "source": [
    "# Initiate a master process for each renter to be modeled in the simulation\n",
    "for i in range(len(renters)):\n",
    "    simulation.process(renter_process(simulation, human_capital, financial_capital, renters[i], write_story))"
   ]
  },
  {
   "cell_type": "markdown",
   "metadata": {},
   "source": [
    "__Can do some cool stuff with the vacant housing stock.__"
   ]
  },
  {
   "cell_type": "code",
   "execution_count": 311,
   "metadata": {
    "collapsed": false
   },
   "outputs": [],
   "source": [
    "# Do inspections on all of the vacant homes in the housing stock\n",
    "for home in forsale_stock.items:\n",
    "    simulation.process(request.inspection(simulation, human_capital, home))\n",
    "\n",
    "# Schedule an event that randomly fixes moderately or completely damaged homes in the vacant housing stock\n",
    "# with probability = fix_probability\n",
    "fix_probability = 1.0\n",
    "fix_schedule = 100\n",
    "\n",
    "# start_delayed(simulation, rebuild.stock(simulation, housing_stock, fix_probability), fix_schedule)"
   ]
  },
  {
   "cell_type": "code",
   "execution_count": 312,
   "metadata": {
    "collapsed": false,
    "scrolled": true
   },
   "outputs": [],
   "source": [
    "simulation.run()"
   ]
  },
  {
   "cell_type": "markdown",
   "metadata": {},
   "source": [
    "## Outputs"
   ]
  },
  {
   "cell_type": "markdown",
   "metadata": {},
   "source": [
    "__Owner summary statistics__"
   ]
  },
  {
   "cell_type": "code",
   "execution_count": 313,
   "metadata": {
    "collapsed": false
   },
   "outputs": [
    {
     "name": "stdout",
     "output_type": "stream",
     "text": [
      "3 out of 4 owners suffered damage to their homes.\n",
      " 2 out of 4 owners rebuilt or repaired their damaged home.\n",
      " 0 out of 4 owners gave up searching for money.\n",
      " 1 out of 4 owners searched for a new home.\n",
      " 0 out of 4 owners bought a new home.\n",
      " 1 out of 4 owners gave up searching for a home.\n"
     ]
    }
   ],
   "source": [
    "num_damaged = 0\n",
    "num_rebuilt = 0\n",
    "num_gave_up_money_search = 0\n",
    "num_relocated = 0\n",
    "num_homesearch = 0\n",
    "num_gave_up_home_search = 0\n",
    "\n",
    "for household in owners:\n",
    "    if household.money_search_start > 0.0: num_damaged += 1\n",
    "    if household.home_get > 0.0: num_rebuilt += 1\n",
    "    if household.gave_up_money_search: num_gave_up_money_search += 1\n",
    "    if household.home_search_start > 0.0: num_homesearch += 1\n",
    "    if household.home_search_stop > 0.0: num_relocated += 1\n",
    "    if household.gave_up_home_search: num_gave_up_home_search += 1\n",
    "        \n",
    "print('{0} out of {1} owners suffered damage to their homes.\\n'.format(num_damaged, len(owners)),\n",
    "      '{0} out of {1} owners rebuilt or repaired their damaged home.\\n'.format(num_rebuilt, len(owners)),\n",
    "        '{0} out of {1} owners gave up searching for money.\\n'.format(num_gave_up_money_search, len(owners)),\n",
    "      '{0} out of {1} owners searched for a new home.\\n'.format(num_homesearch, len(owners)),\n",
    "        '{0} out of {1} owners bought a new home.\\n'.format(num_relocated, len(owners)),\n",
    "        '{0} out of {1} owners gave up searching for a home.'.format(num_gave_up_home_search, len(owners))\n",
    "      )"
   ]
  },
  {
   "cell_type": "markdown",
   "metadata": {},
   "source": [
    "__Owner stories__"
   ]
  },
  {
   "cell_type": "code",
   "execution_count": 314,
   "metadata": {
    "collapsed": false,
    "scrolled": true
   },
   "outputs": [
    {
     "data": {
      "text/plain": [
       "['Alfred owns and lives in a 1 bedroom Mobile Home at 62 That St worth $100,000. ',\n",
       " \"Alfred's house was inspected 50 days after the event and suffered $0 of damage.\"]"
      ]
     },
     "execution_count": 314,
     "metadata": {},
     "output_type": "execute_result"
    }
   ],
   "source": [
    "owners[0].story"
   ]
  },
  {
   "cell_type": "code",
   "execution_count": 315,
   "metadata": {
    "collapsed": false
   },
   "outputs": [
    {
     "data": {
      "text/plain": [
       "['Bruce owns and lives in a 5 bedroom Single Family Dwelling at 720 This Rd worth $10,000,000. ',\n",
       " \"Bruce's house was inspected 50 days after the event and suffered $200,000 of damage.\",\n",
       " 'Bruce submitted an insurance claim 50 days after the event. ',\n",
       " 'Bruce received a $200,000 insurance payout 65 days after the event. ',\n",
       " 'It took Bruce 15 days to receive enough financial assistance and now has $1,200,000 to rebuild. ',\n",
       " 'Bruce received an engineering assessment 90 days after the event. ',\n",
       " 'Bruce received permit approval 125 days after the event. ',\n",
       " \"Bruce's home was repaired 127 days after the event, taking 2 days to repair. \"]"
      ]
     },
     "execution_count": 315,
     "metadata": {},
     "output_type": "execute_result"
    }
   ],
   "source": [
    "owners[1].story"
   ]
  },
  {
   "cell_type": "code",
   "execution_count": 316,
   "metadata": {
    "collapsed": false,
    "scrolled": true
   },
   "outputs": [
    {
     "data": {
      "text/plain": [
       "['Selena owns and lives in a 0 bedroom Single Family Dwelling at 1001 Other Ave worth $10,000. ',\n",
       " \"Selena's house was inspected 50 days after the event and suffered $10,000 of damage.\",\n",
       " 'Selena submitted a request to FEMA 50 days after the event. ',\n",
       " 'Selena received $10,000 from FEMA 70 days after the event. ',\n",
       " 'It took Selena 20 days to receive enough financial assistance and now has $10,100 to rebuild. ',\n",
       " 'Selena started searching for a Single Family Dwelling with a value under $10,000 70 days after the event. ',\n",
       " 'On day 620, after a 550 day search, Selena gave up looking for a new home in the local area. ']"
      ]
     },
     "execution_count": 316,
     "metadata": {},
     "output_type": "execute_result"
    }
   ],
   "source": [
    "owners[2].story"
   ]
  },
  {
   "cell_type": "code",
   "execution_count": 317,
   "metadata": {
    "collapsed": false,
    "scrolled": true
   },
   "outputs": [
    {
     "data": {
      "text/plain": [
       "['Fish owns and lives in a 4 bedroom Single Family Dwelling at 26000 Out There Lane worth $800,000. ',\n",
       " \"Fish's house was inspected 50 days after the event and suffered $80,000 of damage.\",\n",
       " 'Fish submitted an insurance claim 50 days after the event. ',\n",
       " 'Fish received a $80,000 insurance payout 65 days after the event. ',\n",
       " 'It took Fish 15 days to receive enough financial assistance and now has $81,000 to rebuild. ',\n",
       " 'Fish received an engineering assessment 90 days after the event. ',\n",
       " 'Fish received permit approval 125 days after the event. ',\n",
       " \"Fish's home was repaired 155 days after the event, taking 30 days to repair. \"]"
      ]
     },
     "execution_count": 317,
     "metadata": {},
     "output_type": "execute_result"
    }
   ],
   "source": [
    "owners[3].story"
   ]
  },
  {
   "cell_type": "markdown",
   "metadata": {},
   "source": [
    "__Renter summary statistics__"
   ]
  },
  {
   "cell_type": "code",
   "execution_count": 318,
   "metadata": {
    "collapsed": false
   },
   "outputs": [
    {
     "name": "stdout",
     "output_type": "stream",
     "text": [
      "3 out of 4 renters' homes suffered damage.\n",
      " 2 out of 4 renters' damaged home was rebuilt or repaired.\n",
      " 1 out of 4 renters' were displaced.\n",
      "\n"
     ]
    }
   ],
   "source": [
    "num_damaged = 0\n",
    "num_rebuilt = 0\n",
    "num_gave_up_money_search = 0\n",
    "num_relocated = 0\n",
    "num_displaced = 0\n",
    "num_gave_up_home_search = 0\n",
    "\n",
    "for renter in renters:\n",
    "\n",
    "    if renter.landlord.money_search_start > 0.0: num_damaged += 1\n",
    "    if renter.landlord.home_get > 0.0: num_rebuilt += 1\n",
    "    if renter.landlord.gave_up_money_search: num_gave_up_money_search += 1\n",
    "    if not renter.residence: num_displaced += 1\n",
    "        \n",
    "print('{0} out of {1} renters\\' homes suffered damage.\\n'.format(num_damaged, len(renters)),\n",
    "      '{0} out of {1} renters\\' damaged home was rebuilt or repaired.\\n'.format(num_rebuilt, len(renters)),\n",
    "      '{0} out of {1} renters\\' were displaced.\\n'.format(num_displaced, len(renters)),\n",
    "      )"
   ]
  },
  {
   "cell_type": "markdown",
   "metadata": {
    "collapsed": true
   },
   "source": [
    "__Renters Stories__"
   ]
  },
  {
   "cell_type": "code",
   "execution_count": 319,
   "metadata": {
    "collapsed": false,
    "scrolled": true
   },
   "outputs": [
    {
     "data": {
      "text/plain": [
       "['Ivy rents and lives in a 1 bedroom Mobile Home at 262 That St worth $100,000. ',\n",
       " \"Ivy's residence is owned by Landlord 210. \",\n",
       " \"Landlord 210's house was inspected 60 days after the event and suffered $0 of damage.\"]"
      ]
     },
     "execution_count": 319,
     "metadata": {},
     "output_type": "execute_result"
    }
   ],
   "source": [
    "renters[0].story + renters[0].landlord.story"
   ]
  },
  {
   "cell_type": "code",
   "execution_count": 320,
   "metadata": {
    "collapsed": false
   },
   "outputs": [
    {
     "data": {
      "text/plain": [
       "['Edward rents and lives in a 3 bedroom Single Family Dwelling at 4720 This Rd worth $10,000,000. ',\n",
       " \"Edward's residence is owned by Landlord 227. \",\n",
       " \"Landlord 227's house was inspected 60 days after the event and suffered $200,000 of damage.\",\n",
       " 'Landlord 227 submitted an insurance claim 60 days after the event. ',\n",
       " 'Landlord 227 received a $1 insurance payout 75 days after the event. ',\n",
       " 'Landlord 227 submitted a request to FEMA 75 days after the event. ',\n",
       " 'Landlord 227 received $199,999 from FEMA 95 days after the event. ',\n",
       " 'It took Landlord 227 35 days to receive enough financial assistance and now has $200,000 to rebuild. ',\n",
       " 'Landlord 227 received an engineering assessment 120 days after the event. ',\n",
       " 'Landlord 227 received permit approval 155 days after the event. ',\n",
       " \"Landlord 227's home was repaired 157 days after the event, taking 2 days to repair. \"]"
      ]
     },
     "execution_count": 320,
     "metadata": {},
     "output_type": "execute_result"
    }
   ],
   "source": [
    "renters[1].story + renters[1].landlord.story"
   ]
  },
  {
   "cell_type": "code",
   "execution_count": 321,
   "metadata": {
    "collapsed": false,
    "scrolled": true
   },
   "outputs": [
    {
     "data": {
      "text/plain": [
       "['Oswald rents and lives in a 0 bedroom Multi Family Dwelling at 2301 Other Ave worth $10,000. ',\n",
       " \"Oswald's residence is owned by Landlord 232. \",\n",
       " \"Landlord 232's house was inspected 60 days after the event and suffered $10,000 of damage.\",\n",
       " 'Landlord 232 submitted an insurance claim 60 days after the event. ',\n",
       " 'Landlord 232 received a $1 insurance payout 75 days after the event. ',\n",
       " 'Landlord 232 submitted a request to FEMA 75 days after the event. ',\n",
       " 'Landlord 232 received $9,999 from FEMA 95 days after the event. ',\n",
       " 'It took Landlord 232 35 days to receive enough financial assistance and now has $10,000 to rebuild. ',\n",
       " 'Landlord 232 started searching for a Multi Family Dwelling with a value under $10,000 95 days after the event. ',\n",
       " 'On day 645, after a 550 day search, Landlord 232 gave up looking for a new home in the local area. ']"
      ]
     },
     "execution_count": 321,
     "metadata": {},
     "output_type": "execute_result"
    }
   ],
   "source": [
    "renters[2].story + renters[2].landlord.story"
   ]
  },
  {
   "cell_type": "code",
   "execution_count": 322,
   "metadata": {
    "collapsed": false,
    "scrolled": true
   },
   "outputs": [
    {
     "data": {
      "text/plain": [
       "['James rents and lives in a 2 bedroom Single Family Dwelling at 74000 Out There Lane worth $800,000. ',\n",
       " \"James's residence is owned by Landlord 236. \",\n",
       " \"Landlord 236's house was inspected 60 days after the event and suffered $80,000 of damage.\",\n",
       " 'Landlord 236 submitted an insurance claim 60 days after the event. ',\n",
       " 'Landlord 236 received a $1 insurance payout 75 days after the event. ',\n",
       " 'Landlord 236 submitted a request to FEMA 75 days after the event. ',\n",
       " 'Landlord 236 received $79,999 from FEMA 95 days after the event. ',\n",
       " 'It took Landlord 236 35 days to receive enough financial assistance and now has $80,000 to rebuild. ',\n",
       " 'Landlord 236 received an engineering assessment 120 days after the event. ',\n",
       " 'Landlord 236 received permit approval 155 days after the event. ',\n",
       " \"Landlord 236's home was repaired 185 days after the event, taking 30 days to repair. \"]"
      ]
     },
     "execution_count": 322,
     "metadata": {},
     "output_type": "execute_result"
    }
   ],
   "source": [
    "renters[3].story + renters[3].landlord.story"
   ]
  },
  {
   "cell_type": "code",
   "execution_count": 323,
   "metadata": {
    "collapsed": false
   },
   "outputs": [],
   "source": [
    "if not renters[3].residence: print('Displaced')"
   ]
  },
  {
   "cell_type": "code",
   "execution_count": null,
   "metadata": {
    "collapsed": false
   },
   "outputs": [],
   "source": []
  },
  {
   "cell_type": "code",
   "execution_count": null,
   "metadata": {
    "collapsed": true
   },
   "outputs": [],
   "source": []
  }
 ],
 "metadata": {
  "anaconda-cloud": {},
  "kernelspec": {
   "display_name": "Python [default]",
   "language": "python",
   "name": "python3"
  },
  "language_info": {
   "codemirror_mode": {
    "name": "ipython",
    "version": 3
   },
   "file_extension": ".py",
   "mimetype": "text/x-python",
   "name": "python",
   "nbconvert_exporter": "python",
   "pygments_lexer": "ipython3",
   "version": "3.5.2"
  }
 },
 "nbformat": 4,
 "nbformat_minor": 0
}
