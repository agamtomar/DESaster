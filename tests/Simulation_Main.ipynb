{
 "cells": [
  {
   "cell_type": "markdown",
   "metadata": {},
   "source": [
    "#                      -- DESASTER --\n",
    "Simulating household reconstruction with Discrete Event Simulation \n",
    "\n",
    "Requires python 3.4"
   ]
  },
  {
   "cell_type": "code",
   "execution_count": 1,
   "metadata": {
    "collapsed": false
   },
   "outputs": [],
   "source": [
    "#stdlib and 3rd Party imports\n",
    "import sys, datetime, os\n",
    "import numpy as np\n",
    "import pandas as pd\n",
    "import simpy\n",
    "from simpy.util import start_delayed\n",
    "\n",
    "#add path to desaster module, later we'll install this into site-packages so we shouldn't need to do this\n",
    "sys.path.append(\"C:\\\\Users\\\\Derek\\\\desktop\\\\desaster\")\n",
    "#import desaster files\n",
    "from desaster import entities, capitals, request, io, movement, search, rebuild\n"
   ]
  },
  {
   "cell_type": "markdown",
   "metadata": {},
   "source": [
    "Here we're importing the modules and setting up the stuff"
   ]
  },
  {
   "cell_type": "markdown",
   "metadata": {},
   "source": [
    "## Load input files for the scenario"
   ]
  },
  {
   "cell_type": "code",
   "execution_count": 2,
   "metadata": {
    "collapsed": false
   },
   "outputs": [],
   "source": [
    "#scenario_file = '../inputs/scenario_test1.xlsx'\n",
    "scenario_file = \"../inputs/household_inputs.xlsx\"\n",
    "\n",
    "# Create Pandas dataframe of attribute data for all households to be modeled in the simulation\n",
    "# required column names, exactly as written: Name , Savings , Insurance\n",
    "households_df = pd.read_excel(scenario_file, sheetname='households')\n",
    "\n",
    "# Create Pandas dataframe of attribute data for all vacant homes (housing stock) to be modeled in the simulation\n",
    "housing_stock_df = pd.read_excel(scenario_file, sheetname='housing_stock')\n",
    "\n",
    "# Set input data for all human capital types, as dict or Pandas Series\n",
    "# .loc stuff is to convert the DataFrame to a Series ... data will function the same as a dictionary as well\n",
    "human_cap_data = pd.read_excel(scenario_file, sheetname='human_capital', index_col=0).iloc[:,0]\n",
    "\n",
    "# Set input data for all financial capital types, as dict or Pandas Series\n",
    "financial_cap_data = pd.read_excel(scenario_file, sheetname='financial_capital', index_col=0).iloc[:,0]"
   ]
  },
  {
   "cell_type": "markdown",
   "metadata": {},
   "source": [
    "### Randomize households and reset index"
   ]
  },
  {
   "cell_type": "code",
   "execution_count": 3,
   "metadata": {
    "collapsed": false
   },
   "outputs": [
    {
     "data": {
      "text/html": [
       "<div>\n",
       "<table border=\"1\" class=\"dataframe\">\n",
       "  <thead>\n",
       "    <tr style=\"text-align: right;\">\n",
       "      <th></th>\n",
       "      <th>ID Number</th>\n",
       "      <th>Name</th>\n",
       "      <th>Value</th>\n",
       "      <th>Area</th>\n",
       "      <th>Content_Value</th>\n",
       "      <th>Damage State</th>\n",
       "      <th>Latitude</th>\n",
       "      <th>Longitude</th>\n",
       "      <th>Parcel_ID</th>\n",
       "      <th>Occupancy</th>\n",
       "      <th>Has Insurance</th>\n",
       "      <th>Savings</th>\n",
       "      <th>Insurance</th>\n",
       "    </tr>\n",
       "  </thead>\n",
       "  <tbody>\n",
       "    <tr>\n",
       "      <th>0</th>\n",
       "      <td>US000799</td>\n",
       "      <td>JONE MEHTA</td>\n",
       "      <td>13200.0</td>\n",
       "      <td>559.28</td>\n",
       "      <td>6600.0</td>\n",
       "      <td>Slight</td>\n",
       "      <td>46.475632</td>\n",
       "      <td>-124.055238</td>\n",
       "      <td>74020002005</td>\n",
       "      <td>Single Family Dwelling</td>\n",
       "      <td>0</td>\n",
       "      <td>1955.076047</td>\n",
       "      <td>0</td>\n",
       "    </tr>\n",
       "    <tr>\n",
       "      <th>1</th>\n",
       "      <td>US002712</td>\n",
       "      <td>MERRY CHAMBERLAIN</td>\n",
       "      <td>59900.0</td>\n",
       "      <td>1080.00</td>\n",
       "      <td>29950.0</td>\n",
       "      <td>Complete</td>\n",
       "      <td>46.691258</td>\n",
       "      <td>-123.694004</td>\n",
       "      <td>14082122054</td>\n",
       "      <td>Mobile Home</td>\n",
       "      <td>0</td>\n",
       "      <td>3585.825086</td>\n",
       "      <td>0</td>\n",
       "    </tr>\n",
       "    <tr>\n",
       "      <th>2</th>\n",
       "      <td>US000142</td>\n",
       "      <td>JEANNIE GIBBS</td>\n",
       "      <td>92200.0</td>\n",
       "      <td>1593.00</td>\n",
       "      <td>46100.0</td>\n",
       "      <td>Extensive</td>\n",
       "      <td>46.718510</td>\n",
       "      <td>-124.010268</td>\n",
       "      <td>78016010001</td>\n",
       "      <td>Mobile Home</td>\n",
       "      <td>0</td>\n",
       "      <td>4141.801034</td>\n",
       "      <td>0</td>\n",
       "    </tr>\n",
       "    <tr>\n",
       "      <th>3</th>\n",
       "      <td>US002679</td>\n",
       "      <td>KATHRYN REYES</td>\n",
       "      <td>201600.0</td>\n",
       "      <td>2100.00</td>\n",
       "      <td>100800.0</td>\n",
       "      <td>Slight</td>\n",
       "      <td>46.426043</td>\n",
       "      <td>-124.020269</td>\n",
       "      <td>11112213007</td>\n",
       "      <td>Single Family Dwelling</td>\n",
       "      <td>1</td>\n",
       "      <td>5023.389272</td>\n",
       "      <td>201600</td>\n",
       "    </tr>\n",
       "    <tr>\n",
       "      <th>4</th>\n",
       "      <td>US002060</td>\n",
       "      <td>OCTAVIA GOFF</td>\n",
       "      <td>64500.0</td>\n",
       "      <td>820.00</td>\n",
       "      <td>32250.0</td>\n",
       "      <td>Slight</td>\n",
       "      <td>46.447022</td>\n",
       "      <td>-124.035721</td>\n",
       "      <td>74071022003</td>\n",
       "      <td>Single Family Dwelling</td>\n",
       "      <td>0</td>\n",
       "      <td>3686.158319</td>\n",
       "      <td>0</td>\n",
       "    </tr>\n",
       "  </tbody>\n",
       "</table>\n",
       "</div>"
      ],
      "text/plain": [
       "  ID Number               Name     Value     Area  Content_Value Damage State  \\\n",
       "0  US000799         JONE MEHTA   13200.0   559.28         6600.0       Slight   \n",
       "1  US002712  MERRY CHAMBERLAIN   59900.0  1080.00        29950.0     Complete   \n",
       "2  US000142      JEANNIE GIBBS   92200.0  1593.00        46100.0    Extensive   \n",
       "3  US002679      KATHRYN REYES  201600.0  2100.00       100800.0       Slight   \n",
       "4  US002060       OCTAVIA GOFF   64500.0   820.00        32250.0       Slight   \n",
       "\n",
       "    Latitude   Longitude    Parcel_ID               Occupancy  Has Insurance  \\\n",
       "0  46.475632 -124.055238  74020002005  Single Family Dwelling              0   \n",
       "1  46.691258 -123.694004  14082122054             Mobile Home              0   \n",
       "2  46.718510 -124.010268  78016010001             Mobile Home              0   \n",
       "3  46.426043 -124.020269  11112213007  Single Family Dwelling              1   \n",
       "4  46.447022 -124.035721  74071022003  Single Family Dwelling              0   \n",
       "\n",
       "       Savings  Insurance  \n",
       "0  1955.076047          0  \n",
       "1  3585.825086          0  \n",
       "2  4141.801034          0  \n",
       "3  5023.389272     201600  \n",
       "4  3686.158319          0  "
      ]
     },
     "execution_count": 3,
     "metadata": {},
     "output_type": "execute_result"
    }
   ],
   "source": [
    "households_df = households_df.sample(frac=1).reset_index(drop=True)\n",
    "#takes a random sample, frac is a fraction to sample (1 means take a 100% sample), \n",
    "#reset index drops the old scrambled index and puts in a fresh ascending count\n",
    "households_df.head()"
   ]
  },
  {
   "cell_type": "markdown",
   "metadata": {},
   "source": [
    "# Initiate Simulation"
   ]
  },
  {
   "cell_type": "code",
   "execution_count": 4,
   "metadata": {
    "collapsed": true
   },
   "outputs": [],
   "source": [
    "simulation = simpy.Environment() "
   ]
  },
  {
   "cell_type": "code",
   "execution_count": 5,
   "metadata": {
    "collapsed": true
   },
   "outputs": [],
   "source": [
    "write_story = True #do we want the story of each household?\n"
   ]
  },
  {
   "cell_type": "code",
   "execution_count": 6,
   "metadata": {
    "collapsed": false
   },
   "outputs": [
    {
     "data": {
      "text/plain": [
       "Type\n",
       "Contractors             40\n",
       "Engineers                1\n",
       "FEMA Processors         40\n",
       "Inspectors             100\n",
       "Insurance Adjusters     40\n",
       "Loan Processors         40\n",
       "Permit Processors      100\n",
       "Name: Quantity, dtype: int64"
      ]
     },
     "execution_count": 6,
     "metadata": {},
     "output_type": "execute_result"
    }
   ],
   "source": [
    "human_cap_data"
   ]
  },
  {
   "cell_type": "code",
   "execution_count": 7,
   "metadata": {
    "collapsed": false
   },
   "outputs": [],
   "source": [
    "human_cap_data[\"Contractors\"] = 100\n",
    "human_cap_data[\"Engineers\"] = 100\n",
    "human_cap_data[\"FEMA Processors\"]= 100\n",
    "human_cap_data[\"Inspectors\"] = 100\n",
    "human_cap_data[\"Insurance Adjusters\"] = 100\n",
    "human_cap_data[\"Loan Processors\"] = 100\n",
    "human_cap_data[\"Permit Processors\"] = 100\n"
   ]
  },
  {
   "cell_type": "code",
   "execution_count": 8,
   "metadata": {
    "collapsed": true
   },
   "outputs": [],
   "source": [
    "financial_capital = capitals.FinancialCapital(simulation, financial_cap_data) #resource\n",
    "\n",
    "human_capital = capitals.HumanCapital(simulation, human_cap_data) #resource\n",
    "\n",
    "households = entities.importHouseholds(simulation, households_df, write_story) #entity object container\n",
    "\n",
    "housing_stock = capitals.importHousingStock(simulation, housing_stock_df) #available housing"
   ]
  },
  {
   "cell_type": "markdown",
   "metadata": {},
   "source": [
    "### Write a function that controls the flow for each household."
   ]
  },
  {
   "cell_type": "code",
   "execution_count": 9,
   "metadata": {
    "collapsed": true
   },
   "outputs": [],
   "source": [
    "def master_process(simulation, human_capital, financial_capital, entity, write_story):\n",
    "        \n",
    "    yield simulation.process(request.inspection(simulation, human_capital, entity.residence, entity, write_story))\n",
    "    \n",
    "    # Specify the event sequence for households from the time of the hazard through the decisions to relocate \n",
    "    # or rebuild\n",
    "    if entity.residence.damage_state != 'None':\n",
    "        \n",
    "        money_patience = 1000  # days until give up the search for rebuild money\n",
    "\n",
    "        # Search for rebuild money\n",
    "        yield simulation.process(search.rebuild_money(simulation, human_capital, \n",
    "                                                        financial_capital, entity, \n",
    "                                                        money_patience, write_story))\n",
    "        \n",
    "        if entity.gave_up_money_search == True:\n",
    "                return\n",
    "        \n",
    "        # If home is completely damaged, search for a new home to purchase.\n",
    "        if entity.residence.damage_state == 'Complete':\n",
    "            \n",
    "            home_patience = 550  # days until give up the search for a new home\n",
    "\n",
    "            search_outcome = yield simulation.process(search.permanent_housing(simulation, entity, home_patience, housing_stock, human_capital, write_story))\n",
    "\n",
    "            if entity.gave_up_home_search == True:\n",
    "                return\n",
    "\n",
    "        if entity.residence.damage_state != 'None':\n",
    "            yield simulation.process(request.engineering_assessment(simulation, human_capital, entity, write_story))\n",
    "\n",
    "            yield simulation.process(request.permit(simulation, human_capital, entity, write_story))\n",
    "\n",
    "            yield simulation.process(rebuild.home(simulation, human_capital, financial_capital, entity, write_story))"
   ]
  },
  {
   "cell_type": "code",
   "execution_count": 10,
   "metadata": {
    "collapsed": true
   },
   "outputs": [],
   "source": [
    "# Initiate a master process for each household to be modeled in the simulation\n",
    "for i in range(len(households)):\n",
    "    simulation.process(master_process(simulation, human_capital, financial_capital, households[i], write_story))"
   ]
  },
  {
   "cell_type": "code",
   "execution_count": 11,
   "metadata": {
    "collapsed": false
   },
   "outputs": [
    {
     "name": "stdout",
     "output_type": "stream",
     "text": [
      "16\n"
     ]
    }
   ],
   "source": [
    "undamaged_housing = 0\n",
    "for i in housing_stock.items:\n",
    "    if i.damage_state == \"None\":\n",
    "        undamaged_housing += 1\n",
    "        \n",
    "print (undamaged_housing)"
   ]
  },
  {
   "cell_type": "markdown",
   "metadata": {},
   "source": [
    "## Rebuild the housing stock"
   ]
  },
  {
   "cell_type": "code",
   "execution_count": 12,
   "metadata": {
    "collapsed": false
   },
   "outputs": [
    {
     "data": {
      "text/plain": [
       "<Process(starter) object at 0xb0095b0>"
      ]
     },
     "execution_count": 12,
     "metadata": {},
     "output_type": "execute_result"
    }
   ],
   "source": [
    "# Do inspections on all of the vacant homes in the housing stock\n",
    "for home in housing_stock.items:\n",
    "    simulation.process(request.inspection(simulation, human_capital, home))\n",
    "\n",
    "# Schedule an event that randomly fixes moderately or completely damaged homes in the vacant housing stock\n",
    "# with probability = fix_probability\n",
    "fix_probability = 1.0\n",
    "fix_schedule = 100\n",
    "\n",
    "start_delayed(simulation, rebuild.stock(simulation, housing_stock, fix_probability), fix_schedule)"
   ]
  },
  {
   "cell_type": "markdown",
   "metadata": {},
   "source": [
    "# Parameters for the run"
   ]
  },
  {
   "cell_type": "code",
   "execution_count": 13,
   "metadata": {
    "collapsed": false
   },
   "outputs": [
    {
     "data": {
      "text/plain": [
       "Type\n",
       "Contractors            100\n",
       "Engineers              100\n",
       "FEMA Processors        100\n",
       "Inspectors             100\n",
       "Insurance Adjusters    100\n",
       "Loan Processors        100\n",
       "Permit Processors      100\n",
       "Name: Quantity, dtype: int64"
      ]
     },
     "execution_count": 13,
     "metadata": {},
     "output_type": "execute_result"
    }
   ],
   "source": [
    "human_cap_data"
   ]
  },
  {
   "cell_type": "markdown",
   "metadata": {},
   "source": [
    "## Run the model"
   ]
  },
  {
   "cell_type": "code",
   "execution_count": 14,
   "metadata": {
    "collapsed": false
   },
   "outputs": [
    {
     "name": "stdout",
     "output_type": "stream",
     "text": [
      "312 homes in the vacant building stock were fixed on day 100.\n"
     ]
    }
   ],
   "source": [
    "#Reload building material at a preordained time\n",
    "start_delayed(simulation, capitals.reloadBuildingMaterial(simulation, financial_capital.building_materials, amount = 100000000), 100)\n",
    "\n",
    "simulation.run()"
   ]
  },
  {
   "cell_type": "markdown",
   "metadata": {},
   "source": [
    "## Outputs to verify model ran correctly"
   ]
  },
  {
   "cell_type": "code",
   "execution_count": 15,
   "metadata": {
    "collapsed": false
   },
   "outputs": [
    {
     "name": "stdout",
     "output_type": "stream",
     "text": [
      "46 out of 2860 households suffered no damage to their homes.\n",
      " 2759 out of 2860 households rebuilt or repaired their damaged home.\n",
      " 0 out of 2860 households gave up searching for money.\n",
      " 57 out of 2860 households decided to find a new home.\n",
      " 1 out of 2860 households gave up searching for a home.\n"
     ]
    }
   ],
   "source": [
    "num_undamaged = 0\n",
    "num_rebuilt = 0\n",
    "num_gave_up_money_search = 0\n",
    "num_relocated = 0\n",
    "num_gave_up_home_search = 0\n",
    "\n",
    "for household in households:\n",
    "    if household.money_search_start == None: num_undamaged += 1\n",
    "    if household.home_get is not None: num_rebuilt += 1\n",
    "    if household.gave_up_money_search: num_gave_up_money_search += 1   \n",
    "    if household.home_search_stop is not None:\n",
    "        if household.home_search_stop > 0.0: num_relocated += 1\n",
    "    if household.gave_up_home_search: num_gave_up_home_search += 1\n",
    "        \n",
    "print('{0} out of {1} households suffered no damage to their homes.\\n'.format(num_undamaged, len(households)),\n",
    "      '{0} out of {1} households rebuilt or repaired their damaged home.\\n'.format(num_rebuilt, len(households)),\n",
    "        '{0} out of {1} households gave up searching for money.\\n'.format(num_gave_up_money_search, len(households)),\n",
    "        '{0} out of {1} households decided to find a new home.\\n'.format(num_relocated, len(households)),\n",
    "        '{0} out of {1} households gave up searching for a home.'.format(num_gave_up_home_search, len(households))\n",
    "      )"
   ]
  },
  {
   "cell_type": "code",
   "execution_count": 16,
   "metadata": {
    "collapsed": false
   },
   "outputs": [
    {
     "data": {
      "text/plain": [
       "{'assessment_get': 137.0,\n",
       " 'assessment_put': 24.0,\n",
       " 'assistance_get': None,\n",
       " 'assistance_payout': 0,\n",
       " 'assistance_put': None,\n",
       " 'assistance_request': 0,\n",
       " 'claim_get': None,\n",
       " 'claim_payout': 0,\n",
       " 'claim_put': None,\n",
       " 'gave_up_home_search': False,\n",
       " 'gave_up_money_search': False,\n",
       " 'home_get': 214.0,\n",
       " 'home_put': 212.0,\n",
       " 'home_search_start': None,\n",
       " 'home_search_stop': None,\n",
       " 'household': ID Number                      US001470\n",
       " Name                     KATHRINE DUFFY\n",
       " Value                             71500\n",
       " Area                                768\n",
       " Content_Value                     35750\n",
       " Damage State                     Slight\n",
       " Latitude                        46.3249\n",
       " Longitude                      -124.057\n",
       " Parcel_ID                   73026099001\n",
       " Occupancy        Single Family Dwelling\n",
       " Has Insurance                         0\n",
       " Savings                         3809.76\n",
       " Insurance                             0\n",
       " Name: 1258, dtype: object,\n",
       " 'inspection_get': 24.0,\n",
       " 'inspection_put': 0,\n",
       " 'insurance': 0,\n",
       " 'loan_amount': 0,\n",
       " 'loan_get': None,\n",
       " 'loan_put': None,\n",
       " 'money_search_start': 24.0,\n",
       " 'money_search_stop': None,\n",
       " 'money_to_rebuild': 3809.7622147956599,\n",
       " 'name': 'KATHRINE DUFFY',\n",
       " 'permit_get': 212.0,\n",
       " 'permit_put': 137.0,\n",
       " 'residence': <desaster.capitals.Residence at 0xabc3f10>,\n",
       " 'savings': 3809.7622147956599,\n",
       " 'story': ['Kathrine Duffy lives in a 2 bedroom Single Family Dwelling at None worth $71,500. Its damage level from the event was Slight.',\n",
       "  \"Kathrine Duffy's house was inspected 24 days after the event and suffered $1,430 of damage. \",\n",
       "  'Kathrine Duffy already had enough money to rebuild (1:,.0f) and did not seek assistance. ',\n",
       "  'Kathrine Duffy received an engineering assessment 137 days after the event. ',\n",
       "  'Kathrine Duffy received permit approval 212 days after the event. ',\n",
       "  \"Kathrine Duffy's home was repaired 214 days after the event, taking 2 days to repair. \"]}"
      ]
     },
     "execution_count": 16,
     "metadata": {},
     "output_type": "execute_result"
    }
   ],
   "source": [
    "vars(households[1258])"
   ]
  },
  {
   "cell_type": "markdown",
   "metadata": {},
   "source": [
    "# MAKE A NEW DATAFRAME FOR EXPORT"
   ]
  },
  {
   "cell_type": "code",
   "execution_count": 17,
   "metadata": {
    "collapsed": false
   },
   "outputs": [
    {
     "name": "stdout",
     "output_type": "stream",
     "text": [
      "2860\n",
      "88660\n"
     ]
    }
   ],
   "source": [
    "#fills the empty dataframe we made above for the output. incredibly badly written\n",
    "a = list(vars(households[4]).keys()) #gets all potential column names\n",
    "a.remove(\"household\");a.remove(\"residence\") #remove the stuff we don't want\n",
    "a.append(\"latitude\");a.append(\"longitude\") #add stuff we do want\n",
    "df = pd.DataFrame(columns=a)\n",
    "iters = 0\n",
    "att_itter = 0\n",
    "new_column={}\n",
    "log = []\n",
    "for i in households: #loop through all entities\n",
    "    i.latitude = i.household[\"Latitude\"] #extracting lat and long from the residence object\n",
    "    i.longitude = i.household[\"Longitude\"]\n",
    "    for att in a: #loop through the attributes in our list of column names we want\n",
    "        try:\n",
    "            new_column[att] = i.__getattribute__(att) #set the b dictionary\n",
    "            #mydata[att]= i.__getattribute__(att)\n",
    "            \n",
    "        except ValueError:\n",
    "            new_column[att] = 'NaN'\n",
    "        except AttributeError as e:\n",
    "            new_column[att] = 'NaN'\n",
    "            log.append(\"Household {0} had an attr error, {1}\".format(i.name, e))\n",
    "        finally:\n",
    "            att_itter += 1\n",
    "    mydata=pd.DataFrame([new_column]) #this turns our newly made column into a database where it can be combined with the df\n",
    "\n",
    "    df = df.append(mydata, ignore_index=True)\n",
    "\n",
    "    iters += 1\n",
    "    \n",
    "\n",
    "print(iters)\n",
    "print(att_itter)\n"
   ]
  },
  {
   "cell_type": "code",
   "execution_count": 18,
   "metadata": {
    "collapsed": false
   },
   "outputs": [],
   "source": [
    "df.head()\n",
    "output_path = \"../outputs/Output{}.csv\".format(str(datetime.date.today()))\n",
    "df.to_csv(output_path)"
   ]
  },
  {
   "cell_type": "code",
   "execution_count": 19,
   "metadata": {
    "collapsed": false
   },
   "outputs": [],
   "source": [
    "#TODO Go in and change the \"story\" variable to format the strings nice. change it in the root code so its not janky\n",
    "#and lines up correctly."
   ]
  },
  {
   "cell_type": "code",
   "execution_count": 20,
   "metadata": {
    "collapsed": false
   },
   "outputs": [
    {
     "data": {
      "text/plain": [
       "['Jeannie Gibbs lives in a 5 bedroom Mobile Home at None worth $92,200. Its damage level from the event was Extensive.',\n",
       " \"Jeannie Gibbs's house was inspected 12 days after the event and suffered $34,575 of damage. \",\n",
       " 'Jeannie Gibbs submitted a request to FEMA 12 days after the event. ',\n",
       " 'Jeannie Gibbs received $34,575 from FEMA 32 days after the event. ',\n",
       " 'It took Jeannie Gibbs 20 days to receive enough financial assistance and now has $38,717 to rebuild. ',\n",
       " 'Jeannie Gibbs received an engineering assessment 212 days after the event. ',\n",
       " 'Jeannie Gibbs received permit approval 317 days after the event. ',\n",
       " \"Jeannie Gibbs's home was repaired 347 days after the event, taking 30 days to repair. \"]"
      ]
     },
     "execution_count": 20,
     "metadata": {},
     "output_type": "execute_result"
    }
   ],
   "source": [
    "df[\"story\"][2]"
   ]
  },
  {
   "cell_type": "code",
   "execution_count": 21,
   "metadata": {
    "collapsed": false
   },
   "outputs": [
    {
     "data": {
      "text/plain": [
       "'Danni Woodson'"
      ]
     },
     "execution_count": 21,
     "metadata": {},
     "output_type": "execute_result"
    }
   ],
   "source": [
    "\"DANNI WOODSON\".title()"
   ]
  },
  {
   "cell_type": "code",
   "execution_count": 22,
   "metadata": {
    "collapsed": false
   },
   "outputs": [
    {
     "data": {
      "text/plain": [
       "Index(['assessment_get', 'assessment_put', 'assistance_get',\n",
       "       'assistance_payout', 'assistance_put', 'assistance_request',\n",
       "       'claim_get', 'claim_payout', 'claim_put', 'gave_up_home_search',\n",
       "       'gave_up_money_search', 'home_get', 'home_put', 'home_search_start',\n",
       "       'home_search_stop', 'inspection_get', 'inspection_put', 'insurance',\n",
       "       'latitude', 'loan_amount', 'loan_get', 'loan_put', 'longitude',\n",
       "       'money_search_start', 'money_search_stop', 'money_to_rebuild', 'name',\n",
       "       'permit_get', 'permit_put', 'savings', 'story'],\n",
       "      dtype='object')"
      ]
     },
     "execution_count": 22,
     "metadata": {},
     "output_type": "execute_result"
    }
   ],
   "source": [
    "df.columns\n"
   ]
  },
  {
   "cell_type": "code",
   "execution_count": 23,
   "metadata": {
    "collapsed": false
   },
   "outputs": [
    {
     "data": {
      "text/html": [
       "<div>\n",
       "<table border=\"1\" class=\"dataframe\">\n",
       "  <thead>\n",
       "    <tr style=\"text-align: right;\">\n",
       "      <th></th>\n",
       "      <th>assistance_payout</th>\n",
       "      <th>assistance_request</th>\n",
       "      <th>claim_payout</th>\n",
       "      <th>inspection_get</th>\n",
       "      <th>inspection_put</th>\n",
       "      <th>insurance</th>\n",
       "      <th>latitude</th>\n",
       "      <th>loan_amount</th>\n",
       "      <th>longitude</th>\n",
       "      <th>money_to_rebuild</th>\n",
       "      <th>savings</th>\n",
       "    </tr>\n",
       "  </thead>\n",
       "  <tbody>\n",
       "    <tr>\n",
       "      <th>count</th>\n",
       "      <td>2860.000000</td>\n",
       "      <td>2860.000000</td>\n",
       "      <td>2860.000000</td>\n",
       "      <td>2860.000000</td>\n",
       "      <td>2860.0</td>\n",
       "      <td>2.860000e+03</td>\n",
       "      <td>2860.000000</td>\n",
       "      <td>2860.0</td>\n",
       "      <td>2860.000000</td>\n",
       "      <td>2860.000000</td>\n",
       "      <td>2860.000000</td>\n",
       "    </tr>\n",
       "    <tr>\n",
       "      <th>mean</th>\n",
       "      <td>8794.097150</td>\n",
       "      <td>8794.097150</td>\n",
       "      <td>1213.041608</td>\n",
       "      <td>25.921678</td>\n",
       "      <td>0.0</td>\n",
       "      <td>1.545087e+04</td>\n",
       "      <td>46.461438</td>\n",
       "      <td>0.0</td>\n",
       "      <td>-124.000764</td>\n",
       "      <td>13094.761009</td>\n",
       "      <td>3087.622251</td>\n",
       "    </tr>\n",
       "    <tr>\n",
       "      <th>std</th>\n",
       "      <td>12721.127994</td>\n",
       "      <td>12721.127994</td>\n",
       "      <td>10357.058099</td>\n",
       "      <td>8.261688</td>\n",
       "      <td>0.0</td>\n",
       "      <td>6.817419e+04</td>\n",
       "      <td>0.122050</td>\n",
       "      <td>0.0</td>\n",
       "      <td>0.120577</td>\n",
       "      <td>16131.990811</td>\n",
       "      <td>1013.926631</td>\n",
       "    </tr>\n",
       "    <tr>\n",
       "      <th>min</th>\n",
       "      <td>0.000000</td>\n",
       "      <td>0.000000</td>\n",
       "      <td>0.000000</td>\n",
       "      <td>12.000000</td>\n",
       "      <td>0.0</td>\n",
       "      <td>0.000000e+00</td>\n",
       "      <td>46.242514</td>\n",
       "      <td>0.0</td>\n",
       "      <td>-124.097405</td>\n",
       "      <td>10.000000</td>\n",
       "      <td>0.000000</td>\n",
       "    </tr>\n",
       "    <tr>\n",
       "      <th>25%</th>\n",
       "      <td>0.000000</td>\n",
       "      <td>0.000000</td>\n",
       "      <td>0.000000</td>\n",
       "      <td>19.000000</td>\n",
       "      <td>0.0</td>\n",
       "      <td>0.000000e+00</td>\n",
       "      <td>46.361818</td>\n",
       "      <td>0.0</td>\n",
       "      <td>-124.053941</td>\n",
       "      <td>3570.878534</td>\n",
       "      <td>2385.235187</td>\n",
       "    </tr>\n",
       "    <tr>\n",
       "      <th>50%</th>\n",
       "      <td>3637.500000</td>\n",
       "      <td>3637.500000</td>\n",
       "      <td>0.000000</td>\n",
       "      <td>26.000000</td>\n",
       "      <td>0.0</td>\n",
       "      <td>0.000000e+00</td>\n",
       "      <td>46.452576</td>\n",
       "      <td>0.0</td>\n",
       "      <td>-124.048717</td>\n",
       "      <td>7775.199086</td>\n",
       "      <td>3098.741734</td>\n",
       "    </tr>\n",
       "    <tr>\n",
       "      <th>75%</th>\n",
       "      <td>13921.875000</td>\n",
       "      <td>13921.875000</td>\n",
       "      <td>0.000000</td>\n",
       "      <td>33.000000</td>\n",
       "      <td>0.0</td>\n",
       "      <td>0.000000e+00</td>\n",
       "      <td>46.493837</td>\n",
       "      <td>0.0</td>\n",
       "      <td>-124.035370</td>\n",
       "      <td>17617.255808</td>\n",
       "      <td>3766.548563</td>\n",
       "    </tr>\n",
       "    <tr>\n",
       "      <th>max</th>\n",
       "      <td>131000.000000</td>\n",
       "      <td>131000.000000</td>\n",
       "      <td>327700.000000</td>\n",
       "      <td>40.000000</td>\n",
       "      <td>0.0</td>\n",
       "      <td>2.058900e+06</td>\n",
       "      <td>46.793976</td>\n",
       "      <td>0.0</td>\n",
       "      <td>-123.364914</td>\n",
       "      <td>333296.663171</td>\n",
       "      <td>6296.592929</td>\n",
       "    </tr>\n",
       "  </tbody>\n",
       "</table>\n",
       "</div>"
      ],
      "text/plain": [
       "       assistance_payout  assistance_request   claim_payout  inspection_get  \\\n",
       "count        2860.000000         2860.000000    2860.000000     2860.000000   \n",
       "mean         8794.097150         8794.097150    1213.041608       25.921678   \n",
       "std         12721.127994        12721.127994   10357.058099        8.261688   \n",
       "min             0.000000            0.000000       0.000000       12.000000   \n",
       "25%             0.000000            0.000000       0.000000       19.000000   \n",
       "50%          3637.500000         3637.500000       0.000000       26.000000   \n",
       "75%         13921.875000        13921.875000       0.000000       33.000000   \n",
       "max        131000.000000       131000.000000  327700.000000       40.000000   \n",
       "\n",
       "       inspection_put     insurance     latitude  loan_amount    longitude  \\\n",
       "count          2860.0  2.860000e+03  2860.000000       2860.0  2860.000000   \n",
       "mean              0.0  1.545087e+04    46.461438          0.0  -124.000764   \n",
       "std               0.0  6.817419e+04     0.122050          0.0     0.120577   \n",
       "min               0.0  0.000000e+00    46.242514          0.0  -124.097405   \n",
       "25%               0.0  0.000000e+00    46.361818          0.0  -124.053941   \n",
       "50%               0.0  0.000000e+00    46.452576          0.0  -124.048717   \n",
       "75%               0.0  0.000000e+00    46.493837          0.0  -124.035370   \n",
       "max               0.0  2.058900e+06    46.793976          0.0  -123.364914   \n",
       "\n",
       "       money_to_rebuild      savings  \n",
       "count       2860.000000  2860.000000  \n",
       "mean       13094.761009  3087.622251  \n",
       "std        16131.990811  1013.926631  \n",
       "min           10.000000     0.000000  \n",
       "25%         3570.878534  2385.235187  \n",
       "50%         7775.199086  3098.741734  \n",
       "75%        17617.255808  3766.548563  \n",
       "max       333296.663171  6296.592929  "
      ]
     },
     "execution_count": 23,
     "metadata": {},
     "output_type": "execute_result"
    }
   ],
   "source": [
    "df.describe()"
   ]
  },
  {
   "cell_type": "code",
   "execution_count": null,
   "metadata": {
    "collapsed": true
   },
   "outputs": [],
   "source": []
  }
 ],
 "metadata": {
  "anaconda-cloud": {},
  "kernelspec": {
   "display_name": "Python 3",
   "language": "python",
   "name": "python3"
  },
  "language_info": {
   "codemirror_mode": {
    "name": "ipython",
    "version": 3
   },
   "file_extension": ".py",
   "mimetype": "text/x-python",
   "name": "python",
   "nbconvert_exporter": "python",
   "pygments_lexer": "ipython3",
   "version": "3.4.5"
  }
 },
 "nbformat": 4,
 "nbformat_minor": 1
}
