{
 "cells": [
  {
   "cell_type": "markdown",
   "metadata": {},
   "source": [
    "#                      -- DESASTER --\n",
    "Simulating household reconstruction with Discrete Event Simulation \n",
    "\n",
    "Requires python 3.4"
   ]
  },
  {
   "cell_type": "code",
   "execution_count": 1,
   "metadata": {
    "collapsed": false
   },
   "outputs": [],
   "source": [
    "#stdlib and 3rd Party imports\n",
    "import sys, datetime, os\n",
    "import numpy as np\n",
    "import pandas as pd\n",
    "import simpy\n",
    "from simpy.util import start_delayed\n",
    "\n",
    "#add path to desaster module, later we'll install this into site-packages so we shouldn't need to do this\n",
    "sys.path.append(\"C:\\\\Users\\\\Derek\\\\desktop\\\\desaster\")\n",
    "#import desaster files\n",
    "from desaster import entities, capitals, request, io, movement, search, rebuild\n"
   ]
  },
  {
   "cell_type": "markdown",
   "metadata": {},
   "source": [
    "Here we're importing the modules and setting up the stuff"
   ]
  },
  {
   "cell_type": "markdown",
   "metadata": {},
   "source": [
    "## Load input files for the scenario"
   ]
  },
  {
   "cell_type": "code",
   "execution_count": 2,
   "metadata": {
    "collapsed": false
   },
   "outputs": [],
   "source": [
    "#scenario_file = '../inputs/scenario_test1.xlsx'\n",
    "scenario_file = \"../inputs/household_inputs.xlsx\"\n",
    "\n",
    "# Create Pandas dataframe of attribute data for all households to be modeled in the simulation\n",
    "# required column names, exactly as written: Name , Savings , Insurance\n",
    "households_df = pd.read_excel(scenario_file, sheetname='households')\n",
    "\n",
    "# Create Pandas dataframe of attribute data for all vacant homes (housing stock) to be modeled in the simulation\n",
    "housing_stock_df = pd.read_excel(scenario_file, sheetname='housing_stock')\n",
    "\n",
    "# Set input data for all human capital types, as dict or Pandas Series\n",
    "# .loc stuff is to convert the DataFrame to a Series ... data will function the same as a dictionary as well\n",
    "human_cap_data = pd.read_excel(scenario_file, sheetname='human_capital', index_col=0).iloc[:,0]\n",
    "\n",
    "# Set input data for all financial capital types, as dict or Pandas Series\n",
    "financial_cap_data = pd.read_excel(scenario_file, sheetname='financial_capital', index_col=0).iloc[:,0]"
   ]
  },
  {
   "cell_type": "markdown",
   "metadata": {},
   "source": [
    "### Randomize households and reset index"
   ]
  },
  {
   "cell_type": "code",
   "execution_count": 3,
   "metadata": {
    "collapsed": false
   },
   "outputs": [
    {
     "data": {
      "text/html": [
       "<div>\n",
       "<table border=\"1\" class=\"dataframe\">\n",
       "  <thead>\n",
       "    <tr style=\"text-align: right;\">\n",
       "      <th></th>\n",
       "      <th>ID Number</th>\n",
       "      <th>Name</th>\n",
       "      <th>Value</th>\n",
       "      <th>Area</th>\n",
       "      <th>Content_Value</th>\n",
       "      <th>Damage State</th>\n",
       "      <th>Latitude</th>\n",
       "      <th>Longitude</th>\n",
       "      <th>Parcel_ID</th>\n",
       "      <th>Occupancy</th>\n",
       "      <th>Has Insurance</th>\n",
       "      <th>Savings</th>\n",
       "      <th>Insurance</th>\n",
       "    </tr>\n",
       "  </thead>\n",
       "  <tbody>\n",
       "    <tr>\n",
       "      <th>0</th>\n",
       "      <td>US002135</td>\n",
       "      <td>JULIANE DOCKERY</td>\n",
       "      <td>21300.0</td>\n",
       "      <td>672.00</td>\n",
       "      <td>10650.0</td>\n",
       "      <td>Extensive</td>\n",
       "      <td>46.461534</td>\n",
       "      <td>-124.038344</td>\n",
       "      <td>74073015003</td>\n",
       "      <td>Mobile Home</td>\n",
       "      <td>0</td>\n",
       "      <td>2345.310887</td>\n",
       "      <td>0</td>\n",
       "    </tr>\n",
       "    <tr>\n",
       "      <th>1</th>\n",
       "      <td>US003332</td>\n",
       "      <td>AGNES WILLIS</td>\n",
       "      <td>135200.0</td>\n",
       "      <td>3008.00</td>\n",
       "      <td>67600.0</td>\n",
       "      <td>Slight</td>\n",
       "      <td>46.486053</td>\n",
       "      <td>-124.055537</td>\n",
       "      <td>12113323187</td>\n",
       "      <td>Single Family Dwelling</td>\n",
       "      <td>1</td>\n",
       "      <td>4593.936227</td>\n",
       "      <td>135200</td>\n",
       "    </tr>\n",
       "    <tr>\n",
       "      <th>2</th>\n",
       "      <td>US002188</td>\n",
       "      <td>SHIRA CEJA</td>\n",
       "      <td>27200.0</td>\n",
       "      <td>568.00</td>\n",
       "      <td>13600.0</td>\n",
       "      <td>Slight</td>\n",
       "      <td>46.447980</td>\n",
       "      <td>-124.054945</td>\n",
       "      <td>11110933114</td>\n",
       "      <td>Single Family Dwelling</td>\n",
       "      <td>0</td>\n",
       "      <td>2560.732151</td>\n",
       "      <td>0</td>\n",
       "    </tr>\n",
       "    <tr>\n",
       "      <th>3</th>\n",
       "      <td>US002578</td>\n",
       "      <td>TIFANY AIELLO</td>\n",
       "      <td>8000.0</td>\n",
       "      <td>450.00</td>\n",
       "      <td>4000.0</td>\n",
       "      <td>Extensive</td>\n",
       "      <td>46.361449</td>\n",
       "      <td>-124.052742</td>\n",
       "      <td>10110933179</td>\n",
       "      <td>Mobile Home</td>\n",
       "      <td>0</td>\n",
       "      <td>1552.973746</td>\n",
       "      <td>0</td>\n",
       "    </tr>\n",
       "    <tr>\n",
       "      <th>4</th>\n",
       "      <td>US001879</td>\n",
       "      <td>MENDY JAIMES</td>\n",
       "      <td>19100.0</td>\n",
       "      <td>674.95</td>\n",
       "      <td>9550.0</td>\n",
       "      <td>Slight</td>\n",
       "      <td>46.467939</td>\n",
       "      <td>-124.051122</td>\n",
       "      <td>74027000004</td>\n",
       "      <td>Single Family Dwelling</td>\n",
       "      <td>0</td>\n",
       "      <td>2219.293668</td>\n",
       "      <td>0</td>\n",
       "    </tr>\n",
       "  </tbody>\n",
       "</table>\n",
       "</div>"
      ],
      "text/plain": [
       "  ID Number             Name     Value     Area  Content_Value Damage State  \\\n",
       "0  US002135  JULIANE DOCKERY   21300.0   672.00        10650.0    Extensive   \n",
       "1  US003332     AGNES WILLIS  135200.0  3008.00        67600.0       Slight   \n",
       "2  US002188       SHIRA CEJA   27200.0   568.00        13600.0       Slight   \n",
       "3  US002578    TIFANY AIELLO    8000.0   450.00         4000.0    Extensive   \n",
       "4  US001879     MENDY JAIMES   19100.0   674.95         9550.0       Slight   \n",
       "\n",
       "    Latitude   Longitude    Parcel_ID               Occupancy  Has Insurance  \\\n",
       "0  46.461534 -124.038344  74073015003             Mobile Home              0   \n",
       "1  46.486053 -124.055537  12113323187  Single Family Dwelling              1   \n",
       "2  46.447980 -124.054945  11110933114  Single Family Dwelling              0   \n",
       "3  46.361449 -124.052742  10110933179             Mobile Home              0   \n",
       "4  46.467939 -124.051122  74027000004  Single Family Dwelling              0   \n",
       "\n",
       "       Savings  Insurance  \n",
       "0  2345.310887          0  \n",
       "1  4593.936227     135200  \n",
       "2  2560.732151          0  \n",
       "3  1552.973746          0  \n",
       "4  2219.293668          0  "
      ]
     },
     "execution_count": 3,
     "metadata": {},
     "output_type": "execute_result"
    }
   ],
   "source": [
    "households_df = households_df.sample(frac=1).reset_index(drop=True)\n",
    "#takes a random sample, frac is a fraction to sample (1 means take a 100% sample), \n",
    "#reset index drops the old scrambled index and puts in a fresh ascending count\n",
    "households_df.head()"
   ]
  },
  {
   "cell_type": "markdown",
   "metadata": {},
   "source": [
    "# Initiate Simulation"
   ]
  },
  {
   "cell_type": "code",
   "execution_count": 4,
   "metadata": {
    "collapsed": true
   },
   "outputs": [],
   "source": [
    "simulation = simpy.Environment() "
   ]
  },
  {
   "cell_type": "code",
   "execution_count": 5,
   "metadata": {
    "collapsed": true
   },
   "outputs": [],
   "source": [
    "write_story = True #do we want the story of each household?\n"
   ]
  },
  {
   "cell_type": "code",
   "execution_count": 6,
   "metadata": {
    "collapsed": false
   },
   "outputs": [
    {
     "data": {
      "text/plain": [
       "Type\n",
       "Contractors             40\n",
       "Engineers                1\n",
       "FEMA Processors         40\n",
       "Inspectors             100\n",
       "Insurance Adjusters     40\n",
       "Loan Processors         40\n",
       "Permit Processors      100\n",
       "Name: Quantity, dtype: int64"
      ]
     },
     "execution_count": 6,
     "metadata": {},
     "output_type": "execute_result"
    }
   ],
   "source": [
    "human_cap_data"
   ]
  },
  {
   "cell_type": "code",
   "execution_count": 7,
   "metadata": {
    "collapsed": false
   },
   "outputs": [],
   "source": [
    "human_cap_data[\"Contractors\"] = 100\n",
    "human_cap_data[\"Engineers\"] = 100\n",
    "human_cap_data[\"FEMA Processors\"]= 100\n",
    "human_cap_data[\"Inspectors\"] = 100\n",
    "human_cap_data[\"Insurance Adjusters\"] = 100\n",
    "human_cap_data[\"Loan Processors\"] = 100\n",
    "human_cap_data[\"Permit Processors\"] = 100\n"
   ]
  },
  {
   "cell_type": "code",
   "execution_count": 8,
   "metadata": {
    "collapsed": true
   },
   "outputs": [],
   "source": [
    "financial_capital = capitals.FinancialCapital(simulation, financial_cap_data) #resource\n",
    "\n",
    "human_capital = capitals.HumanCapital(simulation, human_cap_data) #resource\n",
    "\n",
    "households = entities.importHouseholds(simulation, households_df, write_story) #entity object container\n",
    "\n",
    "housing_stock = capitals.importHousingStock(simulation, housing_stock_df) #available housing"
   ]
  },
  {
   "cell_type": "markdown",
   "metadata": {},
   "source": [
    "### Write a function that controls the flow for each household."
   ]
  },
  {
   "cell_type": "code",
   "execution_count": 9,
   "metadata": {
    "collapsed": true
   },
   "outputs": [],
   "source": [
    "def master_process(simulation, human_capital, financial_capital, entity, write_story):\n",
    "        \n",
    "    yield simulation.process(request.inspection(simulation, human_capital, entity.residence, entity, write_story))\n",
    "    \n",
    "    # Specify the event sequence for households from the time of the hazard through the decisions to relocate \n",
    "    # or rebuild\n",
    "    if entity.residence.damage_state != 'None':\n",
    "        \n",
    "        money_patience = 1000  # days until give up the search for rebuild money\n",
    "\n",
    "        # Search for rebuild money\n",
    "        yield simulation.process(search.rebuild_money(simulation, human_capital, \n",
    "                                                        financial_capital, entity, \n",
    "                                                        money_patience, write_story))\n",
    "        \n",
    "        if entity.gave_up_money_search == True:\n",
    "                return\n",
    "        \n",
    "        # If home is completely damaged, search for a new home to purchase.\n",
    "        if entity.residence.damage_state == 'Complete':\n",
    "            \n",
    "            home_patience = 550  # days until give up the search for a new home\n",
    "\n",
    "            search_outcome = yield simulation.process(search.permanent_housing(simulation, entity, home_patience, housing_stock, human_capital, write_story))\n",
    "\n",
    "            if entity.gave_up_home_search == True:\n",
    "                return\n",
    "\n",
    "        if entity.residence.damage_state != 'None':\n",
    "            yield simulation.process(request.engineering_assessment(simulation, human_capital, entity, write_story))\n",
    "\n",
    "            yield simulation.process(request.permit(simulation, human_capital, entity, write_story))\n",
    "\n",
    "            yield simulation.process(rebuild.home(simulation, human_capital, financial_capital, entity, write_story))"
   ]
  },
  {
   "cell_type": "code",
   "execution_count": 10,
   "metadata": {
    "collapsed": true
   },
   "outputs": [],
   "source": [
    "# Initiate a master process for each household to be modeled in the simulation\n",
    "for i in range(len(households)):\n",
    "    simulation.process(master_process(simulation, human_capital, financial_capital, households[i], write_story))"
   ]
  },
  {
   "cell_type": "code",
   "execution_count": 11,
   "metadata": {
    "collapsed": false
   },
   "outputs": [
    {
     "name": "stdout",
     "output_type": "stream",
     "text": [
      "16\n"
     ]
    }
   ],
   "source": [
    "undamaged_housing = 0\n",
    "for i in housing_stock.items:\n",
    "    if i.damage_state == \"None\":\n",
    "        undamaged_housing += 1\n",
    "        \n",
    "print (undamaged_housing)"
   ]
  },
  {
   "cell_type": "markdown",
   "metadata": {},
   "source": [
    "## Rebuild the housing stock"
   ]
  },
  {
   "cell_type": "code",
   "execution_count": 12,
   "metadata": {
    "collapsed": false
   },
   "outputs": [
    {
     "data": {
      "text/plain": [
       "<Process(starter) object at 0x8d0c590>"
      ]
     },
     "execution_count": 12,
     "metadata": {},
     "output_type": "execute_result"
    }
   ],
   "source": [
    "# Do inspections on all of the vacant homes in the housing stock\n",
    "for home in housing_stock.items:\n",
    "    simulation.process(request.inspection(simulation, human_capital, home))\n",
    "\n",
    "# Schedule an event that randomly fixes moderately or completely damaged homes in the vacant housing stock\n",
    "# with probability = fix_probability\n",
    "fix_probability = 1.0\n",
    "fix_schedule = 100\n",
    "\n",
    "start_delayed(simulation, rebuild.stock(simulation, housing_stock, fix_probability), fix_schedule)"
   ]
  },
  {
   "cell_type": "markdown",
   "metadata": {},
   "source": [
    "# Parameters for the run"
   ]
  },
  {
   "cell_type": "code",
   "execution_count": 13,
   "metadata": {
    "collapsed": false
   },
   "outputs": [
    {
     "data": {
      "text/plain": [
       "Type\n",
       "Contractors            100\n",
       "Engineers              100\n",
       "FEMA Processors        100\n",
       "Inspectors             100\n",
       "Insurance Adjusters    100\n",
       "Loan Processors        100\n",
       "Permit Processors      100\n",
       "Name: Quantity, dtype: int64"
      ]
     },
     "execution_count": 13,
     "metadata": {},
     "output_type": "execute_result"
    }
   ],
   "source": [
    "human_cap_data"
   ]
  },
  {
   "cell_type": "markdown",
   "metadata": {},
   "source": [
    "## Run the model"
   ]
  },
  {
   "cell_type": "code",
   "execution_count": 14,
   "metadata": {
    "collapsed": false
   },
   "outputs": [
    {
     "name": "stdout",
     "output_type": "stream",
     "text": [
      "313 homes in the vacant building stock were fixed on day 100.\n"
     ]
    }
   ],
   "source": [
    "#Reload building material at a preordained time\n",
    "start_delayed(simulation, capitals.reloadBuildingMaterial(simulation, financial_capital.building_materials, amount = 100000000), 100)\n",
    "\n",
    "simulation.run()"
   ]
  },
  {
   "cell_type": "markdown",
   "metadata": {},
   "source": [
    "## Outputs to verify model ran correctly"
   ]
  },
  {
   "cell_type": "code",
   "execution_count": 16,
   "metadata": {
    "collapsed": false
   },
   "outputs": [
    {
     "name": "stdout",
     "output_type": "stream",
     "text": [
      "46 out of 2860 households suffered no damage to their homes.\n",
      " 2759 out of 2860 households rebuilt or repaired their damaged home.\n",
      " 0 out of 2860 households gave up searching for money.\n",
      " 58 out of 2860 households decided to find a new home.\n",
      " 1 out of 2860 households gave up searching for a home. \n",
      " 129 out of 2860 households loaned\n"
     ]
    }
   ],
   "source": [
    "num_undamaged = 0\n",
    "num_rebuilt = 0\n",
    "num_gave_up_money_search = 0\n",
    "num_relocated = 0\n",
    "num_gave_up_home_search = 0\n",
    "num_moved = 0\n",
    "num_loaned = 0\n",
    "for household in households:\n",
    "    if household.money_search_start == None: num_undamaged += 1\n",
    "    if household.home_get is not None: num_rebuilt += 1\n",
    "    if household.gave_up_money_search: num_gave_up_money_search += 1   \n",
    "    if household.home_search_stop is not None:\n",
    "        if household.home_search_stop > 0.0: num_relocated += 1\n",
    "    if household.gave_up_home_search: num_gave_up_home_search += 1\n",
    "    if household.entered_loan_process: num_loaned += 1    \n",
    "print('{0} out of {1} households suffered no damage to their homes.\\n'.format(num_undamaged, len(households)),\n",
    "      '{0} out of {1} households rebuilt or repaired their damaged home.\\n'.format(num_rebuilt, len(households)),\n",
    "        '{0} out of {1} households gave up searching for money.\\n'.format(num_gave_up_money_search, len(households)),\n",
    "        '{0} out of {1} households decided to find a new home.\\n'.format(num_relocated, len(households)),\n",
    "        '{0} out of {1} households gave up searching for a home. \\n'.format(num_gave_up_home_search, len(households)),\n",
    "      '{0} out of {1} households loaned'.format(num_loaned, len(households))\n",
    "     )"
   ]
  },
  {
   "cell_type": "code",
   "execution_count": null,
   "metadata": {
    "collapsed": false
   },
   "outputs": [],
   "source": [
    "min(30,5)"
   ]
  },
  {
   "cell_type": "markdown",
   "metadata": {},
   "source": [
    "# MAKE A NEW DATAFRAME FOR EXPORT"
   ]
  },
  {
   "cell_type": "code",
   "execution_count": null,
   "metadata": {
    "collapsed": false
   },
   "outputs": [],
   "source": [
    "#fills the empty dataframe we made above for the output. incredibly badly written\n",
    "a = list(vars(households[4]).keys()) #gets all potential column names\n",
    "a.remove(\"household\");a.remove(\"residence\") #remove the stuff we don't want\n",
    "a.append(\"latitude\");a.append(\"longitude\") #add stuff we do want\n",
    "df = pd.DataFrame(columns=a)\n",
    "iters = 0\n",
    "att_itter = 0\n",
    "new_column={}\n",
    "log = []\n",
    "for i in households: #loop through all entities\n",
    "    i.latitude = i.household[\"Latitude\"] #extracting lat and long from the residence object\n",
    "    i.longitude = i.household[\"Longitude\"]\n",
    "    for att in a: #loop through the attributes in our list of column names we want\n",
    "        try:\n",
    "            new_column[att] = i.__getattribute__(att) #set the b dictionary\n",
    "            #mydata[att]= i.__getattribute__(att)\n",
    "            \n",
    "        except ValueError:\n",
    "            new_column[att] = np.nan\n",
    "        except AttributeError as e:\n",
    "            new_column[att] = np.nan\n",
    "            log.append(\"Household {0} had an attr error, {1}\".format(i.name, e))\n",
    "        finally:\n",
    "            att_itter += 1\n",
    "    mydata=pd.DataFrame([new_column]) #this turns our newly made column into a database where it can be combined with the df\n",
    "\n",
    "    df = df.append(mydata, ignore_index=True)\n",
    "\n",
    "    iters += 1\n",
    "    \n",
    "\n",
    "print(iters)\n",
    "print(att_itter)\n"
   ]
  },
  {
   "cell_type": "code",
   "execution_count": null,
   "metadata": {
    "collapsed": false
   },
   "outputs": [],
   "source": [
    "df.head()\n",
    "output_path = \"../outputs/Output{}.csv\".format(str(datetime.date.today()))\n",
    "df.to_csv(output_path)"
   ]
  },
  {
   "cell_type": "code",
   "execution_count": null,
   "metadata": {
    "collapsed": false
   },
   "outputs": [],
   "source": [
    "#TODO Go in and change the \"story\" variable to format the strings nice. change it in the root code so its not janky\n",
    "#and lines up correctly."
   ]
  },
  {
   "cell_type": "code",
   "execution_count": null,
   "metadata": {
    "collapsed": false
   },
   "outputs": [],
   "source": [
    "df[\"wait\"]=df[\"inspection_get\"]-df[\"inspection_put\"]"
   ]
  },
  {
   "cell_type": "code",
   "execution_count": null,
   "metadata": {
    "collapsed": false
   },
   "outputs": [],
   "source": [
    "df.entered_loan_process"
   ]
  },
  {
   "cell_type": "code",
   "execution_count": null,
   "metadata": {
    "collapsed": false
   },
   "outputs": [],
   "source": [
    "df.columns\n"
   ]
  },
  {
   "cell_type": "code",
   "execution_count": null,
   "metadata": {
    "collapsed": false
   },
   "outputs": [],
   "source": [
    "df.assessment_get.isnull()"
   ]
  },
  {
   "cell_type": "code",
   "execution_count": null,
   "metadata": {
    "collapsed": true
   },
   "outputs": [],
   "source": []
  }
 ],
 "metadata": {
  "anaconda-cloud": {},
  "kernelspec": {
   "display_name": "Python [default]",
   "language": "python",
   "name": "python3"
  },
  "language_info": {
   "codemirror_mode": {
    "name": "ipython",
    "version": 3
   },
   "file_extension": ".py",
   "mimetype": "text/x-python",
   "name": "python",
   "nbconvert_exporter": "python",
   "pygments_lexer": "ipython3",
   "version": "3.5.2"
  }
 },
 "nbformat": 4,
 "nbformat_minor": 1
}
