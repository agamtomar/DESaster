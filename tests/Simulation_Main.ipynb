{
 "cells": [
  {
   "cell_type": "markdown",
   "metadata": {},
   "source": [
    "#                      -- DESASTER --\n",
    "Simulating household reconstruction with Discrete Event Simulation \n",
    "\n",
    "Requires python 3.4"
   ]
  },
  {
   "cell_type": "code",
   "execution_count": 854,
   "metadata": {
    "collapsed": true
   },
   "outputs": [],
   "source": [
    "#stdlib and 3rd Party imports\n",
    "import sys, datetime, os\n",
    "import numpy as np\n",
    "import pandas as pd\n",
    "import simpy\n",
    "from simpy.util import start_delayed\n",
    "import folium\n",
    "from folium.plugins import MarkerCluster\n",
    "import seaborn\n",
    "%matplotlib inline\n",
    "\n",
    "#add path to desaster module, later we'll install this into site-packages so we shouldn't need to do this\n",
    "sys.path.append(\"/Users/geomando/Dropbox/github/SeaGrantSimulation\")\n",
    "#import desaster files\n",
    "from desaster import entities, capitals, request, io, movement, search, rebuild\n"
   ]
  },
  {
   "cell_type": "markdown",
   "metadata": {},
   "source": [
    "Here we're importing the modules and setting up the stuff"
   ]
  },
  {
   "cell_type": "markdown",
   "metadata": {},
   "source": [
    "## Load input files for the scenario"
   ]
  },
  {
   "cell_type": "code",
   "execution_count": 855,
   "metadata": {
    "collapsed": true
   },
   "outputs": [],
   "source": [
    "# #scenario_file = '../inputs/scenario_test1.xlsx'\n",
    "# scenario_file = \"../inputs/household_inputs.xlsx\"\n",
    "\n",
    "# # Create Pandas dataframe of attribute data for all households to be modeled in the simulation\n",
    "# # required column names, exactly as written: Name , Savings , Insurance\n",
    "# households_df = pd.read_excel(scenario_file, sheetname='households')\n",
    "\n",
    "# # Create Pandas dataframe of attribute data for all vacant homes (housing stock) to be modeled in the simulation\n",
    "# housing_stock_df = pd.read_excel(scenario_file, sheetname='housing_stock')\n",
    "\n",
    "# # Set input data for all human capital types, as dict or Pandas Series\n",
    "# # .loc stuff is to convert the DataFrame to a Series ... data will function the same as a dictionary as well\n",
    "# human_cap_data = pd.read_excel(scenario_file, sheetname='human_capital', index_col=0).iloc[:,0]\n",
    "\n",
    "# # Set input data for all financial capital types, as dict or Pandas Series\n",
    "# financial_cap_data = pd.read_excel(scenario_file, sheetname='financial_capital', index_col=0).iloc[:,0]"
   ]
  },
  {
   "cell_type": "markdown",
   "metadata": {},
   "source": [
    "### Randomize households and reset index"
   ]
  },
  {
   "cell_type": "code",
   "execution_count": 856,
   "metadata": {
    "collapsed": true
   },
   "outputs": [],
   "source": [
    "# households_df = households_df.sample(frac=1).reset_index(drop=True)\n",
    "# #takes a random sample, frac is a fraction to sample (1 means take a 100% sample), \n",
    "# #reset index drops the old scrambled index and puts in a fresh ascending count\n",
    "# households_df.head()"
   ]
  },
  {
   "cell_type": "markdown",
   "metadata": {},
   "source": [
    "# Initiate Simulation"
   ]
  },
  {
   "cell_type": "code",
   "execution_count": 857,
   "metadata": {
    "collapsed": true
   },
   "outputs": [],
   "source": [
    "simulation = simpy.Environment() "
   ]
  },
  {
   "cell_type": "code",
   "execution_count": 858,
   "metadata": {
    "collapsed": true
   },
   "outputs": [],
   "source": [
    "write_story = False #do we want the story of each household?"
   ]
  },
  {
   "cell_type": "markdown",
   "metadata": {},
   "source": [
    "## Scenario Definitions"
   ]
  },
  {
   "cell_type": "code",
   "execution_count": 859,
   "metadata": {
    "collapsed": true
   },
   "outputs": [],
   "source": [
    "fraction = 1.0\n",
    "money_patience = 180  # days until give up the search for rebuild money\n",
    "home_patience = money_patience  # days until give up the search for a new home\n",
    "scenario_name = '{0}PctRes_MonPat{1}_YesHomeSearch'.format(int(fraction*100),int(home_patience))\n",
    "output_path = \"../Outputs/out_{0}.csv\".format(scenario_name)"
   ]
  },
  {
   "cell_type": "code",
   "execution_count": 860,
   "metadata": {
    "collapsed": true
   },
   "outputs": [],
   "source": [
    "human_cap_data[\"Contractors\"] = int(len(households_df) * fraction)\n",
    "human_cap_data[\"Engineers\"] = int(len(households_df) * fraction)\n",
    "human_cap_data[\"FEMA Processors\"]= int(len(households_df) * fraction)\n",
    "human_cap_data[\"Inspectors\"] = int(len(households_df) * fraction)\n",
    "human_cap_data[\"Insurance Adjusters\"] = int(len(households_df) * fraction)\n",
    "human_cap_data[\"Loan Processors\"] = int(len(households_df) * fraction)\n",
    "human_cap_data[\"Permit Processors\"] = int(len(households_df) * fraction)\n",
    "\n",
    "total_damage = 29533906.0 # Sum of all damage values in PC\n",
    "financial_cap_data['Building Materials'] = total_damage  * fraction\n",
    "financial_cap_data['FEMA Aid'] = total_damage * fraction"
   ]
  },
  {
   "cell_type": "code",
   "execution_count": 861,
   "metadata": {},
   "outputs": [],
   "source": [
    "# # Infinite Resources\n",
    "\n",
    "# scenario_name = 'InfRes_MonPat365_YesHomeSearch'\n",
    "# output_path = \"../Outputs/out_{0}.csv\".format(scenario_name)\n",
    "\n",
    "# human_cap_data[\"Contractors\"] = 100000000000000\n",
    "# human_cap_data[\"Engineers\"] = 100000000000000\n",
    "# human_cap_data[\"FEMA Processors\"]= 100000000000000\n",
    "# human_cap_data[\"Inspectors\"] = 100000000000000\n",
    "# human_cap_data[\"Insurance Adjusters\"] = 100000000000000\n",
    "# human_cap_data[\"Loan Processors\"] = 100000000000000\n",
    "# human_cap_data[\"Permit Processors\"] = 100000000000000\n",
    "\n",
    "# total_damage = 29533906.0 # Sum of all damage values in PC\n",
    "# financial_cap_data['Building Materials'] = total_damage\n",
    "# financial_cap_data['FEMA Aid'] = total_damage"
   ]
  },
  {
   "cell_type": "code",
   "execution_count": 862,
   "metadata": {},
   "outputs": [],
   "source": [
    "financial_capital = capitals.FinancialCapital(simulation, financial_cap_data) #resource\n",
    "\n",
    "human_capital = capitals.HumanCapital(simulation, human_cap_data) #resource\n",
    "\n",
    "households = entities.importHouseholds(simulation, households_df, write_story) #entity object container\n",
    "\n",
    "housing_stock = capitals.importHousingStock(simulation, housing_stock_df) #available housing"
   ]
  },
  {
   "cell_type": "code",
   "execution_count": 873,
   "metadata": {},
   "outputs": [
    {
     "data": {
      "text/plain": [
       "2860"
      ]
     },
     "execution_count": 873,
     "metadata": {},
     "output_type": "execute_result"
    }
   ],
   "source": [
    "len(households)"
   ]
  },
  {
   "cell_type": "markdown",
   "metadata": {},
   "source": [
    "### Write a function that controls the flow for each household."
   ]
  },
  {
   "cell_type": "code",
   "execution_count": 863,
   "metadata": {
    "collapsed": true
   },
   "outputs": [],
   "source": [
    "# def master_process(simulation, human_capital, financial_capital, entity, write_story):\n",
    "        \n",
    "#     yield simulation.process(request.inspection(simulation, human_capital, entity.residence, entity, write_story))\n",
    "    \n",
    "#     # Specify the event sequence for households from the time of the hazard through the decisions to relocate \n",
    "#     # or rebuild\n",
    "#     if entity.residence.damage_state != 'None':\n",
    "        \n",
    "#         money_patience = 1000  # days until give up the search for rebuild money\n",
    "\n",
    "#         # Search for rebuild money\n",
    "#         yield simulation.process(search.rebuild_money(simulation, human_capital, \n",
    "#                                                         financial_capital, entity, \n",
    "#                                                         money_patience, write_story))\n",
    "        \n",
    "#         if entity.gave_up_money_search == True:\n",
    "#                 return\n",
    "        \n",
    "#         # If home is completely damaged, search for a new home to purchase.\n",
    "#         if entity.residence.damage_state == 'Complete':\n",
    "            \n",
    "#             home_patience = 550  # days until give up the search for a new home\n",
    "\n",
    "#             search_outcome = yield simulation.process(search.permanent_housing(simulation, entity, home_patience, housing_stock, human_capital, write_story))\n",
    "\n",
    "#             if entity.gave_up_home_search == True:\n",
    "#                 return\n",
    "\n",
    "#         if entity.residence.damage_state != 'None':\n",
    "#             yield simulation.process(request.engineering_assessment(simulation, human_capital, entity, write_story))\n",
    "\n",
    "#             yield simulation.process(request.permit(simulation, human_capital, entity, write_story))\n",
    "\n",
    "#             yield simulation.process(rebuild.home(simulation, human_capital, financial_capital, entity, write_story))"
   ]
  },
  {
   "cell_type": "code",
   "execution_count": 864,
   "metadata": {
    "collapsed": true
   },
   "outputs": [],
   "source": [
    "def master_process(simulation, human_capital, financial_capital, entity, money_patience, home_patience, write_story):\n",
    "        \n",
    "    yield simulation.process(request.inspection(simulation, human_capital, entity.residence, entity, write_story))\n",
    "    \n",
    "    # Specify the event sequence for households from the time of the hazard through the decisions to relocate \n",
    "    # or rebuild\n",
    "    if entity.residence.damage_state != 'None':\n",
    "        \n",
    "\n",
    "\n",
    "        # Search for rebuild money\n",
    "        yield simulation.process(search.rebuild_money(simulation, human_capital, \n",
    "                                                        financial_capital, entity, \n",
    "                                                        money_patience, write_story))\n",
    "        \n",
    "        if entity.gave_up_money_search == True:\n",
    "            \n",
    "\n",
    "            search_outcome = yield simulation.process(search.permanent_housing(simulation, entity, home_patience, housing_stock, human_capital, write_story))\n",
    "\n",
    "            if entity.gave_up_home_search == True:\n",
    "                return\n",
    "\n",
    "        if entity.residence.damage_state != 'None':\n",
    "            yield simulation.process(request.engineering_assessment(simulation, human_capital, entity, write_story))\n",
    "\n",
    "            yield simulation.process(request.permit(simulation, human_capital, entity, write_story))\n",
    "\n",
    "            yield simulation.process(rebuild.home(simulation, human_capital, financial_capital, entity, write_story))"
   ]
  },
  {
   "cell_type": "code",
   "execution_count": 865,
   "metadata": {
    "collapsed": true
   },
   "outputs": [],
   "source": [
    "# Initiate a master process for each household to be modeled in the simulation\n",
    "for i in range(len(households)):\n",
    "    simulation.process(master_process(simulation, human_capital, financial_capital, households[i], \n",
    "                                      money_patience, home_patience, write_story))"
   ]
  },
  {
   "cell_type": "code",
   "execution_count": 866,
   "metadata": {},
   "outputs": [
    {
     "name": "stdout",
     "output_type": "stream",
     "text": [
      "16\n"
     ]
    }
   ],
   "source": [
    "undamaged_housing = 0\n",
    "for i in housing_stock.items:\n",
    "    if i.damage_state == \"None\":\n",
    "        undamaged_housing += 1\n",
    "        \n",
    "print (undamaged_housing)"
   ]
  },
  {
   "cell_type": "markdown",
   "metadata": {},
   "source": [
    "## Rebuild the housing stock"
   ]
  },
  {
   "cell_type": "code",
   "execution_count": 867,
   "metadata": {},
   "outputs": [],
   "source": [
    "# # Do inspections on all of the vacant homes in the housing stock\n",
    "# for home in housing_stock.items:\n",
    "#     simulation.process(request.inspection(simulation, human_capital, home))\n",
    "\n",
    "# # Schedule an event that randomly fixes moderately or completely damaged homes in the vacant housing stock\n",
    "# # with probability = fix_probability\n",
    "# fix_probability = 1.0\n",
    "# fix_schedule = 100\n",
    "\n",
    "# start_delayed(simulation, rebuild.stock(simulation, housing_stock, fix_probability), fix_schedule)"
   ]
  },
  {
   "cell_type": "code",
   "execution_count": 868,
   "metadata": {
    "collapsed": true
   },
   "outputs": [],
   "source": [
    "#Reload building material at a preordained time\n",
    "# start_delayed(simulation, capitals.reloadBuildingMaterial(simulation, financial_capital.building_materials, amount = 100000000), 100)"
   ]
  },
  {
   "cell_type": "markdown",
   "metadata": {},
   "source": [
    "## Run the model"
   ]
  },
  {
   "cell_type": "code",
   "execution_count": 869,
   "metadata": {},
   "outputs": [],
   "source": [
    "simulation.run()"
   ]
  },
  {
   "cell_type": "markdown",
   "metadata": {},
   "source": [
    "## Outputs to verify model ran correctly"
   ]
  },
  {
   "cell_type": "code",
   "execution_count": 870,
   "metadata": {},
   "outputs": [],
   "source": [
    "# num_undamaged = 0\n",
    "# num_rebuilt = 0\n",
    "# num_gave_up_money_search = 0\n",
    "# num_relocated = 0\n",
    "# num_gave_up_home_search = 0\n",
    "# num_moved = 0\n",
    "# num_loaned = 0\n",
    "# for household in households:\n",
    "#     if household.residence.damage_state_start == 'None': num_undamaged += 1\n",
    "#     if household.home_get is not None: num_rebuilt += 1\n",
    "#     if household.gave_up_money_search: num_gave_up_money_search += 1   \n",
    "#     if household.home_search_stop is not None:\n",
    "#         if household.home_search_stop > 0.0: num_relocated += 1\n",
    "#     if household.gave_up_home_search: num_gave_up_home_search += 1\n",
    "#     if household.loan_get: num_loaned += 1    \n",
    "# print('{0} out of {1} households suffered no damage to their homes.\\n'.format(num_undamaged, len(households)),\n",
    "#       '{0} out of {1} households rebuilt or repaired their damaged home.\\n'.format(num_rebuilt, len(households)),\n",
    "#         '{0} out of {1} households gave up searching for money.\\n'.format(num_gave_up_money_search, len(households)),\n",
    "#         '{0} out of {1} households decided to find a new home.\\n'.format(num_relocated, len(households)),\n",
    "#         '{0} out of {1} households gave up searching for a home. \\n'.format(num_gave_up_home_search, len(households)),\n",
    "#       '{0} out of {1} households applied for and received a loan.'.format(num_loaned, len(households))\n",
    "#      )"
   ]
  },
  {
   "cell_type": "markdown",
   "metadata": {},
   "source": [
    "# MAKE A NEW DATAFRAME FOR EXPORT"
   ]
  },
  {
   "cell_type": "code",
   "execution_count": 871,
   "metadata": {},
   "outputs": [],
   "source": [
    "#fills the empty dataframe we made above for the output. incredibly badly written\n",
    "a = [\n",
    " 'inspection_get',\n",
    " 'assistance_get',\n",
    " 'assessment_get',\n",
    " 'permit_get',\n",
    "    'claim_get',\n",
    "    'loan_get',\n",
    " 'home_get',\n",
    "    'gave_up_money_search',\n",
    "    'gave_up_home_search',\n",
    "    'story']\n",
    "a.append(\"latitude\");a.append(\"longitude\") #add stuff we do want\n",
    "a.append(\"damage_state_start\");a.append(\"damage_state\") #add stuff we do want\n",
    "a.append(\"damage_value_start\");a.append(\"damage_value\") #add stuff we do want\n",
    "a = sorted(a)\n",
    "df = pd.DataFrame(columns=a, dtype=int)\n",
    "iters = 0\n",
    "att_itter = 0\n",
    "new_column={}\n",
    "log = []\n",
    "for i in households: #loop through all entities\n",
    "    i.story = i.story_to_text()\n",
    "    i.latitude = i.residence.latitude #extracting lat and long from the residence object\n",
    "    i.longitude = i.residence.longitude\n",
    "    i.gave_up_money_search = int(i.gave_up_money_search)\n",
    "    i.gave_up_home_search = int(i.gave_up_home_search)\n",
    "    i.damage_state_start = i.residence.damage_state_start\n",
    "    i.damage_state = i.residence.damage_state\n",
    "    i.damage_value = i.residence.damage_value\n",
    "    i.damage_value_start = i.residence.damage_value_start\n",
    "    for att in a: #loop through the attributes in our list of column names we want\n",
    "        try:\n",
    "            new_column[att] = i.__getattribute__(att) #set the b dictionary\n",
    "            #mydata[att]= i.__getattribute__(att)\n",
    "            \n",
    "        except ValueError:\n",
    "            new_column[att] = np.nan\n",
    "        except AttributeError as e:\n",
    "            new_column[att] = np.nan\n",
    "            log.append(\"Household {0} had an attr error, {1}\".format(i.name, e))\n",
    "        finally:\n",
    "            att_itter += 1\n",
    "    mydata=pd.DataFrame([new_column]) #this turns our newly made column into a database where it can be combined with the df\n",
    "\n",
    "    df = df.append(mydata, ignore_index=True)\n",
    "\n",
    "    iters += 1\n",
    "    \n",
    "\n",
    "# output_path = \"../outputs/Output{0}.csv\".format(datetime.datetime.now().strftime(\"%m%d%y%I%M\"))\n",
    "\n",
    "df.to_csv(output_path)"
   ]
  },
  {
   "cell_type": "code",
   "execution_count": 872,
   "metadata": {},
   "outputs": [
    {
     "data": {
      "text/plain": [
       "Index(['assessment_get', 'assistance_get', 'claim_get', 'damage_state',\n",
       "       'damage_state_start', 'damage_value', 'damage_value_start',\n",
       "       'gave_up_home_search', 'gave_up_money_search', 'home_get',\n",
       "       'inspection_get', 'latitude', 'loan_get', 'longitude', 'permit_get',\n",
       "       'story'],\n",
       "      dtype='object')"
      ]
     },
     "execution_count": 872,
     "metadata": {},
     "output_type": "execute_result"
    }
   ],
   "source": [
    "df.columns"
   ]
  },
  {
   "cell_type": "code",
   "execution_count": null,
   "metadata": {
    "collapsed": true
   },
   "outputs": [],
   "source": []
  }
 ],
 "metadata": {
  "anaconda-cloud": {},
  "kernelspec": {
   "display_name": "Python [default]",
   "language": "python",
   "name": "python3"
  },
  "language_info": {
   "codemirror_mode": {
    "name": "ipython",
    "version": 3
   },
   "file_extension": ".py",
   "mimetype": "text/x-python",
   "name": "python",
   "nbconvert_exporter": "python",
   "pygments_lexer": "ipython3",
   "version": "3.5.2"
  }
 },
 "nbformat": 4,
 "nbformat_minor": 1
}
