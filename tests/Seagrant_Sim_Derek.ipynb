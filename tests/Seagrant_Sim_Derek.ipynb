{
 "cells": [
  {
   "cell_type": "markdown",
   "metadata": {},
   "source": [
    "# DESaster Vers -  0.1"
   ]
  },
  {
   "cell_type": "code",
   "execution_count": 13,
   "metadata": {
    "collapsed": false
   },
   "outputs": [],
   "source": [
    "import sys\n",
    "sys.path.append(\"C://Users//Derek//Dropbox//Simulation//SeaGrantSimulation\")\n",
    "import simpy\n",
    "import pandas as pd\n",
    "import desaster\n",
    "from desaster import request, entities, rebuild, config\n"
   ]
  },
  {
   "cell_type": "markdown",
   "metadata": {},
   "source": [
    "##### instantiate a simpy environment"
   ]
  },
  {
   "cell_type": "code",
   "execution_count": 14,
   "metadata": {
    "collapsed": true
   },
   "outputs": [],
   "source": [
    "sim = simpy.Environment()"
   ]
  },
  {
   "cell_type": "code",
   "execution_count": 15,
   "metadata": {
    "collapsed": true
   },
   "outputs": [],
   "source": [
    "def simulation(sim, res, entity):\n",
    "    \n",
    "    yield sim.process(request.inspection(entity, \n",
    "                                       sim, \n",
    "                                       res))\n",
    "    \n",
    "    yield sim.process(request.file_insurance_claim(entity,\n",
    "                                         sim,\n",
    "                                         res))\n",
    "    \n",
    "    yield sim.process(request.fema_assistance(entity,\n",
    "                                            sim,\n",
    "                                            res))\n",
    "    \n",
    "    yield sim.process(rebuild.rebuild_house(entity,\n",
    "                                sim,\n",
    "                                res.contractors))\n",
    "    \n",
    "    yield sim.process(request.engineering_assessment(entity,\n",
    "                                                    sim,\n",
    "                                                    res))"
   ]
  },
  {
   "cell_type": "code",
   "execution_count": 4,
   "metadata": {
    "collapsed": true
   },
   "outputs": [],
   "source": [
    "data = {\"inspectors\": 1,\n",
    "        \"insurance adjusters\": 2,\n",
    "        \"fema processors\": 2,\n",
    "        \"permit processors\": 1,\n",
    "        \"contractors\": 1,\n",
    "        \"loan processors\": 2,\n",
    "        \"engineers\": 1,\n",
    "        \"fema aid\": 100000}\n"
   ]
  },
  {
   "cell_type": "code",
   "execution_count": 5,
   "metadata": {
    "collapsed": false
   },
   "outputs": [],
   "source": [
    "res = desaster.Capitals(sim, data)"
   ]
  },
  {
   "cell_type": "code",
   "execution_count": 22,
   "metadata": {
    "collapsed": false
   },
   "outputs": [
    {
     "data": {
      "text/plain": [
       "{'__builtins__': {'ArithmeticError': ArithmeticError,\n",
       "  'AssertionError': AssertionError,\n",
       "  'AttributeError': AttributeError,\n",
       "  'BaseException': BaseException,\n",
       "  'BlockingIOError': BlockingIOError,\n",
       "  'BrokenPipeError': BrokenPipeError,\n",
       "  'BufferError': BufferError,\n",
       "  'BytesWarning': BytesWarning,\n",
       "  'ChildProcessError': ChildProcessError,\n",
       "  'ConnectionAbortedError': ConnectionAbortedError,\n",
       "  'ConnectionError': ConnectionError,\n",
       "  'ConnectionRefusedError': ConnectionRefusedError,\n",
       "  'ConnectionResetError': ConnectionResetError,\n",
       "  'DeprecationWarning': DeprecationWarning,\n",
       "  'EOFError': EOFError,\n",
       "  'Ellipsis': Ellipsis,\n",
       "  'EnvironmentError': OSError,\n",
       "  'Exception': Exception,\n",
       "  'False': False,\n",
       "  'FileExistsError': FileExistsError,\n",
       "  'FileNotFoundError': FileNotFoundError,\n",
       "  'FloatingPointError': FloatingPointError,\n",
       "  'FutureWarning': FutureWarning,\n",
       "  'GeneratorExit': GeneratorExit,\n",
       "  'IOError': OSError,\n",
       "  'ImportError': ImportError,\n",
       "  'ImportWarning': ImportWarning,\n",
       "  'IndentationError': IndentationError,\n",
       "  'IndexError': IndexError,\n",
       "  'InterruptedError': InterruptedError,\n",
       "  'IsADirectoryError': IsADirectoryError,\n",
       "  'KeyError': KeyError,\n",
       "  'KeyboardInterrupt': KeyboardInterrupt,\n",
       "  'LookupError': LookupError,\n",
       "  'MemoryError': MemoryError,\n",
       "  'NameError': NameError,\n",
       "  'None': None,\n",
       "  'NotADirectoryError': NotADirectoryError,\n",
       "  'NotImplemented': NotImplemented,\n",
       "  'NotImplementedError': NotImplementedError,\n",
       "  'OSError': OSError,\n",
       "  'OverflowError': OverflowError,\n",
       "  'PendingDeprecationWarning': PendingDeprecationWarning,\n",
       "  'PermissionError': PermissionError,\n",
       "  'ProcessLookupError': ProcessLookupError,\n",
       "  'ReferenceError': ReferenceError,\n",
       "  'ResourceWarning': ResourceWarning,\n",
       "  'RuntimeError': RuntimeError,\n",
       "  'RuntimeWarning': RuntimeWarning,\n",
       "  'StopIteration': StopIteration,\n",
       "  'SyntaxError': SyntaxError,\n",
       "  'SyntaxWarning': SyntaxWarning,\n",
       "  'SystemError': SystemError,\n",
       "  'SystemExit': SystemExit,\n",
       "  'TabError': TabError,\n",
       "  'TimeoutError': TimeoutError,\n",
       "  'True': True,\n",
       "  'TypeError': TypeError,\n",
       "  'UnboundLocalError': UnboundLocalError,\n",
       "  'UnicodeDecodeError': UnicodeDecodeError,\n",
       "  'UnicodeEncodeError': UnicodeEncodeError,\n",
       "  'UnicodeError': UnicodeError,\n",
       "  'UnicodeTranslateError': UnicodeTranslateError,\n",
       "  'UnicodeWarning': UnicodeWarning,\n",
       "  'UserWarning': UserWarning,\n",
       "  'ValueError': ValueError,\n",
       "  'Warning': Warning,\n",
       "  'WindowsError': OSError,\n",
       "  'ZeroDivisionError': ZeroDivisionError,\n",
       "  '__IPYTHON__': True,\n",
       "  '__IPYTHON__active': 'Deprecated, check for __IPYTHON__',\n",
       "  '__build_class__': <function __build_class__>,\n",
       "  '__debug__': True,\n",
       "  '__doc__': \"Built-in functions, exceptions, and other objects.\\n\\nNoteworthy: None is the `nil' object; Ellipsis represents `...' in slices.\",\n",
       "  '__import__': <function __import__>,\n",
       "  '__loader__': _frozen_importlib.BuiltinImporter,\n",
       "  '__name__': 'builtins',\n",
       "  '__package__': '',\n",
       "  '__spec__': ModuleSpec(name='builtins', loader=<class '_frozen_importlib.BuiltinImporter'>),\n",
       "  'abs': <function abs>,\n",
       "  'all': <function all>,\n",
       "  'any': <function any>,\n",
       "  'ascii': <function ascii>,\n",
       "  'bin': <function bin>,\n",
       "  'bool': bool,\n",
       "  'bytearray': bytearray,\n",
       "  'bytes': bytes,\n",
       "  'callable': <function callable>,\n",
       "  'chr': <function chr>,\n",
       "  'classmethod': classmethod,\n",
       "  'compile': <function compile>,\n",
       "  'complex': complex,\n",
       "  'copyright': Copyright (c) 2001-2015 Python Software Foundation.\n",
       "  All Rights Reserved.\n",
       "  \n",
       "  Copyright (c) 2000 BeOpen.com.\n",
       "  All Rights Reserved.\n",
       "  \n",
       "  Copyright (c) 1995-2001 Corporation for National Research Initiatives.\n",
       "  All Rights Reserved.\n",
       "  \n",
       "  Copyright (c) 1991-1995 Stichting Mathematisch Centrum, Amsterdam.\n",
       "  All Rights Reserved.,\n",
       "  'credits':     Thanks to CWI, CNRI, BeOpen.com, Zope Corporation and a cast of thousands\n",
       "      for supporting Python development.  See www.python.org for more information.,\n",
       "  'delattr': <function delattr>,\n",
       "  'dict': dict,\n",
       "  'dir': <function dir>,\n",
       "  'divmod': <function divmod>,\n",
       "  'dreload': <function IPython.lib.deepreload._dreload>,\n",
       "  'enumerate': enumerate,\n",
       "  'eval': <function eval>,\n",
       "  'exec': <function exec>,\n",
       "  'filter': filter,\n",
       "  'float': float,\n",
       "  'format': <function format>,\n",
       "  'frozenset': frozenset,\n",
       "  'get_ipython': <bound method ZMQInteractiveShell.get_ipython of <ipykernel.zmqshell.ZMQInteractiveShell object at 0x038FBE10>>,\n",
       "  'getattr': <function getattr>,\n",
       "  'globals': <function globals>,\n",
       "  'hasattr': <function hasattr>,\n",
       "  'hash': <function hash>,\n",
       "  'help': Type help() for interactive help, or help(object) for help about object.,\n",
       "  'hex': <function hex>,\n",
       "  'id': <function id>,\n",
       "  'input': <bound method IPythonKernel.raw_input of <ipykernel.ipkernel.IPythonKernel object at 0x038FBDB0>>,\n",
       "  'int': int,\n",
       "  'isinstance': <function isinstance>,\n",
       "  'issubclass': <function issubclass>,\n",
       "  'iter': <function iter>,\n",
       "  'len': <function len>,\n",
       "  'license': See https://www.python.org/psf/license/,\n",
       "  'list': list,\n",
       "  'locals': <function locals>,\n",
       "  'map': map,\n",
       "  'max': <function max>,\n",
       "  'memoryview': memoryview,\n",
       "  'min': <function min>,\n",
       "  'next': <function next>,\n",
       "  'object': object,\n",
       "  'oct': <function oct>,\n",
       "  'open': <function io.open>,\n",
       "  'ord': <function ord>,\n",
       "  'pow': <function pow>,\n",
       "  'print': <function print>,\n",
       "  'property': property,\n",
       "  'range': range,\n",
       "  'repr': <function repr>,\n",
       "  'reversed': reversed,\n",
       "  'round': <function round>,\n",
       "  'set': set,\n",
       "  'setattr': <function setattr>,\n",
       "  'slice': slice,\n",
       "  'sorted': <function sorted>,\n",
       "  'staticmethod': staticmethod,\n",
       "  'str': str,\n",
       "  'sum': <function sum>,\n",
       "  'super': super,\n",
       "  'tuple': tuple,\n",
       "  'type': type,\n",
       "  'vars': <function vars>,\n",
       "  'zip': zip},\n",
       " '__cached__': 'C://Users//Derek//Dropbox//Simulation//SeaGrantSimulation\\\\desaster\\\\__pycache__\\\\config.cpython-34.pyc',\n",
       " '__doc__': '\\nCreated on Wed Feb 10 12:45:29 2016\\n\\n@author: Derek\\n',\n",
       " '__file__': 'C://Users//Derek//Dropbox//Simulation//SeaGrantSimulation\\\\desaster\\\\config.py',\n",
       " '__loader__': <_frozen_importlib.SourceFileLoader at 0x7d97cd0>,\n",
       " '__name__': 'desaster.config',\n",
       " '__package__': 'desaster',\n",
       " '__spec__': ModuleSpec(name='desaster.config', loader=<_frozen_importlib.SourceFileLoader object at 0x07D97CD0>, origin='C://Users//Derek//Dropbox//Simulation//SeaGrantSimulation\\\\desaster\\\\config.py'),\n",
       " 'adjuster_time': 1.0,\n",
       " 'engineering_assessment_time': 1.0,\n",
       " 'fema_process_time': 2.0,\n",
       " 'inspection_time': 1.0,\n",
       " 'random': <module 'random' from 'C:\\\\Users\\\\Derek\\\\Anaconda2\\\\envs\\\\py34k\\\\lib\\\\random.py'>}"
      ]
     },
     "execution_count": 22,
     "metadata": {},
     "output_type": "execute_result"
    }
   ],
   "source": []
  },
  {
   "cell_type": "code",
   "execution_count": 6,
   "metadata": {
    "collapsed": false
   },
   "outputs": [],
   "source": [
    "households_inputs_dict = {'name' : ['Bill', 'Boyd', 'Bobby', 'Biff'],\n",
    "                 'savings' : [100.0, 1000.0, 10000.0, 100000.0],\n",
    "                'damaged' : [1, 1, 1, 1],\n",
    "                'damage_value' : [10000.0, 10000.0, 20000.0, 20000.0],\n",
    "                'insurance_coverage' : [0.0, 0.0, 5000.0, 10000.0]\n",
    "                }    \n",
    "# Create dataframe from dictionary\n",
    "households_df = pd.DataFrame(households_inputs_dict)"
   ]
  },
  {
   "cell_type": "code",
   "execution_count": 7,
   "metadata": {
    "collapsed": false
   },
   "outputs": [],
   "source": [
    "household = {}\n",
    "for i in households_df.index:\n",
    "    household[i] = entities.Household(households_df.loc[i])"
   ]
  },
  {
   "cell_type": "code",
   "execution_count": 8,
   "metadata": {
    "collapsed": false
   },
   "outputs": [
    {
     "data": {
      "text/plain": [
       "{0: <desaster.entities.Household at 0x7da7af0>,\n",
       " 1: <desaster.entities.Household at 0x7b6e910>,\n",
       " 2: <desaster.entities.Household at 0x4857070>,\n",
       " 3: <desaster.entities.Household at 0x48570d0>}"
      ]
     },
     "execution_count": 8,
     "metadata": {},
     "output_type": "execute_result"
    }
   ],
   "source": [
    "household"
   ]
  },
  {
   "cell_type": "code",
   "execution_count": 9,
   "metadata": {
    "collapsed": false
   },
   "outputs": [
    {
     "name": "stdout",
     "output_type": "stream",
     "text": [
      "<desaster.entities.Household object at 0x07DA7AF0>\n",
      "<desaster.entities.Household object at 0x07B6E910>\n",
      "<desaster.entities.Household object at 0x04857070>\n",
      "<desaster.entities.Household object at 0x048570D0>\n"
     ]
    }
   ],
   "source": [
    "for i in range(len(household)):\n",
    "    print (household[i])\n",
    "    sim.process(simulation(sim, res, household[i]))"
   ]
  },
  {
   "cell_type": "code",
   "execution_count": 10,
   "metadata": {
    "collapsed": false
   },
   "outputs": [],
   "source": [
    "sim.run()"
   ]
  },
  {
   "cell_type": "code",
   "execution_count": 12,
   "metadata": {
    "collapsed": false
   },
   "outputs": [
    {
     "name": "stdout",
     "output_type": "stream",
     "text": [
      "[\"Bill's house was inspected 1.0 days after the event. \", 'Bill received a $0.0 insurance payout after a 2.0 day wait.', 'Bill received no money from FEMA because of inadequate funding. ', 'The house was rebuilt 64.0 days after the quake, taking 60 days to rebuild. ', 'Bill received their engineering assessment after 65.0 days.']\n",
      "[\"Boyd's house was inspected 2.0 days after the event. \", 'Boyd received a $0.0 insurance payout after a 3.0 day wait.', 'Boyd received no money from FEMA because of inadequate funding. ', 'The house was rebuilt 124.0 days after the quake, taking 60 days to rebuild. ', 'Boyd received their engineering assessment after 125.0 days.']\n",
      "[\"Bobby's house was inspected 3.0 days after the event. \", 'Bobby received a $5000.0 insurance payout after a 4.0 day wait.', 'Bobby received no money from FEMA because of inadequate funding. ', 'The house was rebuilt 184.0 days after the quake, taking 60 days to rebuild. ', 'Bobby received their engineering assessment after 185.0 days.']\n",
      "[\"Biff's house was inspected 4.0 days after the event. \", 'Biff received a $10000.0 insurance payout after a 5.0 day wait.', 'Biff received no money from FEMA because of inadequate funding. ', 'The house was rebuilt 244.0 days after the quake, taking 60 days to rebuild. ', 'Biff received their engineering assessment after 245.0 days.']\n"
     ]
    }
   ],
   "source": [
    "for i in household:\n",
    "    print(household[i].story)"
   ]
  },
  {
   "cell_type": "code",
   "execution_count": null,
   "metadata": {
    "collapsed": true
   },
   "outputs": [],
   "source": []
  }
 ],
 "metadata": {
  "kernelspec": {
   "display_name": "Python 3",
   "language": "python",
   "name": "python3"
  },
  "language_info": {
   "codemirror_mode": {
    "name": "ipython",
    "version": 3
   },
   "file_extension": ".py",
   "mimetype": "text/x-python",
   "name": "python",
   "nbconvert_exporter": "python",
   "pygments_lexer": "ipython3",
   "version": "3.4.4"
  }
 },
 "nbformat": 4,
 "nbformat_minor": 0
}
