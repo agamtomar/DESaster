{
 "cells": [
  {
   "cell_type": "code",
   "execution_count": 5,
   "metadata": {
    "collapsed": false
   },
   "outputs": [],
   "source": [
    "import sys, random\n",
    "desaster_path = \"/Users/geomando/Dropbox/github/SeaGrantSimulation\"\n",
    "sys.path.append(desaster_path)\n",
    "import simpy\n",
    "from simpy.util import start_delayed\n",
    "import pandas as pd\n",
    "import numpy as np\n",
    "from desaster import entities, capitals, request, io, movement, search, rebuild"
   ]
  },
  {
   "cell_type": "code",
   "execution_count": 6,
   "metadata": {
    "collapsed": true
   },
   "outputs": [],
   "source": [
    "simulation = simpy.Environment()\n",
    "\n",
    "write_story = True"
   ]
  },
  {
   "cell_type": "code",
   "execution_count": 7,
   "metadata": {
    "collapsed": false
   },
   "outputs": [],
   "source": [
    "def master_process(simulation, human_capital, financial_capital, entity, write_story):\n",
    "        \n",
    "    yield simulation.process(request.inspection(simulation, human_capital, entity.residence, entity, write_story))\n",
    "    \n",
    "    if entity.residence.damage_state != 'None':\n",
    "        \n",
    "        money_patience = 3650\n",
    "\n",
    "        yield simulation.process(search.rebuild_money(simulation, human_capital, \n",
    "                                                        financial_capital, entity, \n",
    "                                                        money_patience, write_story))\n",
    "\n",
    "        if entity.residence.damage_state == 'Complete':\n",
    "            home_patience = 2000\n",
    "\n",
    "            search_outcome = yield simulation.process(search.permanent_housing(simulation, entity, home_patience, housing_stock, human_capital, write_story))\n",
    "\n",
    "            if search_outcome == 'Gave up':\n",
    "                return\n",
    "\n",
    "        if entity.residence.damage_state != 'None':\n",
    "            yield simulation.process(request.engineering_assessment(simulation, human_capital, entity, write_story))\n",
    "\n",
    "            yield simulation.process(request.permit(simulation, human_capital, entity, write_story))\n",
    "\n",
    "            yield simulation.process(rebuild.home(simulation, human_capital, financial_capital, entity, write_story))\n",
    "               \n",
    "   "
   ]
  },
  {
   "cell_type": "code",
   "execution_count": 8,
   "metadata": {
    "collapsed": false
   },
   "outputs": [],
   "source": [
    "human_cap_data = pd.Series(\n",
    "        {\n",
    "        \"Inspectors\": 100,\n",
    "        \"Insurance Adjusters\": 40,\n",
    "        \"FEMA Processors\": 40,\n",
    "        \"Permit Processors\": 100,\n",
    "        \"Contractors\": 40,\n",
    "        \"Loan Processors\": 40,\n",
    "        \"Engineers\": 1\n",
    "                 }\n",
    "        )\n",
    "\n",
    "human_capital = capitals.HumanCapital(simulation, human_cap_data) "
   ]
  },
  {
   "cell_type": "code",
   "execution_count": 9,
   "metadata": {
    "collapsed": false
   },
   "outputs": [],
   "source": [
    "financial_cap_data = {\"FEMA Aid\": 35000000,\n",
    "                     \"Building Materials\": 2000000}\n",
    "\n",
    "financial_capital = capitals.FinancialCapital(simulation, financial_cap_data) "
   ]
  },
  {
   "cell_type": "code",
   "execution_count": 10,
   "metadata": {
    "collapsed": false
   },
   "outputs": [
    {
     "data": {
      "text/html": [
       "<div>\n",
       "<table border=\"1\" class=\"dataframe\">\n",
       "  <thead>\n",
       "    <tr style=\"text-align: right;\">\n",
       "      <th></th>\n",
       "      <th>Name</th>\n",
       "      <th>Income</th>\n",
       "      <th>Savings</th>\n",
       "      <th>Insurance</th>\n",
       "      <th>Address</th>\n",
       "      <th>Occupancy</th>\n",
       "      <th>Cost</th>\n",
       "      <th>Bedrooms</th>\n",
       "      <th>Bathrooms</th>\n",
       "      <th>Area</th>\n",
       "      <th>Year Built</th>\n",
       "      <th>Value</th>\n",
       "      <th>Damage State</th>\n",
       "    </tr>\n",
       "  </thead>\n",
       "  <tbody>\n",
       "    <tr>\n",
       "      <th>0</th>\n",
       "      <td>Alfred</td>\n",
       "      <td>30000</td>\n",
       "      <td>10000</td>\n",
       "      <td>0</td>\n",
       "      <td>62 That St</td>\n",
       "      <td>Mobile Home</td>\n",
       "      <td>100</td>\n",
       "      <td>1</td>\n",
       "      <td>1</td>\n",
       "      <td>700</td>\n",
       "      <td>1920</td>\n",
       "      <td>100000</td>\n",
       "      <td>Slight</td>\n",
       "    </tr>\n",
       "    <tr>\n",
       "      <th>1</th>\n",
       "      <td>Bruce</td>\n",
       "      <td>100000</td>\n",
       "      <td>1000000</td>\n",
       "      <td>10000000</td>\n",
       "      <td>720 This Rd</td>\n",
       "      <td>Single Family Dwelling</td>\n",
       "      <td>100000</td>\n",
       "      <td>6</td>\n",
       "      <td>5</td>\n",
       "      <td>5000</td>\n",
       "      <td>1920</td>\n",
       "      <td>10000000</td>\n",
       "      <td>Slight</td>\n",
       "    </tr>\n",
       "    <tr>\n",
       "      <th>2</th>\n",
       "      <td>Selena</td>\n",
       "      <td>10000</td>\n",
       "      <td>100</td>\n",
       "      <td>0</td>\n",
       "      <td>1001 Other Ave</td>\n",
       "      <td>Multi Family Dwelling</td>\n",
       "      <td>10</td>\n",
       "      <td>0</td>\n",
       "      <td>1</td>\n",
       "      <td>250</td>\n",
       "      <td>1960</td>\n",
       "      <td>10000</td>\n",
       "      <td>Moderate</td>\n",
       "    </tr>\n",
       "    <tr>\n",
       "      <th>3</th>\n",
       "      <td>Fish</td>\n",
       "      <td>50000</td>\n",
       "      <td>1000</td>\n",
       "      <td>550000</td>\n",
       "      <td>26000 Out There Lane</td>\n",
       "      <td>Single Family Dwelling</td>\n",
       "      <td>2000</td>\n",
       "      <td>4</td>\n",
       "      <td>2</td>\n",
       "      <td>2000</td>\n",
       "      <td>2010</td>\n",
       "      <td>800000</td>\n",
       "      <td>Moderate</td>\n",
       "    </tr>\n",
       "  </tbody>\n",
       "</table>\n",
       "</div>"
      ],
      "text/plain": [
       "     Name  Income  Savings  Insurance               Address  \\\n",
       "0  Alfred   30000    10000          0            62 That St   \n",
       "1   Bruce  100000  1000000   10000000           720 This Rd   \n",
       "2  Selena   10000      100          0        1001 Other Ave   \n",
       "3    Fish   50000     1000     550000  26000 Out There Lane   \n",
       "\n",
       "                Occupancy    Cost  Bedrooms  Bathrooms  Area  Year Built  \\\n",
       "0             Mobile Home     100         1          1   700        1920   \n",
       "1  Single Family Dwelling  100000         6          5  5000        1920   \n",
       "2   Multi Family Dwelling      10         0          1   250        1960   \n",
       "3  Single Family Dwelling    2000         4          2  2000        2010   \n",
       "\n",
       "      Value Damage State  \n",
       "0    100000       Slight  \n",
       "1  10000000       Slight  \n",
       "2     10000     Moderate  \n",
       "3    800000     Moderate  "
      ]
     },
     "execution_count": 10,
     "metadata": {},
     "output_type": "execute_result"
    }
   ],
   "source": [
    "file_path = \"../inputs/household_inputs_test.csv\"\n",
    "households_df = pd.read_csv(file_path)\n",
    "\n",
    "households_df.head()"
   ]
  },
  {
   "cell_type": "code",
   "execution_count": 11,
   "metadata": {
    "collapsed": false
   },
   "outputs": [
    {
     "data": {
      "text/html": [
       "<div>\n",
       "<table border=\"1\" class=\"dataframe\">\n",
       "  <thead>\n",
       "    <tr style=\"text-align: right;\">\n",
       "      <th></th>\n",
       "      <th>Address</th>\n",
       "      <th>Occupancy</th>\n",
       "      <th>Cost</th>\n",
       "      <th>Bedrooms</th>\n",
       "      <th>Bathrooms</th>\n",
       "      <th>Area</th>\n",
       "      <th>Year Built</th>\n",
       "      <th>Value</th>\n",
       "      <th>Damage State</th>\n",
       "    </tr>\n",
       "  </thead>\n",
       "  <tbody>\n",
       "    <tr>\n",
       "      <th>0</th>\n",
       "      <td>100 New Ave</td>\n",
       "      <td>Mobile Home</td>\n",
       "      <td>100</td>\n",
       "      <td>1</td>\n",
       "      <td>1</td>\n",
       "      <td>700</td>\n",
       "      <td>1920</td>\n",
       "      <td>99999</td>\n",
       "      <td>None</td>\n",
       "    </tr>\n",
       "    <tr>\n",
       "      <th>1</th>\n",
       "      <td>101 New Ave</td>\n",
       "      <td>Single Family Dwelling</td>\n",
       "      <td>100000</td>\n",
       "      <td>6</td>\n",
       "      <td>5</td>\n",
       "      <td>5000</td>\n",
       "      <td>1920</td>\n",
       "      <td>9999</td>\n",
       "      <td>None</td>\n",
       "    </tr>\n",
       "    <tr>\n",
       "      <th>2</th>\n",
       "      <td>102 New Ave</td>\n",
       "      <td>Multi Family Dwelling</td>\n",
       "      <td>10</td>\n",
       "      <td>0</td>\n",
       "      <td>1</td>\n",
       "      <td>250</td>\n",
       "      <td>1960</td>\n",
       "      <td>9999</td>\n",
       "      <td>None</td>\n",
       "    </tr>\n",
       "    <tr>\n",
       "      <th>3</th>\n",
       "      <td>103 New Ave</td>\n",
       "      <td>Single Family Dwelling</td>\n",
       "      <td>2000</td>\n",
       "      <td>4</td>\n",
       "      <td>2</td>\n",
       "      <td>2000</td>\n",
       "      <td>2010</td>\n",
       "      <td>800000</td>\n",
       "      <td>None</td>\n",
       "    </tr>\n",
       "    <tr>\n",
       "      <th>4</th>\n",
       "      <td>104 New Ave</td>\n",
       "      <td>Mobile Home</td>\n",
       "      <td>100</td>\n",
       "      <td>1</td>\n",
       "      <td>1</td>\n",
       "      <td>700</td>\n",
       "      <td>1920</td>\n",
       "      <td>100000</td>\n",
       "      <td>None</td>\n",
       "    </tr>\n",
       "    <tr>\n",
       "      <th>5</th>\n",
       "      <td>105 New Ave</td>\n",
       "      <td>Single Family Dwelling</td>\n",
       "      <td>100000</td>\n",
       "      <td>6</td>\n",
       "      <td>5</td>\n",
       "      <td>5000</td>\n",
       "      <td>1920</td>\n",
       "      <td>10000000</td>\n",
       "      <td>None</td>\n",
       "    </tr>\n",
       "    <tr>\n",
       "      <th>6</th>\n",
       "      <td>106 New Ave</td>\n",
       "      <td>Multi Family Dwelling</td>\n",
       "      <td>10</td>\n",
       "      <td>0</td>\n",
       "      <td>1</td>\n",
       "      <td>250</td>\n",
       "      <td>1960</td>\n",
       "      <td>9999</td>\n",
       "      <td>None</td>\n",
       "    </tr>\n",
       "    <tr>\n",
       "      <th>7</th>\n",
       "      <td>107 New Ave</td>\n",
       "      <td>Single Family Dwelling</td>\n",
       "      <td>2000</td>\n",
       "      <td>4</td>\n",
       "      <td>2</td>\n",
       "      <td>2000</td>\n",
       "      <td>2010</td>\n",
       "      <td>800000</td>\n",
       "      <td>None</td>\n",
       "    </tr>\n",
       "    <tr>\n",
       "      <th>8</th>\n",
       "      <td>108 New Ave</td>\n",
       "      <td>Mobile Home</td>\n",
       "      <td>100</td>\n",
       "      <td>1</td>\n",
       "      <td>1</td>\n",
       "      <td>700</td>\n",
       "      <td>1920</td>\n",
       "      <td>100000</td>\n",
       "      <td>Complete</td>\n",
       "    </tr>\n",
       "    <tr>\n",
       "      <th>9</th>\n",
       "      <td>109 New Ave</td>\n",
       "      <td>Single Family Dwelling</td>\n",
       "      <td>100000</td>\n",
       "      <td>6</td>\n",
       "      <td>5</td>\n",
       "      <td>5000</td>\n",
       "      <td>1920</td>\n",
       "      <td>10000000</td>\n",
       "      <td>Moderate</td>\n",
       "    </tr>\n",
       "    <tr>\n",
       "      <th>10</th>\n",
       "      <td>110 New Ave</td>\n",
       "      <td>Multi Family Dwelling</td>\n",
       "      <td>10</td>\n",
       "      <td>0</td>\n",
       "      <td>1</td>\n",
       "      <td>250</td>\n",
       "      <td>1960</td>\n",
       "      <td>10000</td>\n",
       "      <td>Complete</td>\n",
       "    </tr>\n",
       "    <tr>\n",
       "      <th>11</th>\n",
       "      <td>111 New Ave</td>\n",
       "      <td>Single Family Dwelling</td>\n",
       "      <td>2000</td>\n",
       "      <td>4</td>\n",
       "      <td>2</td>\n",
       "      <td>2000</td>\n",
       "      <td>2010</td>\n",
       "      <td>800000</td>\n",
       "      <td>Moderate</td>\n",
       "    </tr>\n",
       "    <tr>\n",
       "      <th>12</th>\n",
       "      <td>112 New Ave</td>\n",
       "      <td>Mobile Home</td>\n",
       "      <td>100</td>\n",
       "      <td>1</td>\n",
       "      <td>1</td>\n",
       "      <td>700</td>\n",
       "      <td>1920</td>\n",
       "      <td>100000</td>\n",
       "      <td>Moderate</td>\n",
       "    </tr>\n",
       "    <tr>\n",
       "      <th>13</th>\n",
       "      <td>113 New Ave</td>\n",
       "      <td>Single Family Dwelling</td>\n",
       "      <td>100000</td>\n",
       "      <td>6</td>\n",
       "      <td>5</td>\n",
       "      <td>5000</td>\n",
       "      <td>1920</td>\n",
       "      <td>10000000</td>\n",
       "      <td>Complete</td>\n",
       "    </tr>\n",
       "    <tr>\n",
       "      <th>14</th>\n",
       "      <td>114 New Ave</td>\n",
       "      <td>Multi Family Dwelling</td>\n",
       "      <td>10</td>\n",
       "      <td>0</td>\n",
       "      <td>1</td>\n",
       "      <td>250</td>\n",
       "      <td>1960</td>\n",
       "      <td>10000</td>\n",
       "      <td>Complete</td>\n",
       "    </tr>\n",
       "    <tr>\n",
       "      <th>15</th>\n",
       "      <td>115 New Ave</td>\n",
       "      <td>Single Family Dwelling</td>\n",
       "      <td>2000</td>\n",
       "      <td>4</td>\n",
       "      <td>2</td>\n",
       "      <td>2000</td>\n",
       "      <td>2010</td>\n",
       "      <td>800000</td>\n",
       "      <td>Complete</td>\n",
       "    </tr>\n",
       "  </tbody>\n",
       "</table>\n",
       "</div>"
      ],
      "text/plain": [
       "        Address               Occupancy    Cost  Bedrooms  Bathrooms  Area  \\\n",
       "0   100 New Ave             Mobile Home     100         1          1   700   \n",
       "1   101 New Ave  Single Family Dwelling  100000         6          5  5000   \n",
       "2   102 New Ave   Multi Family Dwelling      10         0          1   250   \n",
       "3   103 New Ave  Single Family Dwelling    2000         4          2  2000   \n",
       "4   104 New Ave             Mobile Home     100         1          1   700   \n",
       "5   105 New Ave  Single Family Dwelling  100000         6          5  5000   \n",
       "6   106 New Ave   Multi Family Dwelling      10         0          1   250   \n",
       "7   107 New Ave  Single Family Dwelling    2000         4          2  2000   \n",
       "8   108 New Ave             Mobile Home     100         1          1   700   \n",
       "9   109 New Ave  Single Family Dwelling  100000         6          5  5000   \n",
       "10  110 New Ave   Multi Family Dwelling      10         0          1   250   \n",
       "11  111 New Ave  Single Family Dwelling    2000         4          2  2000   \n",
       "12  112 New Ave             Mobile Home     100         1          1   700   \n",
       "13  113 New Ave  Single Family Dwelling  100000         6          5  5000   \n",
       "14  114 New Ave   Multi Family Dwelling      10         0          1   250   \n",
       "15  115 New Ave  Single Family Dwelling    2000         4          2  2000   \n",
       "\n",
       "    Year Built     Value Damage State  \n",
       "0         1920     99999         None  \n",
       "1         1920      9999         None  \n",
       "2         1960      9999         None  \n",
       "3         2010    800000         None  \n",
       "4         1920    100000         None  \n",
       "5         1920  10000000         None  \n",
       "6         1960      9999         None  \n",
       "7         2010    800000         None  \n",
       "8         1920    100000     Complete  \n",
       "9         1920  10000000     Moderate  \n",
       "10        1960     10000     Complete  \n",
       "11        2010    800000     Moderate  \n",
       "12        1920    100000     Moderate  \n",
       "13        1920  10000000     Complete  \n",
       "14        1960     10000     Complete  \n",
       "15        2010    800000     Complete  "
      ]
     },
     "execution_count": 11,
     "metadata": {},
     "output_type": "execute_result"
    }
   ],
   "source": [
    "file_path = \"../inputs/housing_stock_test.csv\"\n",
    "housing_stock_df = pd.read_csv(file_path)\n",
    "\n",
    "housing_stock_df"
   ]
  },
  {
   "cell_type": "code",
   "execution_count": 12,
   "metadata": {
    "collapsed": false
   },
   "outputs": [],
   "source": [
    "households = entities.importHouseholds(simulation, households_df, write_story)\n",
    "\n",
    "housing_stock = capitals.importHousingStock(simulation, housing_stock_df)\n"
   ]
  },
  {
   "cell_type": "code",
   "execution_count": 13,
   "metadata": {
    "collapsed": false
   },
   "outputs": [],
   "source": [
    "# Do inspections on all of the vacant homes in the housing stock\n",
    "for home in housing_stock.items:\n",
    "    simulation.process(request.inspection(simulation, human_capital, home))"
   ]
  },
  {
   "cell_type": "code",
   "execution_count": 14,
   "metadata": {
    "collapsed": false
   },
   "outputs": [
    {
     "data": {
      "text/plain": [
       "<Process(starter) object at 0x113f1f978>"
      ]
     },
     "execution_count": 14,
     "metadata": {},
     "output_type": "execute_result"
    }
   ],
   "source": [
    "# Schedule an event that randomly fixes moderately or completely damaged homes in the vacant housing stock\n",
    "# with probability = fix_probability\n",
    "\n",
    "fix_probability = 1.0\n",
    "fix_schedule = 100\n",
    "\n",
    "start_delayed(simulation, rebuild.stock(simulation, housing_stock, fix_probability), fix_schedule)"
   ]
  },
  {
   "cell_type": "code",
   "execution_count": 15,
   "metadata": {
    "collapsed": false
   },
   "outputs": [],
   "source": [
    "# Create a master process for each household to be modeled in the simulation\n",
    "for i in range(len(households)):\n",
    "    simulation.process(master_process(simulation, human_capital, financial_capital, households[i], write_story))"
   ]
  },
  {
   "cell_type": "code",
   "execution_count": 16,
   "metadata": {
    "collapsed": false,
    "scrolled": true
   },
   "outputs": [
    {
     "name": "stdout",
     "output_type": "stream",
     "text": [
      "8 homes in the vacant building stock were fixed on day 100.\n"
     ]
    }
   ],
   "source": [
    "simulation.run()"
   ]
  },
  {
   "cell_type": "code",
   "execution_count": 17,
   "metadata": {
    "collapsed": false
   },
   "outputs": [
    {
     "data": {
      "text/plain": [
       "['Alfred lives in a 1 bedroom Mobile Home at 62 That St worth $100,000. ',\n",
       " \"Alfred's house was inspected 10 days after the event and suffered $2,000 of damage.\",\n",
       " 'Alfred already had enough money to rebuild (1:,.0f) and did not seek assistance. ',\n",
       " 'Alfred received an engineering assessment 35 days after the event. ',\n",
       " 'Alfred received permit approval 70 days after the event. ',\n",
       " \"Alfred's home was repaired 72 days after the event, taking 2 days to repair. \"]"
      ]
     },
     "execution_count": 17,
     "metadata": {},
     "output_type": "execute_result"
    }
   ],
   "source": [
    "households[0].story"
   ]
  },
  {
   "cell_type": "code",
   "execution_count": 18,
   "metadata": {
    "collapsed": false
   },
   "outputs": [
    {
     "data": {
      "text/plain": [
       "['Bruce lives in a 6 bedroom Single Family Dwelling at 720 This Rd worth $10,000,000. ',\n",
       " \"Bruce's house was inspected 10 days after the event and suffered $200,000 of damage.\",\n",
       " 'Bruce submitted an insurance claim 10 days after the event. ',\n",
       " 'Bruce received a $200,000 insurance payout 25 days after the event. ',\n",
       " 'It took Bruce 15 days to receive enough financial assistance and now has $1,200,000 to rebuild. ',\n",
       " 'Bruce received an engineering assessment 60 days after the event. ',\n",
       " 'Bruce received permit approval 95 days after the event. ',\n",
       " \"Bruce's home was repaired 97 days after the event, taking 2 days to repair. \"]"
      ]
     },
     "execution_count": 18,
     "metadata": {},
     "output_type": "execute_result"
    }
   ],
   "source": [
    "households[1].story"
   ]
  },
  {
   "cell_type": "code",
   "execution_count": 19,
   "metadata": {
    "collapsed": false
   },
   "outputs": [
    {
     "data": {
      "text/plain": [
       "['Selena lives in a 0 bedroom Multi Family Dwelling at 1001 Other Ave worth $10,000. ',\n",
       " \"Selena's house was inspected 10 days after the event and suffered $1,000 of damage.\",\n",
       " 'Selena submitted a request to FEMA 10 days after the event. ',\n",
       " 'Selena received $1,000 from FEMA 30 days after the event. ',\n",
       " 'It took Selena 20 days to receive enough financial assistance and now has $1,100 to rebuild. ',\n",
       " 'Selena received an engineering assessment 110 days after the event. ',\n",
       " 'Selena received permit approval 145 days after the event. ',\n",
       " \"Selena's home was repaired 175 days after the event, taking 30 days to repair. \"]"
      ]
     },
     "execution_count": 19,
     "metadata": {},
     "output_type": "execute_result"
    }
   ],
   "source": [
    "households[2].story"
   ]
  },
  {
   "cell_type": "code",
   "execution_count": 20,
   "metadata": {
    "collapsed": false,
    "scrolled": true
   },
   "outputs": [
    {
     "data": {
      "text/plain": [
       "['Fish lives in a 4 bedroom Single Family Dwelling at 26000 Out There Lane worth $800,000. ',\n",
       " \"Fish's house was inspected 10 days after the event and suffered $80,000 of damage.\",\n",
       " 'Fish submitted an insurance claim 10 days after the event. ',\n",
       " 'Fish received a $80,000 insurance payout 25 days after the event. ',\n",
       " 'It took Fish 15 days to receive enough financial assistance and now has $81,000 to rebuild. ',\n",
       " 'Fish received an engineering assessment 85 days after the event. ',\n",
       " 'Fish received permit approval 120 days after the event. ',\n",
       " \"Fish's home was repaired 150 days after the event, taking 30 days to repair. \"]"
      ]
     },
     "execution_count": 20,
     "metadata": {},
     "output_type": "execute_result"
    }
   ],
   "source": [
    "households[3].story"
   ]
  },
  {
   "cell_type": "code",
   "execution_count": 21,
   "metadata": {
    "collapsed": false
   },
   "outputs": [
    {
     "name": "stdout",
     "output_type": "stream",
     "text": [
      "100 New Ave 99999 Mobile Home None 0.0\n",
      "101 New Ave 9999 Single Family Dwelling None 0.0\n",
      "102 New Ave 9999 Multi Family Dwelling None 0.0\n",
      "103 New Ave 800000 Single Family Dwelling None 0.0\n",
      "104 New Ave 100000 Mobile Home None 0.0\n",
      "105 New Ave 10000000 Single Family Dwelling None 0.0\n",
      "106 New Ave 9999 Multi Family Dwelling None 0.0\n",
      "107 New Ave 800000 Single Family Dwelling None 0.0\n",
      "108 New Ave 100000 Mobile Home None 0.0\n",
      "109 New Ave 10000000 Single Family Dwelling None 0.0\n",
      "110 New Ave 10000 Multi Family Dwelling None 0.0\n",
      "111 New Ave 800000 Single Family Dwelling None 0.0\n",
      "112 New Ave 100000 Mobile Home None 0.0\n",
      "113 New Ave 10000000 Single Family Dwelling None 0.0\n",
      "114 New Ave 10000 Multi Family Dwelling None 0.0\n",
      "115 New Ave 800000 Single Family Dwelling None 0.0\n"
     ]
    }
   ],
   "source": [
    "for item in housing_stock.items:\n",
    "    print(item.address, item.value, item.occupancy, item.damage_state, item.damage_value)"
   ]
  },
  {
   "cell_type": "code",
   "execution_count": null,
   "metadata": {
    "collapsed": true
   },
   "outputs": [],
   "source": []
  }
 ],
 "metadata": {
  "kernelspec": {
   "display_name": "Python 3",
   "language": "python",
   "name": "python3"
  },
  "language_info": {
   "codemirror_mode": {
    "name": "ipython",
    "version": 3
   },
   "file_extension": ".py",
   "mimetype": "text/x-python",
   "name": "python",
   "nbconvert_exporter": "python",
   "pygments_lexer": "ipython3",
   "version": "3.5.1"
  }
 },
 "nbformat": 4,
 "nbformat_minor": 0
}
