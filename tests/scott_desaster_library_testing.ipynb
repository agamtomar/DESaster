{
 "cells": [
  {
   "cell_type": "markdown",
   "metadata": {},
   "source": [
    "# DESaster Simulation Set Up Template"
   ]
  },
  {
   "cell_type": "markdown",
   "metadata": {},
   "source": [
    "## Required Modules"
   ]
  },
  {
   "cell_type": "code",
   "execution_count": 86,
   "metadata": {
    "collapsed": false
   },
   "outputs": [],
   "source": [
    "import sys, random\n",
    "desaster_path = \"/Users/geomando/Dropbox/github/SeaGrantSimulation\"\n",
    "sys.path.append(desaster_path)\n",
    "import simpy\n",
    "from simpy.util import start_delayed\n",
    "import pandas as pd\n",
    "import numpy as np\n",
    "from desaster import entities, capitals, request, io, movement, search, rebuild"
   ]
  },
  {
   "cell_type": "markdown",
   "metadata": {},
   "source": [
    "## Input Data"
   ]
  },
  {
   "cell_type": "code",
   "execution_count": 87,
   "metadata": {
    "collapsed": false
   },
   "outputs": [],
   "source": [
    "scenario_file = '../inputs/scenario_test1.xlsx'\n",
    "\n",
    "# Create Pandas dataframe of attribute data for all households to be modeled in the simulation\n",
    "households_df = pd.read_excel(scenario_file, sheetname='households')\n",
    "\n",
    "# Create Pandas dataframe of attribute data for all vacant homes (housing stock) to be modeled in the simulation\n",
    "housing_stock_df = pd.read_excel(scenario_file, sheetname='housing_stock')\n",
    "\n",
    "# Set input data for all human capital types, as dict or Pandas Series\n",
    "# .loc stuff is to convert the DataFrame to a Series ... data will function the same as a dictionary as well\n",
    "human_cap_data = pd.read_excel(scenario_file, sheetname='human_capital', index_col=0).iloc[:,0]\n",
    "\n",
    "# Set input data for all financial capital types, as dict or Pandas Series\n",
    "financial_cap_data = pd.read_excel(scenario_file, sheetname='financial_capital', index_col=0).iloc[:,0]"
   ]
  },
  {
   "cell_type": "code",
   "execution_count": 88,
   "metadata": {
    "collapsed": false,
    "scrolled": true
   },
   "outputs": [
    {
     "data": {
      "text/html": [
       "<div>\n",
       "<table border=\"1\" class=\"dataframe\">\n",
       "  <thead>\n",
       "    <tr style=\"text-align: right;\">\n",
       "      <th></th>\n",
       "      <th>Name</th>\n",
       "      <th>Income</th>\n",
       "      <th>Savings</th>\n",
       "      <th>Insurance</th>\n",
       "      <th>Address</th>\n",
       "      <th>Occupancy</th>\n",
       "      <th>Cost</th>\n",
       "      <th>Bedrooms</th>\n",
       "      <th>Bathrooms</th>\n",
       "      <th>Area</th>\n",
       "      <th>Year Built</th>\n",
       "      <th>Value</th>\n",
       "      <th>Damage State</th>\n",
       "    </tr>\n",
       "  </thead>\n",
       "  <tbody>\n",
       "    <tr>\n",
       "      <th>0</th>\n",
       "      <td>Alfred</td>\n",
       "      <td>30000</td>\n",
       "      <td>10000</td>\n",
       "      <td>0</td>\n",
       "      <td>62 That St</td>\n",
       "      <td>Mobile Home</td>\n",
       "      <td>100</td>\n",
       "      <td>1</td>\n",
       "      <td>1</td>\n",
       "      <td>700</td>\n",
       "      <td>1920</td>\n",
       "      <td>100000</td>\n",
       "      <td>None</td>\n",
       "    </tr>\n",
       "    <tr>\n",
       "      <th>1</th>\n",
       "      <td>Bruce</td>\n",
       "      <td>100000</td>\n",
       "      <td>1000000</td>\n",
       "      <td>10000000</td>\n",
       "      <td>720 This Rd</td>\n",
       "      <td>Single Family Dwelling</td>\n",
       "      <td>100000</td>\n",
       "      <td>6</td>\n",
       "      <td>5</td>\n",
       "      <td>5000</td>\n",
       "      <td>1920</td>\n",
       "      <td>10000000</td>\n",
       "      <td>Slight</td>\n",
       "    </tr>\n",
       "    <tr>\n",
       "      <th>2</th>\n",
       "      <td>Selena</td>\n",
       "      <td>10000</td>\n",
       "      <td>100</td>\n",
       "      <td>0</td>\n",
       "      <td>1001 Other Ave</td>\n",
       "      <td>Multi Family Dwelling</td>\n",
       "      <td>10</td>\n",
       "      <td>0</td>\n",
       "      <td>1</td>\n",
       "      <td>250</td>\n",
       "      <td>1960</td>\n",
       "      <td>10000</td>\n",
       "      <td>Complete</td>\n",
       "    </tr>\n",
       "    <tr>\n",
       "      <th>3</th>\n",
       "      <td>Fish</td>\n",
       "      <td>50000</td>\n",
       "      <td>1000</td>\n",
       "      <td>550000</td>\n",
       "      <td>26000 Out There Lane</td>\n",
       "      <td>Single Family Dwelling</td>\n",
       "      <td>2000</td>\n",
       "      <td>4</td>\n",
       "      <td>2</td>\n",
       "      <td>2000</td>\n",
       "      <td>2010</td>\n",
       "      <td>800000</td>\n",
       "      <td>Moderate</td>\n",
       "    </tr>\n",
       "  </tbody>\n",
       "</table>\n",
       "</div>"
      ],
      "text/plain": [
       "     Name  Income  Savings  Insurance               Address  \\\n",
       "0  Alfred   30000    10000          0            62 That St   \n",
       "1   Bruce  100000  1000000   10000000           720 This Rd   \n",
       "2  Selena   10000      100          0        1001 Other Ave   \n",
       "3    Fish   50000     1000     550000  26000 Out There Lane   \n",
       "\n",
       "                Occupancy    Cost  Bedrooms  Bathrooms  Area  Year Built  \\\n",
       "0             Mobile Home     100         1          1   700        1920   \n",
       "1  Single Family Dwelling  100000         6          5  5000        1920   \n",
       "2   Multi Family Dwelling      10         0          1   250        1960   \n",
       "3  Single Family Dwelling    2000         4          2  2000        2010   \n",
       "\n",
       "      Value Damage State  \n",
       "0    100000         None  \n",
       "1  10000000       Slight  \n",
       "2     10000     Complete  \n",
       "3    800000     Moderate  "
      ]
     },
     "execution_count": 88,
     "metadata": {},
     "output_type": "execute_result"
    }
   ],
   "source": [
    "households_df"
   ]
  },
  {
   "cell_type": "code",
   "execution_count": 89,
   "metadata": {
    "collapsed": false
   },
   "outputs": [
    {
     "data": {
      "text/html": [
       "<div>\n",
       "<table border=\"1\" class=\"dataframe\">\n",
       "  <thead>\n",
       "    <tr style=\"text-align: right;\">\n",
       "      <th></th>\n",
       "      <th>Address</th>\n",
       "      <th>Occupancy</th>\n",
       "      <th>Cost</th>\n",
       "      <th>Bedrooms</th>\n",
       "      <th>Bathrooms</th>\n",
       "      <th>Area</th>\n",
       "      <th>Year Built</th>\n",
       "      <th>Value</th>\n",
       "      <th>Damage State</th>\n",
       "    </tr>\n",
       "  </thead>\n",
       "  <tbody>\n",
       "    <tr>\n",
       "      <th>0</th>\n",
       "      <td>100 New Ave</td>\n",
       "      <td>Mobile Home</td>\n",
       "      <td>100</td>\n",
       "      <td>1</td>\n",
       "      <td>1</td>\n",
       "      <td>700</td>\n",
       "      <td>1920</td>\n",
       "      <td>99999</td>\n",
       "      <td>Complete</td>\n",
       "    </tr>\n",
       "    <tr>\n",
       "      <th>1</th>\n",
       "      <td>101 New Ave</td>\n",
       "      <td>Single Family Dwelling</td>\n",
       "      <td>100000</td>\n",
       "      <td>6</td>\n",
       "      <td>5</td>\n",
       "      <td>5000</td>\n",
       "      <td>1920</td>\n",
       "      <td>9999</td>\n",
       "      <td>Complete</td>\n",
       "    </tr>\n",
       "    <tr>\n",
       "      <th>2</th>\n",
       "      <td>102 New Ave</td>\n",
       "      <td>Multi Family Dwelling</td>\n",
       "      <td>10</td>\n",
       "      <td>0</td>\n",
       "      <td>1</td>\n",
       "      <td>250</td>\n",
       "      <td>1960</td>\n",
       "      <td>9999</td>\n",
       "      <td>Complete</td>\n",
       "    </tr>\n",
       "    <tr>\n",
       "      <th>3</th>\n",
       "      <td>103 New Ave</td>\n",
       "      <td>Single Family Dwelling</td>\n",
       "      <td>2000</td>\n",
       "      <td>4</td>\n",
       "      <td>2</td>\n",
       "      <td>2000</td>\n",
       "      <td>2010</td>\n",
       "      <td>800000</td>\n",
       "      <td>Complete</td>\n",
       "    </tr>\n",
       "    <tr>\n",
       "      <th>4</th>\n",
       "      <td>104 New Ave</td>\n",
       "      <td>Mobile Home</td>\n",
       "      <td>100</td>\n",
       "      <td>1</td>\n",
       "      <td>1</td>\n",
       "      <td>700</td>\n",
       "      <td>1920</td>\n",
       "      <td>100000</td>\n",
       "      <td>Complete</td>\n",
       "    </tr>\n",
       "  </tbody>\n",
       "</table>\n",
       "</div>"
      ],
      "text/plain": [
       "       Address               Occupancy    Cost  Bedrooms  Bathrooms  Area  \\\n",
       "0  100 New Ave             Mobile Home     100         1          1   700   \n",
       "1  101 New Ave  Single Family Dwelling  100000         6          5  5000   \n",
       "2  102 New Ave   Multi Family Dwelling      10         0          1   250   \n",
       "3  103 New Ave  Single Family Dwelling    2000         4          2  2000   \n",
       "4  104 New Ave             Mobile Home     100         1          1   700   \n",
       "\n",
       "   Year Built   Value Damage State  \n",
       "0        1920   99999     Complete  \n",
       "1        1920    9999     Complete  \n",
       "2        1960    9999     Complete  \n",
       "3        2010  800000     Complete  \n",
       "4        1920  100000     Complete  "
      ]
     },
     "execution_count": 89,
     "metadata": {},
     "output_type": "execute_result"
    }
   ],
   "source": [
    "housing_stock_df.head()"
   ]
  },
  {
   "cell_type": "code",
   "execution_count": 90,
   "metadata": {
    "collapsed": false
   },
   "outputs": [
    {
     "data": {
      "text/plain": [
       "Type\n",
       "Contractors             40\n",
       "Engineers                1\n",
       "FEMA Processors         40\n",
       "Inspectors             100\n",
       "Insurance Adjusters     40\n",
       "Loan Processors         40\n",
       "Permit Processors      100\n",
       "Name: Quantity, dtype: int64"
      ]
     },
     "execution_count": 90,
     "metadata": {},
     "output_type": "execute_result"
    }
   ],
   "source": [
    "human_cap_data"
   ]
  },
  {
   "cell_type": "code",
   "execution_count": 91,
   "metadata": {
    "collapsed": false
   },
   "outputs": [
    {
     "data": {
      "text/plain": [
       "Type\n",
       "Building Materials     2000000\n",
       "FEMA Aid              35000000\n",
       "Name: Quantity, dtype: int64"
      ]
     },
     "execution_count": 91,
     "metadata": {},
     "output_type": "execute_result"
    }
   ],
   "source": [
    "financial_cap_data"
   ]
  },
  {
   "cell_type": "markdown",
   "metadata": {},
   "source": [
    "## Simulation Initiation"
   ]
  },
  {
   "cell_type": "markdown",
   "metadata": {},
   "source": [
    "__Set simulation environment__"
   ]
  },
  {
   "cell_type": "code",
   "execution_count": 92,
   "metadata": {
    "collapsed": true
   },
   "outputs": [],
   "source": [
    "simulation = simpy.Environment()"
   ]
  },
  {
   "cell_type": "markdown",
   "metadata": {},
   "source": [
    "__Indicate whether want to keep track of the stories of each entity (household) in the simulation.__"
   ]
  },
  {
   "cell_type": "code",
   "execution_count": 93,
   "metadata": {
    "collapsed": true
   },
   "outputs": [],
   "source": [
    "write_story = True"
   ]
  },
  {
   "cell_type": "markdown",
   "metadata": {},
   "source": [
    "__Populate the simulation with the input data specified above.__"
   ]
  },
  {
   "cell_type": "code",
   "execution_count": 94,
   "metadata": {
    "collapsed": false
   },
   "outputs": [],
   "source": [
    "financial_capital = capitals.FinancialCapital(simulation, financial_cap_data) \n",
    "\n",
    "human_capital = capitals.HumanCapital(simulation, human_cap_data)\n",
    "\n",
    "households = entities.importHouseholds(simulation, households_df, write_story)\n",
    "\n",
    "housing_stock = capitals.importHousingStock(simulation, housing_stock_df)"
   ]
  },
  {
   "cell_type": "markdown",
   "metadata": {},
   "source": [
    "__Write a master process that combines process and functions from search, rebuild, and request modules.__"
   ]
  },
  {
   "cell_type": "code",
   "execution_count": 95,
   "metadata": {
    "collapsed": false
   },
   "outputs": [],
   "source": [
    "def master_process(simulation, human_capital, financial_capital, entity, write_story):\n",
    "        \n",
    "    yield simulation.process(request.inspection(simulation, human_capital, entity.residence, entity, write_story))\n",
    "    \n",
    "    # Specify the event sequence for households from the time of the hazard through the decisions to relocate \n",
    "    # or rebuild\n",
    "    if entity.residence.damage_state != 'None':\n",
    "        \n",
    "        money_patience = 365  # days until give up the search for rebuild money\n",
    "\n",
    "        # Search for rebuild money\n",
    "        yield simulation.process(search.rebuild_money(simulation, human_capital, \n",
    "                                                        financial_capital, entity, \n",
    "                                                        money_patience, write_story))\n",
    "        \n",
    "        if entity.gave_up_money_search == True:\n",
    "                return\n",
    "        \n",
    "        # If home is completely damaged, search for a new home to purchase.\n",
    "        if entity.residence.damage_state == 'Complete':\n",
    "            \n",
    "            home_patience = 550  # days until give up the search for a new home\n",
    "\n",
    "            search_outcome = yield simulation.process(search.permanent_housing(simulation, entity, home_patience, housing_stock, human_capital, write_story))\n",
    "\n",
    "            if entity.gave_up_home_search == True:\n",
    "                return\n",
    "\n",
    "        if entity.residence.damage_state != 'None':\n",
    "            yield simulation.process(request.engineering_assessment(simulation, human_capital, entity, write_story))\n",
    "\n",
    "            yield simulation.process(request.permit(simulation, human_capital, entity, write_story))\n",
    "\n",
    "            yield simulation.process(rebuild.home(simulation, human_capital, financial_capital, entity, write_story))\n",
    "               \n",
    "   "
   ]
  },
  {
   "cell_type": "code",
   "execution_count": 96,
   "metadata": {
    "collapsed": false
   },
   "outputs": [],
   "source": [
    "# Initiate a master process for each household to be modeled in the simulation\n",
    "for i in range(len(households)):\n",
    "    simulation.process(master_process(simulation, human_capital, financial_capital, households[i], write_story))"
   ]
  },
  {
   "cell_type": "markdown",
   "metadata": {},
   "source": [
    "__Do some cool stuff with the vacant housing stock.__"
   ]
  },
  {
   "cell_type": "code",
   "execution_count": 97,
   "metadata": {
    "collapsed": false
   },
   "outputs": [],
   "source": [
    "# Do inspections on all of the vacant homes in the housing stock\n",
    "for home in housing_stock.items:\n",
    "    simulation.process(request.inspection(simulation, human_capital, home))\n",
    "\n",
    "# Schedule an event that randomly fixes moderately or completely damaged homes in the vacant housing stock\n",
    "# with probability = fix_probability\n",
    "fix_probability = 1.0\n",
    "fix_schedule = 100\n",
    "\n",
    "# start_delayed(simulation, rebuild.stock(simulation, housing_stock, fix_probability), fix_schedule)"
   ]
  },
  {
   "cell_type": "code",
   "execution_count": 98,
   "metadata": {
    "collapsed": false,
    "scrolled": true
   },
   "outputs": [],
   "source": [
    "simulation.run()"
   ]
  },
  {
   "cell_type": "markdown",
   "metadata": {},
   "source": [
    "## Outputs"
   ]
  },
  {
   "cell_type": "markdown",
   "metadata": {},
   "source": [
    "__Summary statistics__"
   ]
  },
  {
   "cell_type": "code",
   "execution_count": 99,
   "metadata": {
    "collapsed": false
   },
   "outputs": [
    {
     "name": "stdout",
     "output_type": "stream",
     "text": [
      "1 out of 4 households suffered no damage to their homes.\n",
      " 2 out of 4 households rebuilt or repaired their damaged home.\n",
      " 0 out of 4 households gave up searching for money.\n",
      " 0 out of 4 households decided to find a new home.\n",
      " 1 out of 4 households gave up searching for a home.\n"
     ]
    }
   ],
   "source": [
    "num_undamaged = 0\n",
    "num_rebuilt = 0\n",
    "num_gave_up_money_search = 0\n",
    "num_relocated = 0\n",
    "num_gave_up_home_search = 0\n",
    "\n",
    "for household in households:\n",
    "    if household.money_search_start == 0.0: num_undamaged += 1\n",
    "    if household.home_get > 0.0: num_rebuilt += 1\n",
    "    if household.gave_up_money_search: num_gave_up_money_search += 1\n",
    "    if household.home_search_stop > 0.0: num_relocated += 1\n",
    "    if household.gave_up_home_search: num_gave_up_home_search += 1\n",
    "        \n",
    "print('{0} out of {1} households suffered no damage to their homes.\\n'.format(num_undamaged, len(households)),\n",
    "      '{0} out of {1} households rebuilt or repaired their damaged home.\\n'.format(num_rebuilt, len(households)),\n",
    "        '{0} out of {1} households gave up searching for money.\\n'.format(num_gave_up_money_search, len(households)),\n",
    "        '{0} out of {1} households decided to find a new home.\\n'.format(num_relocated, len(households)),\n",
    "        '{0} out of {1} households gave up searching for a home.'.format(num_gave_up_home_search, len(households))\n",
    "      )"
   ]
  },
  {
   "cell_type": "markdown",
   "metadata": {},
   "source": [
    "__Household stories__"
   ]
  },
  {
   "cell_type": "code",
   "execution_count": 100,
   "metadata": {
    "collapsed": false
   },
   "outputs": [
    {
     "data": {
      "text/plain": [
       "['Alfred lives in a 1 bedroom Mobile Home at 62 That St worth $100,000. ',\n",
       " \"Alfred's house was inspected 10 days after the event and suffered $0 of damage.\"]"
      ]
     },
     "execution_count": 100,
     "metadata": {},
     "output_type": "execute_result"
    }
   ],
   "source": [
    "households[0].story"
   ]
  },
  {
   "cell_type": "code",
   "execution_count": 101,
   "metadata": {
    "collapsed": false
   },
   "outputs": [
    {
     "data": {
      "text/plain": [
       "['Bruce lives in a 6 bedroom Single Family Dwelling at 720 This Rd worth $10,000,000. ',\n",
       " \"Bruce's house was inspected 10 days after the event and suffered $200,000 of damage.\",\n",
       " 'Bruce submitted an insurance claim 10 days after the event. ',\n",
       " 'Bruce received a $200,000 insurance payout 25 days after the event. ',\n",
       " 'It took Bruce 15 days to receive enough financial assistance and now has $1,200,000 to rebuild. ',\n",
       " 'Bruce received an engineering assessment 50 days after the event. ',\n",
       " 'Bruce received permit approval 85 days after the event. ',\n",
       " \"Bruce's home was repaired 87 days after the event, taking 2 days to repair. \"]"
      ]
     },
     "execution_count": 101,
     "metadata": {},
     "output_type": "execute_result"
    }
   ],
   "source": [
    "households[1].story"
   ]
  },
  {
   "cell_type": "code",
   "execution_count": 102,
   "metadata": {
    "collapsed": false
   },
   "outputs": [
    {
     "data": {
      "text/plain": [
       "['Selena lives in a 0 bedroom Multi Family Dwelling at 1001 Other Ave worth $10,000. ',\n",
       " \"Selena's house was inspected 10 days after the event and suffered $10,000 of damage.\",\n",
       " 'Selena submitted a request to FEMA 10 days after the event. ',\n",
       " 'Selena received $10,000 from FEMA 30 days after the event. ',\n",
       " 'It took Selena 20 days to receive enough financial assistance and now has $10,100 to rebuild. ',\n",
       " 'Selena started searching for a Multi Family Dwelling with a value under $10,000 30 days after the event. ',\n",
       " 'On day 580, after a 550 day search, Selena gave up looking for a new home in the local area. ']"
      ]
     },
     "execution_count": 102,
     "metadata": {},
     "output_type": "execute_result"
    }
   ],
   "source": [
    "households[2].story"
   ]
  },
  {
   "cell_type": "code",
   "execution_count": 103,
   "metadata": {
    "collapsed": false,
    "scrolled": true
   },
   "outputs": [
    {
     "data": {
      "text/plain": [
       "['Fish lives in a 4 bedroom Single Family Dwelling at 26000 Out There Lane worth $800,000. ',\n",
       " \"Fish's house was inspected 10 days after the event and suffered $80,000 of damage.\",\n",
       " 'Fish submitted an insurance claim 10 days after the event. ',\n",
       " 'Fish received a $80,000 insurance payout 25 days after the event. ',\n",
       " 'It took Fish 15 days to receive enough financial assistance and now has $81,000 to rebuild. ',\n",
       " 'Fish received an engineering assessment 75 days after the event. ',\n",
       " 'Fish received permit approval 110 days after the event. ',\n",
       " \"Fish's home was repaired 140 days after the event, taking 30 days to repair. \"]"
      ]
     },
     "execution_count": 103,
     "metadata": {},
     "output_type": "execute_result"
    }
   ],
   "source": [
    "households[3].story"
   ]
  }
 ],
 "metadata": {
  "kernelspec": {
   "display_name": "Python 3",
   "language": "python",
   "name": "python3"
  },
  "language_info": {
   "codemirror_mode": {
    "name": "ipython",
    "version": 3
   },
   "file_extension": ".py",
   "mimetype": "text/x-python",
   "name": "python",
   "nbconvert_exporter": "python",
   "pygments_lexer": "ipython3",
   "version": "3.5.2"
  }
 },
 "nbformat": 4,
 "nbformat_minor": 0
}
