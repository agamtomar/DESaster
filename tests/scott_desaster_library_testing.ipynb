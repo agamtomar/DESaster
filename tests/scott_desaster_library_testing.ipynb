{
 "cells": [
  {
   "cell_type": "markdown",
   "metadata": {},
   "source": [
    "# DESaster Vers -  0.1"
   ]
  },
  {
   "cell_type": "code",
   "execution_count": 1,
   "metadata": {
    "collapsed": false
   },
   "outputs": [],
   "source": [
    "import sys, random\n",
    "desaster_path = \"/Users/geomando/Dropbox/github/SeaGrantSimulation\"\n",
    "sys.path.append(desaster_path)\n",
    "import simpy\n",
    "import pandas as pd\n",
    "import numpy as np\n",
    "from desaster import entities, capitals, request, config, io, movement, search, rebuild\n"
   ]
  },
  {
   "cell_type": "code",
   "execution_count": 2,
   "metadata": {
    "collapsed": true
   },
   "outputs": [],
   "source": [
    "simulation = simpy.Environment()\n",
    "\n",
    "write_story = False"
   ]
  },
  {
   "cell_type": "code",
   "execution_count": 3,
   "metadata": {
    "collapsed": false
   },
   "outputs": [],
   "source": [
    "def find_rebuild_money(simulation, human_capital, financial_capital, entity, write_story):\n",
    "    try:\n",
    "        \n",
    "        patience_length = 29.0\n",
    "        start_money_search = simulation.now\n",
    "        patience_end = simulation.now + patience_length\n",
    "        \n",
    "        if entity.insurance > 0.0:\n",
    "        \n",
    "            find_money_patience = simulation.timeout(patience_end - simulation.now, value='Gave up')\n",
    "            try_insurance = simulation.process(request.insurance_claim(simulation, human_capital, entity, write_story))\n",
    "            \n",
    "            money_search_outcome = yield find_money_patience | try_insurance\n",
    "            \n",
    "            if money_search_outcome == {find_money_patience: 'Gave up'}:\n",
    "                \n",
    "                try_insurance.interrupt(simulation.now - start_money_search)\n",
    "\n",
    "\n",
    "                return\n",
    "        \n",
    "        if entity.money_to_rebuild < entity.residence.damage_value:\n",
    "            \n",
    "            find_money_patience = simulation.timeout(patience_end - simulation.now, value='Gave up')\n",
    "            try_fema = simulation.process(request.fema_assistance(simulation, human_capital, \n",
    "                                                                  financial_capital, entity, write_story))\n",
    "            \n",
    "            money_search_outcome = yield find_money_patience | try_fema\n",
    "            \n",
    "            if money_search_outcome == {find_money_patience: 'Gave up'}:\n",
    "                try_fema.interrupt(simulation.now - start_money_search)\n",
    "\n",
    "                return\n",
    "            \n",
    "        if entity.money_to_rebuild < entity.residence.damage_value:\n",
    "            \n",
    "            find_money_patience = simulation.timeout(patience_end - simulation.now, value='Gave up')\n",
    "            try_loan = simulation.process(request.loan(simulation, human_capital, entity, write_story))\n",
    "            \n",
    "            money_search_outcome = yield find_money_patience | try_loan\n",
    "            \n",
    "            if money_search_outcome == {find_money_patience: 'Gave up'}:\n",
    "                try_loan.interrupt(simulation.now - start_money_search)\n",
    "\n",
    "                return\n",
    "            \n",
    "        if write_story == True:    \n",
    "            entity.story.append(\n",
    "                                    'It took {0} {1} days to exhaust the search for money. '.format(\n",
    "                                    entity.name, simulation.now - start_money_search))\n",
    "\n",
    "        return\n",
    "    \n",
    "    except:\n",
    "        \n",
    "        if write_story == True:\n",
    "            entity.story.append(\n",
    "                                '{0} gave up searching for money after {1} days. '.format(\n",
    "                                    entity.name, simulation.now - start_money_search))\n",
    "\n",
    "        return"
   ]
  },
  {
   "cell_type": "code",
   "execution_count": 4,
   "metadata": {
    "collapsed": true
   },
   "outputs": [],
   "source": [
    "def master_process(simulation, human_capital, financial_capital, entity):\n",
    "       \n",
    "    yield simulation.process(request.inspection(simulation, human_capital, entity, write_story))\n",
    "    \n",
    "    if entity.money_to_rebuild < entity.residence.damage_value:\n",
    "        rebuild_money_search = simulation.process(find_rebuild_money(simulation, human_capital, \n",
    "                                                                     financial_capital, entity, write_story))\n",
    "\n",
    "    \n",
    "    if entity.money_to_rebuild >= entity.residence.damage_value:\n",
    "        yield simulation.process(request.engineering_assessment(simulation, human_capital, entity, write_story))\n",
    "        \n",
    "        yield simulation.process(request.permit(simulation, human_capital, entity, write_story))\n",
    "        \n",
    "        yield simulation.process(rebuild.rebuild_house(simulation, human_capital, entity, write_story))\n",
    "        \n",
    "        return\n",
    "   "
   ]
  },
  {
   "cell_type": "code",
   "execution_count": 5,
   "metadata": {
    "collapsed": false
   },
   "outputs": [],
   "source": [
    "human_cap_data = {\n",
    "        \"inspectors\": 1,\n",
    "        \"insurance adjusters\": 1,\n",
    "        \"fema processors\": 1,\n",
    "        \"permit processors\": 1,\n",
    "        \"contractors\": 1,\n",
    "        \"loan processors\": 1,\n",
    "        \"engineers\": 1\n",
    "                 }\n",
    "\n",
    "human_capital = capitals.HumanCapital(simulation, human_cap_data) "
   ]
  },
  {
   "cell_type": "code",
   "execution_count": 6,
   "metadata": {
    "collapsed": false
   },
   "outputs": [],
   "source": [
    "financial_cap_data = {\"fema aid\": 350000000}\n",
    "# financial_cap_data = {\"fema aid\": 0}\n",
    "\n",
    "financial_capital = capitals.FinancialCapital(simulation, financial_cap_data) "
   ]
  },
  {
   "cell_type": "code",
   "execution_count": 7,
   "metadata": {
    "collapsed": false
   },
   "outputs": [
    {
     "data": {
      "text/html": [
       "<div>\n",
       "<table border=\"1\" class=\"dataframe\">\n",
       "  <thead>\n",
       "    <tr style=\"text-align: right;\">\n",
       "      <th></th>\n",
       "      <th>Name</th>\n",
       "      <th>Income</th>\n",
       "      <th>Savings</th>\n",
       "      <th>Insurance</th>\n",
       "      <th>Address</th>\n",
       "      <th>Occupancy</th>\n",
       "      <th>Cost</th>\n",
       "      <th>Bedrooms</th>\n",
       "      <th>Bathrooms</th>\n",
       "      <th>Area</th>\n",
       "      <th>Year Built</th>\n",
       "      <th>Value</th>\n",
       "      <th>Damage State</th>\n",
       "      <th>Damage Value</th>\n",
       "    </tr>\n",
       "  </thead>\n",
       "  <tbody>\n",
       "    <tr>\n",
       "      <th>0</th>\n",
       "      <td>Alfred</td>\n",
       "      <td>30000</td>\n",
       "      <td>10000</td>\n",
       "      <td>0</td>\n",
       "      <td>62 That St</td>\n",
       "      <td>Mobile</td>\n",
       "      <td>100</td>\n",
       "      <td>1</td>\n",
       "      <td>1</td>\n",
       "      <td>700</td>\n",
       "      <td>1920</td>\n",
       "      <td>100000</td>\n",
       "      <td>None</td>\n",
       "      <td>20000</td>\n",
       "    </tr>\n",
       "    <tr>\n",
       "      <th>1</th>\n",
       "      <td>Bruce</td>\n",
       "      <td>100000</td>\n",
       "      <td>1000000</td>\n",
       "      <td>10000000</td>\n",
       "      <td>720 This Rd</td>\n",
       "      <td>Single Family</td>\n",
       "      <td>100000</td>\n",
       "      <td>6</td>\n",
       "      <td>5</td>\n",
       "      <td>5000</td>\n",
       "      <td>1920</td>\n",
       "      <td>10000000</td>\n",
       "      <td>Slight</td>\n",
       "      <td>50000</td>\n",
       "    </tr>\n",
       "    <tr>\n",
       "      <th>2</th>\n",
       "      <td>Selena</td>\n",
       "      <td>10000</td>\n",
       "      <td>100</td>\n",
       "      <td>0</td>\n",
       "      <td>1001 Other Ave</td>\n",
       "      <td>Multi Family</td>\n",
       "      <td>10</td>\n",
       "      <td>0</td>\n",
       "      <td>1</td>\n",
       "      <td>250</td>\n",
       "      <td>1960</td>\n",
       "      <td>10000</td>\n",
       "      <td>Complete</td>\n",
       "      <td>8000</td>\n",
       "    </tr>\n",
       "    <tr>\n",
       "      <th>3</th>\n",
       "      <td>Fish</td>\n",
       "      <td>50000</td>\n",
       "      <td>1000</td>\n",
       "      <td>550000</td>\n",
       "      <td>26000 Out There Lane</td>\n",
       "      <td>Single Family</td>\n",
       "      <td>2000</td>\n",
       "      <td>4</td>\n",
       "      <td>2</td>\n",
       "      <td>2000</td>\n",
       "      <td>2010</td>\n",
       "      <td>800000</td>\n",
       "      <td>Moderate</td>\n",
       "      <td>650000</td>\n",
       "    </tr>\n",
       "  </tbody>\n",
       "</table>\n",
       "</div>"
      ],
      "text/plain": [
       "     Name  Income  Savings  Insurance               Address      Occupancy  \\\n",
       "0  Alfred   30000    10000          0            62 That St         Mobile   \n",
       "1   Bruce  100000  1000000   10000000           720 This Rd  Single Family   \n",
       "2  Selena   10000      100          0        1001 Other Ave   Multi Family   \n",
       "3    Fish   50000     1000     550000  26000 Out There Lane  Single Family   \n",
       "\n",
       "     Cost  Bedrooms  Bathrooms  Area  Year Built     Value Damage State  \\\n",
       "0     100         1          1   700        1920    100000         None   \n",
       "1  100000         6          5  5000        1920  10000000       Slight   \n",
       "2      10         0          1   250        1960     10000     Complete   \n",
       "3    2000         4          2  2000        2010    800000     Moderate   \n",
       "\n",
       "   Damage Value  \n",
       "0         20000  \n",
       "1         50000  \n",
       "2          8000  \n",
       "3        650000  "
      ]
     },
     "execution_count": 7,
     "metadata": {},
     "output_type": "execute_result"
    }
   ],
   "source": [
    "file_path = \"../inputs/household_inputs_test.csv\"\n",
    "households_df = pd.read_csv(file_path)\n",
    "households_df.head()"
   ]
  },
  {
   "cell_type": "code",
   "execution_count": 8,
   "metadata": {
    "collapsed": false
   },
   "outputs": [],
   "source": [
    "household = {}\n",
    "for i in households_df.index:\n",
    "    household[i] = entities.Household(simulation, households_df.iloc[i], write_story)"
   ]
  },
  {
   "cell_type": "code",
   "execution_count": 9,
   "metadata": {
    "collapsed": false
   },
   "outputs": [],
   "source": [
    "for i in range(len(household)):\n",
    "    #print (household[i])\n",
    "    simulation.process(master_process(simulation, human_capital, financial_capital, household[i]))"
   ]
  },
  {
   "cell_type": "code",
   "execution_count": 10,
   "metadata": {
    "collapsed": false,
    "scrolled": true
   },
   "outputs": [],
   "source": [
    "simulation.run()"
   ]
  },
  {
   "cell_type": "code",
   "execution_count": 11,
   "metadata": {
    "collapsed": false
   },
   "outputs": [
    {
     "data": {
      "text/plain": [
       "[]"
      ]
     },
     "execution_count": 11,
     "metadata": {},
     "output_type": "execute_result"
    }
   ],
   "source": [
    "household[0].story"
   ]
  },
  {
   "cell_type": "code",
   "execution_count": 12,
   "metadata": {
    "collapsed": false
   },
   "outputs": [
    {
     "data": {
      "text/plain": [
       "[]"
      ]
     },
     "execution_count": 12,
     "metadata": {},
     "output_type": "execute_result"
    }
   ],
   "source": [
    "household[1].story"
   ]
  },
  {
   "cell_type": "code",
   "execution_count": 13,
   "metadata": {
    "collapsed": false
   },
   "outputs": [
    {
     "data": {
      "text/plain": [
       "[]"
      ]
     },
     "execution_count": 13,
     "metadata": {},
     "output_type": "execute_result"
    }
   ],
   "source": [
    "household[2].story"
   ]
  },
  {
   "cell_type": "code",
   "execution_count": 14,
   "metadata": {
    "collapsed": false
   },
   "outputs": [
    {
     "data": {
      "text/plain": [
       "[]"
      ]
     },
     "execution_count": 14,
     "metadata": {},
     "output_type": "execute_result"
    }
   ],
   "source": [
    "household[3].story"
   ]
  },
  {
   "cell_type": "code",
   "execution_count": null,
   "metadata": {
    "collapsed": true
   },
   "outputs": [],
   "source": []
  }
 ],
 "metadata": {
  "kernelspec": {
   "display_name": "Python 3",
   "language": "python",
   "name": "python3"
  },
  "language_info": {
   "codemirror_mode": {
    "name": "ipython",
    "version": 3
   },
   "file_extension": ".py",
   "mimetype": "text/x-python",
   "name": "python",
   "nbconvert_exporter": "python",
   "pygments_lexer": "ipython3",
   "version": "3.5.1"
  }
 },
 "nbformat": 4,
 "nbformat_minor": 0
}
