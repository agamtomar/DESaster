{
 "cells": [
  {
   "cell_type": "markdown",
   "metadata": {},
   "source": [
    "# DESaster Simulation Set Up Template"
   ]
  },
  {
   "cell_type": "markdown",
   "metadata": {},
   "source": [
    "## Required Modules"
   ]
  },
  {
   "cell_type": "code",
   "execution_count": 1,
   "metadata": {
    "collapsed": false
   },
   "outputs": [],
   "source": [
    "import sys, random\n",
    "desaster_path = \"/Users/geomando/Dropbox/github/SeaGrantSimulation\"\n",
    "sys.path.append(desaster_path)\n",
    "import simpy\n",
    "from simpy import Resource, Container, FilterStore\n",
    "from simpy.util import start_delayed\n",
    "import pandas as pd\n",
    "import numpy as np\n",
    "from desaster.config import structural_damage_ratios\n",
    "from desaster.config import acceleration_damage_ratios\n",
    "from desaster.config import drift_damage_ratios"
   ]
  },
  {
   "cell_type": "markdown",
   "metadata": {},
   "source": [
    "## Built Capital"
   ]
  },
  {
   "cell_type": "code",
   "execution_count": 2,
   "metadata": {
    "collapsed": true
   },
   "outputs": [],
   "source": [
    "class BuiltCapital(object):\n",
    "    \"\"\"Define top-level class for representing the attributes and methods\n",
    "    of types of built capital.\n",
    "\n",
    "    \"\"\"\n",
    "    def __init__(self, asset):\n",
    "        \"\"\"Run initial methods for defining built capital attributes.\n",
    "        \n",
    "        Keyword Arguments:\n",
    "        asset -- A dataframe row with required built capital attributes.\n",
    "        \"\"\"\n",
    "        self.setYearBuilt(asset)\n",
    "        self.setValue(asset)\n",
    "        self.setDamageState(asset)\n",
    "        self.setInspection(asset)\n",
    "    def setYearBuilt(self, asset):\n",
    "        self.age = asset['Year Built']  # Year asset was built\n",
    "    def setValue(self, asset):\n",
    "        self.value = asset['Value']  # Value of the asset in $\n",
    "    def setDamageState(self, asset):\n",
    "        self.damage_state = asset['Damage State']  # HAZUS damage state\n",
    "    def setInspection(self, asset):\n",
    "        self.inspected = False  # Whether the asset has been inspected"
   ]
  },
  {
   "cell_type": "code",
   "execution_count": 3,
   "metadata": {
    "collapsed": true
   },
   "outputs": [],
   "source": [
    "class Building(BuiltCapital):\n",
    "    \"\"\"Define class that inherits from BuiltCapital() for representing the\n",
    "    attributes and methods of types of buildings.\n",
    "    \"\"\"\n",
    "    def __init__(self, building):\n",
    "        \"\"\"Run initial methods for defining building attributes.\n",
    "        \n",
    "        Keyword Arguments:\n",
    "        building -- A dataframe row with required building attributes.\n",
    "        \"\"\"\n",
    "        \n",
    "        BuiltCapital.__init__(self, building)\n",
    "        \n",
    "        self.setOwner(building) # %***%\n",
    "        self.setOccupant(building) # %***%\n",
    "        self.setAddress(building)\n",
    "        self.setOccupancy(building)\n",
    "        self.setTenure(building)  # %***%\n",
    "        self.setDamageValue(building)\n",
    "       \n",
    "    def setOwner(self, building):\n",
    "        self.owner = building['Owner']  # Owner of building as Household() entity %***%\n",
    "    def setOccupant(self, building):\n",
    "        self.occupant = building['Occupant']  # Occupant of building as Household() entity %***%\n",
    "    def setAddress(self, building):\n",
    "        self.address = building['Address']  # Address of building\n",
    "    def setOccupancy(self, building):\n",
    "        self.occupancy = building['Occupancy']  # Occupancy type of building\n",
    "    def setTenure(self, building):\n",
    "        self.tenure = building['Tenure']  # Tenure of building: rent or own %***%\n",
    "    def setBuildingArea(self, building):\n",
    "        self.cost = building['Area']  # Floor area of building\n",
    "    def setDamageValue(self, building):\n",
    "        \"\"\"Calculate damage value for building based on occupancy type and\n",
    "        HAZUS damage state.\n",
    "\n",
    "        Function uses three lookup tables (Table 15.2, 15.3, 15.4) from the HAZUS-MH earthquake model\n",
    "        technical manual for structural damage, acceleration related damage,\n",
    "        and for drift related damage, respectively. Estimated damage value for\n",
    "        each type of damage is summed for total damage value.\n",
    "        http://www.fema.gov/media-library/assets/documents/24609\n",
    "        \n",
    "        Keyword Arguments:\n",
    "        structural_damage_ratios -- dataframe set in config.py\n",
    "        acceleration_damage_ratios -- dataframe set in config.py\n",
    "        drift_damage_ratios -- dataframe set in config.py\n",
    "        \"\"\"\n",
    "        struct_repair_ratio = structural_damage_ratios.ix[building['Occupancy']][building['Damage State']] / 100.0\n",
    "        accel_repair_ratio = acceleration_damage_ratios.ix[building['Occupancy']][building['Damage State']] / 100.0\n",
    "        drift_repair_ratio = drift_damage_ratios.ix[building['Occupancy']][building['Damage State']] / 100.0\n",
    "        self.damage_value = building['Value']*(struct_repair_ratio +\n",
    "                                                accel_repair_ratio +\n",
    "                                                drift_repair_ratio)"
   ]
  },
  {
   "cell_type": "code",
   "execution_count": 4,
   "metadata": {
    "collapsed": true
   },
   "outputs": [],
   "source": [
    "class Residence(Building):\n",
    "    \"\"\"Define class that inherits from Building() for representing the\n",
    "    attributes and methods of types of residences.\n",
    "    \"\"\"\n",
    "    def __init__(self, residence):\n",
    "        \"\"\"Run initial methods for defining residence attributes.\n",
    "\n",
    "        Keyword Arguments:\n",
    "        residence -- A dataframe row with required residence attributes.\n",
    "        \"\"\"\n",
    "        \n",
    "        Building.__init__(self, residence) # %***%\n",
    "        \n",
    "        self.setOccupancy(residence)\n",
    "        self.setBedrooms(residence)\n",
    "        self.setBathrooms(residence)\n",
    "       \n",
    "\n",
    "    def setOccupancy(self, residence):\n",
    "        # Verify that residence dataframe has expected occupancy types\n",
    "        if residence['Occupancy'] in ('Single Family Dwelling',\n",
    "                            'Multi Family Dwelling', 'Mobile Home', 'Condo'):\n",
    "            self.occupancy = residence['Occupancy']\n",
    "        else:\n",
    "            raise AttributeError(residence['Occupancy'])\n",
    "    def setBedrooms(self, residence):\n",
    "        self.bedrooms = residence['Bedrooms']  # Number of bedrooms in residence\n",
    "    def setBathrooms(self, residence):\n",
    "        self.bathrooms = residence['Bathrooms']  # Number of bathrooms in residence"
   ]
  },
  {
   "cell_type": "code",
   "execution_count": 5,
   "metadata": {
    "collapsed": true
   },
   "outputs": [],
   "source": [
    "def importHousingStock(simulation, stock_df):\n",
    "    \"\"\"Define, populate and return a SimPy FilterStore with Residence() objects to\n",
    "    represent a vacant housing stock.\n",
    "    \n",
    "    Keyword Arguments:\n",
    "    simulation -- Pointer to SimPy simulation environment.\n",
    "    stock_df -- Dataframe with required attributes for each vacant home in\n",
    "                the stock.\n",
    "    \"\"\"\n",
    "    stock_fs = FilterStore(simulation)\n",
    "\n",
    "    for i in stock_df.index:\n",
    "        stock_fs.put(Residence(stock_df.loc[i]))\n",
    "\n",
    "    return stock_fs"
   ]
  },
  {
   "cell_type": "markdown",
   "metadata": {},
   "source": [
    "## Entities"
   ]
  },
  {
   "cell_type": "code",
   "execution_count": 6,
   "metadata": {
    "collapsed": true
   },
   "outputs": [],
   "source": [
    "class Household(object):\n",
    "    \"\"\"Define a Household() class to represent a group of persons that reside \n",
    "    together as a single analysis unit with attributes and methods.\n",
    "    \"\"\"\n",
    "    def __init__(self, housing_stock, household_df, write_story = False):\n",
    "        \"\"\"Define household inputs and outputs attributes.\n",
    "        Initiate household's story list string. \n",
    "        \n",
    "        simulation -- Pointer to SimPy simulation environment.\n",
    "        household_df -- Dataframe row w/ household input attributes.\n",
    "        write_story -- Boolean indicating whether to track a households story.\n",
    "        \"\"\"\n",
    "        \n",
    "        # Household simulation inputs\n",
    "        self.household = household_df  # Dataframe w/ household input attributes\n",
    "#         self.name = household_df['Name']   # Name associated with household\n",
    "        self.name = household_df['Occupant']   # Name associated with household %***%\n",
    "        self.savings = household_df['Savings']  # Amount of household savings in $\n",
    "        self.insurance = household_df['Insurance']  # Hazard-specific insurance coverage in $\n",
    "        self.tenure_pref = household_df['Tenure Pref'] # Indicator of the household's preference between rent or own %***%\n",
    "        self.tenure = household_df['Tenure'] # Indicator of the household's *actual* tenure between rent or own %***%\n",
    "        self.occupancy_pref = household_df['Occupancy Pref'] # Indicator of the household's preference between occupancy types %***%\n",
    "         \n",
    "        # Household simulation outputs\n",
    "        self.story = []  # The story of events for each household\n",
    "        self.inspection_put = 0.0  # Time put request in for house inspection\n",
    "        self.inspection_get = 0.0  # Time get  house inspection\n",
    "        self.claim_put = 0.0  # Time put request in for insurance settlement\n",
    "        self.claim_get = 0.0  # Time get insurance claim settled\n",
    "        self.claim_payout = 0.0  # Amount of insurance claim payout\n",
    "        self.assistance_put = 0.0  # Time put request in for FEMA assistance\n",
    "        self.assistance_get = 0.0  # Time get FEMA assistance\n",
    "        self.assistance_request = 0.0  # Amount of money requested from FEMA\n",
    "        self.assistance_payout = 0.0  # Amount of assistance provided by FEMA\n",
    "        self.money_to_rebuild = self.savings  # Total funds available to household to rebuild house\n",
    "        self.home_put = 0.0  # Time put request in for house rebuild\n",
    "        self.home_get = 0.0  # Time get house rebuild completed\n",
    "        self.loan_put = 0.0  # Time put request for loan\n",
    "        self.loan_get = 0.0  # Time get requested loan\n",
    "        self.loan_amount = 0.0  # Amount of loan received\n",
    "        self.permit_put = 0.0  # Time put request for building permit\n",
    "        self.permit_get = 0.0  # Time get requested building permit\n",
    "        self.home_search_start = 0.0  # Time started searching for a new home\n",
    "        self.home_search_stop = 0.0  # Time found a new home\n",
    "        self.money_search_start = 0.0  # Time that household started search for money\n",
    "        self.money_search_stop = 0.0  # Time that household found rebuild money\n",
    "        self.gave_up_money_search = False  # Whether household gave up search for money\n",
    "        self.gave_up_home_search = False  # Whether household gave up search for home \n",
    "        \n",
    "        # Initial method calls\n",
    "        self.setStory(write_story)  # Start stories with non-disaster attributes\n",
    "        self.setResidence(housing_stock, household_df)\n",
    "    \n",
    "    def setResidence(self, housing_stock, household_df):\n",
    "        self.residence = Residence(household_df)\n",
    "        housing_stock.put(self.residence)\n",
    "        \n",
    "    \n",
    "    def setStory(self, write_story):\n",
    "        \"\"\"Initiate the household's story based on input attributes.\n",
    "        \n",
    "        Keyword Arguments:\n",
    "        write_story -- Boolean indicating whether to track a households story.\n",
    "        \"\"\"\n",
    "        if write_story == True:\n",
    "            # Set story with non-disaster attributes.\n",
    "            self.story.append(\n",
    "            '{0} lives in a {1} bedroom {2} at {3} worth ${4:,.0f}. '.format(self.name, \n",
    "                                                            self.residence.bedrooms, \n",
    "                                                            self.residence.occupancy,\n",
    "                                                            self.residence.address,\n",
    "                                                            self.residence.value\n",
    "                                                            )\n",
    "            )\n",
    "\n",
    "    def story_to_text(self): \n",
    "        \"\"\"Join list of story strings into a single story string.\"\"\"\n",
    "        return ''.join(self.story)"
   ]
  },
  {
   "cell_type": "code",
   "execution_count": 7,
   "metadata": {
    "collapsed": true
   },
   "outputs": [],
   "source": [
    "def importHouseholds(housing_stock, households_df, write_story = False):\n",
    "    \"\"\"Return list of entities.Household() objects from dataframe containing\n",
    "    data describing households.\n",
    "    \n",
    "    Keyword Arguments:\n",
    "    simulation -- Pointer to SimPy simulation environment.\n",
    "    household_df -- Dataframe row w/ household input attributes.\n",
    "    write_story -- Boolean indicating whether to track a households story.\n",
    "    \"\"\"\n",
    "    \n",
    "    households = []\n",
    "\n",
    "    # Population the simulation with households from the households dataframe\n",
    "    for i in households_df.index:\n",
    "        households.append(Household(housing_stock, households_df.iloc[i], write_story))\n",
    "    \n",
    "    return households"
   ]
  },
  {
   "cell_type": "code",
   "execution_count": 8,
   "metadata": {
    "collapsed": false
   },
   "outputs": [],
   "source": [
    "scenario_file = '../inputs/scenario_test_renters.xlsx'\n",
    "\n",
    "# Create Pandas dataframe of attribute data for all households to be modeled in the simulation\n",
    "households_df = pd.read_excel(scenario_file, sheetname='households')\n",
    "\n",
    "# Create Pandas dataframe of attribute data for all vacant homes (housing stock) to be modeled in the simulation\n",
    "housing_stock_df = pd.read_excel(scenario_file, sheetname='housing_stock')\n",
    "\n",
    "# Set input data for all human capital types, as dict or Pandas Series\n",
    "# .loc stuff is to convert the DataFrame to a Series ... data will function the same as a dictionary as well\n",
    "human_cap_data = pd.read_excel(scenario_file, sheetname='human_capital', index_col=0).iloc[:,0]\n",
    "\n",
    "# Set input data for all financial capital types, as dict or Pandas Series\n",
    "financial_cap_data = pd.read_excel(scenario_file, sheetname='financial_capital', index_col=0).iloc[:,0]"
   ]
  },
  {
   "cell_type": "code",
   "execution_count": 9,
   "metadata": {
    "collapsed": false,
    "scrolled": true
   },
   "outputs": [
    {
     "data": {
      "text/html": [
       "<div>\n",
       "<table border=\"1\" class=\"dataframe\">\n",
       "  <thead>\n",
       "    <tr style=\"text-align: right;\">\n",
       "      <th></th>\n",
       "      <th>Occupant</th>\n",
       "      <th>Owner</th>\n",
       "      <th>Income</th>\n",
       "      <th>Savings</th>\n",
       "      <th>Insurance</th>\n",
       "      <th>Address</th>\n",
       "      <th>Occupancy</th>\n",
       "      <th>Cost</th>\n",
       "      <th>Bedrooms</th>\n",
       "      <th>Bathrooms</th>\n",
       "      <th>Area</th>\n",
       "      <th>Year Built</th>\n",
       "      <th>Value</th>\n",
       "      <th>Damage State</th>\n",
       "      <th>Tenure Pref</th>\n",
       "      <th>Tenure</th>\n",
       "      <th>Occupancy Pref</th>\n",
       "    </tr>\n",
       "  </thead>\n",
       "  <tbody>\n",
       "    <tr>\n",
       "      <th>0</th>\n",
       "      <td>Alfred</td>\n",
       "      <td>Landlord</td>\n",
       "      <td>30000</td>\n",
       "      <td>10000</td>\n",
       "      <td>0</td>\n",
       "      <td>62 That St</td>\n",
       "      <td>Mobile Home</td>\n",
       "      <td>100</td>\n",
       "      <td>1</td>\n",
       "      <td>1</td>\n",
       "      <td>700</td>\n",
       "      <td>1920</td>\n",
       "      <td>100000</td>\n",
       "      <td>None</td>\n",
       "      <td>Own</td>\n",
       "      <td>Rent</td>\n",
       "      <td>Single Family Dwelling</td>\n",
       "    </tr>\n",
       "    <tr>\n",
       "      <th>1</th>\n",
       "      <td>Bruce</td>\n",
       "      <td>Bruce</td>\n",
       "      <td>100000</td>\n",
       "      <td>1000000</td>\n",
       "      <td>10000000</td>\n",
       "      <td>720 This Rd</td>\n",
       "      <td>Single Family Dwelling</td>\n",
       "      <td>100000</td>\n",
       "      <td>5</td>\n",
       "      <td>5</td>\n",
       "      <td>5000</td>\n",
       "      <td>1920</td>\n",
       "      <td>10000000</td>\n",
       "      <td>Slight</td>\n",
       "      <td>Own</td>\n",
       "      <td>Own</td>\n",
       "      <td>Single Family Dwelling</td>\n",
       "    </tr>\n",
       "    <tr>\n",
       "      <th>2</th>\n",
       "      <td>Selena</td>\n",
       "      <td>Landlord</td>\n",
       "      <td>10000</td>\n",
       "      <td>100</td>\n",
       "      <td>0</td>\n",
       "      <td>1001 Other Ave</td>\n",
       "      <td>Multi Family Dwelling</td>\n",
       "      <td>10</td>\n",
       "      <td>0</td>\n",
       "      <td>1</td>\n",
       "      <td>250</td>\n",
       "      <td>1960</td>\n",
       "      <td>10000</td>\n",
       "      <td>Complete</td>\n",
       "      <td>Rent</td>\n",
       "      <td>Rent</td>\n",
       "      <td>Multi Family Dwelling</td>\n",
       "    </tr>\n",
       "    <tr>\n",
       "      <th>3</th>\n",
       "      <td>Fish</td>\n",
       "      <td>Fish</td>\n",
       "      <td>50000</td>\n",
       "      <td>1000</td>\n",
       "      <td>550000</td>\n",
       "      <td>26000 Out There Lane</td>\n",
       "      <td>Single Family Dwelling</td>\n",
       "      <td>2000</td>\n",
       "      <td>4</td>\n",
       "      <td>2</td>\n",
       "      <td>2000</td>\n",
       "      <td>2010</td>\n",
       "      <td>800000</td>\n",
       "      <td>Moderate</td>\n",
       "      <td>Own</td>\n",
       "      <td>Own</td>\n",
       "      <td>Single Family Dwelling</td>\n",
       "    </tr>\n",
       "  </tbody>\n",
       "</table>\n",
       "</div>"
      ],
      "text/plain": [
       "  Occupant     Owner  Income  Savings  Insurance               Address  \\\n",
       "0   Alfred  Landlord   30000    10000          0            62 That St   \n",
       "1    Bruce     Bruce  100000  1000000   10000000           720 This Rd   \n",
       "2   Selena  Landlord   10000      100          0        1001 Other Ave   \n",
       "3     Fish      Fish   50000     1000     550000  26000 Out There Lane   \n",
       "\n",
       "                Occupancy    Cost  Bedrooms  Bathrooms  Area  Year Built  \\\n",
       "0             Mobile Home     100         1          1   700        1920   \n",
       "1  Single Family Dwelling  100000         5          5  5000        1920   \n",
       "2   Multi Family Dwelling      10         0          1   250        1960   \n",
       "3  Single Family Dwelling    2000         4          2  2000        2010   \n",
       "\n",
       "      Value Damage State Tenure Pref Tenure          Occupancy Pref  \n",
       "0    100000         None         Own   Rent  Single Family Dwelling  \n",
       "1  10000000       Slight         Own    Own  Single Family Dwelling  \n",
       "2     10000     Complete        Rent   Rent   Multi Family Dwelling  \n",
       "3    800000     Moderate         Own    Own  Single Family Dwelling  "
      ]
     },
     "execution_count": 9,
     "metadata": {},
     "output_type": "execute_result"
    }
   ],
   "source": [
    "households_df"
   ]
  },
  {
   "cell_type": "code",
   "execution_count": 10,
   "metadata": {
    "collapsed": false
   },
   "outputs": [
    {
     "data": {
      "text/html": [
       "<div>\n",
       "<table border=\"1\" class=\"dataframe\">\n",
       "  <thead>\n",
       "    <tr style=\"text-align: right;\">\n",
       "      <th></th>\n",
       "      <th>Occupant</th>\n",
       "      <th>Owner</th>\n",
       "      <th>Address</th>\n",
       "      <th>Occupancy</th>\n",
       "      <th>Cost</th>\n",
       "      <th>Bedrooms</th>\n",
       "      <th>Bathrooms</th>\n",
       "      <th>Area</th>\n",
       "      <th>Year Built</th>\n",
       "      <th>Value</th>\n",
       "      <th>Damage State</th>\n",
       "      <th>Tenure</th>\n",
       "    </tr>\n",
       "  </thead>\n",
       "  <tbody>\n",
       "    <tr>\n",
       "      <th>0</th>\n",
       "      <td>NaN</td>\n",
       "      <td>NaN</td>\n",
       "      <td>100 New Ave</td>\n",
       "      <td>Mobile Home</td>\n",
       "      <td>100</td>\n",
       "      <td>1</td>\n",
       "      <td>1</td>\n",
       "      <td>700</td>\n",
       "      <td>1920</td>\n",
       "      <td>99999</td>\n",
       "      <td>Complete</td>\n",
       "      <td>Own</td>\n",
       "    </tr>\n",
       "    <tr>\n",
       "      <th>1</th>\n",
       "      <td>NaN</td>\n",
       "      <td>NaN</td>\n",
       "      <td>101 New Ave</td>\n",
       "      <td>Single Family Dwelling</td>\n",
       "      <td>100000</td>\n",
       "      <td>6</td>\n",
       "      <td>5</td>\n",
       "      <td>5000</td>\n",
       "      <td>1920</td>\n",
       "      <td>9999</td>\n",
       "      <td>Complete</td>\n",
       "      <td>Own</td>\n",
       "    </tr>\n",
       "    <tr>\n",
       "      <th>2</th>\n",
       "      <td>NaN</td>\n",
       "      <td>NaN</td>\n",
       "      <td>102 New Ave</td>\n",
       "      <td>Multi Family Dwelling</td>\n",
       "      <td>10</td>\n",
       "      <td>0</td>\n",
       "      <td>1</td>\n",
       "      <td>250</td>\n",
       "      <td>1960</td>\n",
       "      <td>9999</td>\n",
       "      <td>Complete</td>\n",
       "      <td>Own</td>\n",
       "    </tr>\n",
       "    <tr>\n",
       "      <th>3</th>\n",
       "      <td>NaN</td>\n",
       "      <td>NaN</td>\n",
       "      <td>103 New Ave</td>\n",
       "      <td>Single Family Dwelling</td>\n",
       "      <td>2000</td>\n",
       "      <td>4</td>\n",
       "      <td>2</td>\n",
       "      <td>2000</td>\n",
       "      <td>2010</td>\n",
       "      <td>800000</td>\n",
       "      <td>Complete</td>\n",
       "      <td>Own</td>\n",
       "    </tr>\n",
       "    <tr>\n",
       "      <th>4</th>\n",
       "      <td>NaN</td>\n",
       "      <td>NaN</td>\n",
       "      <td>104 New Ave</td>\n",
       "      <td>Mobile Home</td>\n",
       "      <td>100</td>\n",
       "      <td>1</td>\n",
       "      <td>1</td>\n",
       "      <td>700</td>\n",
       "      <td>1920</td>\n",
       "      <td>100000</td>\n",
       "      <td>Complete</td>\n",
       "      <td>Own</td>\n",
       "    </tr>\n",
       "  </tbody>\n",
       "</table>\n",
       "</div>"
      ],
      "text/plain": [
       "   Occupant  Owner      Address               Occupancy    Cost  Bedrooms  \\\n",
       "0       NaN    NaN  100 New Ave             Mobile Home     100         1   \n",
       "1       NaN    NaN  101 New Ave  Single Family Dwelling  100000         6   \n",
       "2       NaN    NaN  102 New Ave   Multi Family Dwelling      10         0   \n",
       "3       NaN    NaN  103 New Ave  Single Family Dwelling    2000         4   \n",
       "4       NaN    NaN  104 New Ave             Mobile Home     100         1   \n",
       "\n",
       "   Bathrooms  Area  Year Built   Value Damage State Tenure  \n",
       "0          1   700        1920   99999     Complete    Own  \n",
       "1          5  5000        1920    9999     Complete    Own  \n",
       "2          1   250        1960    9999     Complete    Own  \n",
       "3          2  2000        2010  800000     Complete    Own  \n",
       "4          1   700        1920  100000     Complete    Own  "
      ]
     },
     "execution_count": 10,
     "metadata": {},
     "output_type": "execute_result"
    }
   ],
   "source": [
    "housing_stock_df.head()"
   ]
  },
  {
   "cell_type": "markdown",
   "metadata": {},
   "source": [
    "## Simulation Initiation"
   ]
  },
  {
   "cell_type": "markdown",
   "metadata": {},
   "source": [
    "__Set simulation environment__"
   ]
  },
  {
   "cell_type": "code",
   "execution_count": 11,
   "metadata": {
    "collapsed": true
   },
   "outputs": [],
   "source": [
    "simulation = simpy.Environment()"
   ]
  },
  {
   "cell_type": "markdown",
   "metadata": {},
   "source": [
    "__Indicate whether want to keep track of the stories of each entity (household) in the simulation.__"
   ]
  },
  {
   "cell_type": "code",
   "execution_count": 12,
   "metadata": {
    "collapsed": true
   },
   "outputs": [],
   "source": [
    "write_story = False"
   ]
  },
  {
   "cell_type": "markdown",
   "metadata": {},
   "source": [
    "__Populate the simulation with the input data specified above.__"
   ]
  },
  {
   "cell_type": "code",
   "execution_count": 13,
   "metadata": {
    "collapsed": true
   },
   "outputs": [],
   "source": [
    "\n",
    "vacant_housing = importHousingStock(simulation, housing_stock_df)\n",
    "\n",
    "c"
   ]
  },
  {
   "cell_type": "code",
   "execution_count": 14,
   "metadata": {
    "collapsed": false
   },
   "outputs": [],
   "source": [
    "households = importHouseholds(occupied_housing, households_df, write_story)\n"
   ]
  },
  {
   "cell_type": "code",
   "execution_count": 17,
   "metadata": {
    "collapsed": false
   },
   "outputs": [
    {
     "data": {
      "text/plain": [
       "<__main__.Residence at 0x114299cc0>"
      ]
     },
     "execution_count": 17,
     "metadata": {},
     "output_type": "execute_result"
    }
   ],
   "source": [
    "households[0].residence"
   ]
  },
  {
   "cell_type": "code",
   "execution_count": 19,
   "metadata": {
    "collapsed": false
   },
   "outputs": [
    {
     "data": {
      "text/plain": [
       "<__main__.Residence at 0x114299cc0>"
      ]
     },
     "execution_count": 19,
     "metadata": {},
     "output_type": "execute_result"
    }
   ],
   "source": [
    "occupied_housing.items[0]"
   ]
  },
  {
   "cell_type": "code",
   "execution_count": 21,
   "metadata": {
    "collapsed": false
   },
   "outputs": [
    {
     "data": {
      "text/plain": [
       "<__main__.Residence at 0x114299cc0>"
      ]
     },
     "execution_count": 21,
     "metadata": {},
     "output_type": "execute_result"
    }
   ],
   "source": [
    "bob = occupied_housing.items[0]\n",
    "bob"
   ]
  },
  {
   "cell_type": "code",
   "execution_count": 25,
   "metadata": {
    "collapsed": false
   },
   "outputs": [],
   "source": [
    "bill = bob\n",
    "bill.age = 2000"
   ]
  },
  {
   "cell_type": "code",
   "execution_count": 26,
   "metadata": {
    "collapsed": false
   },
   "outputs": [
    {
     "data": {
      "text/plain": [
       "2000"
      ]
     },
     "execution_count": 26,
     "metadata": {},
     "output_type": "execute_result"
    }
   ],
   "source": [
    "bob.age"
   ]
  },
  {
   "cell_type": "code",
   "execution_count": null,
   "metadata": {
    "collapsed": false
   },
   "outputs": [],
   "source": [
    "# query_res = occupied_housing.get(lambda getResidence: getResidence.occupant == 'Alfred')"
   ]
  },
  {
   "cell_type": "code",
   "execution_count": null,
   "metadata": {
    "collapsed": false
   },
   "outputs": [],
   "source": [
    "query_res"
   ]
  },
  {
   "cell_type": "markdown",
   "metadata": {},
   "source": [
    "__Write a master process that combines process and functions from search, rebuild, and request modules.__"
   ]
  },
  {
   "cell_type": "code",
   "execution_count": null,
   "metadata": {
    "collapsed": false
   },
   "outputs": [],
   "source": [
    "occupied_housing.items"
   ]
  },
  {
   "cell_type": "code",
   "execution_count": null,
   "metadata": {
    "collapsed": false
   },
   "outputs": [],
   "source": [
    "def master_process(simulation, entity, write_story):\n",
    "     \n",
    "    print('occupied: ', len(occupied_housing.items))\n",
    "\n",
    "    \n",
    "    entity.residence = yield occupied_housing.get(lambda getResidence: getResidence.occupant == entity.name)\n",
    "    \n",
    "    print('vacant: ', len(vacant_housing.items))\n",
    "    \n",
    "    yield vacant_housing.put(entity.residence)\n",
    "\n",
    "    print('vacant: ', len(vacant_housing.items))"
   ]
  },
  {
   "cell_type": "code",
   "execution_count": null,
   "metadata": {
    "collapsed": false
   },
   "outputs": [],
   "source": [
    "# Initiate a master process for each household to be modeled in the simulation\n",
    "for i in range(len(households)):\n",
    "    simulation.process(master_process(simulation, households[i], write_story))"
   ]
  },
  {
   "cell_type": "code",
   "execution_count": null,
   "metadata": {
    "collapsed": false,
    "scrolled": false
   },
   "outputs": [],
   "source": [
    "simulation.run()"
   ]
  },
  {
   "cell_type": "code",
   "execution_count": null,
   "metadata": {
    "collapsed": false
   },
   "outputs": [],
   "source": [
    "occupied_housing.items"
   ]
  },
  {
   "cell_type": "code",
   "execution_count": null,
   "metadata": {
    "collapsed": false
   },
   "outputs": [],
   "source": [
    "vacant_housing.items[]"
   ]
  },
  {
   "cell_type": "code",
   "execution_count": null,
   "metadata": {
    "collapsed": false
   },
   "outputs": [],
   "source": [
    "households[0].residence == vacant_housing.items[16]"
   ]
  },
  {
   "cell_type": "code",
   "execution_count": null,
   "metadata": {
    "collapsed": true
   },
   "outputs": [],
   "source": [
    "households[0].residence = []"
   ]
  },
  {
   "cell_type": "markdown",
   "metadata": {},
   "source": [
    "## Outputs"
   ]
  },
  {
   "cell_type": "markdown",
   "metadata": {},
   "source": [
    "__Household stories__"
   ]
  },
  {
   "cell_type": "code",
   "execution_count": null,
   "metadata": {
    "collapsed": false
   },
   "outputs": [],
   "source": [
    "households[0].residence.owner == households[0].residence.occupant"
   ]
  },
  {
   "cell_type": "code",
   "execution_count": null,
   "metadata": {
    "collapsed": false
   },
   "outputs": [],
   "source": [
    "households[1].story"
   ]
  },
  {
   "cell_type": "code",
   "execution_count": null,
   "metadata": {
    "collapsed": false
   },
   "outputs": [],
   "source": [
    "households[2].story"
   ]
  },
  {
   "cell_type": "code",
   "execution_count": null,
   "metadata": {
    "collapsed": false,
    "scrolled": true
   },
   "outputs": [],
   "source": [
    "households[3].story"
   ]
  }
 ],
 "metadata": {
  "anaconda-cloud": {},
  "kernelspec": {
   "display_name": "Python [default]",
   "language": "python",
   "name": "python3"
  },
  "language_info": {
   "codemirror_mode": {
    "name": "ipython",
    "version": 3
   },
   "file_extension": ".py",
   "mimetype": "text/x-python",
   "name": "python",
   "nbconvert_exporter": "python",
   "pygments_lexer": "ipython3",
   "version": "3.5.2"
  }
 },
 "nbformat": 4,
 "nbformat_minor": 0
}
