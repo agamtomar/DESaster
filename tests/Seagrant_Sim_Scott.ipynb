{
 "cells": [
  {
   "cell_type": "markdown",
   "metadata": {},
   "source": [
    "# DESaster Vers -  0.1"
   ]
  },
  {
   "cell_type": "code",
   "execution_count": 11,
   "metadata": {
    "collapsed": false
   },
   "outputs": [],
   "source": [
    "import sys, random\n",
    "desaster_path = \"/Users/geomando/Dropbox/github/SeaGrantSimulation\"\n",
    "sys.path.append(desaster_path)\n",
    "import simpy\n",
    "import pandas as pd\n",
    "import numpy as np\n",
    "import desaster\n",
    "from desaster import request, entities, rebuild, config, io\n"
   ]
  },
  {
   "cell_type": "markdown",
   "metadata": {},
   "source": [
    "##### instantiate a simpy environment"
   ]
  },
  {
   "cell_type": "code",
   "execution_count": 12,
   "metadata": {
    "collapsed": true
   },
   "outputs": [],
   "source": [
    "sim = simpy.Environment()"
   ]
  },
  {
   "cell_type": "code",
   "execution_count": 13,
   "metadata": {
    "collapsed": false
   },
   "outputs": [],
   "source": [
    "def simulation(sim, res, entity):\n",
    "    \n",
    "    yield sim.process(request.inspection(entity, \n",
    "                                       sim, \n",
    "                                       res))\n",
    "    #print (\"Inspection Started for {0} at {1}\".format(entity.name, sim.now))\n",
    "    \n",
    "    yield sim.process(request.file_insurance_claim(entity,\n",
    "                                         sim,\n",
    "                                         res))\n",
    "    #print (\"Insurance Started for {0} at {1}\".format(entity.name, sim.now))\n",
    "    \n",
    "    yield (sim.process(request.fema_assistance(entity,\n",
    "                                            sim,\n",
    "                                            res)) &\n",
    "           \n",
    "          sim.process(request.loan(entity, \n",
    "                                   sim, \n",
    "                                   res)) &\n",
    "                                            #THESE ARE ALL IN THE SAME YIELD STATEMENT\n",
    "          sim.process(request.permit(entity, \n",
    "                                     sim, \n",
    "                                     res)))\n",
    "    #print (\"PreBuilding processes Started for {0} at {1}\".format(entity.name, sim.now))\n",
    "    \n",
    "    \n",
    "    yield sim.process(rebuild.rebuild_house(entity,\n",
    "                                sim,\n",
    "                                res.contractors))\n",
    "    #print (\"Rebuild Started for {0} at {1}\".format(entity.name, sim.now))\n",
    "    \n",
    "    yield sim.process(request.engineering_assessment(entity,\n",
    "                                                    sim,\n",
    "                                                    res))\n",
    "    #print (\"Engineering assessment Started for {0} at {1}\".format(entity.name, sim.now))\n",
    "    "
   ]
  },
  {
   "cell_type": "code",
   "execution_count": 14,
   "metadata": {
    "collapsed": true
   },
   "outputs": [],
   "source": [
    "human_cap_data = {\"inspectors\": 100,\n",
    "        \"insurance adjusters\": 10,\n",
    "        \"fema processors\": 30,\n",
    "        \"permit processors\": 3,\n",
    "        \"contractors\": 25,\n",
    "        \"loan processors\": 2,\n",
    "        \"engineers\": 15,\n",
    "        \"fema aid\": 100000000}\n"
   ]
  },
  {
   "cell_type": "code",
   "execution_count": 15,
   "metadata": {
    "collapsed": false
   },
   "outputs": [],
   "source": [
    "res = desaster.Capitals(sim, human_cap_data)"
   ]
  },
  {
   "cell_type": "code",
   "execution_count": 16,
   "metadata": {
    "collapsed": false
   },
   "outputs": [
    {
     "name": "stdout",
     "output_type": "stream",
     "text": [
      "adjuster_mean = 90.0\n",
      "adjuster_std = 0.0\n",
      "adjuster_time = 90.0\n",
      "engineering_assessment_time = 14.0\n",
      "engineering_mean = 14.0\n",
      "engineering_std = 0.0\n",
      "fema_process_mean = 60.0\n",
      "fema_process_std = 0.0\n",
      "fema_process_time = 60.0\n",
      "inspection_mean = 14.0\n",
      "inspection_std = 0\n",
      "inspection_time = 14.0\n",
      "loan_process_mean = 90.0\n",
      "loan_process_std = 0.0\n",
      "loan_process_time = 90.0\n",
      "permit_process_mean = 30.0\n",
      "permit_process_std = 0.0\n",
      "permit_process_time = 30.0\n"
     ]
    }
   ],
   "source": [
    "d = io.view_config()"
   ]
  },
  {
   "cell_type": "code",
   "execution_count": 21,
   "metadata": {
    "collapsed": false
   },
   "outputs": [
    {
     "data": {
      "text/html": [
       "<div>\n",
       "<table border=\"1\" class=\"dataframe\">\n",
       "  <thead>\n",
       "    <tr style=\"text-align: right;\">\n",
       "      <th></th>\n",
       "      <th>Address</th>\n",
       "      <th>Lat</th>\n",
       "      <th>Long</th>\n",
       "      <th>NEAR_FID</th>\n",
       "      <th>NEAR_DIST</th>\n",
       "      <th>FID_1</th>\n",
       "      <th>ID_Number</th>\n",
       "      <th>Tract</th>\n",
       "      <th>Name</th>\n",
       "      <th>YearBuilt</th>\n",
       "      <th>...</th>\n",
       "      <th>None</th>\n",
       "      <th>Slight</th>\n",
       "      <th>Moderate</th>\n",
       "      <th>Extensive</th>\n",
       "      <th>Complete</th>\n",
       "      <th>At_Least_S</th>\n",
       "      <th>At_Least_M</th>\n",
       "      <th>At_Least_E</th>\n",
       "      <th>TotalRep</th>\n",
       "      <th>Damaged</th>\n",
       "    </tr>\n",
       "  </thead>\n",
       "  <tbody>\n",
       "    <tr>\n",
       "      <th>0</th>\n",
       "      <td>1 ULLAKKO RD</td>\n",
       "      <td>46.350970</td>\n",
       "      <td>-123.812630</td>\n",
       "      <td>2993</td>\n",
       "      <td>0.000727</td>\n",
       "      <td>2993</td>\n",
       "      <td>US002994</td>\n",
       "      <td>5.304995e+10</td>\n",
       "      <td>HILL, DOROTHY M</td>\n",
       "      <td>1975</td>\n",
       "      <td>...</td>\n",
       "      <td>0.004</td>\n",
       "      <td>0.08</td>\n",
       "      <td>0.578</td>\n",
       "      <td>0.327</td>\n",
       "      <td>0.01</td>\n",
       "      <td>0.996</td>\n",
       "      <td>0.916</td>\n",
       "      <td>0.337</td>\n",
       "      <td>68700.0</td>\n",
       "      <td>1</td>\n",
       "    </tr>\n",
       "    <tr>\n",
       "      <th>1</th>\n",
       "      <td>10 KOVEN ROAD</td>\n",
       "      <td>46.367306</td>\n",
       "      <td>-123.816740</td>\n",
       "      <td>203</td>\n",
       "      <td>0.000550</td>\n",
       "      <td>203</td>\n",
       "      <td>US000204</td>\n",
       "      <td>5.304995e+10</td>\n",
       "      <td>LEINWEBER, MICHAEL D &amp; THERESA</td>\n",
       "      <td>1975</td>\n",
       "      <td>...</td>\n",
       "      <td>0.004</td>\n",
       "      <td>0.08</td>\n",
       "      <td>0.578</td>\n",
       "      <td>0.327</td>\n",
       "      <td>0.01</td>\n",
       "      <td>0.996</td>\n",
       "      <td>0.916</td>\n",
       "      <td>0.337</td>\n",
       "      <td>119100.0</td>\n",
       "      <td>1</td>\n",
       "    </tr>\n",
       "    <tr>\n",
       "      <th>2</th>\n",
       "      <td>10 RYE LANE</td>\n",
       "      <td>46.587673</td>\n",
       "      <td>-123.619364</td>\n",
       "      <td>2934</td>\n",
       "      <td>0.003318</td>\n",
       "      <td>2934</td>\n",
       "      <td>US002935</td>\n",
       "      <td>5.304995e+10</td>\n",
       "      <td>MARTIN, PATRICIA L</td>\n",
       "      <td>1969</td>\n",
       "      <td>...</td>\n",
       "      <td>0.004</td>\n",
       "      <td>0.08</td>\n",
       "      <td>0.578</td>\n",
       "      <td>0.327</td>\n",
       "      <td>0.01</td>\n",
       "      <td>0.996</td>\n",
       "      <td>0.916</td>\n",
       "      <td>0.337</td>\n",
       "      <td>49950.0</td>\n",
       "      <td>1</td>\n",
       "    </tr>\n",
       "  </tbody>\n",
       "</table>\n",
       "<p>3 rows × 25 columns</p>\n",
       "</div>"
      ],
      "text/plain": [
       "         Address        Lat        Long  NEAR_FID  NEAR_DIST  FID_1 ID_Number  \\\n",
       "0   1 ULLAKKO RD  46.350970 -123.812630      2993   0.000727   2993  US002994   \n",
       "1  10 KOVEN ROAD  46.367306 -123.816740       203   0.000550    203  US000204   \n",
       "2    10 RYE LANE  46.587673 -123.619364      2934   0.003318   2934  US002935   \n",
       "\n",
       "          Tract                            Name  YearBuilt   ...      None  \\\n",
       "0  5.304995e+10                 HILL, DOROTHY M       1975   ...     0.004   \n",
       "1  5.304995e+10  LEINWEBER, MICHAEL D & THERESA       1975   ...     0.004   \n",
       "2  5.304995e+10              MARTIN, PATRICIA L       1969   ...     0.004   \n",
       "\n",
       "   Slight  Moderate  Extensive  Complete  At_Least_S  At_Least_M  At_Least_E  \\\n",
       "0    0.08     0.578      0.327      0.01       0.996       0.916       0.337   \n",
       "1    0.08     0.578      0.327      0.01       0.996       0.916       0.337   \n",
       "2    0.08     0.578      0.327      0.01       0.996       0.916       0.337   \n",
       "\n",
       "   TotalRep  Damaged  \n",
       "0   68700.0        1  \n",
       "1  119100.0        1  \n",
       "2   49950.0        1  \n",
       "\n",
       "[3 rows x 25 columns]"
      ]
     },
     "execution_count": 21,
     "metadata": {},
     "output_type": "execute_result"
    }
   ],
   "source": [
    "input_path = \"../inputs/Final_Maura_Inputs.csv\"\n",
    "households_df = pd.read_csv(input_path)\n",
    "households_df.head(3)"
   ]
  },
  {
   "cell_type": "code",
   "execution_count": 22,
   "metadata": {
    "collapsed": false
   },
   "outputs": [],
   "source": [
    "household = {}\n",
    "for i in households_df.index:\n",
    "    household[i] = entities.Household(households_df.loc[i])"
   ]
  },
  {
   "cell_type": "code",
   "execution_count": 23,
   "metadata": {
    "collapsed": false
   },
   "outputs": [],
   "source": [
    "for i in range(len(household)):\n",
    "    #print (household[i])\n",
    "    sim.process(simulation(sim, res, household[i]))"
   ]
  },
  {
   "cell_type": "code",
   "execution_count": 24,
   "metadata": {
    "collapsed": false,
    "scrolled": true
   },
   "outputs": [
    {
     "ename": "AttributeError",
     "evalue": "'Household' object has no attribute 'rebuild_time'",
     "output_type": "error",
     "traceback": [
      "\u001b[0;31m---------------------------------------------------------------------------\u001b[0m",
      "\u001b[0;31mAttributeError\u001b[0m                            Traceback (most recent call last)",
      "\u001b[0;32m/Users/geomando/Dropbox/github/SeaGrantSimulation/desaster/rebuild.py\u001b[0m in \u001b[0;36mrebuild_house\u001b[0;34m(entity, simulation, contractors)\u001b[0m\n\u001b[1;32m     16\u001b[0m             \u001b[0;31m# Time required to rebuild house\u001b[0m\u001b[0;34m\u001b[0m\u001b[0;34m\u001b[0m\u001b[0m\n\u001b[0;32m---> 17\u001b[0;31m             \u001b[0;32myield\u001b[0m \u001b[0msimulation\u001b[0m\u001b[0;34m.\u001b[0m\u001b[0mtimeout\u001b[0m\u001b[0;34m(\u001b[0m\u001b[0mentity\u001b[0m\u001b[0;34m.\u001b[0m\u001b[0mrebuild_time\u001b[0m\u001b[0;34m)\u001b[0m\u001b[0;34m\u001b[0m\u001b[0m\n\u001b[0m\u001b[1;32m     18\u001b[0m \u001b[0;34m\u001b[0m\u001b[0m\n",
      "\u001b[0;31mAttributeError\u001b[0m: 'Household' object has no attribute 'rebuild_time'",
      "\nThe above exception was the direct cause of the following exception:\n",
      "\u001b[0;31mAttributeError\u001b[0m                            Traceback (most recent call last)",
      "\u001b[0;32m<ipython-input-13-b802bce62f51>\u001b[0m in \u001b[0;36msimulation\u001b[0;34m(sim, res, entity)\u001b[0m\n\u001b[1;32m     28\u001b[0m                                 \u001b[0msim\u001b[0m\u001b[0;34m,\u001b[0m\u001b[0;34m\u001b[0m\u001b[0m\n\u001b[0;32m---> 29\u001b[0;31m                                 res.contractors))\n\u001b[0m\u001b[1;32m     30\u001b[0m     \u001b[0;31m#print (\"Rebuild Started for {0} at {1}\".format(entity.name, sim.now))\u001b[0m\u001b[0;34m\u001b[0m\u001b[0;34m\u001b[0m\u001b[0m\n",
      "\u001b[0;31mAttributeError\u001b[0m: 'Household' object has no attribute 'rebuild_time'",
      "\nThe above exception was the direct cause of the following exception:\n",
      "\u001b[0;31mAttributeError\u001b[0m                            Traceback (most recent call last)",
      "\u001b[0;32m<ipython-input-24-6ab05b998f34>\u001b[0m in \u001b[0;36m<module>\u001b[0;34m()\u001b[0m\n\u001b[0;32m----> 1\u001b[0;31m \u001b[0msim\u001b[0m\u001b[0;34m.\u001b[0m\u001b[0mrun\u001b[0m\u001b[0;34m(\u001b[0m\u001b[0;34m)\u001b[0m\u001b[0;34m\u001b[0m\u001b[0m\n\u001b[0m",
      "\u001b[0;32m/Users/geomando/anaconda/lib/python3.5/site-packages/simpy/core.py\u001b[0m in \u001b[0;36mrun\u001b[0;34m(self, until)\u001b[0m\n\u001b[1;32m    135\u001b[0m         \u001b[0;32mtry\u001b[0m\u001b[0;34m:\u001b[0m\u001b[0;34m\u001b[0m\u001b[0m\n\u001b[1;32m    136\u001b[0m             \u001b[0;32mwhile\u001b[0m \u001b[0;32mTrue\u001b[0m\u001b[0;34m:\u001b[0m\u001b[0;34m\u001b[0m\u001b[0m\n\u001b[0;32m--> 137\u001b[0;31m                 \u001b[0mself\u001b[0m\u001b[0;34m.\u001b[0m\u001b[0mstep\u001b[0m\u001b[0;34m(\u001b[0m\u001b[0;34m)\u001b[0m\u001b[0;34m\u001b[0m\u001b[0m\n\u001b[0m\u001b[1;32m    138\u001b[0m         \u001b[0;32mexcept\u001b[0m \u001b[0mStopSimulation\u001b[0m \u001b[0;32mas\u001b[0m \u001b[0mexc\u001b[0m\u001b[0;34m:\u001b[0m\u001b[0;34m\u001b[0m\u001b[0m\n\u001b[1;32m    139\u001b[0m             \u001b[0;32mreturn\u001b[0m \u001b[0mexc\u001b[0m\u001b[0;34m.\u001b[0m\u001b[0margs\u001b[0m\u001b[0;34m[\u001b[0m\u001b[0;36m0\u001b[0m\u001b[0;34m]\u001b[0m  \u001b[0;31m# == until.value\u001b[0m\u001b[0;34m\u001b[0m\u001b[0m\n",
      "\u001b[0;32m/Users/geomando/anaconda/lib/python3.5/site-packages/simpy/core.py\u001b[0m in \u001b[0;36mstep\u001b[0;34m(self)\u001b[0m\n\u001b[1;32m    227\u001b[0m             \u001b[0mexc\u001b[0m \u001b[0;34m=\u001b[0m \u001b[0mtype\u001b[0m\u001b[0;34m(\u001b[0m\u001b[0mevent\u001b[0m\u001b[0;34m.\u001b[0m\u001b[0m_value\u001b[0m\u001b[0;34m)\u001b[0m\u001b[0;34m(\u001b[0m\u001b[0;34m*\u001b[0m\u001b[0mevent\u001b[0m\u001b[0;34m.\u001b[0m\u001b[0m_value\u001b[0m\u001b[0;34m.\u001b[0m\u001b[0margs\u001b[0m\u001b[0;34m)\u001b[0m\u001b[0;34m\u001b[0m\u001b[0m\n\u001b[1;32m    228\u001b[0m             \u001b[0mexc\u001b[0m\u001b[0;34m.\u001b[0m\u001b[0m__cause__\u001b[0m \u001b[0;34m=\u001b[0m \u001b[0mevent\u001b[0m\u001b[0;34m.\u001b[0m\u001b[0m_value\u001b[0m\u001b[0;34m\u001b[0m\u001b[0m\n\u001b[0;32m--> 229\u001b[0;31m             \u001b[0;32mraise\u001b[0m \u001b[0mexc\u001b[0m\u001b[0;34m\u001b[0m\u001b[0m\n\u001b[0m",
      "\u001b[0;31mAttributeError\u001b[0m: 'Household' object has no attribute 'rebuild_time'"
     ]
    }
   ],
   "source": [
    "sim.run()"
   ]
  },
  {
   "cell_type": "code",
   "execution_count": null,
   "metadata": {
    "collapsed": false
   },
   "outputs": [],
   "source": [
    "household[0].__getattribute__(\"claim_get\")"
   ]
  },
  {
   "cell_type": "code",
   "execution_count": null,
   "metadata": {
    "collapsed": false
   },
   "outputs": [],
   "source": [
    "import pprint\n",
    "length = (len(household))\n",
    "#for i in range(length):\n",
    "#    print (household[i].household.Damaged)\n",
    "count = 0\n",
    "for j in range(length):\n",
    "    #print (j)\n",
    "    for i in dir(household[j]):\n",
    "        if \"get\" in i and household[j].assessment_get < 500:\n",
    "            print (household[j].household.Name)\n",
    "            print(household[j].__getattribute__(i), \" \", i)\n",
    "            print(\"-------------------------\")\n",
    "            count += 1\n",
    "            print (count)"
   ]
  },
  {
   "cell_type": "code",
   "execution_count": null,
   "metadata": {
    "collapsed": false
   },
   "outputs": [],
   "source": [
    "len(res.housing_stock.items)"
   ]
  },
  {
   "cell_type": "code",
   "execution_count": null,
   "metadata": {
    "collapsed": false
   },
   "outputs": [],
   "source": [
    "vars((household[0]))\n"
   ]
  },
  {
   "cell_type": "code",
   "execution_count": null,
   "metadata": {
    "collapsed": false
   },
   "outputs": [],
   "source": []
  },
  {
   "cell_type": "code",
   "execution_count": null,
   "metadata": {
    "collapsed": true
   },
   "outputs": [],
   "source": []
  },
  {
   "cell_type": "code",
   "execution_count": null,
   "metadata": {
    "collapsed": true
   },
   "outputs": [],
   "source": []
  }
 ],
 "metadata": {
  "kernelspec": {
   "display_name": "Python 3",
   "language": "python",
   "name": "python3"
  },
  "language_info": {
   "codemirror_mode": {
    "name": "ipython",
    "version": 3
   },
   "file_extension": ".py",
   "mimetype": "text/x-python",
   "name": "python",
   "nbconvert_exporter": "python",
   "pygments_lexer": "ipython3",
   "version": "3.5.1"
  }
 },
 "nbformat": 4,
 "nbformat_minor": 0
}
