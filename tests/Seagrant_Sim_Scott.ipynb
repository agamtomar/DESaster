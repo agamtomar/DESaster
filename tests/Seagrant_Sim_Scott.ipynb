{
 "cells": [
  {
   "cell_type": "markdown",
   "metadata": {},
   "source": [
    "# DESaster Vers -  0.1"
   ]
  },
  {
   "cell_type": "code",
   "execution_count": 1,
   "metadata": {
    "collapsed": false
   },
   "outputs": [],
   "source": [
    "import sys, random\n",
    "desaster_path = \"/Users/geomando/Dropbox/github/SeaGrantSimulation\"\n",
    "sys.path.append(desaster_path)\n",
    "import simpy\n",
    "import pandas as pd\n",
    "import numpy as np\n",
    "import desaster\n",
    "from desaster import request, entities, rebuild, config, io\n"
   ]
  },
  {
   "cell_type": "markdown",
   "metadata": {},
   "source": [
    "##### instantiate a simpy environment"
   ]
  },
  {
   "cell_type": "code",
   "execution_count": 2,
   "metadata": {
    "collapsed": true
   },
   "outputs": [],
   "source": [
    "sim = simpy.Environment()"
   ]
  },
  {
   "cell_type": "code",
   "execution_count": 3,
   "metadata": {
    "collapsed": false
   },
   "outputs": [],
   "source": [
    "def simulation(sim, res, entity):\n",
    "    \n",
    "    yield sim.process(request.inspection(entity, \n",
    "                                       sim, \n",
    "                                       res))\n",
    "    #print (\"Inspection Started for {0} at {1}\".format(entity.name, sim.now))\n",
    "    \n",
    "    yield sim.process(request.file_insurance_claim(entity,\n",
    "                                         sim,\n",
    "                                         res))\n",
    "    #print (\"Insurance Started for {0} at {1}\".format(entity.name, sim.now))\n",
    "    \n",
    "    yield (sim.process(request.fema_assistance(entity,\n",
    "                                            sim,\n",
    "                                            res)) &\n",
    "           \n",
    "          sim.process(request.loan(entity, \n",
    "                                   sim, \n",
    "                                   res)) &\n",
    "                                            #THESE ARE ALL IN THE SAME YIELD STATEMENT\n",
    "          sim.process(request.permit(entity, \n",
    "                                     sim, \n",
    "                                     res)))\n",
    "    #print (\"PreBuilding processes Started for {0} at {1}\".format(entity.name, sim.now))\n",
    "    \n",
    "    \n",
    "    yield sim.process(rebuild.rebuild_house(entity,\n",
    "                                sim,\n",
    "                                res.contractors))\n",
    "    #print (\"Rebuild Started for {0} at {1}\".format(entity.name, sim.now))\n",
    "    \n",
    "    yield sim.process(request.engineering_assessment(entity,\n",
    "                                                    sim,\n",
    "                                                    res))\n",
    "    #print (\"Engineering assessment Started for {0} at {1}\".format(entity.name, sim.now))\n",
    "    "
   ]
  },
  {
   "cell_type": "code",
   "execution_count": 4,
   "metadata": {
    "collapsed": true
   },
   "outputs": [],
   "source": [
    "human_cap_data = {\"inspectors\": 100,\n",
    "        \"insurance adjusters\": 10,\n",
    "        \"fema processors\": 30,\n",
    "        \"permit processors\": 3,\n",
    "        \"contractors\": 25,\n",
    "        \"loan processors\": 2,\n",
    "        \"engineers\": 15,\n",
    "        \"fema aid\": 100000000}\n"
   ]
  },
  {
   "cell_type": "code",
   "execution_count": 5,
   "metadata": {
    "collapsed": false
   },
   "outputs": [],
   "source": [
    "res = desaster.Capitals(sim, human_cap_data)"
   ]
  },
  {
   "cell_type": "code",
   "execution_count": 6,
   "metadata": {
    "collapsed": false
   },
   "outputs": [
    {
     "name": "stdout",
     "output_type": "stream",
     "text": [
      "adjuster_mean = 90.0\n",
      "adjuster_std = 0.0\n",
      "adjuster_time = 90.0\n",
      "engineering_assessment_time = 14.0\n",
      "engineering_mean = 14.0\n",
      "engineering_std = 0.0\n",
      "fema_process_mean = 60.0\n",
      "fema_process_std = 0.0\n",
      "fema_process_time = 60.0\n",
      "inspection_mean = 14.0\n",
      "inspection_std = 0\n",
      "inspection_time = 14.0\n",
      "loan_process_mean = 90.0\n",
      "loan_process_std = 0.0\n",
      "loan_process_time = 90.0\n",
      "permit_process_mean = 30.0\n",
      "permit_process_std = 0.0\n",
      "permit_process_time = 30.0\n",
      "sfr_rebuild_mean = 30.0\n",
      "sfr_rebuild_std = 0.0\n",
      "sfr_rebuild_time = 30.0\n"
     ]
    }
   ],
   "source": [
    "d = io.view_config()"
   ]
  },
  {
   "cell_type": "code",
   "execution_count": 7,
   "metadata": {
    "collapsed": false
   },
   "outputs": [
    {
     "data": {
      "text/html": [
       "<div>\n",
       "<table border=\"1\" class=\"dataframe\">\n",
       "  <thead>\n",
       "    <tr style=\"text-align: right;\">\n",
       "      <th></th>\n",
       "      <th>Address</th>\n",
       "      <th>Lat</th>\n",
       "      <th>Long</th>\n",
       "      <th>NEAR_FID</th>\n",
       "      <th>NEAR_DIST</th>\n",
       "      <th>FID_1</th>\n",
       "      <th>ID_Number</th>\n",
       "      <th>Tract</th>\n",
       "      <th>Name</th>\n",
       "      <th>YearBuilt</th>\n",
       "      <th>...</th>\n",
       "      <th>None</th>\n",
       "      <th>Slight</th>\n",
       "      <th>Moderate</th>\n",
       "      <th>Extensive</th>\n",
       "      <th>Complete</th>\n",
       "      <th>At_Least_S</th>\n",
       "      <th>At_Least_M</th>\n",
       "      <th>At_Least_E</th>\n",
       "      <th>TotalRep</th>\n",
       "      <th>Damaged</th>\n",
       "    </tr>\n",
       "  </thead>\n",
       "  <tbody>\n",
       "    <tr>\n",
       "      <th>0</th>\n",
       "      <td>1 ULLAKKO RD</td>\n",
       "      <td>46.350970</td>\n",
       "      <td>-123.812630</td>\n",
       "      <td>2993</td>\n",
       "      <td>0.000727</td>\n",
       "      <td>2993</td>\n",
       "      <td>US002994</td>\n",
       "      <td>5.304995e+10</td>\n",
       "      <td>HILL, DOROTHY M</td>\n",
       "      <td>1975</td>\n",
       "      <td>...</td>\n",
       "      <td>0.004</td>\n",
       "      <td>0.08</td>\n",
       "      <td>0.578</td>\n",
       "      <td>0.327</td>\n",
       "      <td>0.01</td>\n",
       "      <td>0.996</td>\n",
       "      <td>0.916</td>\n",
       "      <td>0.337</td>\n",
       "      <td>68700.0</td>\n",
       "      <td>1</td>\n",
       "    </tr>\n",
       "    <tr>\n",
       "      <th>1</th>\n",
       "      <td>10 KOVEN ROAD</td>\n",
       "      <td>46.367306</td>\n",
       "      <td>-123.816740</td>\n",
       "      <td>203</td>\n",
       "      <td>0.000550</td>\n",
       "      <td>203</td>\n",
       "      <td>US000204</td>\n",
       "      <td>5.304995e+10</td>\n",
       "      <td>LEINWEBER, MICHAEL D &amp; THERESA</td>\n",
       "      <td>1975</td>\n",
       "      <td>...</td>\n",
       "      <td>0.004</td>\n",
       "      <td>0.08</td>\n",
       "      <td>0.578</td>\n",
       "      <td>0.327</td>\n",
       "      <td>0.01</td>\n",
       "      <td>0.996</td>\n",
       "      <td>0.916</td>\n",
       "      <td>0.337</td>\n",
       "      <td>119100.0</td>\n",
       "      <td>1</td>\n",
       "    </tr>\n",
       "    <tr>\n",
       "      <th>2</th>\n",
       "      <td>10 RYE LANE</td>\n",
       "      <td>46.587673</td>\n",
       "      <td>-123.619364</td>\n",
       "      <td>2934</td>\n",
       "      <td>0.003318</td>\n",
       "      <td>2934</td>\n",
       "      <td>US002935</td>\n",
       "      <td>5.304995e+10</td>\n",
       "      <td>MARTIN, PATRICIA L</td>\n",
       "      <td>1969</td>\n",
       "      <td>...</td>\n",
       "      <td>0.004</td>\n",
       "      <td>0.08</td>\n",
       "      <td>0.578</td>\n",
       "      <td>0.327</td>\n",
       "      <td>0.01</td>\n",
       "      <td>0.996</td>\n",
       "      <td>0.916</td>\n",
       "      <td>0.337</td>\n",
       "      <td>49950.0</td>\n",
       "      <td>1</td>\n",
       "    </tr>\n",
       "  </tbody>\n",
       "</table>\n",
       "<p>3 rows × 25 columns</p>\n",
       "</div>"
      ],
      "text/plain": [
       "         Address        Lat        Long  NEAR_FID  NEAR_DIST  FID_1 ID_Number  \\\n",
       "0   1 ULLAKKO RD  46.350970 -123.812630      2993   0.000727   2993  US002994   \n",
       "1  10 KOVEN ROAD  46.367306 -123.816740       203   0.000550    203  US000204   \n",
       "2    10 RYE LANE  46.587673 -123.619364      2934   0.003318   2934  US002935   \n",
       "\n",
       "          Tract                            Name  YearBuilt   ...      None  \\\n",
       "0  5.304995e+10                 HILL, DOROTHY M       1975   ...     0.004   \n",
       "1  5.304995e+10  LEINWEBER, MICHAEL D & THERESA       1975   ...     0.004   \n",
       "2  5.304995e+10              MARTIN, PATRICIA L       1969   ...     0.004   \n",
       "\n",
       "   Slight  Moderate  Extensive  Complete  At_Least_S  At_Least_M  At_Least_E  \\\n",
       "0    0.08     0.578      0.327      0.01       0.996       0.916       0.337   \n",
       "1    0.08     0.578      0.327      0.01       0.996       0.916       0.337   \n",
       "2    0.08     0.578      0.327      0.01       0.996       0.916       0.337   \n",
       "\n",
       "   TotalRep  Damaged  \n",
       "0   68700.0        1  \n",
       "1  119100.0        1  \n",
       "2   49950.0        1  \n",
       "\n",
       "[3 rows x 25 columns]"
      ]
     },
     "execution_count": 7,
     "metadata": {},
     "output_type": "execute_result"
    }
   ],
   "source": [
    "input_path = \"../inputs/Final_Maura_Inputs.csv\"\n",
    "households_df = pd.read_csv(input_path)\n",
    "households_df.head(3)"
   ]
  },
  {
   "cell_type": "code",
   "execution_count": 8,
   "metadata": {
    "collapsed": false
   },
   "outputs": [],
   "source": [
    "household = {}\n",
    "for i in households_df.index:\n",
    "    household[i] = entities.Household(households_df.loc[i])"
   ]
  },
  {
   "cell_type": "code",
   "execution_count": 9,
   "metadata": {
    "collapsed": false
   },
   "outputs": [],
   "source": [
    "for i in range(len(household)):\n",
    "    #print (household[i])\n",
    "    sim.process(simulation(sim, res, household[i]))"
   ]
  },
  {
   "cell_type": "code",
   "execution_count": 10,
   "metadata": {
    "collapsed": false,
    "scrolled": true
   },
   "outputs": [],
   "source": [
    "sim.run()"
   ]
  },
  {
   "cell_type": "code",
   "execution_count": 15,
   "metadata": {
    "collapsed": false
   },
   "outputs": [
    {
     "data": {
      "text/plain": [
       "0.0"
      ]
     },
     "execution_count": 15,
     "metadata": {},
     "output_type": "execute_result"
    }
   ],
   "source": [
    "household[0].__getattribute__(\"insurance_coverage\")"
   ]
  },
  {
   "cell_type": "code",
   "execution_count": 12,
   "metadata": {
    "collapsed": false
   },
   "outputs": [
    {
     "name": "stdout",
     "output_type": "stream",
     "text": [
      "HILL, DOROTHY M\n",
      "<method-wrapper '__getattribute__' of Household object at 0x106913940>   __getattribute__\n",
      "-------------------------\n",
      "1\n",
      "HILL, DOROTHY M\n",
      "238.0   assessment_get\n",
      "-------------------------\n",
      "2\n",
      "HILL, DOROTHY M\n",
      "164.0   assistance_get\n",
      "-------------------------\n",
      "3\n",
      "HILL, DOROTHY M\n",
      "104.0   claim_get\n",
      "-------------------------\n",
      "4\n",
      "HILL, DOROTHY M\n",
      "224.0   house_get\n",
      "-------------------------\n",
      "5\n",
      "HILL, DOROTHY M\n",
      "14.0   inspection_get\n",
      "-------------------------\n",
      "6\n",
      "HILL, DOROTHY M\n",
      "194.0   loan_time_get\n",
      "-------------------------\n",
      "7\n",
      "HILL, DOROTHY M\n",
      "134.0   permit_get\n",
      "-------------------------\n",
      "8\n",
      "LEINWEBER, MICHAEL D & THERESA\n",
      "<method-wrapper '__getattribute__' of Household object at 0x106913b38>   __getattribute__\n",
      "-------------------------\n",
      "9\n",
      "LEINWEBER, MICHAEL D & THERESA\n",
      "238.0   assessment_get\n",
      "-------------------------\n",
      "10\n",
      "LEINWEBER, MICHAEL D & THERESA\n",
      "164.0   assistance_get\n",
      "-------------------------\n",
      "11\n",
      "LEINWEBER, MICHAEL D & THERESA\n",
      "104.0   claim_get\n",
      "-------------------------\n",
      "12\n",
      "LEINWEBER, MICHAEL D & THERESA\n",
      "224.0   house_get\n",
      "-------------------------\n",
      "13\n",
      "LEINWEBER, MICHAEL D & THERESA\n",
      "14.0   inspection_get\n",
      "-------------------------\n",
      "14\n",
      "LEINWEBER, MICHAEL D & THERESA\n",
      "194.0   loan_time_get\n",
      "-------------------------\n",
      "15\n",
      "LEINWEBER, MICHAEL D & THERESA\n",
      "134.0   permit_get\n",
      "-------------------------\n",
      "16\n",
      "MARTIN, PATRICIA L\n",
      "<method-wrapper '__getattribute__' of Household object at 0x106913c88>   __getattribute__\n",
      "-------------------------\n",
      "17\n",
      "MARTIN, PATRICIA L\n",
      "328.0   assessment_get\n",
      "-------------------------\n",
      "18\n",
      "MARTIN, PATRICIA L\n",
      "164.0   assistance_get\n",
      "-------------------------\n",
      "19\n",
      "MARTIN, PATRICIA L\n",
      "104.0   claim_get\n",
      "-------------------------\n",
      "20\n",
      "MARTIN, PATRICIA L\n",
      "314.0   house_get\n",
      "-------------------------\n",
      "21\n",
      "MARTIN, PATRICIA L\n",
      "14.0   inspection_get\n",
      "-------------------------\n",
      "22\n",
      "MARTIN, PATRICIA L\n",
      "284.0   loan_time_get\n",
      "-------------------------\n",
      "23\n",
      "MARTIN, PATRICIA L\n",
      "134.0   permit_get\n",
      "-------------------------\n",
      "24\n",
      "THORSTEINSSON, STEINGRIMUR & SUE\n",
      "<method-wrapper '__getattribute__' of Household object at 0x10691b0b8>   __getattribute__\n",
      "-------------------------\n",
      "25\n",
      "THORSTEINSSON, STEINGRIMUR & SUE\n",
      "328.0   assessment_get\n",
      "-------------------------\n",
      "26\n",
      "THORSTEINSSON, STEINGRIMUR & SUE\n",
      "164.0   assistance_get\n",
      "-------------------------\n",
      "27\n",
      "THORSTEINSSON, STEINGRIMUR & SUE\n",
      "104.0   claim_get\n",
      "-------------------------\n",
      "28\n",
      "THORSTEINSSON, STEINGRIMUR & SUE\n",
      "314.0   house_get\n",
      "-------------------------\n",
      "29\n",
      "THORSTEINSSON, STEINGRIMUR & SUE\n",
      "14.0   inspection_get\n",
      "-------------------------\n",
      "30\n",
      "THORSTEINSSON, STEINGRIMUR & SUE\n",
      "284.0   loan_time_get\n",
      "-------------------------\n",
      "31\n",
      "THORSTEINSSON, STEINGRIMUR & SUE\n",
      "164.0   permit_get\n",
      "-------------------------\n",
      "32\n",
      "MARTI, ELIZABETH\n",
      "<method-wrapper '__getattribute__' of Household object at 0x10691b128>   __getattribute__\n",
      "-------------------------\n",
      "33\n",
      "MARTI, ELIZABETH\n",
      "418.0   assessment_get\n",
      "-------------------------\n",
      "34\n",
      "MARTI, ELIZABETH\n",
      "164.0   assistance_get\n",
      "-------------------------\n",
      "35\n",
      "MARTI, ELIZABETH\n",
      "104.0   claim_get\n",
      "-------------------------\n",
      "36\n",
      "MARTI, ELIZABETH\n",
      "404.0   house_get\n",
      "-------------------------\n",
      "37\n",
      "MARTI, ELIZABETH\n",
      "14.0   inspection_get\n",
      "-------------------------\n",
      "38\n",
      "MARTI, ELIZABETH\n",
      "374.0   loan_time_get\n",
      "-------------------------\n",
      "39\n",
      "MARTI, ELIZABETH\n",
      "164.0   permit_get\n",
      "-------------------------\n",
      "40\n",
      "PREINESBERGER, VINCENT & INGE\n",
      "<method-wrapper '__getattribute__' of Household object at 0x10691b080>   __getattribute__\n",
      "-------------------------\n",
      "41\n",
      "PREINESBERGER, VINCENT & INGE\n",
      "418.0   assessment_get\n",
      "-------------------------\n",
      "42\n",
      "PREINESBERGER, VINCENT & INGE\n",
      "164.0   assistance_get\n",
      "-------------------------\n",
      "43\n",
      "PREINESBERGER, VINCENT & INGE\n",
      "104.0   claim_get\n",
      "-------------------------\n",
      "44\n",
      "PREINESBERGER, VINCENT & INGE\n",
      "404.0   house_get\n",
      "-------------------------\n",
      "45\n",
      "PREINESBERGER, VINCENT & INGE\n",
      "14.0   inspection_get\n",
      "-------------------------\n",
      "46\n",
      "PREINESBERGER, VINCENT & INGE\n",
      "374.0   loan_time_get\n",
      "-------------------------\n",
      "47\n",
      "PREINESBERGER, VINCENT & INGE\n",
      "164.0   permit_get\n",
      "-------------------------\n",
      "48\n"
     ]
    }
   ],
   "source": [
    "import pprint\n",
    "length = (len(household))\n",
    "#for i in range(length):\n",
    "#    print (household[i].household.Damaged)\n",
    "count = 0\n",
    "for j in range(length):\n",
    "    #print (j)\n",
    "    for i in dir(household[j]):\n",
    "        if \"get\" in i and household[j].assessment_get < 500:\n",
    "            print (household[j].household.Name)\n",
    "            print(household[j].__getattribute__(i), \" \", i)\n",
    "            print(\"-------------------------\")\n",
    "            count += 1\n",
    "            print (count)"
   ]
  },
  {
   "cell_type": "code",
   "execution_count": 13,
   "metadata": {
    "collapsed": false
   },
   "outputs": [
    {
     "data": {
      "text/plain": [
       "2000"
      ]
     },
     "execution_count": 13,
     "metadata": {},
     "output_type": "execute_result"
    }
   ],
   "source": [
    "len(res.housing_stock.items)"
   ]
  },
  {
   "cell_type": "code",
   "execution_count": 14,
   "metadata": {
    "collapsed": false
   },
   "outputs": [
    {
     "data": {
      "text/plain": [
       "{'assessment_get': 238.0,\n",
       " 'assessment_put': 224.0,\n",
       " 'assistance_get': 164.0,\n",
       " 'assistance_payout': 0,\n",
       " 'assistance_put': 104.0,\n",
       " 'assistance_request': 68700.0,\n",
       " 'claim_get': 104.0,\n",
       " 'claim_payout': 0.0,\n",
       " 'claim_put': 14.0,\n",
       " 'damage_value': 68700.0,\n",
       " 'damaged': 1,\n",
       " 'house_get': 224.0,\n",
       " 'house_put': 194.0,\n",
       " 'household': Address          1 ULLAKKO RD\n",
       " Lat                    46.351\n",
       " Long                 -123.813\n",
       " NEAR_FID                 2993\n",
       " NEAR_DIST          0.00072734\n",
       " FID_1                    2993\n",
       " ID_Number            US002994\n",
       " Tract               5.305e+10\n",
       " Name          HILL, DOROTHY M\n",
       " YearBuilt                1975\n",
       " Replacemen              45800\n",
       " Content_Va              22900\n",
       " Latitude              46.3516\n",
       " Longitude            -123.812\n",
       " Comment           1.00917e+10\n",
       " None                    0.004\n",
       " Slight                   0.08\n",
       " Moderate                0.578\n",
       " Extensive               0.327\n",
       " Complete                 0.01\n",
       " At_Least_S              0.996\n",
       " At_Least_M              0.916\n",
       " At_Least_E              0.337\n",
       " TotalRep                68700\n",
       " Damaged                     1\n",
       " Name: 0, dtype: object,\n",
       " 'inspection_get': 14.0,\n",
       " 'inspection_put': 0,\n",
       " 'insurance_coverage': 0.0,\n",
       " 'loan_put': 104.0,\n",
       " 'loan_time_get': 194.0,\n",
       " 'money_to_rebuild': 0,\n",
       " 'name': 'HILL, DOROTHY M',\n",
       " 'permit_get': 134.0,\n",
       " 'permit_put': 104.0,\n",
       " 'savings': 7827.519792030717,\n",
       " 'story': [\"HILL, DOROTHY M's house was inspected 14.0 days after the event. \",\n",
       "  'HILL, DOROTHY M received a $0.0 insurance payout after a 104.0 day wait.',\n",
       "  'HILL, DOROTHY M received permit approval 134.0 days after event.',\n",
       "  'HILL, DOROTHY M received no money from FEMA because of inadequate funding.',\n",
       "  'HILL, DOROTHY M received their loan 194.0 days after event',\n",
       "  'The house was rebuilt 224.0 days after the quake, taking 30.0 days to rebuild. ',\n",
       "  'HILL, DOROTHY M received their engineering assessment after 238.0 days.']}"
      ]
     },
     "execution_count": 14,
     "metadata": {},
     "output_type": "execute_result"
    }
   ],
   "source": [
    "vars((household[0]))\n"
   ]
  },
  {
   "cell_type": "code",
   "execution_count": null,
   "metadata": {
    "collapsed": false
   },
   "outputs": [],
   "source": []
  },
  {
   "cell_type": "code",
   "execution_count": null,
   "metadata": {
    "collapsed": true
   },
   "outputs": [],
   "source": []
  },
  {
   "cell_type": "code",
   "execution_count": null,
   "metadata": {
    "collapsed": true
   },
   "outputs": [],
   "source": []
  }
 ],
 "metadata": {
  "kernelspec": {
   "display_name": "Python 3",
   "language": "python",
   "name": "python3"
  },
  "language_info": {
   "codemirror_mode": {
    "name": "ipython",
    "version": 3
   },
   "file_extension": ".py",
   "mimetype": "text/x-python",
   "name": "python",
   "nbconvert_exporter": "python",
   "pygments_lexer": "ipython3",
   "version": "3.5.1"
  }
 },
 "nbformat": 4,
 "nbformat_minor": 0
}
