{
 "cells": [
  {
   "cell_type": "markdown",
   "metadata": {},
   "source": [
    "# DESaster Vers -  0.1"
   ]
  },
  {
   "cell_type": "code",
   "execution_count": 3,
   "metadata": {
    "collapsed": false
   },
   "outputs": [],
   "source": [
    "import sys, random\n",
    "desaster_path = \"/Users/geomando/Dropbox/github/SeaGrantSimulation\"\n",
    "sys.path.append(desaster_path)\n",
    "import simpy\n",
    "import pandas as pd\n",
    "import numpy as np\n",
    "from desaster import entities, capitals, request, io, movement, search, rebuild"
   ]
  },
  {
   "cell_type": "code",
   "execution_count": 4,
   "metadata": {
    "collapsed": true
   },
   "outputs": [],
   "source": [
    "simulation = simpy.Environment()\n",
    "\n",
    "write_story = True"
   ]
  },
  {
   "cell_type": "code",
   "execution_count": 5,
   "metadata": {
    "collapsed": false
   },
   "outputs": [],
   "source": [
    "def find_rebuild_money(simulation, human_capital, financial_capital, entity, write_story):\n",
    "    try:\n",
    "        \n",
    "        patience_length = 900.0\n",
    "        start_money_search = simulation.now\n",
    "        patience_end = simulation.now + patience_length\n",
    "        \n",
    "        if entity.insurance > 0.0:\n",
    "        \n",
    "            find_money_patience = simulation.timeout(patience_end - simulation.now, value='Gave up')\n",
    "            try_insurance = simulation.process(request.insurance_claim(simulation, human_capital, entity, write_story))\n",
    "            \n",
    "            money_search_outcome = yield find_money_patience | try_insurance\n",
    "            \n",
    "            if money_search_outcome == {find_money_patience: 'Gave up'}:\n",
    "                \n",
    "                try_insurance.interrupt(simulation.now - start_money_search)\n",
    "\n",
    "\n",
    "                return\n",
    "        \n",
    "        if entity.money_to_rebuild < entity.residence.damage_value:\n",
    "            \n",
    "            find_money_patience = simulation.timeout(patience_end - simulation.now, value='Gave up')\n",
    "            try_fema = simulation.process(request.fema_assistance(simulation, human_capital, \n",
    "                                                                  financial_capital, entity, write_story))\n",
    "            \n",
    "            money_search_outcome = yield find_money_patience | try_fema\n",
    "            \n",
    "            if money_search_outcome == {find_money_patience: 'Gave up'}:\n",
    "                try_fema.interrupt(simulation.now - start_money_search)\n",
    "\n",
    "                return\n",
    "            \n",
    "        if entity.money_to_rebuild < entity.residence.damage_value:\n",
    "            \n",
    "            find_money_patience = simulation.timeout(patience_end - simulation.now, value='Gave up')\n",
    "            try_loan = simulation.process(request.loan(simulation, human_capital, entity, write_story))\n",
    "            \n",
    "            money_search_outcome = yield find_money_patience | try_loan\n",
    "            \n",
    "            if money_search_outcome == {find_money_patience: 'Gave up'}:\n",
    "                try_loan.interrupt(simulation.now - start_money_search)\n",
    "\n",
    "                return\n",
    "            \n",
    "        if write_story == True:    \n",
    "            entity.story.append(\n",
    "                                    'It took {0} {1} days to exhaust the search for money. '.format(\n",
    "                                    entity.name, simulation.now - start_money_search))\n",
    "\n",
    "        return\n",
    "    \n",
    "    except:\n",
    "        \n",
    "        if write_story == True:\n",
    "            entity.story.append(\n",
    "                                '{0} gave up searching for money after {1} days. '.format(\n",
    "                                    entity.name, simulation.now - start_money_search))\n",
    "\n",
    "        return"
   ]
  },
  {
   "cell_type": "code",
   "execution_count": 6,
   "metadata": {
    "collapsed": true
   },
   "outputs": [],
   "source": [
    "def master_process(simulation, human_capital, financial_capital, entity, write_story):\n",
    "       \n",
    "    yield simulation.process(request.inspection(simulation, human_capital, entity, write_story))\n",
    "    \n",
    "    if entity.money_to_rebuild < entity.residence.damage_value:\n",
    "        yield simulation.process(find_rebuild_money(simulation, human_capital, \n",
    "                                                                     financial_capital, entity, write_story))\n",
    "\n",
    "    if entity.money_to_rebuild >= entity.residence.damage_value:\n",
    "        yield simulation.process(request.engineering_assessment(simulation, human_capital, entity, write_story))\n",
    "        \n",
    "        yield simulation.process(request.permit(simulation, human_capital, entity, write_story))\n",
    "        \n",
    "        yield simulation.process(rebuild.rebuild_house(simulation, human_capital, entity, write_story))\n",
    "        \n",
    "        return\n",
    "   "
   ]
  },
  {
   "cell_type": "code",
   "execution_count": 10,
   "metadata": {
    "collapsed": false
   },
   "outputs": [],
   "source": [
    "human_cap_data = {\n",
    "        \"inspectors\": 4,\n",
    "        \"insurance adjusters\": 4,\n",
    "        \"fema processors\": 4,\n",
    "        \"permit processors\": 4,\n",
    "        \"contractors\": 4,\n",
    "        \"loan processors\": 4,\n",
    "        \"engineers\": 4\n",
    "                 }\n",
    "\n",
    "human_capital = capitals.HumanCapital(simulation, human_cap_data) "
   ]
  },
  {
   "cell_type": "code",
   "execution_count": null,
   "metadata": {
    "collapsed": false
   },
   "outputs": [],
   "source": [
    "financial_cap_data = {\"fema aid\": 350000000}\n",
    "# financial_cap_data = {\"fema aid\": 0}\n",
    "\n",
    "financial_capital = capitals.FinancialCapital(simulation, financial_cap_data) "
   ]
  },
  {
   "cell_type": "code",
   "execution_count": null,
   "metadata": {
    "collapsed": false
   },
   "outputs": [],
   "source": [
    "file_path = \"../inputs/household_inputs_test.csv\"\n",
    "households_df = pd.read_csv(file_path)\n",
    "\n",
    "households_df.head()\n",
    "\n"
   ]
  },
  {
   "cell_type": "code",
   "execution_count": null,
   "metadata": {
    "collapsed": false
   },
   "outputs": [],
   "source": [
    "# Calcuate damage value based on HAZUS damage ratio lookup table\n",
    "damage_value = []\n",
    "\n",
    "struct_repair_ratios_table = config.set_structural_damage_ratios()\n",
    "\n",
    "accel_repair_ratios_table = config.set_acceleration_damage_ratios()\n",
    "\n",
    "drift_repair_ratios_table = config.set_drift_damage_ratios()\n",
    "\n",
    "for i in households_df.index:\n",
    "        struct_repair_ratio = struct_repair_ratios_table.ix[households_df.iloc[i]['Occupancy']][households_df.iloc[i]['Damage State']] / 100.0\n",
    "        accel_repair_ratio = accel_repair_ratios_table.ix[households_df.iloc[i]['Occupancy']][households_df.iloc[i]['Damage State']] / 100.0\n",
    "        drift_repair_ratio = drift_repair_ratios_table.ix[households_df.iloc[i]['Occupancy']][households_df.iloc[i]['Damage State']] / 100.0\n",
    "        damage_value.append(households_df.iloc[i]['Value']*(struct_repair_ratio + \n",
    "                                                            accel_repair_ratio + \n",
    "                                                            drift_repair_ratio))\n",
    "\n",
    "households_df['Damage Value'] = pd.Series(damage_value)\n",
    "\n",
    "\n",
    "households_df.head()"
   ]
  },
  {
   "cell_type": "code",
   "execution_count": null,
   "metadata": {
    "collapsed": false
   },
   "outputs": [],
   "source": [
    "household = {}\n",
    "for i in households_df.index:\n",
    "    household[i] = entities.Household(simulation, households_df.iloc[i], write_story)"
   ]
  },
  {
   "cell_type": "code",
   "execution_count": null,
   "metadata": {
    "collapsed": false
   },
   "outputs": [],
   "source": [
    "for i in range(len(household)):\n",
    "    simulation.process(master_process(simulation, human_capital, financial_capital, household[i], write_story))"
   ]
  },
  {
   "cell_type": "code",
   "execution_count": null,
   "metadata": {
    "collapsed": false,
    "scrolled": true
   },
   "outputs": [],
   "source": [
    "simulation.run()"
   ]
  },
  {
   "cell_type": "code",
   "execution_count": null,
   "metadata": {
    "collapsed": false
   },
   "outputs": [],
   "source": [
    "household[1].story"
   ]
  },
  {
   "cell_type": "code",
   "execution_count": null,
   "metadata": {
    "collapsed": false
   },
   "outputs": [],
   "source": [
    "household[2].story"
   ]
  },
  {
   "cell_type": "code",
   "execution_count": null,
   "metadata": {
    "collapsed": false
   },
   "outputs": [],
   "source": [
    "household[3].story"
   ]
  },
  {
   "cell_type": "code",
   "execution_count": null,
   "metadata": {
    "collapsed": false
   },
   "outputs": [],
   "source": [
    "config.set_acceleration_damage_ratios()"
   ]
  },
  {
   "cell_type": "code",
   "execution_count": null,
   "metadata": {
    "collapsed": false
   },
   "outputs": [],
   "source": [
    "config.set_parameters()"
   ]
  },
  {
   "cell_type": "code",
   "execution_count": null,
   "metadata": {
    "collapsed": true
   },
   "outputs": [],
   "source": []
  }
 ],
 "metadata": {
  "kernelspec": {
   "display_name": "Python 3",
   "language": "python",
   "name": "python3"
  },
  "language_info": {
   "codemirror_mode": {
    "name": "ipython",
    "version": 3
   },
   "file_extension": ".py",
   "mimetype": "text/x-python",
   "name": "python",
   "nbconvert_exporter": "python",
   "pygments_lexer": "ipython3",
   "version": "3.5.1"
  }
 },
 "nbformat": 4,
 "nbformat_minor": 0
}
