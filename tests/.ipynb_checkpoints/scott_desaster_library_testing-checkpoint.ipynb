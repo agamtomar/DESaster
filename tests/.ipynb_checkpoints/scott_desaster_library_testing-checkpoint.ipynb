{
 "cells": [
  {
   "cell_type": "markdown",
   "metadata": {},
   "source": [
    "# DESaster Vers -  0.1"
   ]
  },
  {
   "cell_type": "code",
   "execution_count": 55,
   "metadata": {
    "collapsed": false
   },
   "outputs": [],
   "source": [
    "import sys, random\n",
    "desaster_path = \"/Users/geomando/Dropbox/github/SeaGrantSimulation\"\n",
    "sys.path.append(desaster_path)\n",
    "import simpy\n",
    "import pandas as pd\n",
    "import numpy as np\n",
    "import desaster\n"
   ]
  },
  {
   "cell_type": "markdown",
   "metadata": {},
   "source": [
    "##### instantiate a simpy environment"
   ]
  },
  {
   "cell_type": "code",
   "execution_count": 56,
   "metadata": {
    "collapsed": true
   },
   "outputs": [],
   "source": [
    "sim = simpy.Environment()"
   ]
  },
  {
   "cell_type": "code",
   "execution_count": 57,
   "metadata": {
    "collapsed": false
   },
   "outputs": [],
   "source": [
    "def find_rebuild_money(simulation, human_capital, financial_capital, entity):\n",
    "    try:\n",
    "        \n",
    "        patience_length = 29.0\n",
    "        start_money_search = simulation.now\n",
    "        patience_end = simulation.now + patience_length\n",
    "        \n",
    "        if entity.insurance > 0.0:\n",
    "        \n",
    "            find_money_patience = simulation.timeout(patience_end - simulation.now, value='Gave up')\n",
    "            try_insurance = simulation.process(insurance_claim(simulation, human_capital, entity))\n",
    "            \n",
    "            money_search_outcome = yield find_money_patience | try_insurance\n",
    "            \n",
    "            if money_search_outcome == {find_money_patience: 'Gave up'}:\n",
    "                \n",
    "                try_insurance.interrupt(simulation.now - start_money_search)\n",
    "\n",
    "\n",
    "                return\n",
    "        \n",
    "        if entity.money_to_rebuild < entity.residence.damage_value:\n",
    "            \n",
    "            find_money_patience = simulation.timeout(patience_end - simulation.now, value='Gave up')\n",
    "            try_fema = simulation.process(fema_assistance(simulation, human_capital, financial_capital, entity))\n",
    "            \n",
    "            money_search_outcome = yield find_money_patience | try_fema\n",
    "            \n",
    "            if money_search_outcome == {find_money_patience: 'Gave up'}:\n",
    "                try_fema.interrupt(simulation.now - start_money_search)\n",
    "\n",
    "                return\n",
    "            \n",
    "        if entity.money_to_rebuild < entity.residence.damage_value:\n",
    "            \n",
    "            find_money_patience = simulation.timeout(patience_end - simulation.now, value='Gave up')\n",
    "            try_loan = simulation.process(loan(simulation, human_capital, entity))\n",
    "            \n",
    "            money_search_outcome = yield find_money_patience | try_loan\n",
    "            \n",
    "            if money_search_outcome == {find_money_patience: 'Gave up'}:\n",
    "                try_loan.interrupt(simulation.now - start_money_search)\n",
    "\n",
    "                return\n",
    "            \n",
    "            \n",
    "        entity.story.append(\n",
    "                                'It took {0} {1} days to exhaust the search for money. '.format(\n",
    "                                entity.name, simulation.now - start_money_search))\n",
    "\n",
    "        return\n",
    "    \n",
    "    except:\n",
    "        \n",
    "        entity.story.append(\n",
    "                            '{0} gave up searching for money after {1} days. '.format(\n",
    "                                entity.name, simulation.now - start_money_search))\n",
    "        \n",
    "        return"
   ]
  },
  {
   "cell_type": "code",
   "execution_count": 58,
   "metadata": {
    "collapsed": true
   },
   "outputs": [],
   "source": [
    "def master_process(simulation, human_capital, financial_capital, entity):\n",
    "       \n",
    "    yield simulation.process(inspection(simulation, human_capital, entity))\n",
    "    \n",
    "    if entity.money_to_rebuild < entity.residence.damage_value:\n",
    "        rebuild_money_search = simulation.process(find_rebuild_money(simulation, human_capital, financial_capital, entity))\n",
    "\n",
    "    \n",
    "    if entity.money_to_rebuild >= entity.residence.damage_value:\n",
    "        yield simulation.process(engineering_assessment(simulation, human_capital, entity))\n",
    "        \n",
    "        yield simulation.process(permit(simulation, human_capital, entity))\n",
    "        \n",
    "        yield simulation.process(rebuild_house(simulation, human_capital, entity))\n",
    "        \n",
    "        return\n",
    "   "
   ]
  },
  {
   "cell_type": "code",
   "execution_count": 59,
   "metadata": {
    "collapsed": false
   },
   "outputs": [],
   "source": [
    "human_cap_data = {\n",
    "        \"inspectors\": 1,\n",
    "        \"insurance adjusters\": 1,\n",
    "        \"fema processors\": 1,\n",
    "        \"permit processors\": 1,\n",
    "        \"contractors\": 1,\n",
    "        \"loan processors\": 1,\n",
    "        \"engineers\": 1\n",
    "                 }\n",
    "\n",
    "human_capital = capitals.HumanCapital(simulation, human_cap_data) "
   ]
  },
  {
   "cell_type": "code",
   "execution_count": 60,
   "metadata": {
    "collapsed": false
   },
   "outputs": [],
   "source": [
    "financial_cap_data = {\"fema aid\": 350000000}\n",
    "# financial_cap_data = {\"fema aid\": 0}\n",
    "\n",
    "financial_capital = capitals.FinancialCapital(simulation, financial_cap_data) "
   ]
  },
  {
   "cell_type": "code",
   "execution_count": 61,
   "metadata": {
    "collapsed": false
   },
   "outputs": [
    {
     "data": {
      "text/html": [
       "<div>\n",
       "<table border=\"1\" class=\"dataframe\">\n",
       "  <thead>\n",
       "    <tr style=\"text-align: right;\">\n",
       "      <th></th>\n",
       "      <th>Name</th>\n",
       "      <th>Income</th>\n",
       "      <th>Savings</th>\n",
       "      <th>Insurance</th>\n",
       "      <th>Address</th>\n",
       "      <th>Occupancy</th>\n",
       "      <th>Cost</th>\n",
       "      <th>Bedrooms</th>\n",
       "      <th>Bathrooms</th>\n",
       "      <th>Area</th>\n",
       "      <th>Year Built</th>\n",
       "      <th>Value</th>\n",
       "      <th>Damage State</th>\n",
       "      <th>Damage Value</th>\n",
       "    </tr>\n",
       "  </thead>\n",
       "  <tbody>\n",
       "    <tr>\n",
       "      <th>0</th>\n",
       "      <td>Alfred</td>\n",
       "      <td>30000</td>\n",
       "      <td>10000</td>\n",
       "      <td>0</td>\n",
       "      <td>62 That St</td>\n",
       "      <td>Mobile</td>\n",
       "      <td>100</td>\n",
       "      <td>1</td>\n",
       "      <td>1</td>\n",
       "      <td>700</td>\n",
       "      <td>1920</td>\n",
       "      <td>100000</td>\n",
       "      <td>None</td>\n",
       "      <td>20000</td>\n",
       "    </tr>\n",
       "    <tr>\n",
       "      <th>1</th>\n",
       "      <td>Bruce</td>\n",
       "      <td>100000</td>\n",
       "      <td>1000000</td>\n",
       "      <td>10000000</td>\n",
       "      <td>720 This Rd</td>\n",
       "      <td>Single Family</td>\n",
       "      <td>100000</td>\n",
       "      <td>6</td>\n",
       "      <td>5</td>\n",
       "      <td>5000</td>\n",
       "      <td>1920</td>\n",
       "      <td>10000000</td>\n",
       "      <td>Slight</td>\n",
       "      <td>50000</td>\n",
       "    </tr>\n",
       "    <tr>\n",
       "      <th>2</th>\n",
       "      <td>Selena</td>\n",
       "      <td>10000</td>\n",
       "      <td>100</td>\n",
       "      <td>0</td>\n",
       "      <td>1001 Other Ave</td>\n",
       "      <td>Multi Family</td>\n",
       "      <td>10</td>\n",
       "      <td>0</td>\n",
       "      <td>1</td>\n",
       "      <td>250</td>\n",
       "      <td>1960</td>\n",
       "      <td>10000</td>\n",
       "      <td>Complete</td>\n",
       "      <td>8000</td>\n",
       "    </tr>\n",
       "    <tr>\n",
       "      <th>3</th>\n",
       "      <td>Fish</td>\n",
       "      <td>50000</td>\n",
       "      <td>1000</td>\n",
       "      <td>550000</td>\n",
       "      <td>26000 Out There Lane</td>\n",
       "      <td>Single Family</td>\n",
       "      <td>2000</td>\n",
       "      <td>4</td>\n",
       "      <td>2</td>\n",
       "      <td>2000</td>\n",
       "      <td>2010</td>\n",
       "      <td>800000</td>\n",
       "      <td>Moderate</td>\n",
       "      <td>650000</td>\n",
       "    </tr>\n",
       "  </tbody>\n",
       "</table>\n",
       "</div>"
      ],
      "text/plain": [
       "     Name  Income  Savings  Insurance               Address      Occupancy  \\\n",
       "0  Alfred   30000    10000          0            62 That St         Mobile   \n",
       "1   Bruce  100000  1000000   10000000           720 This Rd  Single Family   \n",
       "2  Selena   10000      100          0        1001 Other Ave   Multi Family   \n",
       "3    Fish   50000     1000     550000  26000 Out There Lane  Single Family   \n",
       "\n",
       "     Cost  Bedrooms  Bathrooms  Area  Year Built     Value Damage State  \\\n",
       "0     100         1          1   700        1920    100000         None   \n",
       "1  100000         6          5  5000        1920  10000000       Slight   \n",
       "2      10         0          1   250        1960     10000     Complete   \n",
       "3    2000         4          2  2000        2010    800000     Moderate   \n",
       "\n",
       "   Damage Value  \n",
       "0         20000  \n",
       "1         50000  \n",
       "2          8000  \n",
       "3        650000  "
      ]
     },
     "execution_count": 61,
     "metadata": {},
     "output_type": "execute_result"
    }
   ],
   "source": [
    "file_path = \"../inputs/household_inputs_test.csv\"\n",
    "households_df = pd.read_csv(file_path)\n",
    "households_df.head()"
   ]
  },
  {
   "cell_type": "code",
   "execution_count": 62,
   "metadata": {
    "collapsed": false
   },
   "outputs": [
    {
     "ename": "NameError",
     "evalue": "name 'Residence' is not defined",
     "output_type": "error",
     "traceback": [
      "\u001b[0;31m---------------------------------------------------------------------------\u001b[0m",
      "\u001b[0;31mNameError\u001b[0m                                 Traceback (most recent call last)",
      "\u001b[0;32m<ipython-input-62-1948b732f76c>\u001b[0m in \u001b[0;36m<module>\u001b[0;34m()\u001b[0m\n\u001b[1;32m      1\u001b[0m \u001b[0mhousehold\u001b[0m \u001b[0;34m=\u001b[0m \u001b[0;34m{\u001b[0m\u001b[0;34m}\u001b[0m\u001b[0;34m\u001b[0m\u001b[0m\n\u001b[1;32m      2\u001b[0m \u001b[0;32mfor\u001b[0m \u001b[0mi\u001b[0m \u001b[0;32min\u001b[0m \u001b[0mhouseholds_df\u001b[0m\u001b[0;34m.\u001b[0m\u001b[0mindex\u001b[0m\u001b[0;34m:\u001b[0m\u001b[0;34m\u001b[0m\u001b[0m\n\u001b[0;32m----> 3\u001b[0;31m     \u001b[0mhousehold\u001b[0m\u001b[0;34m[\u001b[0m\u001b[0mi\u001b[0m\u001b[0;34m]\u001b[0m \u001b[0;34m=\u001b[0m \u001b[0mentities\u001b[0m\u001b[0;34m.\u001b[0m\u001b[0mHousehold\u001b[0m\u001b[0;34m(\u001b[0m\u001b[0msimulation\u001b[0m\u001b[0;34m,\u001b[0m \u001b[0mhouseholds_df\u001b[0m\u001b[0;34m.\u001b[0m\u001b[0miloc\u001b[0m\u001b[0;34m[\u001b[0m\u001b[0mi\u001b[0m\u001b[0;34m]\u001b[0m\u001b[0;34m)\u001b[0m\u001b[0;34m\u001b[0m\u001b[0m\n\u001b[0m",
      "\u001b[0;32m/Users/geomando/Dropbox/github/SeaGrantSimulation/desaster/entities.py\u001b[0m in \u001b[0;36m__init__\u001b[0;34m(self, simulation, household)\u001b[0m\n\u001b[1;32m     44\u001b[0m         \u001b[0mself\u001b[0m\u001b[0;34m.\u001b[0m\u001b[0mpermit_get\u001b[0m \u001b[0;34m=\u001b[0m \u001b[0;36m0.0\u001b[0m \u001b[0;31m# Time get requested building permit\u001b[0m\u001b[0;34m\u001b[0m\u001b[0m\n\u001b[1;32m     45\u001b[0m \u001b[0;34m\u001b[0m\u001b[0m\n\u001b[0;32m---> 46\u001b[0;31m         \u001b[0;31m# Function calls\u001b[0m\u001b[0;34m\u001b[0m\u001b[0;34m\u001b[0m\u001b[0m\n\u001b[0m\u001b[1;32m     47\u001b[0m         \u001b[0mself\u001b[0m\u001b[0;34m.\u001b[0m\u001b[0mresidence\u001b[0m \u001b[0;34m=\u001b[0m \u001b[0mResidence\u001b[0m\u001b[0;34m(\u001b[0m\u001b[0msimulation\u001b[0m\u001b[0;34m,\u001b[0m \u001b[0mhousehold\u001b[0m\u001b[0;34m)\u001b[0m \u001b[0;31m# Assign residence to the household\u001b[0m\u001b[0;34m\u001b[0m\u001b[0m\n\u001b[1;32m     48\u001b[0m         \u001b[0mself\u001b[0m\u001b[0;34m.\u001b[0m\u001b[0msetStory\u001b[0m\u001b[0;34m(\u001b[0m\u001b[0;34m)\u001b[0m \u001b[0;31m# Start stories with non-disaster attributes\u001b[0m\u001b[0;34m\u001b[0m\u001b[0m\n",
      "\u001b[0;31mNameError\u001b[0m: name 'Residence' is not defined"
     ]
    }
   ],
   "source": [
    "household = {}\n",
    "for i in households_df.index:\n",
    "    household[i] = entities.Household(simulation, households_df.iloc[i])"
   ]
  },
  {
   "cell_type": "code",
   "execution_count": null,
   "metadata": {
    "collapsed": false
   },
   "outputs": [],
   "source": [
    "for i in range(len(household)):\n",
    "    #print (household[i])\n",
    "    sim.process(simulation(sim, res, household[i]))"
   ]
  },
  {
   "cell_type": "code",
   "execution_count": null,
   "metadata": {
    "collapsed": false,
    "scrolled": true
   },
   "outputs": [],
   "source": [
    "sim.run()"
   ]
  },
  {
   "cell_type": "code",
   "execution_count": null,
   "metadata": {
    "collapsed": false
   },
   "outputs": [],
   "source": [
    "household[0].__getattribute__(\"insurance_coverage\")"
   ]
  },
  {
   "cell_type": "code",
   "execution_count": null,
   "metadata": {
    "collapsed": false
   },
   "outputs": [],
   "source": [
    "import pprint\n",
    "length = (len(household))\n",
    "#for i in range(length):\n",
    "#    print (household[i].household.Damaged)\n",
    "count = 0\n",
    "for j in range(length):\n",
    "    #print (j)\n",
    "    for i in dir(household[j]):\n",
    "        if \"get\" in i and household[j].assessment_get < 500:\n",
    "            print (household[j].household.Name)\n",
    "            print(household[j].__getattribute__(i), \" \", i)\n",
    "            print(\"-------------------------\")\n",
    "            count += 1\n",
    "            print (count)"
   ]
  },
  {
   "cell_type": "code",
   "execution_count": null,
   "metadata": {
    "collapsed": false
   },
   "outputs": [],
   "source": [
    "len(res.housing_stock.items)"
   ]
  },
  {
   "cell_type": "code",
   "execution_count": null,
   "metadata": {
    "collapsed": false
   },
   "outputs": [],
   "source": [
    "vars((household[0]))\n"
   ]
  },
  {
   "cell_type": "code",
   "execution_count": null,
   "metadata": {
    "collapsed": false
   },
   "outputs": [],
   "source": [
    "''.join(household[0].story)"
   ]
  },
  {
   "cell_type": "code",
   "execution_count": null,
   "metadata": {
    "collapsed": true
   },
   "outputs": [],
   "source": []
  },
  {
   "cell_type": "code",
   "execution_count": null,
   "metadata": {
    "collapsed": true
   },
   "outputs": [],
   "source": []
  }
 ],
 "metadata": {
  "kernelspec": {
   "display_name": "Python 3",
   "language": "python",
   "name": "python3"
  },
  "language_info": {
   "codemirror_mode": {
    "name": "ipython",
    "version": 3
   },
   "file_extension": ".py",
   "mimetype": "text/x-python",
   "name": "python",
   "nbconvert_exporter": "python",
   "pygments_lexer": "ipython3",
   "version": "3.5.1"
  }
 },
 "nbformat": 4,
 "nbformat_minor": 0
}
