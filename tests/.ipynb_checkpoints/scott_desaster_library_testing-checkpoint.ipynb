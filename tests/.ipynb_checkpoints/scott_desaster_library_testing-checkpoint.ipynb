{
 "cells": [
  {
   "cell_type": "code",
   "execution_count": 19,
   "metadata": {
    "collapsed": false
   },
   "outputs": [],
   "source": [
    "import sys, random\n",
    "desaster_path = \"/Users/geomando/Dropbox/github/SeaGrantSimulation\"\n",
    "sys.path.append(desaster_path)\n",
    "import simpy\n",
    "import pandas as pd\n",
    "import numpy as np\n",
    "from desaster import entities, capitals, request, io, movement, search, rebuild"
   ]
  },
  {
   "cell_type": "code",
   "execution_count": 20,
   "metadata": {
    "collapsed": true
   },
   "outputs": [],
   "source": [
    "simulation = simpy.Environment()\n",
    "\n",
    "write_story = True"
   ]
  },
  {
   "cell_type": "code",
   "execution_count": 21,
   "metadata": {
    "collapsed": false
   },
   "outputs": [],
   "source": [
    "def rebuild_process(simulation, human_capital, financial_capital, entity, write_story):\n",
    "        \n",
    "    yield simulation.process(request.inspection(simulation, human_capital, entity.residence, entity, write_story))\n",
    "    \n",
    "    if entity.residence.damage_state != 'None':\n",
    "        \n",
    "        \n",
    "        \n",
    "        if entity.money_to_rebuild < entity.residence.damage_value:\n",
    "            money_patience = 9000\n",
    "            \n",
    "            yield simulation.process(search.rebuild_money(simulation, human_capital, \n",
    "                                                            financial_capital, entity, \n",
    "                                                            money_patience, write_story))\n",
    "\n",
    "        if entity.money_to_rebuild >= entity.residence.damage_value:\n",
    "            if entity.residence.damage_state == 'Complete':\n",
    "                home_patience = 90000\n",
    "                \n",
    "                search_outcome = yield simulation.process(search.permanent_housing(simulation, entity, home_patience, housing_stock, human_capital, write_story))\n",
    "                \n",
    "                if search_outcome == 'Gave up':\n",
    "                    return\n",
    "            \n",
    "            if entity.residence.damage_state != 'None':\n",
    "                yield simulation.process(request.engineering_assessment(simulation, human_capital, entity, write_story))\n",
    "    \n",
    "                yield simulation.process(request.permit(simulation, human_capital, entity, write_story))\n",
    "        \n",
    "                yield simulation.process(rebuild.home(simulation, human_capital, entity, write_story))\n",
    "               \n",
    "   "
   ]
  },
  {
   "cell_type": "code",
   "execution_count": 22,
   "metadata": {
    "collapsed": true
   },
   "outputs": [],
   "source": [
    "def search_process(simulation, human_capital, financial_capital, entity, write_story):\n",
    "    yield simulation.process(search.permanent_housing(simulation, entity, housing_stock))"
   ]
  },
  {
   "cell_type": "code",
   "execution_count": 23,
   "metadata": {
    "collapsed": false
   },
   "outputs": [],
   "source": [
    "human_cap_data = {\n",
    "        \"inspectors\": 30,\n",
    "        \"insurance adjusters\": 4,\n",
    "        \"fema processors\": 4,\n",
    "        \"permit processors\": 4,\n",
    "        \"contractors\": 4,\n",
    "        \"loan processors\": 4,\n",
    "        \"engineers\": 4\n",
    "                 }\n",
    "\n",
    "human_capital = capitals.HumanCapital(simulation, human_cap_data) "
   ]
  },
  {
   "cell_type": "code",
   "execution_count": 24,
   "metadata": {
    "collapsed": false
   },
   "outputs": [],
   "source": [
    "financial_cap_data = {\"fema aid\": 350000000}\n",
    "# financial_cap_data = {\"fema aid\": 0}\n",
    "\n",
    "financial_capital = capitals.FinancialCapital(simulation, financial_cap_data) "
   ]
  },
  {
   "cell_type": "code",
   "execution_count": 25,
   "metadata": {
    "collapsed": false
   },
   "outputs": [
    {
     "data": {
      "text/html": [
       "<div>\n",
       "<table border=\"1\" class=\"dataframe\">\n",
       "  <thead>\n",
       "    <tr style=\"text-align: right;\">\n",
       "      <th></th>\n",
       "      <th>Name</th>\n",
       "      <th>Income</th>\n",
       "      <th>Savings</th>\n",
       "      <th>Insurance</th>\n",
       "      <th>Address</th>\n",
       "      <th>Occupancy</th>\n",
       "      <th>Cost</th>\n",
       "      <th>Bedrooms</th>\n",
       "      <th>Bathrooms</th>\n",
       "      <th>Area</th>\n",
       "      <th>Year Built</th>\n",
       "      <th>Value</th>\n",
       "      <th>Damage State</th>\n",
       "    </tr>\n",
       "  </thead>\n",
       "  <tbody>\n",
       "    <tr>\n",
       "      <th>0</th>\n",
       "      <td>Alfred</td>\n",
       "      <td>30000</td>\n",
       "      <td>10000</td>\n",
       "      <td>0</td>\n",
       "      <td>62 That St</td>\n",
       "      <td>Mobile Home</td>\n",
       "      <td>100</td>\n",
       "      <td>1</td>\n",
       "      <td>1</td>\n",
       "      <td>700</td>\n",
       "      <td>1920</td>\n",
       "      <td>100000</td>\n",
       "      <td>None</td>\n",
       "    </tr>\n",
       "    <tr>\n",
       "      <th>1</th>\n",
       "      <td>Bruce</td>\n",
       "      <td>100000</td>\n",
       "      <td>1000000</td>\n",
       "      <td>10000000</td>\n",
       "      <td>720 This Rd</td>\n",
       "      <td>Single Family Dwelling</td>\n",
       "      <td>100000</td>\n",
       "      <td>6</td>\n",
       "      <td>5</td>\n",
       "      <td>5000</td>\n",
       "      <td>1920</td>\n",
       "      <td>10000000</td>\n",
       "      <td>Slight</td>\n",
       "    </tr>\n",
       "    <tr>\n",
       "      <th>2</th>\n",
       "      <td>Selena</td>\n",
       "      <td>10000</td>\n",
       "      <td>100</td>\n",
       "      <td>0</td>\n",
       "      <td>1001 Other Ave</td>\n",
       "      <td>Multi Family Dwelling</td>\n",
       "      <td>10</td>\n",
       "      <td>0</td>\n",
       "      <td>1</td>\n",
       "      <td>250</td>\n",
       "      <td>1960</td>\n",
       "      <td>10000</td>\n",
       "      <td>Complete</td>\n",
       "    </tr>\n",
       "    <tr>\n",
       "      <th>3</th>\n",
       "      <td>Fish</td>\n",
       "      <td>50000</td>\n",
       "      <td>1000</td>\n",
       "      <td>550000</td>\n",
       "      <td>26000 Out There Lane</td>\n",
       "      <td>Single Family Dwelling</td>\n",
       "      <td>2000</td>\n",
       "      <td>4</td>\n",
       "      <td>2</td>\n",
       "      <td>2000</td>\n",
       "      <td>2010</td>\n",
       "      <td>800000</td>\n",
       "      <td>Complete</td>\n",
       "    </tr>\n",
       "  </tbody>\n",
       "</table>\n",
       "</div>"
      ],
      "text/plain": [
       "     Name  Income  Savings  Insurance               Address  \\\n",
       "0  Alfred   30000    10000          0            62 That St   \n",
       "1   Bruce  100000  1000000   10000000           720 This Rd   \n",
       "2  Selena   10000      100          0        1001 Other Ave   \n",
       "3    Fish   50000     1000     550000  26000 Out There Lane   \n",
       "\n",
       "                Occupancy    Cost  Bedrooms  Bathrooms  Area  Year Built  \\\n",
       "0             Mobile Home     100         1          1   700        1920   \n",
       "1  Single Family Dwelling  100000         6          5  5000        1920   \n",
       "2   Multi Family Dwelling      10         0          1   250        1960   \n",
       "3  Single Family Dwelling    2000         4          2  2000        2010   \n",
       "\n",
       "      Value Damage State  \n",
       "0    100000         None  \n",
       "1  10000000       Slight  \n",
       "2     10000     Complete  \n",
       "3    800000     Complete  "
      ]
     },
     "execution_count": 25,
     "metadata": {},
     "output_type": "execute_result"
    }
   ],
   "source": [
    "file_path = \"../inputs/household_inputs_test.csv\"\n",
    "households_df = pd.read_csv(file_path)\n",
    "\n",
    "households_df.head()"
   ]
  },
  {
   "cell_type": "code",
   "execution_count": 26,
   "metadata": {
    "collapsed": false
   },
   "outputs": [],
   "source": [
    "household = {}\n",
    "\n",
    "# Population the simulation with households from the households dataframe\n",
    "for i in households_df.index:\n",
    "    household[i] = entities.Household(simulation, households_df.iloc[i], write_story)"
   ]
  },
  {
   "cell_type": "code",
   "execution_count": 27,
   "metadata": {
    "collapsed": false
   },
   "outputs": [
    {
     "data": {
      "text/html": [
       "<div>\n",
       "<table border=\"1\" class=\"dataframe\">\n",
       "  <thead>\n",
       "    <tr style=\"text-align: right;\">\n",
       "      <th></th>\n",
       "      <th>Address</th>\n",
       "      <th>Occupancy</th>\n",
       "      <th>Cost</th>\n",
       "      <th>Bedrooms</th>\n",
       "      <th>Bathrooms</th>\n",
       "      <th>Area</th>\n",
       "      <th>Year Built</th>\n",
       "      <th>Value</th>\n",
       "      <th>Damage State</th>\n",
       "    </tr>\n",
       "  </thead>\n",
       "  <tbody>\n",
       "    <tr>\n",
       "      <th>0</th>\n",
       "      <td>100 New Ave</td>\n",
       "      <td>Mobile Home</td>\n",
       "      <td>100</td>\n",
       "      <td>1</td>\n",
       "      <td>1</td>\n",
       "      <td>700</td>\n",
       "      <td>1920</td>\n",
       "      <td>100000</td>\n",
       "      <td>Complete</td>\n",
       "    </tr>\n",
       "    <tr>\n",
       "      <th>1</th>\n",
       "      <td>101 New Ave</td>\n",
       "      <td>Single Family Dwelling</td>\n",
       "      <td>100000</td>\n",
       "      <td>6</td>\n",
       "      <td>5</td>\n",
       "      <td>5000</td>\n",
       "      <td>1920</td>\n",
       "      <td>9999</td>\n",
       "      <td>Slight</td>\n",
       "    </tr>\n",
       "    <tr>\n",
       "      <th>2</th>\n",
       "      <td>102 New Ave</td>\n",
       "      <td>Multi Family Dwelling</td>\n",
       "      <td>10</td>\n",
       "      <td>0</td>\n",
       "      <td>1</td>\n",
       "      <td>250</td>\n",
       "      <td>1960</td>\n",
       "      <td>9999</td>\n",
       "      <td>Complete</td>\n",
       "    </tr>\n",
       "    <tr>\n",
       "      <th>3</th>\n",
       "      <td>103 New Ave</td>\n",
       "      <td>Single Family Dwelling</td>\n",
       "      <td>2000</td>\n",
       "      <td>4</td>\n",
       "      <td>2</td>\n",
       "      <td>2000</td>\n",
       "      <td>2010</td>\n",
       "      <td>800000</td>\n",
       "      <td>Moderate</td>\n",
       "    </tr>\n",
       "    <tr>\n",
       "      <th>4</th>\n",
       "      <td>104 New Ave</td>\n",
       "      <td>Mobile Home</td>\n",
       "      <td>100</td>\n",
       "      <td>1</td>\n",
       "      <td>1</td>\n",
       "      <td>700</td>\n",
       "      <td>1920</td>\n",
       "      <td>100000</td>\n",
       "      <td>Moderate</td>\n",
       "    </tr>\n",
       "  </tbody>\n",
       "</table>\n",
       "</div>"
      ],
      "text/plain": [
       "       Address               Occupancy    Cost  Bedrooms  Bathrooms  Area  \\\n",
       "0  100 New Ave             Mobile Home     100         1          1   700   \n",
       "1  101 New Ave  Single Family Dwelling  100000         6          5  5000   \n",
       "2  102 New Ave   Multi Family Dwelling      10         0          1   250   \n",
       "3  103 New Ave  Single Family Dwelling    2000         4          2  2000   \n",
       "4  104 New Ave             Mobile Home     100         1          1   700   \n",
       "\n",
       "   Year Built   Value Damage State  \n",
       "0        1920  100000     Complete  \n",
       "1        1920    9999       Slight  \n",
       "2        1960    9999     Complete  \n",
       "3        2010  800000     Moderate  \n",
       "4        1920  100000     Moderate  "
      ]
     },
     "execution_count": 27,
     "metadata": {},
     "output_type": "execute_result"
    }
   ],
   "source": [
    "file_path = \"../inputs/housing_stock_test.csv\"\n",
    "housing_stock_df = pd.read_csv(file_path)\n",
    "\n",
    "housing_stock = capitals.setHousingStock(simulation, housing_stock_df)\n",
    "\n",
    "housing_stock_df.head()"
   ]
  },
  {
   "cell_type": "code",
   "execution_count": 28,
   "metadata": {
    "collapsed": false
   },
   "outputs": [],
   "source": [
    "# Do inspections on all of the vacant homes in the housing stock\n",
    "for home in housing_stock.items:\n",
    "    simulation.process(request.inspection(simulation, human_capital, home))"
   ]
  },
  {
   "cell_type": "code",
   "execution_count": 29,
   "metadata": {
    "collapsed": false
   },
   "outputs": [
    {
     "data": {
      "text/plain": [
       "<Process(stock) object at 0x113e7e4e0>"
      ]
     },
     "execution_count": 29,
     "metadata": {},
     "output_type": "execute_result"
    }
   ],
   "source": [
    "# Schedule an event that randomly fixes moderately or completely damaged homes in the vacant housing stock\n",
    "# with probability = fix_probability\n",
    "\n",
    "fix_probability = 0.1\n",
    "fix_schedule = 300\n",
    "simulation.process(rebuild.stock(simulation, housing_stock, fix_probability, fix_schedule, human_capital))"
   ]
  },
  {
   "cell_type": "code",
   "execution_count": 30,
   "metadata": {
    "collapsed": false
   },
   "outputs": [],
   "source": [
    "# Create a master process for each household to be modeled in the simulation\n",
    "for i in range(len(household)):\n",
    "    simulation.process(rebuild_process(simulation, human_capital, financial_capital, household[i], write_story))\n",
    "\n",
    "# # for i in range(len(household)):\n",
    "# #     simulation.process(search_process(simulation, human_capital, financial_capital, household[i], write_story))"
   ]
  },
  {
   "cell_type": "code",
   "execution_count": 31,
   "metadata": {
    "collapsed": false,
    "scrolled": true
   },
   "outputs": [
    {
     "name": "stdout",
     "output_type": "stream",
     "text": [
      "100 New Ave Complete 100000.0\n",
      "102 New Ave Complete 9999.0\n",
      "Gonna fix it!\n",
      "102 New Ave None 0.0\n",
      "103 New Ave Moderate 80000.0\n",
      "104 New Ave Moderate 10000.0\n",
      "105 New Ave Moderate 1000000.0\n",
      "106 New Ave Complete 9999.0\n",
      "Gonna fix it!\n",
      "106 New Ave None 0.0\n",
      "107 New Ave Moderate 80000.0\n",
      "108 New Ave Complete 100000.0\n",
      "109 New Ave Moderate 1000000.0\n",
      "110 New Ave Moderate 1000.0\n",
      "111 New Ave Slight 16000.0\n",
      "112 New Ave Moderate 10000.0\n",
      "113 New Ave Complete 10000000.0\n",
      "114 New Ave Complete 10000.0\n",
      "115 New Ave Complete 800000.0\n",
      "26000 Out There Lane Complete 800000.0\n"
     ]
    }
   ],
   "source": [
    "simulation.run()"
   ]
  },
  {
   "cell_type": "code",
   "execution_count": 32,
   "metadata": {
    "collapsed": false
   },
   "outputs": [
    {
     "data": {
      "text/plain": [
       "['Alfred lives in a 1 bedroom Mobile Home at 62 That St. ',\n",
       " \"Alfred's house was inspected 10.0 days after the event and suffered $0.0 of damage.\"]"
      ]
     },
     "execution_count": 32,
     "metadata": {},
     "output_type": "execute_result"
    }
   ],
   "source": [
    "household[0].story"
   ]
  },
  {
   "cell_type": "code",
   "execution_count": 33,
   "metadata": {
    "collapsed": false
   },
   "outputs": [
    {
     "data": {
      "text/plain": [
       "['Bruce lives in a 6 bedroom Single Family Dwelling at 720 This Rd. ',\n",
       " \"Bruce's house was inspected 10.0 days after the event and suffered $200000.0 of damage.\",\n",
       " 'Bruce received an engineering assessment 35.0 days after the event. ',\n",
       " 'Bruce received permit approval 70.0 days after the event. ',\n",
       " 'The house was rebuilt 72.0 days after the event, taking 2.0 days to rebuild. ']"
      ]
     },
     "execution_count": 33,
     "metadata": {},
     "output_type": "execute_result"
    }
   ],
   "source": [
    "household[1].story"
   ]
  },
  {
   "cell_type": "code",
   "execution_count": 34,
   "metadata": {
    "collapsed": false
   },
   "outputs": [
    {
     "data": {
      "text/plain": [
       "['Selena lives in a 0 bedroom Multi Family Dwelling at 1001 Other Ave. ',\n",
       " \"Selena's house was inspected 10.0 days after the event and suffered $10000.0 of damage.\",\n",
       " 'Selena submitted a request to FEMA 10.0 days after the event. ',\n",
       " 'Selena received $10000.0 from FEMA 30.0 days after the event. ',\n",
       " 'It took Selena 20.0 days to exhaust the search for money. ',\n",
       " 'Selena started searching for a Multi Family Dwelling with a value under $10000 on day 30.0. ',\n",
       " 'On day 540, Selena received a Multi Family Dwelling at 102 New Ave with a value of $9999. ',\n",
       " 'Selena received an engineering assessment 565.0 days after the event. ',\n",
       " 'Selena received permit approval 600.0 days after the event. ',\n",
       " 'The house was rebuilt 600.0 days after the event, taking 0.0 days to rebuild. ']"
      ]
     },
     "execution_count": 34,
     "metadata": {},
     "output_type": "execute_result"
    }
   ],
   "source": [
    "household[2].story"
   ]
  },
  {
   "cell_type": "code",
   "execution_count": 35,
   "metadata": {
    "collapsed": false,
    "scrolled": true
   },
   "outputs": [
    {
     "data": {
      "text/plain": [
       "['Fish lives in a 4 bedroom Single Family Dwelling at 26000 Out There Lane. ',\n",
       " \"Fish's house was inspected 10.0 days after the event and suffered $800000.0 of damage.\",\n",
       " 'Fish submitted an insurance claim 10.0 days after the event. ',\n",
       " 'Fish received a $550000 insurance payout 25.0 days after the event. ',\n",
       " 'Fish submitted a request to FEMA 25.0 days after the event. ',\n",
       " 'Fish received $250000.0 from FEMA 45.0 days after the event. ',\n",
       " 'It took Fish 35.0 days to exhaust the search for money. ',\n",
       " 'Fish started searching for a Single Family Dwelling with a value under $800000 on day 45.0. ',\n",
       " 'On day 45.0, Fish received a Single Family Dwelling at 101 New Ave with a value of $9999. ',\n",
       " 'Fish received an engineering assessment 70.0 days after the event. ',\n",
       " 'Fish received permit approval 105.0 days after the event. ',\n",
       " 'The house was rebuilt 107.0 days after the event, taking 2.0 days to rebuild. ']"
      ]
     },
     "execution_count": 35,
     "metadata": {},
     "output_type": "execute_result"
    }
   ],
   "source": [
    "household[3].story"
   ]
  },
  {
   "cell_type": "code",
   "execution_count": 37,
   "metadata": {
    "collapsed": false
   },
   "outputs": [
    {
     "name": "stdout",
     "output_type": "stream",
     "text": [
      "100 New Ave 100000 Mobile Home Complete 100000.0\n",
      "103 New Ave 800000 Single Family Dwelling Moderate 80000.0\n",
      "104 New Ave 100000 Mobile Home Moderate 10000.0\n",
      "105 New Ave 10000000 Single Family Dwelling Moderate 1000000.0\n",
      "1001 Other Ave 10000 Multi Family Dwelling Complete 10000.0\n",
      "106 New Ave 9999 Multi Family Dwelling None 0.0\n",
      "107 New Ave 800000 Single Family Dwelling Moderate 80000.0\n",
      "108 New Ave 100000 Mobile Home Complete 100000.0\n",
      "109 New Ave 10000000 Single Family Dwelling Moderate 1000000.0\n",
      "110 New Ave 10000 Multi Family Dwelling Moderate 1000.0\n",
      "111 New Ave 800000 Single Family Dwelling Slight 16000.0\n",
      "112 New Ave 100000 Mobile Home Moderate 10000.0\n",
      "113 New Ave 10000000 Single Family Dwelling Complete 10000000.0\n",
      "114 New Ave 10000 Multi Family Dwelling Complete 10000.0\n",
      "115 New Ave 800000 Single Family Dwelling Complete 800000.0\n",
      "26000 Out There Lane 800000 Single Family Dwelling Complete 800000.0\n"
     ]
    }
   ],
   "source": [
    "for item in housing_stock.items:\n",
    "    print(item.address, item.value, item.occupancy, item.damage_state, item.damage_value)"
   ]
  },
  {
   "cell_type": "code",
   "execution_count": null,
   "metadata": {
    "collapsed": true
   },
   "outputs": [],
   "source": []
  }
 ],
 "metadata": {
  "kernelspec": {
   "display_name": "Python 3",
   "language": "python",
   "name": "python3"
  },
  "language_info": {
   "codemirror_mode": {
    "name": "ipython",
    "version": 3
   },
   "file_extension": ".py",
   "mimetype": "text/x-python",
   "name": "python",
   "nbconvert_exporter": "python",
   "pygments_lexer": "ipython3",
   "version": "3.5.1"
  }
 },
 "nbformat": 4,
 "nbformat_minor": 0
}
