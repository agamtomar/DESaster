{
 "cells": [
  {
   "cell_type": "markdown",
   "metadata": {},
   "source": [
    "# DESaster Simulation Set Up Template"
   ]
  },
  {
   "cell_type": "markdown",
   "metadata": {},
   "source": [
    "## Required Modules"
   ]
  },
  {
   "cell_type": "code",
   "execution_count": 1,
   "metadata": {
    "collapsed": false
   },
   "outputs": [],
   "source": [
    "import sys, random\n",
    "desaster_path = \"/Users/geomando/Dropbox/github/SeaGrantSimulation\"\n",
    "sys.path.append(desaster_path)\n",
    "import simpy\n",
    "from simpy import Resource, Container, FilterStore\n",
    "from simpy.util import start_delayed\n",
    "import pandas as pd\n",
    "import numpy as np\n",
    "from desaster import entities, capitals, request, io, movement, search, rebuild"
   ]
  },
  {
   "cell_type": "markdown",
   "metadata": {},
   "source": [
    "## Input Data"
   ]
  },
  {
   "cell_type": "code",
   "execution_count": 2,
   "metadata": {
    "collapsed": false
   },
   "outputs": [],
   "source": [
    "scenario_file = '../inputs/scenario_test_renters.xlsx'\n",
    "\n",
    "# Create Pandas dataframe of attribute data for all owners to be modeled in the simulation\n",
    "owners_df = pd.read_excel(scenario_file, sheetname='owners')\n",
    "\n",
    "# Create Pandas dataframe of attribute data for all renters to be modeled in the simulation\n",
    "renters_df = pd.read_excel(scenario_file, sheetname='renters')\n",
    "\n",
    "# Create Pandas dataframe of attribute data for all vacant homes (housing stock) to be modeled in the simulation\n",
    "forsale_stock_df = pd.read_excel(scenario_file, sheetname='forsale_stock')\n",
    "\n",
    "# Set input data for all human capital types, as dict or Pandas Series\n",
    "# .loc stuff is to convert the DataFrame to a Series ... data will function the same as a dictionary as well\n",
    "human_cap_data = pd.read_excel(scenario_file, sheetname='human_capital', index_col=0).iloc[:,0]\n",
    "\n",
    "# Set input data for all financial capital types, as dict or Pandas Series\n",
    "financial_cap_data = pd.read_excel(scenario_file, sheetname='financial_capital', index_col=0).iloc[:,0]"
   ]
  },
  {
   "cell_type": "code",
   "execution_count": 3,
   "metadata": {
    "collapsed": false,
    "scrolled": true
   },
   "outputs": [
    {
     "data": {
      "text/html": [
       "<div>\n",
       "<table border=\"1\" class=\"dataframe\">\n",
       "  <thead>\n",
       "    <tr style=\"text-align: right;\">\n",
       "      <th></th>\n",
       "      <th>Name</th>\n",
       "      <th>Income</th>\n",
       "      <th>Savings</th>\n",
       "      <th>Insurance</th>\n",
       "      <th>Address</th>\n",
       "      <th>Occupancy</th>\n",
       "      <th>Cost</th>\n",
       "      <th>Bedrooms</th>\n",
       "      <th>Bathrooms</th>\n",
       "      <th>Area</th>\n",
       "      <th>Year Built</th>\n",
       "      <th>Value</th>\n",
       "      <th>Damage State</th>\n",
       "      <th>Tenure Pref</th>\n",
       "      <th>Tenure</th>\n",
       "      <th>Occupancy Pref</th>\n",
       "    </tr>\n",
       "  </thead>\n",
       "  <tbody>\n",
       "    <tr>\n",
       "      <th>0</th>\n",
       "      <td>Alfred</td>\n",
       "      <td>30000</td>\n",
       "      <td>10000</td>\n",
       "      <td>0</td>\n",
       "      <td>62 That St</td>\n",
       "      <td>Mobile Home</td>\n",
       "      <td>100</td>\n",
       "      <td>1</td>\n",
       "      <td>1</td>\n",
       "      <td>700</td>\n",
       "      <td>1920</td>\n",
       "      <td>100000</td>\n",
       "      <td>None</td>\n",
       "      <td>Own</td>\n",
       "      <td>Own</td>\n",
       "      <td>Single Family Dwelling</td>\n",
       "    </tr>\n",
       "    <tr>\n",
       "      <th>1</th>\n",
       "      <td>Bruce</td>\n",
       "      <td>100000</td>\n",
       "      <td>1000000</td>\n",
       "      <td>10000000</td>\n",
       "      <td>720 This Rd</td>\n",
       "      <td>Single Family Dwelling</td>\n",
       "      <td>100000</td>\n",
       "      <td>5</td>\n",
       "      <td>5</td>\n",
       "      <td>5000</td>\n",
       "      <td>1920</td>\n",
       "      <td>10000000</td>\n",
       "      <td>Slight</td>\n",
       "      <td>Own</td>\n",
       "      <td>Own</td>\n",
       "      <td>Single Family Dwelling</td>\n",
       "    </tr>\n",
       "    <tr>\n",
       "      <th>2</th>\n",
       "      <td>Selena</td>\n",
       "      <td>10000</td>\n",
       "      <td>100</td>\n",
       "      <td>0</td>\n",
       "      <td>1001 Other Ave</td>\n",
       "      <td>Single Family Dwelling</td>\n",
       "      <td>10</td>\n",
       "      <td>0</td>\n",
       "      <td>1</td>\n",
       "      <td>250</td>\n",
       "      <td>1960</td>\n",
       "      <td>10000</td>\n",
       "      <td>Complete</td>\n",
       "      <td>Own</td>\n",
       "      <td>Own</td>\n",
       "      <td>Multi Family Dwelling</td>\n",
       "    </tr>\n",
       "    <tr>\n",
       "      <th>3</th>\n",
       "      <td>Fish</td>\n",
       "      <td>50000</td>\n",
       "      <td>1000</td>\n",
       "      <td>550000</td>\n",
       "      <td>26000 Out There Lane</td>\n",
       "      <td>Single Family Dwelling</td>\n",
       "      <td>2000</td>\n",
       "      <td>4</td>\n",
       "      <td>2</td>\n",
       "      <td>2000</td>\n",
       "      <td>2010</td>\n",
       "      <td>800000</td>\n",
       "      <td>Moderate</td>\n",
       "      <td>Own</td>\n",
       "      <td>Own</td>\n",
       "      <td>Single Family Dwelling</td>\n",
       "    </tr>\n",
       "  </tbody>\n",
       "</table>\n",
       "</div>"
      ],
      "text/plain": [
       "     Name  Income  Savings  Insurance               Address  \\\n",
       "0  Alfred   30000    10000          0            62 That St   \n",
       "1   Bruce  100000  1000000   10000000           720 This Rd   \n",
       "2  Selena   10000      100          0        1001 Other Ave   \n",
       "3    Fish   50000     1000     550000  26000 Out There Lane   \n",
       "\n",
       "                Occupancy    Cost  Bedrooms  Bathrooms  Area  Year Built  \\\n",
       "0             Mobile Home     100         1          1   700        1920   \n",
       "1  Single Family Dwelling  100000         5          5  5000        1920   \n",
       "2  Single Family Dwelling      10         0          1   250        1960   \n",
       "3  Single Family Dwelling    2000         4          2  2000        2010   \n",
       "\n",
       "      Value Damage State Tenure Pref Tenure          Occupancy Pref  \n",
       "0    100000         None         Own    Own  Single Family Dwelling  \n",
       "1  10000000       Slight         Own    Own  Single Family Dwelling  \n",
       "2     10000     Complete         Own    Own   Multi Family Dwelling  \n",
       "3    800000     Moderate         Own    Own  Single Family Dwelling  "
      ]
     },
     "execution_count": 3,
     "metadata": {},
     "output_type": "execute_result"
    }
   ],
   "source": [
    "owners_df"
   ]
  },
  {
   "cell_type": "code",
   "execution_count": 4,
   "metadata": {
    "collapsed": false
   },
   "outputs": [
    {
     "data": {
      "text/plain": [
       "Type\n",
       "Contractors             40\n",
       "Engineers                1\n",
       "FEMA Processors         40\n",
       "Inspectors             100\n",
       "Insurance Adjusters     40\n",
       "Loan Processors         40\n",
       "Permit Processors      100\n",
       "Name: Quantity, dtype: int64"
      ]
     },
     "execution_count": 4,
     "metadata": {},
     "output_type": "execute_result"
    }
   ],
   "source": [
    "human_cap_data"
   ]
  },
  {
   "cell_type": "code",
   "execution_count": 5,
   "metadata": {
    "collapsed": false
   },
   "outputs": [
    {
     "data": {
      "text/plain": [
       "Type\n",
       "Building Materials     2000000\n",
       "FEMA Aid              35000000\n",
       "Name: Quantity, dtype: int64"
      ]
     },
     "execution_count": 5,
     "metadata": {},
     "output_type": "execute_result"
    }
   ],
   "source": [
    "financial_cap_data"
   ]
  },
  {
   "cell_type": "markdown",
   "metadata": {},
   "source": [
    "## Simulation Initiation"
   ]
  },
  {
   "cell_type": "markdown",
   "metadata": {},
   "source": [
    "__Set simulation environment__"
   ]
  },
  {
   "cell_type": "code",
   "execution_count": 6,
   "metadata": {
    "collapsed": true
   },
   "outputs": [],
   "source": [
    "simulation = simpy.Environment()"
   ]
  },
  {
   "cell_type": "markdown",
   "metadata": {},
   "source": [
    "__Indicate whether want to keep track of the stories of each entity (household) in the simulation.__"
   ]
  },
  {
   "cell_type": "code",
   "execution_count": 7,
   "metadata": {
    "collapsed": true
   },
   "outputs": [],
   "source": [
    "write_story = True"
   ]
  },
  {
   "cell_type": "markdown",
   "metadata": {},
   "source": [
    "__Populate the simulation with human and financial capital data.__"
   ]
  },
  {
   "cell_type": "code",
   "execution_count": 8,
   "metadata": {
    "collapsed": true
   },
   "outputs": [],
   "source": [
    "financial_capital = capitals.FinancialCapital(simulation, financial_cap_data) \n",
    "\n",
    "human_capital = capitals.HumanCapital(simulation, human_cap_data)"
   ]
  },
  {
   "cell_type": "markdown",
   "metadata": {},
   "source": [
    "__Create and populate a FilterStore as a vacant housing stock.__"
   ]
  },
  {
   "cell_type": "code",
   "execution_count": 9,
   "metadata": {
    "collapsed": true
   },
   "outputs": [],
   "source": [
    "forsale_stock = capitals.importHousingStock(simulation, forsale_stock_df)"
   ]
  },
  {
   "cell_type": "markdown",
   "metadata": {},
   "source": [
    "__Create an empty FilterStore to use as the occupied housing stock.__"
   ]
  },
  {
   "cell_type": "code",
   "execution_count": 10,
   "metadata": {
    "collapsed": false
   },
   "outputs": [],
   "source": [
    "owned_stock = FilterStore(simulation)\n",
    "rented_stock = FilterStore(simulation)"
   ]
  },
  {
   "cell_type": "markdown",
   "metadata": {},
   "source": [
    "__Import data on households. Everytime a household's residence is created put it in the occupied housing stock.__"
   ]
  },
  {
   "cell_type": "code",
   "execution_count": 11,
   "metadata": {
    "collapsed": false
   },
   "outputs": [],
   "source": [
    "owners = entities.importOwners(simulation, owned_stock, owners_df, write_story)"
   ]
  },
  {
   "cell_type": "code",
   "execution_count": 12,
   "metadata": {
    "collapsed": false
   },
   "outputs": [],
   "source": [
    "# renters = entities.importRenters(simulation, rented_stock, owners_df, write_story)"
   ]
  },
  {
   "cell_type": "code",
   "execution_count": 13,
   "metadata": {
    "collapsed": false
   },
   "outputs": [],
   "source": [
    "landlord = entities.Landlord()"
   ]
  },
  {
   "cell_type": "code",
   "execution_count": 14,
   "metadata": {
    "collapsed": false
   },
   "outputs": [
    {
     "data": {
      "text/plain": [
       "[]"
      ]
     },
     "execution_count": 14,
     "metadata": {},
     "output_type": "execute_result"
    }
   ],
   "source": [
    "landlord.building"
   ]
  },
  {
   "cell_type": "code",
   "execution_count": 15,
   "metadata": {
    "collapsed": false
   },
   "outputs": [
    {
     "data": {
      "text/plain": [
       "<desaster.capitals.Residence at 0x114411390>"
      ]
     },
     "execution_count": 15,
     "metadata": {},
     "output_type": "execute_result"
    }
   ],
   "source": [
    "owners[1].residence"
   ]
  },
  {
   "cell_type": "code",
   "execution_count": 16,
   "metadata": {
    "collapsed": false
   },
   "outputs": [
    {
     "data": {
      "text/plain": [
       "<desaster.capitals.Residence at 0x114411390>"
      ]
     },
     "execution_count": 16,
     "metadata": {},
     "output_type": "execute_result"
    }
   ],
   "source": [
    "landlord.property = owners[1].residence\n",
    "landlord.property"
   ]
  },
  {
   "cell_type": "code",
   "execution_count": 17,
   "metadata": {
    "collapsed": false
   },
   "outputs": [
    {
     "data": {
      "text/plain": [
       "<desaster.entities.Owner at 0x114411fd0>"
      ]
     },
     "execution_count": 17,
     "metadata": {},
     "output_type": "execute_result"
    }
   ],
   "source": [
    "landlord.tenant = owners[1]\n",
    "landlord.tenant"
   ]
  },
  {
   "cell_type": "code",
   "execution_count": 18,
   "metadata": {
    "collapsed": false
   },
   "outputs": [
    {
     "data": {
      "text/plain": [
       "<desaster.entities.Owner at 0x114411fd0>"
      ]
     },
     "execution_count": 18,
     "metadata": {},
     "output_type": "execute_result"
    }
   ],
   "source": [
    "owners[1].owner = owners[1]\n",
    "owners[1].owner"
   ]
  },
  {
   "cell_type": "code",
   "execution_count": 19,
   "metadata": {
    "collapsed": false
   },
   "outputs": [
    {
     "data": {
      "text/plain": [
       "True"
      ]
     },
     "execution_count": 19,
     "metadata": {},
     "output_type": "execute_result"
    }
   ],
   "source": [
    "isinstance(landlord, entities.Landlord)"
   ]
  },
  {
   "cell_type": "code",
   "execution_count": 20,
   "metadata": {
    "collapsed": false
   },
   "outputs": [
    {
     "data": {
      "text/plain": [
       "<desaster.capitals.Residence at 0x114411390>"
      ]
     },
     "execution_count": 20,
     "metadata": {},
     "output_type": "execute_result"
    }
   ],
   "source": [
    "owners[1].owner.residence"
   ]
  },
  {
   "cell_type": "code",
   "execution_count": 21,
   "metadata": {
    "collapsed": false
   },
   "outputs": [
    {
     "data": {
      "text/plain": [
       "<desaster.entities.Landlord at 0x1143cb2b0>"
      ]
     },
     "execution_count": 21,
     "metadata": {},
     "output_type": "execute_result"
    }
   ],
   "source": [
    "owners[0].owner = landlord\n",
    "owners[0].owner"
   ]
  },
  {
   "cell_type": "markdown",
   "metadata": {},
   "source": [
    "__Write a master process that combines process and functions from search, rebuild, and request modules.__"
   ]
  },
  {
   "cell_type": "code",
   "execution_count": 22,
   "metadata": {
    "collapsed": false
   },
   "outputs": [],
   "source": [
    "def master_process(simulation, human_capital, financial_capital, entity, write_story):\n",
    "        \n",
    "    \n",
    "    yield simulation.process(request.inspection(simulation, human_capital, entity.residence, entity, write_story))\n",
    "    \n",
    "\n",
    "#     yield simulation.process(search.rebuild_money(simulation, human_capital, \n",
    "#                                                         financial_capital, entity, \n",
    "#                                                         money_patience, write_story))\n",
    "\n",
    "    yield simulation.process(request.engineering_assessment(simulation, human_capital, entity, write_story))\n",
    "\n",
    "    yield simulation.process(request.permit(simulation, human_capital, entity, write_story))\n",
    "\n",
    "#     yield simulation.process(rebuild.home(simulation, human_capital, financial_capital, entity, write_story))\n",
    "               \n",
    "   "
   ]
  },
  {
   "cell_type": "code",
   "execution_count": 23,
   "metadata": {
    "collapsed": true
   },
   "outputs": [],
   "source": [
    "# def master_process(simulation, human_capital, financial_capital, entity, write_story):\n",
    "        \n",
    "#     yield simulation.process(request.inspection(simulation, human_capital, entity.residence, entity, write_story))\n",
    "    \n",
    "#     # Specify the event sequence for households from the time of the hazard through the decisions to relocate \n",
    "#     # or rebuild\n",
    "#     if entity.residence.damage_state != 'None':\n",
    "        \n",
    "#         money_patience = 365  # days until give up the search for rebuild money\n",
    "\n",
    "#         # Search for rebuild money\n",
    "#         yield simulation.process(search.rebuild_money(simulation, human_capital, \n",
    "#                                                         financial_capital, entity, \n",
    "#                                                         money_patience, write_story))\n",
    "        \n",
    "#         if entity.gave_up_money_search == True:\n",
    "#                 return\n",
    "        \n",
    "#         # If home is completely damaged, search for a new home to purchase.\n",
    "#         if entity.residence.damage_state == 'Complete':\n",
    "            \n",
    "#             home_patience = 550  # days until give up the search for a new home\n",
    "\n",
    "#             search_outcome = yield simulation.process(search.permanent_housing(simulation, entity, home_patience, forsale_stock, human_capital, write_story))\n",
    "\n",
    "#             if entity.gave_up_home_search == True:\n",
    "#                 return\n",
    "\n",
    "#         if entity.residence.damage_state != 'None':\n",
    "#             yield simulation.process(request.engineering_assessment(simulation, human_capital, entity, write_story))\n",
    "\n",
    "#             yield simulation.process(request.permit(simulation, human_capital, entity, write_story))\n",
    "\n",
    "#             yield simulation.process(rebuild.home(simulation, human_capital, financial_capital, entity, write_story))\n",
    "               \n",
    "   "
   ]
  },
  {
   "cell_type": "code",
   "execution_count": 24,
   "metadata": {
    "collapsed": false
   },
   "outputs": [],
   "source": [
    "# Initiate a master process for each household to be modeled in the simulation\n",
    "for i in range(len(owners)):\n",
    "    simulation.process(master_process(simulation, human_capital, financial_capital, owners[i], write_story))"
   ]
  },
  {
   "cell_type": "markdown",
   "metadata": {},
   "source": [
    "__Can do some cool stuff with the vacant housing stock.__"
   ]
  },
  {
   "cell_type": "code",
   "execution_count": 25,
   "metadata": {
    "collapsed": false
   },
   "outputs": [],
   "source": [
    "# # Do inspections on all of the vacant homes in the housing stock\n",
    "# for home in forsale_stock.items:\n",
    "#     simulation.process(request.inspection(simulation, human_capital, home))\n",
    "\n",
    "# # Schedule an event that randomly fixes moderately or completely damaged homes in the vacant housing stock\n",
    "# # with probability = fix_probability\n",
    "# fix_probability = 1.0\n",
    "# fix_schedule = 100\n",
    "\n",
    "# # start_delayed(simulation, rebuild.stock(simulation, housing_stock, fix_probability), fix_schedule)"
   ]
  },
  {
   "cell_type": "code",
   "execution_count": 26,
   "metadata": {
    "collapsed": false,
    "scrolled": true
   },
   "outputs": [],
   "source": [
    "simulation.run()"
   ]
  },
  {
   "cell_type": "markdown",
   "metadata": {},
   "source": [
    "## Outputs"
   ]
  },
  {
   "cell_type": "markdown",
   "metadata": {},
   "source": [
    "__Summary statistics__"
   ]
  },
  {
   "cell_type": "code",
   "execution_count": 27,
   "metadata": {
    "collapsed": false
   },
   "outputs": [
    {
     "name": "stdout",
     "output_type": "stream",
     "text": [
      "3 out of 4 owners suffered no damage to their homes.\n",
      " 0 out of 4 owners rebuilt or repaired their damaged home.\n",
      " 0 out of 4 owners gave up searching for money.\n",
      " 0 out of 4 owners decided to find a new home.\n",
      " 0 out of 4 owners gave up searching for a home.\n"
     ]
    }
   ],
   "source": [
    "num_undamaged = 0\n",
    "num_rebuilt = 0\n",
    "num_gave_up_money_search = 0\n",
    "num_relocated = 0\n",
    "num_gave_up_home_search = 0\n",
    "\n",
    "for household in owners:\n",
    "    if household.residence.damage_value > 0.0: num_undamaged += 1\n",
    "    if household.home_get > 0.0: num_rebuilt += 1\n",
    "    if household.gave_up_money_search: num_gave_up_money_search += 1\n",
    "    if household.home_search_stop > 0.0: num_relocated += 1\n",
    "    if household.gave_up_home_search: num_gave_up_home_search += 1\n",
    "        \n",
    "print('{0} out of {1} owners suffered no damage to their homes.\\n'.format(num_undamaged, len(owners)),\n",
    "      '{0} out of {1} owners rebuilt or repaired their damaged home.\\n'.format(num_rebuilt, len(owners)),\n",
    "        '{0} out of {1} owners gave up searching for money.\\n'.format(num_gave_up_money_search, len(owners)),\n",
    "        '{0} out of {1} owners decided to find a new home.\\n'.format(num_relocated, len(owners)),\n",
    "        '{0} out of {1} owners gave up searching for a home.'.format(num_gave_up_home_search, len(owners))\n",
    "      )"
   ]
  },
  {
   "cell_type": "markdown",
   "metadata": {},
   "source": [
    "__Household stories__"
   ]
  },
  {
   "cell_type": "code",
   "execution_count": 28,
   "metadata": {
    "collapsed": false
   },
   "outputs": [
    {
     "data": {
      "text/plain": [
       "['Alfred owns and lives in a 1 bedroom Mobile Home at 62 That St worth $100,000. ',\n",
       " \"Alfred's house was inspected 10 days after the event and suffered $0 of damage.\",\n",
       " 'Alfred received an engineering assessment 35 days after the event. ',\n",
       " 'Alfred received permit approval 70 days after the event. ']"
      ]
     },
     "execution_count": 28,
     "metadata": {},
     "output_type": "execute_result"
    }
   ],
   "source": [
    "owners[0].story"
   ]
  },
  {
   "cell_type": "code",
   "execution_count": 29,
   "metadata": {
    "collapsed": false
   },
   "outputs": [
    {
     "data": {
      "text/plain": [
       "['Bruce owns and lives in a 5 bedroom Single Family Dwelling at 720 This Rd worth $10,000,000. ',\n",
       " \"Bruce's house was inspected 10 days after the event and suffered $200,000 of damage.\",\n",
       " 'Bruce received an engineering assessment 60 days after the event. ',\n",
       " 'Bruce received permit approval 95 days after the event. ']"
      ]
     },
     "execution_count": 29,
     "metadata": {},
     "output_type": "execute_result"
    }
   ],
   "source": [
    "owners[1].story"
   ]
  },
  {
   "cell_type": "code",
   "execution_count": 30,
   "metadata": {
    "collapsed": false
   },
   "outputs": [
    {
     "data": {
      "text/plain": [
       "['Selena owns and lives in a 0 bedroom Single Family Dwelling at 1001 Other Ave worth $10,000. ',\n",
       " \"Selena's house was inspected 10 days after the event and suffered $10,000 of damage.\",\n",
       " 'Selena received an engineering assessment 85 days after the event. ',\n",
       " 'Selena received permit approval 120 days after the event. ']"
      ]
     },
     "execution_count": 30,
     "metadata": {},
     "output_type": "execute_result"
    }
   ],
   "source": [
    "owners[2].story"
   ]
  },
  {
   "cell_type": "code",
   "execution_count": 31,
   "metadata": {
    "collapsed": false,
    "scrolled": true
   },
   "outputs": [
    {
     "data": {
      "text/plain": [
       "['Fish owns and lives in a 4 bedroom Single Family Dwelling at 26000 Out There Lane worth $800,000. ',\n",
       " \"Fish's house was inspected 10 days after the event and suffered $80,000 of damage.\",\n",
       " 'Fish received an engineering assessment 110 days after the event. ',\n",
       " 'Fish received permit approval 145 days after the event. ']"
      ]
     },
     "execution_count": 31,
     "metadata": {},
     "output_type": "execute_result"
    }
   ],
   "source": [
    "owners[3].story"
   ]
  },
  {
   "cell_type": "code",
   "execution_count": 32,
   "metadata": {
    "collapsed": true
   },
   "outputs": [],
   "source": [
    "bob = owners[0]"
   ]
  },
  {
   "cell_type": "code",
   "execution_count": 33,
   "metadata": {
    "collapsed": false
   },
   "outputs": [
    {
     "ename": "SyntaxError",
     "evalue": "invalid syntax (<ipython-input-33-beee74b99a52>, line 1)",
     "output_type": "error",
     "traceback": [
      "\u001b[0;36m  File \u001b[0;32m\"<ipython-input-33-beee74b99a52>\"\u001b[0;36m, line \u001b[0;32m1\u001b[0m\n\u001b[0;31m    bob.\u001b[0m\n\u001b[0m        ^\u001b[0m\n\u001b[0;31mSyntaxError\u001b[0m\u001b[0;31m:\u001b[0m invalid syntax\n"
     ]
    }
   ],
   "source": [
    "bob."
   ]
  }
 ],
 "metadata": {
  "anaconda-cloud": {},
  "kernelspec": {
   "display_name": "Python [default]",
   "language": "python",
   "name": "python3"
  },
  "language_info": {
   "codemirror_mode": {
    "name": "ipython",
    "version": 3
   },
   "file_extension": ".py",
   "mimetype": "text/x-python",
   "name": "python",
   "nbconvert_exporter": "python",
   "pygments_lexer": "ipython3",
   "version": "3.5.2"
  }
 },
 "nbformat": 4,
 "nbformat_minor": 0
}
