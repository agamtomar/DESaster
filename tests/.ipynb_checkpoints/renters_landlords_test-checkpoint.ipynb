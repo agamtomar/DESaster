{
 "cells": [
  {
   "cell_type": "markdown",
   "metadata": {},
   "source": [
    "# DESaster Simulation Set Up Template"
   ]
  },
  {
   "cell_type": "markdown",
   "metadata": {},
   "source": [
    "## Required Modules"
   ]
  },
  {
   "cell_type": "code",
   "execution_count": 1,
   "metadata": {
    "collapsed": false
   },
   "outputs": [],
   "source": [
    "import sys, random\n",
    "desaster_path = \"/Users/geomando/Dropbox/github/SeaGrantSimulation\"\n",
    "sys.path.append(desaster_path)\n",
    "import simpy\n",
    "from simpy import Resource, Container, FilterStore\n",
    "from simpy.util import start_delayed\n",
    "import pandas as pd\n",
    "import numpy as np\n",
    "from desaster import entities, capitals, request, io, movement, search, rebuild"
   ]
  },
  {
   "cell_type": "markdown",
   "metadata": {},
   "source": [
    "## Input Data"
   ]
  },
  {
   "cell_type": "code",
   "execution_count": 2,
   "metadata": {
    "collapsed": true
   },
   "outputs": [],
   "source": [
    "scenario_file = '../inputs/scenario_test_renters.xlsx'"
   ]
  },
  {
   "cell_type": "code",
   "execution_count": 3,
   "metadata": {
    "collapsed": false
   },
   "outputs": [
    {
     "data": {
      "text/html": [
       "<div>\n",
       "<table border=\"1\" class=\"dataframe\">\n",
       "  <thead>\n",
       "    <tr style=\"text-align: right;\">\n",
       "      <th></th>\n",
       "      <th>Name</th>\n",
       "      <th>Income</th>\n",
       "      <th>Savings</th>\n",
       "      <th>Insurance</th>\n",
       "      <th>Address</th>\n",
       "      <th>Occupancy</th>\n",
       "      <th>Cost</th>\n",
       "      <th>Bedrooms</th>\n",
       "      <th>Bathrooms</th>\n",
       "      <th>Area</th>\n",
       "      <th>Year Built</th>\n",
       "      <th>Value</th>\n",
       "      <th>Damage State</th>\n",
       "      <th>Tenure Pref</th>\n",
       "      <th>Tenure</th>\n",
       "      <th>Occupancy Pref</th>\n",
       "    </tr>\n",
       "  </thead>\n",
       "  <tbody>\n",
       "    <tr>\n",
       "      <th>0</th>\n",
       "      <td>Alfred</td>\n",
       "      <td>30000</td>\n",
       "      <td>0</td>\n",
       "      <td>0</td>\n",
       "      <td>62 That St</td>\n",
       "      <td>Mobile Home</td>\n",
       "      <td>1500</td>\n",
       "      <td>1</td>\n",
       "      <td>1</td>\n",
       "      <td>700</td>\n",
       "      <td>1920</td>\n",
       "      <td>100000</td>\n",
       "      <td>Complete</td>\n",
       "      <td>Own</td>\n",
       "      <td>Own</td>\n",
       "      <td>Single Family Dwelling</td>\n",
       "    </tr>\n",
       "    <tr>\n",
       "      <th>1</th>\n",
       "      <td>Bruce</td>\n",
       "      <td>100000</td>\n",
       "      <td>1000000</td>\n",
       "      <td>10000000</td>\n",
       "      <td>720 This Rd</td>\n",
       "      <td>Single Family Dwelling</td>\n",
       "      <td>3500</td>\n",
       "      <td>5</td>\n",
       "      <td>5</td>\n",
       "      <td>5000</td>\n",
       "      <td>1920</td>\n",
       "      <td>10000000</td>\n",
       "      <td>Slight</td>\n",
       "      <td>Own</td>\n",
       "      <td>Own</td>\n",
       "      <td>Single Family Dwelling</td>\n",
       "    </tr>\n",
       "    <tr>\n",
       "      <th>2</th>\n",
       "      <td>Selena</td>\n",
       "      <td>10000</td>\n",
       "      <td>100</td>\n",
       "      <td>0</td>\n",
       "      <td>1001 Other Ave</td>\n",
       "      <td>Single Family Dwelling</td>\n",
       "      <td>1000</td>\n",
       "      <td>0</td>\n",
       "      <td>1</td>\n",
       "      <td>250</td>\n",
       "      <td>1960</td>\n",
       "      <td>10000</td>\n",
       "      <td>Complete</td>\n",
       "      <td>Own</td>\n",
       "      <td>Own</td>\n",
       "      <td>Single Family Dwelling</td>\n",
       "    </tr>\n",
       "    <tr>\n",
       "      <th>3</th>\n",
       "      <td>Fish</td>\n",
       "      <td>50000</td>\n",
       "      <td>1000</td>\n",
       "      <td>550000</td>\n",
       "      <td>26000 Out There Lane</td>\n",
       "      <td>Single Family Dwelling</td>\n",
       "      <td>3000</td>\n",
       "      <td>4</td>\n",
       "      <td>2</td>\n",
       "      <td>2000</td>\n",
       "      <td>2010</td>\n",
       "      <td>800000</td>\n",
       "      <td>Moderate</td>\n",
       "      <td>Own</td>\n",
       "      <td>Own</td>\n",
       "      <td>Single Family Dwelling</td>\n",
       "    </tr>\n",
       "  </tbody>\n",
       "</table>\n",
       "</div>"
      ],
      "text/plain": [
       "     Name  Income  Savings  Insurance               Address  \\\n",
       "0  Alfred   30000        0          0            62 That St   \n",
       "1   Bruce  100000  1000000   10000000           720 This Rd   \n",
       "2  Selena   10000      100          0        1001 Other Ave   \n",
       "3    Fish   50000     1000     550000  26000 Out There Lane   \n",
       "\n",
       "                Occupancy  Cost  Bedrooms  Bathrooms  Area  Year Built  \\\n",
       "0             Mobile Home  1500         1          1   700        1920   \n",
       "1  Single Family Dwelling  3500         5          5  5000        1920   \n",
       "2  Single Family Dwelling  1000         0          1   250        1960   \n",
       "3  Single Family Dwelling  3000         4          2  2000        2010   \n",
       "\n",
       "      Value Damage State Tenure Pref Tenure          Occupancy Pref  \n",
       "0    100000     Complete         Own    Own  Single Family Dwelling  \n",
       "1  10000000       Slight         Own    Own  Single Family Dwelling  \n",
       "2     10000     Complete         Own    Own  Single Family Dwelling  \n",
       "3    800000     Moderate         Own    Own  Single Family Dwelling  "
      ]
     },
     "execution_count": 3,
     "metadata": {},
     "output_type": "execute_result"
    }
   ],
   "source": [
    "# Create Pandas dataframe of attribute data for all owners to be modeled in the simulation\n",
    "owners_df = pd.read_excel(scenario_file, sheetname='owners')\n",
    "owners_df"
   ]
  },
  {
   "cell_type": "code",
   "execution_count": 4,
   "metadata": {
    "collapsed": false
   },
   "outputs": [
    {
     "data": {
      "text/html": [
       "<div>\n",
       "<table border=\"1\" class=\"dataframe\">\n",
       "  <thead>\n",
       "    <tr style=\"text-align: right;\">\n",
       "      <th></th>\n",
       "      <th>Name</th>\n",
       "      <th>Income</th>\n",
       "      <th>Savings</th>\n",
       "      <th>Insurance</th>\n",
       "      <th>Address</th>\n",
       "      <th>Occupancy</th>\n",
       "      <th>Cost</th>\n",
       "      <th>Bedrooms</th>\n",
       "      <th>Bathrooms</th>\n",
       "      <th>Area</th>\n",
       "      <th>Year Built</th>\n",
       "      <th>Value</th>\n",
       "      <th>Damage State</th>\n",
       "      <th>Tenure Pref</th>\n",
       "      <th>Tenure</th>\n",
       "      <th>Occupancy Pref</th>\n",
       "    </tr>\n",
       "  </thead>\n",
       "  <tbody>\n",
       "    <tr>\n",
       "      <th>0</th>\n",
       "      <td>Ivy</td>\n",
       "      <td>30000</td>\n",
       "      <td>10000</td>\n",
       "      <td>0</td>\n",
       "      <td>262 That St</td>\n",
       "      <td>Mobile Home</td>\n",
       "      <td>1000</td>\n",
       "      <td>1</td>\n",
       "      <td>1</td>\n",
       "      <td>700</td>\n",
       "      <td>1920</td>\n",
       "      <td>100000</td>\n",
       "      <td>Complete</td>\n",
       "      <td>Rent</td>\n",
       "      <td>Rent</td>\n",
       "      <td>Single Family Dwelling</td>\n",
       "    </tr>\n",
       "    <tr>\n",
       "      <th>1</th>\n",
       "      <td>Edward</td>\n",
       "      <td>100000</td>\n",
       "      <td>50000</td>\n",
       "      <td>10000000</td>\n",
       "      <td>4720 This Rd</td>\n",
       "      <td>Single Family Dwelling</td>\n",
       "      <td>2500</td>\n",
       "      <td>3</td>\n",
       "      <td>2</td>\n",
       "      <td>5000</td>\n",
       "      <td>1920</td>\n",
       "      <td>10000000</td>\n",
       "      <td>Slight</td>\n",
       "      <td>Own</td>\n",
       "      <td>Rent</td>\n",
       "      <td>Single Family Dwelling</td>\n",
       "    </tr>\n",
       "    <tr>\n",
       "      <th>2</th>\n",
       "      <td>Oswald</td>\n",
       "      <td>10000</td>\n",
       "      <td>100</td>\n",
       "      <td>0</td>\n",
       "      <td>2301 Other Ave</td>\n",
       "      <td>Multi Family Dwelling</td>\n",
       "      <td>750</td>\n",
       "      <td>0</td>\n",
       "      <td>1</td>\n",
       "      <td>250</td>\n",
       "      <td>1960</td>\n",
       "      <td>10000</td>\n",
       "      <td>Complete</td>\n",
       "      <td>Rent</td>\n",
       "      <td>Rent</td>\n",
       "      <td>Multi Family Dwelling</td>\n",
       "    </tr>\n",
       "    <tr>\n",
       "      <th>3</th>\n",
       "      <td>James</td>\n",
       "      <td>50000</td>\n",
       "      <td>1000</td>\n",
       "      <td>550000</td>\n",
       "      <td>74000 Out There Lane</td>\n",
       "      <td>Single Family Dwelling</td>\n",
       "      <td>2000</td>\n",
       "      <td>2</td>\n",
       "      <td>2</td>\n",
       "      <td>2000</td>\n",
       "      <td>2010</td>\n",
       "      <td>800000</td>\n",
       "      <td>Moderate</td>\n",
       "      <td>Own</td>\n",
       "      <td>Rent</td>\n",
       "      <td>Single Family Dwelling</td>\n",
       "    </tr>\n",
       "  </tbody>\n",
       "</table>\n",
       "</div>"
      ],
      "text/plain": [
       "     Name  Income  Savings  Insurance               Address  \\\n",
       "0     Ivy   30000    10000          0           262 That St   \n",
       "1  Edward  100000    50000   10000000          4720 This Rd   \n",
       "2  Oswald   10000      100          0        2301 Other Ave   \n",
       "3   James   50000     1000     550000  74000 Out There Lane   \n",
       "\n",
       "                Occupancy  Cost  Bedrooms  Bathrooms  Area  Year Built  \\\n",
       "0             Mobile Home  1000         1          1   700        1920   \n",
       "1  Single Family Dwelling  2500         3          2  5000        1920   \n",
       "2   Multi Family Dwelling   750         0          1   250        1960   \n",
       "3  Single Family Dwelling  2000         2          2  2000        2010   \n",
       "\n",
       "      Value Damage State Tenure Pref Tenure          Occupancy Pref  \n",
       "0    100000     Complete        Rent   Rent  Single Family Dwelling  \n",
       "1  10000000       Slight         Own   Rent  Single Family Dwelling  \n",
       "2     10000     Complete        Rent   Rent   Multi Family Dwelling  \n",
       "3    800000     Moderate         Own   Rent  Single Family Dwelling  "
      ]
     },
     "execution_count": 4,
     "metadata": {},
     "output_type": "execute_result"
    }
   ],
   "source": [
    "# Create Pandas dataframe of attribute data for all renters to be modeled in the simulation\n",
    "renters_df = pd.read_excel(scenario_file, sheetname='renters')\n",
    "renters_df"
   ]
  },
  {
   "cell_type": "code",
   "execution_count": 5,
   "metadata": {
    "collapsed": false
   },
   "outputs": [
    {
     "data": {
      "text/plain": [
       "Type\n",
       "Contractors             40\n",
       "Engineers               20\n",
       "FEMA Processors         40\n",
       "Inspectors               4\n",
       "Insurance Adjusters     40\n",
       "Loan Processors         40\n",
       "Permit Processors      100\n",
       "Name: Quantity, dtype: int64"
      ]
     },
     "execution_count": 5,
     "metadata": {},
     "output_type": "execute_result"
    }
   ],
   "source": [
    "# Set input data for all human capital types, as dict or Pandas Series\n",
    "# .loc stuff is to convert the DataFrame to a Series ... data will function the same as a dictionary as well\n",
    "human_cap_data = pd.read_excel(scenario_file, sheetname='human_capital', index_col=0).iloc[:,0]\n",
    "human_cap_data"
   ]
  },
  {
   "cell_type": "code",
   "execution_count": 6,
   "metadata": {
    "collapsed": false
   },
   "outputs": [],
   "source": [
    "human_cap_data['Contractors'] = 4\n",
    "human_cap_data['Engineers'] = 4\n",
    "human_cap_data['FEMA Processors'] = 4\n",
    "human_cap_data['Inspectors'] = 12\n",
    "human_cap_data['Insurance Adjusters'] = 4\n",
    "human_cap_data['Loan Processors'] = 4\n",
    "human_cap_data['Permit Processors'] = 4"
   ]
  },
  {
   "cell_type": "code",
   "execution_count": 7,
   "metadata": {
    "collapsed": false
   },
   "outputs": [
    {
     "data": {
      "text/plain": [
       "Type\n",
       "Building Materials     2000000\n",
       "FEMA Aid              35000000\n",
       "Name: Quantity, dtype: int64"
      ]
     },
     "execution_count": 7,
     "metadata": {},
     "output_type": "execute_result"
    }
   ],
   "source": [
    "# Set input data for all financial capital types, as dict or Pandas Series\n",
    "financial_cap_data = pd.read_excel(scenario_file, sheetname='financial_capital', index_col=0).iloc[:,0]\n",
    "financial_cap_data"
   ]
  },
  {
   "cell_type": "code",
   "execution_count": 8,
   "metadata": {
    "collapsed": true
   },
   "outputs": [],
   "source": [
    "financial_cap_data['Building Materials'] = 2000000\n",
    "financial_cap_data['FEMA Aid'] = 2000000"
   ]
  },
  {
   "cell_type": "code",
   "execution_count": 9,
   "metadata": {
    "collapsed": false
   },
   "outputs": [
    {
     "data": {
      "text/html": [
       "<div>\n",
       "<table border=\"1\" class=\"dataframe\">\n",
       "  <thead>\n",
       "    <tr style=\"text-align: right;\">\n",
       "      <th></th>\n",
       "      <th>Address</th>\n",
       "      <th>Occupancy</th>\n",
       "      <th>Cost</th>\n",
       "      <th>Bedrooms</th>\n",
       "      <th>Bathrooms</th>\n",
       "      <th>Area</th>\n",
       "      <th>Year Built</th>\n",
       "      <th>Value</th>\n",
       "      <th>Damage State</th>\n",
       "    </tr>\n",
       "  </thead>\n",
       "  <tbody>\n",
       "    <tr>\n",
       "      <th>0</th>\n",
       "      <td>100 New Ave</td>\n",
       "      <td>Mobile Home</td>\n",
       "      <td>100</td>\n",
       "      <td>1</td>\n",
       "      <td>1</td>\n",
       "      <td>700</td>\n",
       "      <td>1920</td>\n",
       "      <td>99999</td>\n",
       "      <td>Slight</td>\n",
       "    </tr>\n",
       "    <tr>\n",
       "      <th>1</th>\n",
       "      <td>101 New Ave</td>\n",
       "      <td>Single Family Dwelling</td>\n",
       "      <td>100000</td>\n",
       "      <td>6</td>\n",
       "      <td>5</td>\n",
       "      <td>5000</td>\n",
       "      <td>1920</td>\n",
       "      <td>9999</td>\n",
       "      <td>Complete</td>\n",
       "    </tr>\n",
       "    <tr>\n",
       "      <th>2</th>\n",
       "      <td>102 New Ave</td>\n",
       "      <td>Multi Family Dwelling</td>\n",
       "      <td>10</td>\n",
       "      <td>0</td>\n",
       "      <td>1</td>\n",
       "      <td>250</td>\n",
       "      <td>1960</td>\n",
       "      <td>9999</td>\n",
       "      <td>Complete</td>\n",
       "    </tr>\n",
       "    <tr>\n",
       "      <th>3</th>\n",
       "      <td>103 New Ave</td>\n",
       "      <td>Single Family Dwelling</td>\n",
       "      <td>2000</td>\n",
       "      <td>4</td>\n",
       "      <td>2</td>\n",
       "      <td>2000</td>\n",
       "      <td>2010</td>\n",
       "      <td>800000</td>\n",
       "      <td>Complete</td>\n",
       "    </tr>\n",
       "  </tbody>\n",
       "</table>\n",
       "</div>"
      ],
      "text/plain": [
       "       Address               Occupancy    Cost  Bedrooms  Bathrooms  Area  \\\n",
       "0  100 New Ave             Mobile Home     100         1          1   700   \n",
       "1  101 New Ave  Single Family Dwelling  100000         6          5  5000   \n",
       "2  102 New Ave   Multi Family Dwelling      10         0          1   250   \n",
       "3  103 New Ave  Single Family Dwelling    2000         4          2  2000   \n",
       "\n",
       "   Year Built   Value Damage State  \n",
       "0        1920   99999       Slight  \n",
       "1        1920    9999     Complete  \n",
       "2        1960    9999     Complete  \n",
       "3        2010  800000     Complete  "
      ]
     },
     "execution_count": 9,
     "metadata": {},
     "output_type": "execute_result"
    }
   ],
   "source": [
    "# Create Pandas dataframe of attribute data for all vacant homes (housing stock) to be modeled in the simulation\n",
    "forsale_stock_df = pd.read_excel(scenario_file, sheetname='forsale_stock')\n",
    "forsale_stock_df"
   ]
  },
  {
   "cell_type": "code",
   "execution_count": 10,
   "metadata": {
    "collapsed": false
   },
   "outputs": [
    {
     "data": {
      "text/html": [
       "<div>\n",
       "<table border=\"1\" class=\"dataframe\">\n",
       "  <thead>\n",
       "    <tr style=\"text-align: right;\">\n",
       "      <th></th>\n",
       "      <th>Address</th>\n",
       "      <th>Occupancy</th>\n",
       "      <th>Cost</th>\n",
       "      <th>Bedrooms</th>\n",
       "      <th>Bathrooms</th>\n",
       "      <th>Area</th>\n",
       "      <th>Year Built</th>\n",
       "      <th>Value</th>\n",
       "      <th>Damage State</th>\n",
       "    </tr>\n",
       "  </thead>\n",
       "  <tbody>\n",
       "    <tr>\n",
       "      <th>0</th>\n",
       "      <td>100 Old Ave</td>\n",
       "      <td>Multi Family Dwelling</td>\n",
       "      <td>100</td>\n",
       "      <td>1</td>\n",
       "      <td>1</td>\n",
       "      <td>700</td>\n",
       "      <td>1920</td>\n",
       "      <td>99999</td>\n",
       "      <td>Slight</td>\n",
       "    </tr>\n",
       "    <tr>\n",
       "      <th>1</th>\n",
       "      <td>101 Old Ave</td>\n",
       "      <td>Single Family Dwelling</td>\n",
       "      <td>100000</td>\n",
       "      <td>2</td>\n",
       "      <td>2</td>\n",
       "      <td>5000</td>\n",
       "      <td>1920</td>\n",
       "      <td>9999</td>\n",
       "      <td>Slight</td>\n",
       "    </tr>\n",
       "    <tr>\n",
       "      <th>2</th>\n",
       "      <td>102 Old Ave</td>\n",
       "      <td>Multi Family Dwelling</td>\n",
       "      <td>10</td>\n",
       "      <td>0</td>\n",
       "      <td>1</td>\n",
       "      <td>250</td>\n",
       "      <td>1960</td>\n",
       "      <td>9999</td>\n",
       "      <td>Slight</td>\n",
       "    </tr>\n",
       "    <tr>\n",
       "      <th>3</th>\n",
       "      <td>103 Old Ave</td>\n",
       "      <td>Single Family Dwelling</td>\n",
       "      <td>2000</td>\n",
       "      <td>3</td>\n",
       "      <td>2</td>\n",
       "      <td>2000</td>\n",
       "      <td>2010</td>\n",
       "      <td>800000</td>\n",
       "      <td>Slight</td>\n",
       "    </tr>\n",
       "  </tbody>\n",
       "</table>\n",
       "</div>"
      ],
      "text/plain": [
       "       Address               Occupancy    Cost  Bedrooms  Bathrooms  Area  \\\n",
       "0  100 Old Ave   Multi Family Dwelling     100         1          1   700   \n",
       "1  101 Old Ave  Single Family Dwelling  100000         2          2  5000   \n",
       "2  102 Old Ave   Multi Family Dwelling      10         0          1   250   \n",
       "3  103 Old Ave  Single Family Dwelling    2000         3          2  2000   \n",
       "\n",
       "   Year Built   Value Damage State  \n",
       "0        1920   99999       Slight  \n",
       "1        1920    9999       Slight  \n",
       "2        1960    9999       Slight  \n",
       "3        2010  800000       Slight  "
      ]
     },
     "execution_count": 10,
     "metadata": {},
     "output_type": "execute_result"
    }
   ],
   "source": [
    "# Create Pandas dataframe of attribute data for all vacant homes (housing stock) to be modeled in the simulation\n",
    "forrent_stock_df = pd.read_excel(scenario_file, sheetname='forrent_stock')\n",
    "forrent_stock_df"
   ]
  },
  {
   "cell_type": "markdown",
   "metadata": {},
   "source": [
    "## Simulation Initiation"
   ]
  },
  {
   "cell_type": "markdown",
   "metadata": {},
   "source": [
    "__Set simulation environment__"
   ]
  },
  {
   "cell_type": "code",
   "execution_count": 11,
   "metadata": {
    "collapsed": true
   },
   "outputs": [],
   "source": [
    "simulation = simpy.Environment()"
   ]
  },
  {
   "cell_type": "markdown",
   "metadata": {},
   "source": [
    "__Indicate whether want to keep track of the stories of each entity (household) in the simulation.__"
   ]
  },
  {
   "cell_type": "code",
   "execution_count": 12,
   "metadata": {
    "collapsed": true
   },
   "outputs": [],
   "source": [
    "write_story = True"
   ]
  },
  {
   "cell_type": "markdown",
   "metadata": {},
   "source": [
    "__Populate the simulation with human and financial capital data.__"
   ]
  },
  {
   "cell_type": "code",
   "execution_count": 13,
   "metadata": {
    "collapsed": false
   },
   "outputs": [],
   "source": [
    "financial_capital = capitals.FinancialCapital(simulation, financial_cap_data) \n",
    "\n",
    "human_capital = capitals.HumanCapital(simulation, human_cap_data)"
   ]
  },
  {
   "cell_type": "markdown",
   "metadata": {},
   "source": [
    "__Create and populate a FilterStore as a vacant housing stock.__"
   ]
  },
  {
   "cell_type": "code",
   "execution_count": 14,
   "metadata": {
    "collapsed": true
   },
   "outputs": [],
   "source": [
    "forsale_stock = capitals.importHousingStock(simulation, forsale_stock_df)"
   ]
  },
  {
   "cell_type": "markdown",
   "metadata": {},
   "source": [
    "__Create an empty FilterStore to use as the occupied housing stock.__"
   ]
  },
  {
   "cell_type": "code",
   "execution_count": 15,
   "metadata": {
    "collapsed": false
   },
   "outputs": [],
   "source": [
    "owned_stock = FilterStore(simulation)\n",
    "rented_stock = FilterStore(simulation)"
   ]
  },
  {
   "cell_type": "markdown",
   "metadata": {},
   "source": [
    "__Import data on households. Everytime a household's residence is created put it in the occupied housing stock.__"
   ]
  },
  {
   "cell_type": "code",
   "execution_count": 16,
   "metadata": {
    "collapsed": false
   },
   "outputs": [],
   "source": [
    "owners = entities.importOwners(simulation, owned_stock, owners_df, write_story)"
   ]
  },
  {
   "cell_type": "code",
   "execution_count": 17,
   "metadata": {
    "collapsed": false
   },
   "outputs": [],
   "source": [
    "renters = entities.importRenters(simulation, rented_stock, renters_df, write_story)"
   ]
  },
  {
   "cell_type": "code",
   "execution_count": 18,
   "metadata": {
    "collapsed": false
   },
   "outputs": [],
   "source": [
    "landlords = []\n",
    "\n",
    "for renter in renters:\n",
    "    landlords.append(entities.Landlord())"
   ]
  },
  {
   "cell_type": "code",
   "execution_count": 19,
   "metadata": {
    "collapsed": false
   },
   "outputs": [],
   "source": [
    "entities.assignLandlords(renters, landlords, write_story)"
   ]
  },
  {
   "cell_type": "code",
   "execution_count": 20,
   "metadata": {
    "collapsed": false
   },
   "outputs": [
    {
     "data": {
      "text/plain": [
       "True"
      ]
     },
     "execution_count": 20,
     "metadata": {},
     "output_type": "execute_result"
    }
   ],
   "source": [
    "renters[1] == renters[1].landlord.tenant"
   ]
  },
  {
   "cell_type": "code",
   "execution_count": 21,
   "metadata": {
    "collapsed": false
   },
   "outputs": [
    {
     "data": {
      "text/plain": [
       "True"
      ]
     },
     "execution_count": 21,
     "metadata": {},
     "output_type": "execute_result"
    }
   ],
   "source": [
    "renters[1].residence == renters[1].landlord.residence"
   ]
  },
  {
   "cell_type": "markdown",
   "metadata": {},
   "source": [
    "__Write a master process that combines process and functions from search, rebuild, and request modules.__"
   ]
  },
  {
   "cell_type": "code",
   "execution_count": 22,
   "metadata": {
    "collapsed": true
   },
   "outputs": [],
   "source": [
    "def landlord_process(simulation, human_capital, financial_capital, entity, write_story):\n",
    "        \n",
    "    yield simulation.process(request.inspection(simulation, human_capital, entity.residence, entity, write_story))\n",
    "    \n",
    "    # Specify the event sequence for households from the time of the hazard through the decisions to relocate \n",
    "    # or rebuild\n",
    "    if entity.residence.damage_state != 'None':\n",
    "        \n",
    "        money_patience = 365  # days until give up the search for rebuild money\n",
    "\n",
    "        # Search for rebuild money\n",
    "        yield simulation.process(search.rebuild_money(simulation, human_capital, \n",
    "                                                        financial_capital, entity, \n",
    "                                                        money_patience, write_story))\n",
    "        \n",
    "        if entity.gave_up_money_search == True:\n",
    "            entity.residence = []\n",
    "            entity.tenant.prior_residence = entity.tenant.residence\n",
    "            entity.tenant.residence = []\n",
    "            return\n",
    "        \n",
    "        # If home is completely damaged, evict tenant\n",
    "        if entity.residence.damage_state == 'Complete':\n",
    "            entity.residence = []\n",
    "            entity.tenant.prior_residence = entity.tenant.residence\n",
    "            entity.tenant.residence = []\n",
    "            return\n",
    "\n",
    "        if entity.residence.damage_state != 'None':\n",
    "            yield simulation.process(request.engineering_assessment(simulation, human_capital, entity, write_story))\n",
    "\n",
    "            yield simulation.process(request.permit(simulation, human_capital, entity, write_story))\n",
    "\n",
    "            yield simulation.process(rebuild.home(simulation, human_capital, financial_capital, entity, write_story))\n",
    "               \n",
    "   \n",
    "   "
   ]
  },
  {
   "cell_type": "code",
   "execution_count": 23,
   "metadata": {
    "collapsed": true
   },
   "outputs": [],
   "source": [
    "# def owner_process(simulation, human_capital, financial_capital, entity, write_story):\n",
    "        \n",
    "#     yield simulation.process(request.inspection(simulation, human_capital, entity.residence, entity, write_story))"
   ]
  },
  {
   "cell_type": "code",
   "execution_count": 24,
   "metadata": {
    "collapsed": true
   },
   "outputs": [],
   "source": [
    "def owner_process(simulation, human_capital, financial_capital, entity, write_story):\n",
    "        \n",
    "    yield simulation.process(request.inspection(simulation, human_capital, entity.residence, entity, write_story))\n",
    "    \n",
    "    # Specify the event sequence for households from the time of the hazard through the decisions to relocate \n",
    "    # or rebuild\n",
    "    if entity.residence.damage_state != 'None':\n",
    "        \n",
    "        money_patience = 365  # days until give up the search for rebuild money\n",
    "\n",
    "        # Search for rebuild money\n",
    "        yield simulation.process(search.rebuild_money(simulation, human_capital, \n",
    "                                                        financial_capital, entity, \n",
    "                                                        money_patience, write_story))\n",
    "        \n",
    "        if entity.gave_up_money_search == True:\n",
    "                return\n",
    "        \n",
    "        # If home is completely damaged, search for a new home to purchase.\n",
    "        if entity.residence.damage_state == 'Complete':\n",
    "            \n",
    "            home_patience = 550  # days until give up the search for a new home\n",
    "\n",
    "            search_outcome = yield simulation.process(search.permanent_housing(simulation, entity, home_patience, forsale_stock, human_capital, write_story))\n",
    "\n",
    "            if entity.gave_up_home_search == True:\n",
    "                return\n",
    "\n",
    "        if entity.residence.damage_state != 'None':\n",
    "            yield simulation.process(request.engineering_assessment(simulation, human_capital, entity, write_story))\n",
    "\n",
    "            yield simulation.process(request.permit(simulation, human_capital, entity, write_story))\n",
    "\n",
    "            yield simulation.process(rebuild.home(simulation, human_capital, financial_capital, entity, write_story))\n",
    "            \n",
    "            yield simulation.process(request.reoccupy(simulation, entity, write_story))\n",
    "               "
   ]
  },
  {
   "cell_type": "code",
   "execution_count": 25,
   "metadata": {
    "collapsed": false
   },
   "outputs": [],
   "source": [
    "def renter_process(simulation, human_capital, financial_capital, entity, write_story):\n",
    "        \n",
    "    yield simulation.process(landlord_process(simulation, human_capital, financial_capital, entity.landlord, write_story))\n",
    "    \n",
    "    search_patience = 550  # days until give up the search for a new home\n",
    "\n",
    "            search_outcome = yield simulation.process(search.permanent_housing(simulation, entity, search_patience, forsale_stock, human_capital, write_story))\n",
    "\n",
    "            if entity.gave_up_home_search == True:\n",
    "                entity.residence = []\n",
    "                entity.tenant.prior_residence = entity.tenant.residence\n",
    "                entity.tenant.residence = []\n",
    "                return\n",
    "    \n",
    "    yield simulation.process(request.reoccupy(simulation, entity, write_story))"
   ]
  },
  {
   "cell_type": "code",
   "execution_count": 26,
   "metadata": {
    "collapsed": false
   },
   "outputs": [],
   "source": [
    "# Initiate a master process for each owner to be modeled in the simulation\n",
    "for i in range(len(owners)):\n",
    "    simulation.process(owner_process(simulation, human_capital, financial_capital, owners[i], write_story))"
   ]
  },
  {
   "cell_type": "code",
   "execution_count": 27,
   "metadata": {
    "collapsed": false
   },
   "outputs": [],
   "source": [
    "# Initiate a master process for each renter to be modeled in the simulation\n",
    "for i in range(len(renters)):\n",
    "    simulation.process(renter_process(simulation, human_capital, financial_capital, renters[i], write_story))"
   ]
  },
  {
   "cell_type": "markdown",
   "metadata": {},
   "source": [
    "__Can do some cool stuff with the vacant housing stock.__"
   ]
  },
  {
   "cell_type": "code",
   "execution_count": 28,
   "metadata": {
    "collapsed": false
   },
   "outputs": [
    {
     "data": {
      "text/plain": [
       "<Process(starter) object at 0x11443c5c0>"
      ]
     },
     "execution_count": 28,
     "metadata": {},
     "output_type": "execute_result"
    }
   ],
   "source": [
    "# Do inspections on all of the vacant homes in the housing stock\n",
    "for home in forsale_stock.items:\n",
    "    simulation.process(request.inspection(simulation, human_capital, home))\n",
    "\n",
    "# Schedule an event that randomly fixes moderately or completely damaged homes in the vacant housing stock\n",
    "# with probability = fix_probability\n",
    "fix_probability = 1.0\n",
    "fix_schedule = 100\n",
    "\n",
    "start_delayed(simulation, rebuild.stock(simulation, forsale_stock, fix_probability), fix_schedule)"
   ]
  },
  {
   "cell_type": "code",
   "execution_count": 29,
   "metadata": {
    "collapsed": false,
    "scrolled": true
   },
   "outputs": [
    {
     "name": "stdout",
     "output_type": "stream",
     "text": [
      "Owner!\n",
      "Owner!\n"
     ]
    },
    {
     "ename": "UnboundLocalError",
     "evalue": "local variable 'new_residence' referenced before assignment",
     "output_type": "error",
     "traceback": [
      "\u001b[0;31m---------------------------------------------------------------------------\u001b[0m",
      "\u001b[0;31mUnboundLocalError\u001b[0m                         Traceback (most recent call last)",
      "\u001b[0;32m/Users/geomando/Dropbox/github/SeaGrantSimulation/desaster/search.py\u001b[0m in \u001b[0;36mpermanent_housing\u001b[0;34m(simulation, household, search_patience, housing_stock, human_capital, write_story)\u001b[0m\n\u001b[1;32m     89\u001b[0m     \u001b[0;31m# Assign the process that is completed first to the variable.\u001b[0m\u001b[0;34m\u001b[0m\u001b[0;34m\u001b[0m\u001b[0m\n\u001b[0;32m---> 90\u001b[0;31m     \u001b[0mhome_search_outcome\u001b[0m \u001b[0;34m=\u001b[0m \u001b[0;32myield\u001b[0m \u001b[0mfind_search_patience\u001b[0m \u001b[0;34m|\u001b[0m \u001b[0mnew_residence\u001b[0m\u001b[0;34m\u001b[0m\u001b[0m\n\u001b[0m\u001b[1;32m     91\u001b[0m \u001b[0;34m\u001b[0m\u001b[0m\n",
      "\u001b[0;31mUnboundLocalError\u001b[0m: local variable 'new_residence' referenced before assignment",
      "\nThe above exception was the direct cause of the following exception:\n",
      "\u001b[0;31mUnboundLocalError\u001b[0m                         Traceback (most recent call last)",
      "\u001b[0;32m<ipython-input-22-1bd3d4763862>\u001b[0m in \u001b[0;36mlandlord_process\u001b[0;34m(simulation, human_capital, financial_capital, entity, write_story)\u001b[0m\n\u001b[1;32m     25\u001b[0m \u001b[0;34m\u001b[0m\u001b[0m\n\u001b[0;32m---> 26\u001b[0;31m             \u001b[0msearch_outcome\u001b[0m \u001b[0;34m=\u001b[0m \u001b[0;32myield\u001b[0m \u001b[0msimulation\u001b[0m\u001b[0;34m.\u001b[0m\u001b[0mprocess\u001b[0m\u001b[0;34m(\u001b[0m\u001b[0msearch\u001b[0m\u001b[0;34m.\u001b[0m\u001b[0mpermanent_housing\u001b[0m\u001b[0;34m(\u001b[0m\u001b[0msimulation\u001b[0m\u001b[0;34m,\u001b[0m \u001b[0mentity\u001b[0m\u001b[0;34m,\u001b[0m \u001b[0mhome_patience\u001b[0m\u001b[0;34m,\u001b[0m \u001b[0mforsale_stock\u001b[0m\u001b[0;34m,\u001b[0m \u001b[0mhuman_capital\u001b[0m\u001b[0;34m,\u001b[0m \u001b[0mwrite_story\u001b[0m\u001b[0;34m)\u001b[0m\u001b[0;34m)\u001b[0m\u001b[0;34m\u001b[0m\u001b[0m\n\u001b[0m\u001b[1;32m     27\u001b[0m \u001b[0;34m\u001b[0m\u001b[0m\n",
      "\u001b[0;31mUnboundLocalError\u001b[0m: local variable 'new_residence' referenced before assignment",
      "\nThe above exception was the direct cause of the following exception:\n",
      "\u001b[0;31mUnboundLocalError\u001b[0m                         Traceback (most recent call last)",
      "\u001b[0;32m<ipython-input-25-e21dc590f2f1>\u001b[0m in \u001b[0;36mrenter_process\u001b[0;34m(simulation, human_capital, financial_capital, entity, write_story)\u001b[0m\n\u001b[1;32m      2\u001b[0m \u001b[0;34m\u001b[0m\u001b[0m\n\u001b[0;32m----> 3\u001b[0;31m     \u001b[0;32myield\u001b[0m \u001b[0msimulation\u001b[0m\u001b[0;34m.\u001b[0m\u001b[0mprocess\u001b[0m\u001b[0;34m(\u001b[0m\u001b[0mlandlord_process\u001b[0m\u001b[0;34m(\u001b[0m\u001b[0msimulation\u001b[0m\u001b[0;34m,\u001b[0m \u001b[0mhuman_capital\u001b[0m\u001b[0;34m,\u001b[0m \u001b[0mfinancial_capital\u001b[0m\u001b[0;34m,\u001b[0m \u001b[0mentity\u001b[0m\u001b[0;34m.\u001b[0m\u001b[0mlandlord\u001b[0m\u001b[0;34m,\u001b[0m \u001b[0mwrite_story\u001b[0m\u001b[0;34m)\u001b[0m\u001b[0;34m)\u001b[0m\u001b[0;34m\u001b[0m\u001b[0m\n\u001b[0m\u001b[1;32m      4\u001b[0m \u001b[0;34m\u001b[0m\u001b[0m\n",
      "\u001b[0;31mUnboundLocalError\u001b[0m: local variable 'new_residence' referenced before assignment",
      "\nThe above exception was the direct cause of the following exception:\n",
      "\u001b[0;31mUnboundLocalError\u001b[0m                         Traceback (most recent call last)",
      "\u001b[0;32m<ipython-input-29-ce1d875a6477>\u001b[0m in \u001b[0;36m<module>\u001b[0;34m()\u001b[0m\n\u001b[0;32m----> 1\u001b[0;31m \u001b[0msimulation\u001b[0m\u001b[0;34m.\u001b[0m\u001b[0mrun\u001b[0m\u001b[0;34m(\u001b[0m\u001b[0;34m)\u001b[0m\u001b[0;34m\u001b[0m\u001b[0m\n\u001b[0m",
      "\u001b[0;32m/Users/geomando/anaconda/lib/python3.5/site-packages/simpy/core.py\u001b[0m in \u001b[0;36mrun\u001b[0;34m(self, until)\u001b[0m\n\u001b[1;32m    135\u001b[0m         \u001b[0;32mtry\u001b[0m\u001b[0;34m:\u001b[0m\u001b[0;34m\u001b[0m\u001b[0m\n\u001b[1;32m    136\u001b[0m             \u001b[0;32mwhile\u001b[0m \u001b[0;32mTrue\u001b[0m\u001b[0;34m:\u001b[0m\u001b[0;34m\u001b[0m\u001b[0m\n\u001b[0;32m--> 137\u001b[0;31m                 \u001b[0mself\u001b[0m\u001b[0;34m.\u001b[0m\u001b[0mstep\u001b[0m\u001b[0;34m(\u001b[0m\u001b[0;34m)\u001b[0m\u001b[0;34m\u001b[0m\u001b[0m\n\u001b[0m\u001b[1;32m    138\u001b[0m         \u001b[0;32mexcept\u001b[0m \u001b[0mStopSimulation\u001b[0m \u001b[0;32mas\u001b[0m \u001b[0mexc\u001b[0m\u001b[0;34m:\u001b[0m\u001b[0;34m\u001b[0m\u001b[0m\n\u001b[1;32m    139\u001b[0m             \u001b[0;32mreturn\u001b[0m \u001b[0mexc\u001b[0m\u001b[0;34m.\u001b[0m\u001b[0margs\u001b[0m\u001b[0;34m[\u001b[0m\u001b[0;36m0\u001b[0m\u001b[0;34m]\u001b[0m  \u001b[0;31m# == until.value\u001b[0m\u001b[0;34m\u001b[0m\u001b[0m\n",
      "\u001b[0;32m/Users/geomando/anaconda/lib/python3.5/site-packages/simpy/core.py\u001b[0m in \u001b[0;36mstep\u001b[0;34m(self)\u001b[0m\n\u001b[1;32m    227\u001b[0m             \u001b[0mexc\u001b[0m \u001b[0;34m=\u001b[0m \u001b[0mtype\u001b[0m\u001b[0;34m(\u001b[0m\u001b[0mevent\u001b[0m\u001b[0;34m.\u001b[0m\u001b[0m_value\u001b[0m\u001b[0;34m)\u001b[0m\u001b[0;34m(\u001b[0m\u001b[0;34m*\u001b[0m\u001b[0mevent\u001b[0m\u001b[0;34m.\u001b[0m\u001b[0m_value\u001b[0m\u001b[0;34m.\u001b[0m\u001b[0margs\u001b[0m\u001b[0;34m)\u001b[0m\u001b[0;34m\u001b[0m\u001b[0m\n\u001b[1;32m    228\u001b[0m             \u001b[0mexc\u001b[0m\u001b[0;34m.\u001b[0m\u001b[0m__cause__\u001b[0m \u001b[0;34m=\u001b[0m \u001b[0mevent\u001b[0m\u001b[0;34m.\u001b[0m\u001b[0m_value\u001b[0m\u001b[0;34m\u001b[0m\u001b[0m\n\u001b[0;32m--> 229\u001b[0;31m             \u001b[0;32mraise\u001b[0m \u001b[0mexc\u001b[0m\u001b[0;34m\u001b[0m\u001b[0m\n\u001b[0m",
      "\u001b[0;31mUnboundLocalError\u001b[0m: local variable 'new_residence' referenced before assignment"
     ]
    }
   ],
   "source": [
    "simulation.run()"
   ]
  },
  {
   "cell_type": "markdown",
   "metadata": {},
   "source": [
    "## Outputs"
   ]
  },
  {
   "cell_type": "markdown",
   "metadata": {},
   "source": [
    "__Owner summary statistics__"
   ]
  },
  {
   "cell_type": "code",
   "execution_count": null,
   "metadata": {
    "collapsed": false
   },
   "outputs": [],
   "source": [
    "num_damaged = 0\n",
    "num_rebuilt = 0\n",
    "num_gave_up_money_search = 0\n",
    "num_relocated = 0\n",
    "num_homesearch = 0\n",
    "num_gave_up_home_search = 0\n",
    "\n",
    "for household in owners:\n",
    "    if household.money_search_start > 0.0: num_damaged += 1\n",
    "    if household.home_get > 0.0: num_rebuilt += 1\n",
    "    if household.gave_up_money_search: num_gave_up_money_search += 1\n",
    "    if household.home_search_start > 0.0: num_homesearch += 1\n",
    "    if household.home_search_stop > 0.0: num_relocated += 1\n",
    "    if household.gave_up_home_search: num_gave_up_home_search += 1\n",
    "        \n",
    "print('{0} out of {1} owners suffered damage to their homes.\\n'.format(num_damaged, len(owners)),\n",
    "      '{0} out of {1} owners rebuilt or repaired their damaged home.\\n'.format(num_rebuilt, len(owners)),\n",
    "        '{0} out of {1} owners gave up searching for money.\\n'.format(num_gave_up_money_search, len(owners)),\n",
    "      '{0} out of {1} owners searched for a new home.\\n'.format(num_homesearch, len(owners)),\n",
    "        '{0} out of {1} owners bought a new home.\\n'.format(num_relocated, len(owners)),\n",
    "        '{0} out of {1} owners gave up searching for a home.'.format(num_gave_up_home_search, len(owners))\n",
    "      )"
   ]
  },
  {
   "cell_type": "markdown",
   "metadata": {},
   "source": [
    "__Owner stories__"
   ]
  },
  {
   "cell_type": "code",
   "execution_count": null,
   "metadata": {
    "collapsed": false,
    "scrolled": true
   },
   "outputs": [],
   "source": [
    "owners[0].story"
   ]
  },
  {
   "cell_type": "code",
   "execution_count": null,
   "metadata": {
    "collapsed": false
   },
   "outputs": [],
   "source": [
    "owners[1].story"
   ]
  },
  {
   "cell_type": "code",
   "execution_count": null,
   "metadata": {
    "collapsed": false,
    "scrolled": true
   },
   "outputs": [],
   "source": [
    "owners[2].story"
   ]
  },
  {
   "cell_type": "code",
   "execution_count": null,
   "metadata": {
    "collapsed": false,
    "scrolled": true
   },
   "outputs": [],
   "source": [
    "owners[3].story"
   ]
  },
  {
   "cell_type": "markdown",
   "metadata": {},
   "source": [
    "__Renter summary statistics__"
   ]
  },
  {
   "cell_type": "code",
   "execution_count": null,
   "metadata": {
    "collapsed": false
   },
   "outputs": [],
   "source": [
    "num_damaged = 0\n",
    "num_rebuilt = 0\n",
    "num_gave_up_money_search = 0\n",
    "num_relocated = 0\n",
    "num_displaced = 0\n",
    "num_gave_up_home_search = 0\n",
    "\n",
    "for renter in renters:\n",
    "\n",
    "    if renter.landlord.money_search_start > 0.0: num_damaged += 1\n",
    "    if renter.landlord.home_get > 0.0: num_rebuilt += 1\n",
    "    if renter.landlord.gave_up_money_search: num_gave_up_money_search += 1\n",
    "    if not renter.residence: num_displaced += 1\n",
    "        \n",
    "print('{0} out of {1} renters\\' homes suffered damage.\\n'.format(num_damaged, len(renters)),\n",
    "      '{0} out of {1} renters\\' damaged home was rebuilt or repaired.\\n'.format(num_rebuilt, len(renters)),\n",
    "      '{0} out of {1} renters\\' were displaced.\\n'.format(num_displaced, len(renters)),\n",
    "      )"
   ]
  },
  {
   "cell_type": "markdown",
   "metadata": {
    "collapsed": true
   },
   "source": [
    "__Renters Stories__"
   ]
  },
  {
   "cell_type": "code",
   "execution_count": null,
   "metadata": {
    "collapsed": false,
    "scrolled": true
   },
   "outputs": [],
   "source": [
    "renters[0].story + renters[0].landlord.story"
   ]
  },
  {
   "cell_type": "code",
   "execution_count": null,
   "metadata": {
    "collapsed": false
   },
   "outputs": [],
   "source": [
    "renters[1].story + renters[1].landlord.story"
   ]
  },
  {
   "cell_type": "code",
   "execution_count": null,
   "metadata": {
    "collapsed": false,
    "scrolled": true
   },
   "outputs": [],
   "source": [
    "renters[2].story + renters[2].landlord.story"
   ]
  },
  {
   "cell_type": "code",
   "execution_count": null,
   "metadata": {
    "collapsed": false,
    "scrolled": true
   },
   "outputs": [],
   "source": [
    "renters[3].story + renters[3].landlord.story"
   ]
  },
  {
   "cell_type": "code",
   "execution_count": null,
   "metadata": {
    "collapsed": false
   },
   "outputs": [],
   "source": [
    "renters[1].residence.cost"
   ]
  },
  {
   "cell_type": "code",
   "execution_count": null,
   "metadata": {
    "collapsed": false
   },
   "outputs": [],
   "source": [
    "if not renters[1].residence: print('Im homeless.')"
   ]
  },
  {
   "cell_type": "code",
   "execution_count": null,
   "metadata": {
    "collapsed": false
   },
   "outputs": [],
   "source": [
    "isinstance(renters[1], entities.Renter)"
   ]
  },
  {
   "cell_type": "code",
   "execution_count": null,
   "metadata": {
    "collapsed": true
   },
   "outputs": [],
   "source": []
  }
 ],
 "metadata": {
  "anaconda-cloud": {},
  "kernelspec": {
   "display_name": "Python [default]",
   "language": "python",
   "name": "python3"
  },
  "language_info": {
   "codemirror_mode": {
    "name": "ipython",
    "version": 3
   },
   "file_extension": ".py",
   "mimetype": "text/x-python",
   "name": "python",
   "nbconvert_exporter": "python",
   "pygments_lexer": "ipython3",
   "version": "3.5.2"
  }
 },
 "nbformat": 4,
 "nbformat_minor": 0
}
