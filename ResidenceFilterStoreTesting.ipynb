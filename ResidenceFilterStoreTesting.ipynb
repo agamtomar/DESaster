{
 "cells": [
  {
   "cell_type": "code",
   "execution_count": 1,
   "metadata": {
    "collapsed": false
   },
   "outputs": [],
   "source": [
    "import random\n",
    "import simpy\n",
    "import pandas as pd\n",
    "from simpy.util import start_delayed"
   ]
  },
  {
   "cell_type": "code",
   "execution_count": 2,
   "metadata": {
    "collapsed": false
   },
   "outputs": [],
   "source": [
    "class Building(object):\n",
    "    def __init__(self, env, building):\n",
    "        self.setAddress(building)\n",
    "#         self.setResident(building)\n",
    "        try:\n",
    "            self.setOccupancy(building)\n",
    "        except AttributeError:\n",
    "            print('Invalid occupancy type provided: {0}.'.format(building['occupancy']))\n",
    "        self.setMonthlyCost(building)\n",
    "        self.setRooms(building)\n",
    "        self.setFloors(building)\n",
    "        self.setAge(building)\n",
    "        self.setValue(building)\n",
    "        self.setDamage(building)  \n",
    "        self.setInspection(env, building)\n",
    "    def setAddress(self, building):\n",
    "        self.address = building['address']\n",
    "    def setOccupancy(self, building):\n",
    "        self.occupancy = building['occupancy']\n",
    "    def setMonthlyCost(self, building):\n",
    "        self.cost = building['cost']\n",
    "    def setRooms(self, building):\n",
    "        self.rooms = building['rooms']\n",
    "    def setFloors(self, building):\n",
    "        self.floors = building['floors']\n",
    "    def setAge(self, building):\n",
    "        self.age = building['age']\n",
    "    def setValue(self, building):\n",
    "        self.value = building['value']\n",
    "    def setDamage(self, building):\n",
    "        self.damage = building['damage']\n",
    "    def setInspection(self, env, building):\n",
    "        self.inspection = env.event()\n",
    "        self.inspect_start = None\n",
    "        self.inspect_stop = None\n"
   ]
  },
  {
   "cell_type": "code",
   "execution_count": 3,
   "metadata": {
    "collapsed": true
   },
   "outputs": [],
   "source": [
    "class Residence(Building):\n",
    "    #Can verify that occupancy types only relate to residences\n",
    "    def setOccupancy(self, building):\n",
    "        if building['occupancy'] in ('house', 'apartment', 'condo'):\n",
    "            self.occupancy = building['occupancy']\n",
    "        else:\n",
    "            raise AttributeError(building['occupancy'])"
   ]
  },
  {
   "cell_type": "code",
   "execution_count": 4,
   "metadata": {
    "collapsed": false
   },
   "outputs": [],
   "source": [
    "class Household(object):\n",
    "    def __init__(self, env, household):\n",
    "        self.name = household['name']\n",
    "        self.income = household['income']\n",
    "        self.occupancy_pref = household['occupancy_pref']\n",
    "        self.room_pref = household['room_pref']\n",
    "        self.story = []\n",
    "        self.residence = Residence(env, household)\n",
    "        \n",
    "        self.setStory(self.residence)\n",
    "    \n",
    "    def setStory(self, residence):\n",
    "        self.story.append(\n",
    "        '{0} lives in a {1} bedroom {2} ({3}). '.format(self.name, \n",
    "                                                        residence.rooms, \n",
    "                                                        residence.occupancy,\n",
    "                                                        residence.address\n",
    "                                                        )\n",
    "        )\n",
    "\n",
    "\n"
   ]
  },
  {
   "cell_type": "code",
   "execution_count": 5,
   "metadata": {
    "collapsed": true
   },
   "outputs": [],
   "source": [
    "def inspect_residence(env, household):  \n",
    "    \n",
    "    household.residence.inspect_start = env.now\n",
    "\n",
    "    inspection_time = 14\n",
    "    yield env.timeout(inspection_time)\n",
    "\n",
    "    household.residence.inspection.succeed()\n",
    "    yield household.residence.inspection\n",
    "    household.residence.inspection.processed\n",
    "\n",
    "    household.residence.inspect_stop = env.now\n",
    "\n",
    "    if household.residence.damage == 0: \n",
    "        household.story.append(\n",
    "            '{0}\\'s {1} ({2}) was inspected after {3} days and was green tagged. '.format(household.name, \n",
    "                                                    household.residence.occupancy, \n",
    "                                                    household.residence.address,\n",
    "                                                    inspection_time)\n",
    "            )\n",
    "\n",
    "        env.exit()\n",
    "\n",
    "    if household.residence.damage == 1: \n",
    "        household.story.append(\n",
    "            '{0}\\'s {1} ({2}) was inspected after {3} days and was yellow tagged. '.format(household.name, \n",
    "                                                    household.residence.occupancy, \n",
    "                                                    household.residence.address,\n",
    "                                                    inspection_time)\n",
    "            )\n",
    "    if household.residence.damage == 2: \n",
    "        household.story.append(\n",
    "            '{0}\\'s {1} ({2}) was inspected after {3} days and was red tagged. '.format(household.name, \n",
    "                                                    household.residence.occupancy, \n",
    "                                                    household.residence.address,\n",
    "                                                    inspection_time)\n",
    "            )\n",
    "\n"
   ]
  },
  {
   "cell_type": "code",
   "execution_count": 6,
   "metadata": {
    "collapsed": false
   },
   "outputs": [],
   "source": [
    "def search_housing(env, household, housing_stock):\n",
    "    if household.residence.inspection.processed and household.residence.damage == 2:\n",
    "        search_start = env.now\n",
    "\n",
    "        household.story.append(\n",
    "        '{0} started searching for a {1} bedroom {2} that costs less than ${3} per month on day {4}. '.format(household.name, \n",
    "                                                               household.room_pref,\n",
    "                                                               household.occupancy_pref,\n",
    "                                                                household.income,\n",
    "                                                                            search_start)\n",
    "        )\n",
    "\n",
    "        yield env.timeout(100)\n",
    "\n",
    "\n",
    "\n",
    "        new_residence = yield housing_stock.get(lambda getResidence:\n",
    "                                                getResidence.damage == 0 and\n",
    "                                                getResidence.occupancy == household.occupancy_pref and \n",
    "                                                getResidence.rooms >= household.room_pref and\n",
    "                                                getResidence.cost <= household.income\n",
    "                                               )\n",
    "\n",
    "        yield housing_stock.put(household.residence)\n",
    "        \n",
    "        household.residence = new_residence\n",
    "\n",
    "\n",
    "\n",
    "\n",
    "\n",
    "        search_stop = env.now\n",
    "\n",
    "        household.story.append(\n",
    "        '{0} occupied a ${1} per month {2} bedroom {3} ({4}) after {5} days. '.format(household.name, \n",
    "                                                               new_residence.cost,\n",
    "                                                                new_residence.rooms, \n",
    "                                                               new_residence.occupancy,\n",
    "                                                                new_residence.address,\n",
    "                                                                search_stop)\n",
    "        )\n",
    "        \n",
    "        return 'found housing'\n",
    "    return 'do not need housing'"
   ]
  },
  {
   "cell_type": "code",
   "execution_count": 7,
   "metadata": {
    "collapsed": false
   },
   "outputs": [],
   "source": [
    "def household_leave():\n",
    "    #yield env.timeout(10, \"I am leaving!\")\n",
    "    print('I am leaving!')"
   ]
  },
  {
   "cell_type": "code",
   "execution_count": 8,
   "metadata": {
    "collapsed": true
   },
   "outputs": [],
   "source": [
    "# # CONDITIONAL SEARCH_HOUSING\n",
    "# def search_housing(env, household, housing_stock):\n",
    "#     if household.residence.inspection.processed and household.residence.damage == 2:\n",
    "#         search_start = env.now\n",
    "\n",
    "#         household.story.append(\n",
    "#         '{0} started searching for a {1} bedroom {2} that costs less than ${3} per month on day {4}. '.format(household.name, \n",
    "#                                                                household.room_pref,\n",
    "#                                                                household.occupancy_pref,\n",
    "#                                                                 household.income,\n",
    "#                                                                             search_start)\n",
    "#         )\n",
    "\n",
    "#         yield env.timeout(10)\n",
    "\n",
    "\n",
    "\n",
    "#         new_residence = yield housing_stock.get(lambda getResidence:\n",
    "#                                                 getResidence.damage == 0 and\n",
    "#                                                 getResidence.occupancy == household.occupancy_pref and \n",
    "#                                                 getResidence.rooms >= household.room_pref and\n",
    "#                                                 getResidence.cost <= household.income\n",
    "#                                                )\n",
    "\n",
    "#         yield housing_stock.put(household.residence)\n",
    "        \n",
    "#         household.residence = new_residence\n",
    "\n",
    "\n",
    "\n",
    "\n",
    "\n",
    "#         search_stop = env.now\n",
    "\n",
    "#         household.story.append(\n",
    "#         '{0} occupied a ${1} per month {2} bedroom {3} ({4}) after {5} days. '.format(household.name, \n",
    "#                                                                new_residence.cost,\n",
    "#                                                                 new_residence.rooms, \n",
    "#                                                                new_residence.occupancy,\n",
    "#                                                                 new_residence.address,\n",
    "#                                                                 search_stop)\n",
    "#         )\n",
    "        \n",
    "#         return 'found housing'"
   ]
  },
  {
   "cell_type": "code",
   "execution_count": 9,
   "metadata": {
    "collapsed": false,
    "scrolled": true
   },
   "outputs": [
    {
     "data": {
      "text/html": [
       "<div>\n",
       "<table border=\"1\" class=\"dataframe\">\n",
       "  <thead>\n",
       "    <tr style=\"text-align: right;\">\n",
       "      <th></th>\n",
       "      <th>address</th>\n",
       "      <th>age</th>\n",
       "      <th>cost</th>\n",
       "      <th>damage</th>\n",
       "      <th>floors</th>\n",
       "      <th>income</th>\n",
       "      <th>name</th>\n",
       "      <th>occupancy</th>\n",
       "      <th>occupancy_pref</th>\n",
       "      <th>room_pref</th>\n",
       "      <th>rooms</th>\n",
       "      <th>value</th>\n",
       "    </tr>\n",
       "  </thead>\n",
       "  <tbody>\n",
       "    <tr>\n",
       "      <th>0</th>\n",
       "      <td>101</td>\n",
       "      <td>1</td>\n",
       "      <td>4000</td>\n",
       "      <td>0</td>\n",
       "      <td>1</td>\n",
       "      <td>5000</td>\n",
       "      <td>Bill</td>\n",
       "      <td>house</td>\n",
       "      <td>house</td>\n",
       "      <td>3</td>\n",
       "      <td>3</td>\n",
       "      <td>1</td>\n",
       "    </tr>\n",
       "    <tr>\n",
       "      <th>1</th>\n",
       "      <td>102</td>\n",
       "      <td>1</td>\n",
       "      <td>3000</td>\n",
       "      <td>1</td>\n",
       "      <td>1</td>\n",
       "      <td>4000</td>\n",
       "      <td>Boyd</td>\n",
       "      <td>condo</td>\n",
       "      <td>condo</td>\n",
       "      <td>1</td>\n",
       "      <td>1</td>\n",
       "      <td>1</td>\n",
       "    </tr>\n",
       "    <tr>\n",
       "      <th>2</th>\n",
       "      <td>103</td>\n",
       "      <td>1</td>\n",
       "      <td>1000</td>\n",
       "      <td>1</td>\n",
       "      <td>1</td>\n",
       "      <td>2000</td>\n",
       "      <td>Bobby</td>\n",
       "      <td>apartment</td>\n",
       "      <td>apartment</td>\n",
       "      <td>1</td>\n",
       "      <td>1</td>\n",
       "      <td>1</td>\n",
       "    </tr>\n",
       "    <tr>\n",
       "      <th>3</th>\n",
       "      <td>104</td>\n",
       "      <td>1</td>\n",
       "      <td>2000</td>\n",
       "      <td>2</td>\n",
       "      <td>1</td>\n",
       "      <td>3000</td>\n",
       "      <td>Biff</td>\n",
       "      <td>apartment</td>\n",
       "      <td>apartment</td>\n",
       "      <td>2</td>\n",
       "      <td>2</td>\n",
       "      <td>1</td>\n",
       "    </tr>\n",
       "  </tbody>\n",
       "</table>\n",
       "</div>"
      ],
      "text/plain": [
       "  address  age  cost  damage  floors  income   name  occupancy occupancy_pref  \\\n",
       "0     101    1  4000       0       1    5000   Bill      house          house   \n",
       "1     102    1  3000       1       1    4000   Boyd      condo          condo   \n",
       "2     103    1  1000       1       1    2000  Bobby  apartment      apartment   \n",
       "3     104    1  2000       2       1    3000   Biff  apartment      apartment   \n",
       "\n",
       "   room_pref  rooms  value  \n",
       "0          3      3      1  \n",
       "1          1      1      1  \n",
       "2          1      1      1  \n",
       "3          2      2      1  "
      ]
     },
     "execution_count": 9,
     "metadata": {},
     "output_type": "execute_result"
    }
   ],
   "source": [
    "# Manually create household input data dictionary for testing\n",
    "households_inputs_dict = {'name' : ['Bill', 'Boyd', 'Bobby', 'Biff'],\n",
    "                          'income' : [5000.0, 4000.0, 2000.0, 3000.0],\n",
    "                        'occupancy_pref' : ['house','condo','apartment','apartment'],\n",
    "                        'room_pref' : [3, 1, 1, 2],\n",
    "                          'address' : ['101', '102', '103', '104'],\n",
    "                          'occupancy' : ['house', 'condo', 'apartment', 'apartment'],\n",
    "                        'cost' : [4000.0,3000.0,1000.0,2000.0],\n",
    "                        'rooms' : [3, 1, 1, 2],\n",
    "                       'floors' : [1, 1, 1, 1],\n",
    "                       'age' : [1, 1, 1, 1],\n",
    "                       'value' : [1, 1, 1, 1],\n",
    "                       'damage' : [0, 1, 1, 2] \n",
    "                    }\n",
    "# Create dataframe from dictionary\n",
    "households_df = pd.DataFrame(households_inputs_dict)\n",
    "\n",
    "# Re-order dataframe columns\n",
    "#households_df = households_df[['name','income','occupancy_pref','room_pref']]\n",
    "households_df"
   ]
  },
  {
   "cell_type": "code",
   "execution_count": 10,
   "metadata": {
    "collapsed": false
   },
   "outputs": [
    {
     "data": {
      "text/html": [
       "<div>\n",
       "<table border=\"1\" class=\"dataframe\">\n",
       "  <thead>\n",
       "    <tr style=\"text-align: right;\">\n",
       "      <th></th>\n",
       "      <th>address</th>\n",
       "      <th>age</th>\n",
       "      <th>cost</th>\n",
       "      <th>damage</th>\n",
       "      <th>floors</th>\n",
       "      <th>occupancy</th>\n",
       "      <th>rooms</th>\n",
       "      <th>value</th>\n",
       "    </tr>\n",
       "  </thead>\n",
       "  <tbody>\n",
       "    <tr>\n",
       "      <th>0</th>\n",
       "      <td>105</td>\n",
       "      <td>1</td>\n",
       "      <td>4000</td>\n",
       "      <td>0</td>\n",
       "      <td>1</td>\n",
       "      <td>house</td>\n",
       "      <td>3</td>\n",
       "      <td>1</td>\n",
       "    </tr>\n",
       "    <tr>\n",
       "      <th>1</th>\n",
       "      <td>106</td>\n",
       "      <td>1</td>\n",
       "      <td>3000</td>\n",
       "      <td>0</td>\n",
       "      <td>1</td>\n",
       "      <td>condo</td>\n",
       "      <td>1</td>\n",
       "      <td>1</td>\n",
       "    </tr>\n",
       "    <tr>\n",
       "      <th>2</th>\n",
       "      <td>107</td>\n",
       "      <td>1</td>\n",
       "      <td>1000</td>\n",
       "      <td>0</td>\n",
       "      <td>1</td>\n",
       "      <td>apartment</td>\n",
       "      <td>1</td>\n",
       "      <td>1</td>\n",
       "    </tr>\n",
       "    <tr>\n",
       "      <th>3</th>\n",
       "      <td>108</td>\n",
       "      <td>1</td>\n",
       "      <td>2000</td>\n",
       "      <td>0</td>\n",
       "      <td>1</td>\n",
       "      <td>apartment</td>\n",
       "      <td>2</td>\n",
       "      <td>1</td>\n",
       "    </tr>\n",
       "  </tbody>\n",
       "</table>\n",
       "</div>"
      ],
      "text/plain": [
       "  address  age  cost  damage  floors  occupancy  rooms  value\n",
       "0     105    1  4000       0       1      house      3      1\n",
       "1     106    1  3000       0       1      condo      1      1\n",
       "2     107    1  1000       0       1  apartment      1      1\n",
       "3     108    1  2000       0       1  apartment      2      1"
      ]
     },
     "execution_count": 10,
     "metadata": {},
     "output_type": "execute_result"
    }
   ],
   "source": [
    "# Manually create housing input data dictionary for testing\n",
    "housing_stock_dict = {'address' : ['105', '106', '107', '108'],\n",
    "                          'occupancy' : ['house', 'condo', 'apartment', 'apartment'],\n",
    "                        'cost' : [4000.0,3000.0,1000.0,2000.0],\n",
    "                        'rooms' : [3, 1, 1, 2],\n",
    "                       'floors' : [1, 1, 1, 1],\n",
    "                       'age' : [1, 1, 1, 1],\n",
    "                       'value' : [1, 1, 1, 1],\n",
    "                       'damage' : [0, 0, 0, 0]      \n",
    "                    }\n",
    "# Create dataframe from dictionary\n",
    "housing_stock_df = pd.DataFrame(housing_stock_dict)\n",
    "\n",
    "# Re-order dataframe columns\n",
    "housing_stock_df"
   ]
  },
  {
   "cell_type": "code",
   "execution_count": 11,
   "metadata": {
    "collapsed": true
   },
   "outputs": [],
   "source": [
    "env = simpy.Environment()"
   ]
  },
  {
   "cell_type": "code",
   "execution_count": 12,
   "metadata": {
    "collapsed": false
   },
   "outputs": [],
   "source": [
    "#Instantiate housing stock (not assigned to any households)\n",
    "housing_stock = simpy.FilterStore(env)\n",
    "\n",
    "for i in housing_stock_df.index:\n",
    "    housing_stock.put(Residence(env, housing_stock_df.loc[i]))\n"
   ]
  },
  {
   "cell_type": "code",
   "execution_count": 13,
   "metadata": {
    "collapsed": false
   },
   "outputs": [],
   "source": [
    "#Instantiate household objects\n",
    "households = {}\n",
    "for i in households_df.index:\n",
    "    households[i] = Household(env, households_df.loc[i])"
   ]
  },
  {
   "cell_type": "code",
   "execution_count": 14,
   "metadata": {
    "collapsed": false
   },
   "outputs": [],
   "source": [
    "def master_process(env, household, housing_stock):\n",
    "    for household in households.keys():\n",
    "        yield env.process(inspect_residence(env, households[household]))\n",
    "        \n",
    "        patience = env.timeout(3, value='give up') \n",
    "        housing_search = env.process(search_housing(env, households[household], housing_stock))\n",
    "        search_decision = yield patience | housing_search\n",
    "         \n",
    "        \n",
    "        if search_decision == {patience: 'give up'}:\n",
    "            print(search_decision[patience])\n",
    "        if search_decision == {housing_search: 'found housing'}:\n",
    "            print(search_decision[housing_search])\n",
    "            print(housing_search)\n",
    "        if search_decision == {housing_search: 'do not need housing'}:\n",
    "            print(search_decision[housing_search])\n",
    "            print(housing_search)\n",
    "                      \n",
    "                      "
   ]
  },
  {
   "cell_type": "code",
   "execution_count": null,
   "metadata": {
    "collapsed": false
   },
   "outputs": [],
   "source": []
  },
  {
   "cell_type": "code",
   "execution_count": 15,
   "metadata": {
    "collapsed": false
   },
   "outputs": [],
   "source": [
    "# for household in households.keys():\n",
    "#     env.process(inspect_residence(env, households[household]))\n",
    "#     env.process(search_housing(env, households[household], housing_stock))\n",
    "\n",
    "#     dh = env.process(damage_housing(env, households[household]))\n",
    "#     sh = env.process(search_housing(env, households[household]))\n",
    "    \n",
    "\n",
    "#     start_delayed(env, search_housing(env, households[household], housing_stock), 2)\n",
    "    \n",
    "\n"
   ]
  },
  {
   "cell_type": "code",
   "execution_count": 16,
   "metadata": {
    "collapsed": false
   },
   "outputs": [
    {
     "data": {
      "text/plain": [
       "<Process(master_process) object at 0x10931f438>"
      ]
     },
     "execution_count": 16,
     "metadata": {},
     "output_type": "execute_result"
    }
   ],
   "source": [
    "env.process(master_process(env, households, housing_stock))"
   ]
  },
  {
   "cell_type": "code",
   "execution_count": 17,
   "metadata": {
    "collapsed": false,
    "scrolled": true
   },
   "outputs": [
    {
     "name": "stdout",
     "output_type": "stream",
     "text": [
      "do not need housing\n",
      "<Process(search_housing) object at 0x1091a7cc0>\n",
      "do not need housing\n",
      "<Process(search_housing) object at 0x1091a74a8>\n",
      "do not need housing\n",
      "<Process(search_housing) object at 0x10931f470>\n",
      "give up\n"
     ]
    }
   ],
   "source": [
    "env.run(until=1000)"
   ]
  },
  {
   "cell_type": "code",
   "execution_count": null,
   "metadata": {
    "collapsed": true
   },
   "outputs": [],
   "source": []
  },
  {
   "cell_type": "code",
   "execution_count": 18,
   "metadata": {
    "collapsed": false,
    "scrolled": true
   },
   "outputs": [
    {
     "data": {
      "text/plain": [
       "True"
      ]
     },
     "execution_count": 18,
     "metadata": {},
     "output_type": "execute_result"
    }
   ],
   "source": [
    "households[0].residence.inspection.processed"
   ]
  },
  {
   "cell_type": "code",
   "execution_count": 19,
   "metadata": {
    "collapsed": false
   },
   "outputs": [
    {
     "name": "stdout",
     "output_type": "stream",
     "text": [
      "Bill lives in a 3 bedroom house (101). Bill's house (101) was inspected after 14 days and was green tagged. \n",
      "\n",
      "Boyd lives in a 1 bedroom condo (102). Boyd's condo (102) was inspected after 14 days and was yellow tagged. \n",
      "\n",
      "Bobby lives in a 1 bedroom apartment (103). Bobby's apartment (103) was inspected after 14 days and was yellow tagged. \n",
      "\n",
      "Biff lives in a 2 bedroom apartment (104). Biff's apartment (104) was inspected after 14 days and was red tagged. Biff started searching for a 2 bedroom apartment that costs less than $3000.0 per month on day 56. Biff occupied a $2000.0 per month 2 bedroom apartment (108) after 156 days. \n",
      "\n"
     ]
    }
   ],
   "source": [
    "for household in households.keys():\n",
    "    print(''.join(households[household].story))\n",
    "    print()"
   ]
  },
  {
   "cell_type": "code",
   "execution_count": 20,
   "metadata": {
    "collapsed": false
   },
   "outputs": [
    {
     "name": "stdout",
     "output_type": "stream",
     "text": [
      "There are 0 households still waiting for housing\n"
     ]
    }
   ],
   "source": [
    "print(\"There are {0} households still waiting for housing\".format(len(housing_stock.get_queue)))"
   ]
  },
  {
   "cell_type": "code",
   "execution_count": 21,
   "metadata": {
    "collapsed": false
   },
   "outputs": [
    {
     "data": {
      "text/plain": [
       "'104'"
      ]
     },
     "execution_count": 21,
     "metadata": {},
     "output_type": "execute_result"
    }
   ],
   "source": [
    "housing_stock.items[3].address"
   ]
  },
  {
   "cell_type": "code",
   "execution_count": null,
   "metadata": {
    "collapsed": true
   },
   "outputs": [],
   "source": []
  },
  {
   "cell_type": "code",
   "execution_count": null,
   "metadata": {
    "collapsed": true
   },
   "outputs": [],
   "source": []
  }
 ],
 "metadata": {
  "kernelspec": {
   "display_name": "Python 3",
   "language": "python",
   "name": "python3"
  },
  "language_info": {
   "codemirror_mode": {
    "name": "ipython",
    "version": 3
   },
   "file_extension": ".py",
   "mimetype": "text/x-python",
   "name": "python",
   "nbconvert_exporter": "python",
   "pygments_lexer": "ipython3",
   "version": "3.5.1"
  }
 },
 "nbformat": 4,
 "nbformat_minor": 0
}
