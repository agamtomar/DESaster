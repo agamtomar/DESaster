{
 "cells": [
  {
   "cell_type": "code",
   "execution_count": 201,
   "metadata": {
    "collapsed": false
   },
   "outputs": [
    {
     "name": "stdout",
     "output_type": "stream",
     "text": [
      "Populating the interactive namespace from numpy and matplotlib\n"
     ]
    }
   ],
   "source": [
    "# -*- coding: utf-8 -*-\n",
    "\"\"\"\n",
    "\n",
    "@author: hulingd, milessb\n",
    "\"\"\"\n",
    "# General dependencies\n",
    "import pandas as pd\n",
    "\n",
    "# Housing simulation specific dependencies\n",
    "from housing_sim import simulate_housing\n",
    "\n",
    "%pylab inline"
   ]
  },
  {
   "cell_type": "markdown",
   "metadata": {},
   "source": [
    "** Import household attributes data **"
   ]
  },
  {
   "cell_type": "code",
   "execution_count": 207,
   "metadata": {
    "collapsed": false
   },
   "outputs": [
    {
     "data": {
      "text/html": [
       "<div>\n",
       "<table border=\"1\" class=\"dataframe\">\n",
       "  <thead>\n",
       "    <tr style=\"text-align: right;\">\n",
       "      <th></th>\n",
       "      <th>name</th>\n",
       "      <th>savings</th>\n",
       "      <th>insurance_coverage</th>\n",
       "      <th>damaged</th>\n",
       "      <th>damage_value</th>\n",
       "    </tr>\n",
       "  </thead>\n",
       "  <tbody>\n",
       "    <tr>\n",
       "      <th>0</th>\n",
       "      <td>Bill</td>\n",
       "      <td>100</td>\n",
       "      <td>0</td>\n",
       "      <td>1</td>\n",
       "      <td>10000</td>\n",
       "    </tr>\n",
       "    <tr>\n",
       "      <th>1</th>\n",
       "      <td>Boyd</td>\n",
       "      <td>1000</td>\n",
       "      <td>0</td>\n",
       "      <td>1</td>\n",
       "      <td>10000</td>\n",
       "    </tr>\n",
       "    <tr>\n",
       "      <th>2</th>\n",
       "      <td>Bobby</td>\n",
       "      <td>10000</td>\n",
       "      <td>5000</td>\n",
       "      <td>1</td>\n",
       "      <td>20000</td>\n",
       "    </tr>\n",
       "    <tr>\n",
       "      <th>3</th>\n",
       "      <td>Biff</td>\n",
       "      <td>100000</td>\n",
       "      <td>10000</td>\n",
       "      <td>1</td>\n",
       "      <td>20000</td>\n",
       "    </tr>\n",
       "  </tbody>\n",
       "</table>\n",
       "</div>"
      ],
      "text/plain": [
       "    name  savings  insurance_coverage  damaged  damage_value\n",
       "0   Bill      100                   0        1         10000\n",
       "1   Boyd     1000                   0        1         10000\n",
       "2  Bobby    10000                5000        1         20000\n",
       "3   Biff   100000               10000        1         20000"
      ]
     },
     "execution_count": 207,
     "metadata": {},
     "output_type": "execute_result"
    }
   ],
   "source": [
    "# Manually create a input data dictionary for testing\n",
    "households_inputs_dict = {'name' : ['Bill', 'Boyd', 'Bobby', 'Biff'],\n",
    "                     'savings' : [100.0, 1000.0, 10000.0, 100000.0],\n",
    "                    'damaged' : [1, 1, 1, 1],\n",
    "                    'damage_value' : [10000.0, 10000.0, 20000.0, 20000.0],\n",
    "                    'insurance_coverage' : [0.0, 0.0, 5000.0, 10000.0]\n",
    "                    }\n",
    "# Create dataframe from dictionary\n",
    "households_df = pd.DataFrame(households_inputs_dict)\n",
    "\n",
    "# Re-order dataframe columns\n",
    "households_df = households_df[['name','savings','insurance_coverage','damaged','damage_value']]\n",
    "households_df"
   ]
  },
  {
   "cell_type": "markdown",
   "metadata": {},
   "source": [
    "**Set resources contants**"
   ]
  },
  {
   "cell_type": "code",
   "execution_count": 203,
   "metadata": {
    "collapsed": false
   },
   "outputs": [],
   "source": [
    "NUM_INSPECTORS = 1  #Number of Inspectors \n",
    "NUM_FEMA_PROCESSORS = 4 #Number of FEMA assistance application processors\n",
    "NUM_INSURANCE_ADJUSTERS = 4 #Number of insurance claim adjusters\n",
    "NUM_CONTRACTORS = 4 #Number of Contractors\n",
    "\n",
    "durables_dict = {\"inspectors\": NUM_INSPECTORS,   \n",
    "             \"fema processors\": NUM_FEMA_PROCESSORS,\n",
    "             \"claim adjusters\": NUM_INSURANCE_ADJUSTERS,\n",
    "             \"contractors\": NUM_CONTRACTORS,\n",
    "             }\n",
    "\n",
    "FEMA_ASSISTANCE_BUDGET = 100000 # Budget allocated to FEMA to fund individual assistance\n",
    "\n",
    "nondurables_dict = {\"fema assistance\": FEMA_ASSISTANCE_BUDGET}"
   ]
  },
  {
   "cell_type": "markdown",
   "metadata": {},
   "source": [
    "**Populate, and run the simulation**"
   ]
  },
  {
   "cell_type": "code",
   "execution_count": 204,
   "metadata": {
    "collapsed": false
   },
   "outputs": [],
   "source": [
    "households_df = simulate_housing(households_df, durables_dict, nondurables_dict)"
   ]
  },
  {
   "cell_type": "code",
   "execution_count": 205,
   "metadata": {
    "collapsed": false
   },
   "outputs": [
    {
     "data": {
      "text/html": [
       "<div>\n",
       "<table border=\"1\" class=\"dataframe\">\n",
       "  <thead>\n",
       "    <tr style=\"text-align: right;\">\n",
       "      <th></th>\n",
       "      <th>name</th>\n",
       "      <th>savings</th>\n",
       "      <th>insurance_coverage</th>\n",
       "      <th>damaged</th>\n",
       "      <th>damage_value</th>\n",
       "      <th>response_time</th>\n",
       "      <th>inspection_get</th>\n",
       "      <th>inspection_time</th>\n",
       "      <th>assistance_put</th>\n",
       "      <th>assistance_get</th>\n",
       "      <th>...</th>\n",
       "      <th>assistance_request</th>\n",
       "      <th>assistance_payout</th>\n",
       "      <th>claim_put</th>\n",
       "      <th>claim_get</th>\n",
       "      <th>claim_time</th>\n",
       "      <th>claim_payout</th>\n",
       "      <th>house_put</th>\n",
       "      <th>house_get</th>\n",
       "      <th>rebuild_time</th>\n",
       "      <th>story</th>\n",
       "    </tr>\n",
       "  </thead>\n",
       "  <tbody>\n",
       "    <tr>\n",
       "      <th>0</th>\n",
       "      <td>Bill</td>\n",
       "      <td>100</td>\n",
       "      <td>0</td>\n",
       "      <td>1</td>\n",
       "      <td>10000</td>\n",
       "      <td>14</td>\n",
       "      <td>15</td>\n",
       "      <td>1</td>\n",
       "      <td>15</td>\n",
       "      <td>135</td>\n",
       "      <td>...</td>\n",
       "      <td>10000</td>\n",
       "      <td>10000</td>\n",
       "      <td>0</td>\n",
       "      <td>0</td>\n",
       "      <td>90</td>\n",
       "      <td>0</td>\n",
       "      <td>135</td>\n",
       "      <td>195</td>\n",
       "      <td>60</td>\n",
       "      <td>[Bill started with $100.0 in savings. , The ho...</td>\n",
       "    </tr>\n",
       "    <tr>\n",
       "      <th>1</th>\n",
       "      <td>Boyd</td>\n",
       "      <td>1000</td>\n",
       "      <td>0</td>\n",
       "      <td>1</td>\n",
       "      <td>10000</td>\n",
       "      <td>14</td>\n",
       "      <td>16</td>\n",
       "      <td>1</td>\n",
       "      <td>16</td>\n",
       "      <td>136</td>\n",
       "      <td>...</td>\n",
       "      <td>10000</td>\n",
       "      <td>10000</td>\n",
       "      <td>0</td>\n",
       "      <td>0</td>\n",
       "      <td>90</td>\n",
       "      <td>0</td>\n",
       "      <td>136</td>\n",
       "      <td>196</td>\n",
       "      <td>60</td>\n",
       "      <td>[Boyd started with $1000.0 in savings. , The h...</td>\n",
       "    </tr>\n",
       "    <tr>\n",
       "      <th>2</th>\n",
       "      <td>Bobby</td>\n",
       "      <td>10000</td>\n",
       "      <td>5000</td>\n",
       "      <td>1</td>\n",
       "      <td>20000</td>\n",
       "      <td>14</td>\n",
       "      <td>17</td>\n",
       "      <td>1</td>\n",
       "      <td>107</td>\n",
       "      <td>227</td>\n",
       "      <td>...</td>\n",
       "      <td>15000</td>\n",
       "      <td>15000</td>\n",
       "      <td>17</td>\n",
       "      <td>107</td>\n",
       "      <td>90</td>\n",
       "      <td>5000</td>\n",
       "      <td>227</td>\n",
       "      <td>287</td>\n",
       "      <td>60</td>\n",
       "      <td>[Bobby started with $10000.0 in savings. , The...</td>\n",
       "    </tr>\n",
       "    <tr>\n",
       "      <th>3</th>\n",
       "      <td>Biff</td>\n",
       "      <td>100000</td>\n",
       "      <td>10000</td>\n",
       "      <td>1</td>\n",
       "      <td>20000</td>\n",
       "      <td>14</td>\n",
       "      <td>18</td>\n",
       "      <td>1</td>\n",
       "      <td>0</td>\n",
       "      <td>0</td>\n",
       "      <td>...</td>\n",
       "      <td>0</td>\n",
       "      <td>0</td>\n",
       "      <td>0</td>\n",
       "      <td>0</td>\n",
       "      <td>90</td>\n",
       "      <td>0</td>\n",
       "      <td>18</td>\n",
       "      <td>78</td>\n",
       "      <td>60</td>\n",
       "      <td>[Biff started with $100000.0 in savings. , The...</td>\n",
       "    </tr>\n",
       "  </tbody>\n",
       "</table>\n",
       "<p>4 rows × 21 columns</p>\n",
       "</div>"
      ],
      "text/plain": [
       "    name  savings  insurance_coverage  damaged  damage_value response_time  \\\n",
       "0   Bill      100                   0        1         10000            14   \n",
       "1   Boyd     1000                   0        1         10000            14   \n",
       "2  Bobby    10000                5000        1         20000            14   \n",
       "3   Biff   100000               10000        1         20000            14   \n",
       "\n",
       "  inspection_get inspection_time assistance_put assistance_get  \\\n",
       "0             15               1             15            135   \n",
       "1             16               1             16            136   \n",
       "2             17               1            107            227   \n",
       "3             18               1              0              0   \n",
       "\n",
       "                         ...                         assistance_request  \\\n",
       "0                        ...                                      10000   \n",
       "1                        ...                                      10000   \n",
       "2                        ...                                      15000   \n",
       "3                        ...                                          0   \n",
       "\n",
       "  assistance_payout claim_put claim_get claim_time claim_payout house_put  \\\n",
       "0             10000         0         0         90            0       135   \n",
       "1             10000         0         0         90            0       136   \n",
       "2             15000        17       107         90         5000       227   \n",
       "3                 0         0         0         90            0        18   \n",
       "\n",
       "  house_get rebuild_time                                              story  \n",
       "0       195           60  [Bill started with $100.0 in savings. , The ho...  \n",
       "1       196           60  [Boyd started with $1000.0 in savings. , The h...  \n",
       "2       287           60  [Bobby started with $10000.0 in savings. , The...  \n",
       "3        78           60  [Biff started with $100000.0 in savings. , The...  \n",
       "\n",
       "[4 rows x 21 columns]"
      ]
     },
     "execution_count": 205,
     "metadata": {},
     "output_type": "execute_result"
    }
   ],
   "source": [
    "households_df"
   ]
  },
  {
   "cell_type": "code",
   "execution_count": 206,
   "metadata": {
    "collapsed": false
   },
   "outputs": [
    {
     "data": {
      "text/plain": [
       "['Biff started with $100000.0 in savings. ',\n",
       " 'The house was inspected 14 days after the earthquake. ',\n",
       " 'It suffered $20000.0 of damage. ',\n",
       " 'Biff had enough savings to rebuild the house. ',\n",
       " 'The house was rebuilt 78 days after the quake, taking 60 days to rebuild. ']"
      ]
     },
     "execution_count": 206,
     "metadata": {},
     "output_type": "execute_result"
    }
   ],
   "source": [
    "name = 'Biff'\n",
    "households_df.loc[households_df['name']==name, 'story'].values[0]"
   ]
  },
  {
   "cell_type": "code",
   "execution_count": null,
   "metadata": {
    "collapsed": true
   },
   "outputs": [],
   "source": []
  }
 ],
 "metadata": {
  "kernelspec": {
   "display_name": "Python 2",
   "language": "python",
   "name": "python2"
  },
  "language_info": {
   "codemirror_mode": {
    "name": "ipython",
    "version": 2
   },
   "file_extension": ".py",
   "mimetype": "text/x-python",
   "name": "python",
   "nbconvert_exporter": "python",
   "pygments_lexer": "ipython2",
   "version": "2.7.11"
  }
 },
 "nbformat": 4,
 "nbformat_minor": 0
}
