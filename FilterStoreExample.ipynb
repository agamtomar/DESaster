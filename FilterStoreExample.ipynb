{
 "cells": [
  {
   "cell_type": "code",
   "execution_count": 9,
   "metadata": {
    "collapsed": true
   },
   "outputs": [],
   "source": [
    "import simpy\n",
    "from collections import namedtuple"
   ]
  },
  {
   "cell_type": "code",
   "execution_count": 10,
   "metadata": {
    "collapsed": true
   },
   "outputs": [],
   "source": [
    ">>> Machine = namedtuple('Machine', 'size, duration')\n",
    ">>> m1 = Machine(1, 2)  # Small and slow\n",
    ">>> m2 = Machine(2, 1)  # Big and fast"
   ]
  },
  {
   "cell_type": "code",
   "execution_count": 11,
   "metadata": {
    "collapsed": true
   },
   "outputs": [],
   "source": [
    ">>> env = simpy.Environment()\n",
    ">>> machine_shop = simpy.FilterStore(env, capacity=2)\n",
    ">>> machine_shop.items = [m1, m2]  # Pre-populate the machine shop"
   ]
  },
  {
   "cell_type": "code",
   "execution_count": 12,
   "metadata": {
    "collapsed": true
   },
   "outputs": [],
   "source": [
    ">>> def user(name, env, ms, size):\n",
    "...     machine = yield ms.get(lambda machine: machine.size == size)\n",
    "...     print(name, 'got', machine, 'at', env.now)\n",
    "...     yield env.timeout(machine.duration)\n",
    "...     yield ms.put(machine)\n",
    "...     print(name, 'released', machine, 'at', env.now)"
   ]
  },
  {
   "cell_type": "code",
   "execution_count": 13,
   "metadata": {
    "collapsed": false
   },
   "outputs": [
    {
     "name": "stdout",
     "output_type": "stream",
     "text": [
      "0 got Machine(size=1, duration=2) at 0\n",
      "1 got Machine(size=2, duration=1) at 0\n",
      "1 released Machine(size=2, duration=1) at 1\n",
      "0 released Machine(size=1, duration=2) at 2\n",
      "2 got Machine(size=1, duration=2) at 2\n",
      "2 released Machine(size=1, duration=2) at 4\n"
     ]
    }
   ],
   "source": [
    ">>> users = [env.process(user(i, env, machine_shop, (i % 2) + 1))\n",
    "...          for i in range(3)]\n",
    ">>> env.run()"
   ]
  },
  {
   "cell_type": "code",
   "execution_count": 15,
   "metadata": {
    "collapsed": false
   },
   "outputs": [
    {
     "data": {
      "text/plain": [
       "[Machine(size=2, duration=1), Machine(size=1, duration=2)]"
      ]
     },
     "execution_count": 15,
     "metadata": {},
     "output_type": "execute_result"
    }
   ],
   "source": [
    "machine_shop.items"
   ]
  },
  {
   "cell_type": "code",
   "execution_count": null,
   "metadata": {
    "collapsed": true
   },
   "outputs": [],
   "source": []
  }
 ],
 "metadata": {
  "kernelspec": {
   "display_name": "Python 3",
   "language": "python",
   "name": "python3"
  },
  "language_info": {
   "codemirror_mode": {
    "name": "ipython",
    "version": 3
   },
   "file_extension": ".py",
   "mimetype": "text/x-python",
   "name": "python",
   "nbconvert_exporter": "python",
   "pygments_lexer": "ipython3",
   "version": "3.5.1"
  }
 },
 "nbformat": 4,
 "nbformat_minor": 0
}
