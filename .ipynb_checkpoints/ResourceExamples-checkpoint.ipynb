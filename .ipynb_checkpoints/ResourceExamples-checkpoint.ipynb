{
 "cells": [
  {
   "cell_type": "code",
   "execution_count": 22,
   "metadata": {
    "collapsed": false
   },
   "outputs": [
    {
     "name": "stdout",
     "output_type": "stream",
     "text": [
      "Bank renege\n",
      " 0.0000 Customer00: Here I am\n",
      " 0.0000 Customer00: Waited  0.000\n",
      " 3.8595 Customer00: Finished\n",
      "10.2006 Customer01: Here I am\n",
      "10.2006 Customer01: Waited  0.000\n",
      "12.7265 Customer02: Here I am\n",
      "13.9003 Customer02: RENEGED after  1.174\n",
      "23.7507 Customer01: Finished\n",
      "34.9993 Customer03: Here I am\n",
      "34.9993 Customer03: Waited  0.000\n",
      "37.9599 Customer03: Finished\n",
      "40.4798 Customer04: Here I am\n",
      "40.4798 Customer04: Waited  0.000\n",
      "43.1401 Customer04: Finished\n"
     ]
    }
   ],
   "source": [
    "\"\"\"\n",
    "Bank renege example\n",
    "\n",
    "Covers:\n",
    "\n",
    "- Resources: Resource\n",
    "- Condition events\n",
    "\n",
    "Scenario:\n",
    "  A counter with a random service time and customers who renege. Based on the\n",
    "  program bank08.py from TheBank tutorial of SimPy 2. (KGM)\n",
    "\n",
    "\"\"\"\n",
    "import random\n",
    "\n",
    "import simpy\n",
    "\n",
    "\n",
    "def source(env, number, interval, counter):\n",
    "    \"\"\"Source generates customers randomly\"\"\"\n",
    "    for i in range(number):\n",
    "        c = customer(env, 'Customer%02d' % i, counter, time_in_bank=12.0)\n",
    "        env.process(c)\n",
    "        t = random.expovariate(1.0 / interval)\n",
    "        yield env.timeout(t)\n",
    "\n",
    "\n",
    "def customer(env, name, counter, time_in_bank):\n",
    "    \"\"\"Customer arrives, is served and leaves.\"\"\"\n",
    "    arrive = env.now\n",
    "    print('%7.4f %s: Here I am' % (arrive, name))\n",
    "\n",
    "    with counter.request() as req:\n",
    "        patience = random.uniform(MIN_PATIENCE, MAX_PATIENCE)\n",
    "        # Wait for the counter or abort at the end of our tether\n",
    "        results = yield req | env.timeout(patience)\n",
    "\n",
    "        wait = env.now - arrive\n",
    "\n",
    "        if req in results:\n",
    "            # We got to the counter\n",
    "            print('%7.4f %s: Waited %6.3f' % (env.now, name, wait))\n",
    "\n",
    "            tib = random.expovariate(1.0 / time_in_bank)\n",
    "            yield env.timeout(tib)\n",
    "            print('%7.4f %s: Finished' % (env.now, name))\n",
    "\n",
    "        else:\n",
    "            # We reneged\n",
    "            print('%7.4f %s: RENEGED after %6.3f' % (env.now, name, wait))\n",
    "\n",
    "# Setup and start the simulation\n",
    "RANDOM_SEED = 42\n",
    "NEW_CUSTOMERS = 5  # Total number of customers\n",
    "INTERVAL_CUSTOMERS = 10.0  # Generate new customers roughly every x seconds\n",
    "MIN_PATIENCE = 1  # Min. customer patience\n",
    "MAX_PATIENCE = 3  # Max. customer patience\n",
    "\n",
    "\n",
    "print('Bank renege')\n",
    "random.seed(RANDOM_SEED)\n",
    "env = simpy.Environment()\n",
    "\n",
    "# Start processes and run\n",
    "counter = simpy.Resource(env, capacity=1)\n",
    "env.process(source(env, NEW_CUSTOMERS, INTERVAL_CUSTOMERS, counter))\n",
    "env.run()"
   ]
  },
  {
   "cell_type": "code",
   "execution_count": 58,
   "metadata": {
    "collapsed": false
   },
   "outputs": [
    {
     "name": "stdout",
     "output_type": "stream",
     "text": [
      "House transaction\n",
      "At 2 sold Blue.\n",
      "At 5 bought Red.\n"
     ]
    }
   ],
   "source": [
    "import simpy\n",
    "\n",
    "\n",
    "SIM_DURATION = 100\n",
    "\n",
    "\n",
    "class House(object):\n",
    "    def __init__(self, env, house_color):\n",
    "        self.env = env\n",
    "        self.color = house_color\n",
    "        self.store = simpy.Store(env)\n",
    "\n",
    "    def search_house(self):\n",
    "        yield self.env.timeout(3)\n",
    "        yield self.store.get()\n",
    "        \n",
    "\n",
    "    def buy(self, new_color):\n",
    "        self.env.process(self.search_house())\n",
    "        house.color = new_color\n",
    "        #return = house.color\n",
    "    \n",
    "    def sell(self, value):\n",
    "        return self.store.put(value)\n",
    "\n",
    "\n",
    "def seller(env, house):\n",
    "    #while True:\n",
    "    yield env.timeout(2)\n",
    "    house.sell(house.color)\n",
    "    print('At {0} sold {1}.'.format(env.now, house.color))\n",
    "\n",
    "def buyer(env, house):\n",
    "    #while True:\n",
    "        # Get event for message pipe\n",
    "    yield env.timeout(5)\n",
    "    house.buy('Red')\n",
    "    print('At {0} bought {1}.'.format(env.now, house.color))\n",
    "\n",
    "\n",
    "# Setup and start the simulation\n",
    "print('House transaction')\n",
    "env = simpy.Environment()\n",
    "\n",
    "house = House(env, 'Blue')\n",
    "env.process(seller(env, house))\n",
    "env.process(buyer(env, house))\n",
    "\n",
    "env.run()"
   ]
  },
  {
   "cell_type": "code",
   "execution_count": 63,
   "metadata": {
    "collapsed": false
   },
   "outputs": [
    {
     "name": "stdout",
     "output_type": "stream",
     "text": [
      "Process communication\n",
      "\n",
      "One-to-one pipe communication\n",
      "\n",
      "at time 6: B received message: A says hello at 6.\n",
      "at time 12: B received message: A says hello at 12.\n",
      "at time 19: B received message: A says hello at 19.\n",
      "at time 26: B received message: A says hello at 26.\n",
      "at time 36: B received message: A says hello at 36.\n",
      "at time 46: B received message: A says hello at 46.\n",
      "at time 52: B received message: A says hello at 52.\n",
      "at time 58: B received message: A says hello at 58.\n",
      "LATE Getting Message: at time 66: B received message: A says hello at 65\n",
      "at time 75: B received message: A says hello at 75.\n",
      "at time 85: B received message: A says hello at 85.\n",
      "at time 95: B received message: A says hello at 95.\n",
      "\n",
      "One-to-many pipe communication\n",
      "\n"
     ]
    },
    {
     "ename": "RuntimeError",
     "evalue": "There are no output pipes.",
     "output_type": "error",
     "traceback": [
      "\u001b[0;31m---------------------------------------------------------------------------\u001b[0m",
      "\u001b[0;31mRuntimeError\u001b[0m                              Traceback (most recent call last)",
      "\u001b[0;32m<ipython-input-63-3327b57026c8>\u001b[0m in \u001b[0;36mmessage_generator\u001b[0;34m(name, env, out_pipe)\u001b[0m\n\u001b[1;32m     58\u001b[0m         \u001b[0mmsg\u001b[0m \u001b[0;34m=\u001b[0m \u001b[0;34m(\u001b[0m\u001b[0menv\u001b[0m\u001b[0;34m.\u001b[0m\u001b[0mnow\u001b[0m\u001b[0;34m,\u001b[0m \u001b[0;34m'%s says hello at %d'\u001b[0m \u001b[0;34m%\u001b[0m \u001b[0;34m(\u001b[0m\u001b[0mname\u001b[0m\u001b[0;34m,\u001b[0m \u001b[0menv\u001b[0m\u001b[0;34m.\u001b[0m\u001b[0mnow\u001b[0m\u001b[0;34m)\u001b[0m\u001b[0;34m)\u001b[0m\u001b[0;34m\u001b[0m\u001b[0m\n\u001b[0;32m---> 59\u001b[0;31m         \u001b[0mout_pipe\u001b[0m\u001b[0;34m.\u001b[0m\u001b[0mput\u001b[0m\u001b[0;34m(\u001b[0m\u001b[0mmsg\u001b[0m\u001b[0;34m)\u001b[0m\u001b[0;34m\u001b[0m\u001b[0m\n\u001b[0m\u001b[1;32m     60\u001b[0m \u001b[0;34m\u001b[0m\u001b[0m\n",
      "\u001b[0;32m<ipython-input-63-3327b57026c8>\u001b[0m in \u001b[0;36mput\u001b[0;34m(self, value)\u001b[0m\n\u001b[1;32m     29\u001b[0m         \u001b[0;32mif\u001b[0m \u001b[0;32mnot\u001b[0m \u001b[0mself\u001b[0m\u001b[0;34m.\u001b[0m\u001b[0mpipes\u001b[0m\u001b[0;34m:\u001b[0m\u001b[0;34m\u001b[0m\u001b[0m\n\u001b[0;32m---> 30\u001b[0;31m             \u001b[0;32mraise\u001b[0m \u001b[0mRuntimeError\u001b[0m\u001b[0;34m(\u001b[0m\u001b[0;34m'There are no output pipes.'\u001b[0m\u001b[0;34m)\u001b[0m\u001b[0;34m\u001b[0m\u001b[0m\n\u001b[0m\u001b[1;32m     31\u001b[0m         \u001b[0mevents\u001b[0m \u001b[0;34m=\u001b[0m \u001b[0;34m[\u001b[0m\u001b[0mstore\u001b[0m\u001b[0;34m.\u001b[0m\u001b[0mput\u001b[0m\u001b[0;34m(\u001b[0m\u001b[0mvalue\u001b[0m\u001b[0;34m)\u001b[0m \u001b[0;32mfor\u001b[0m \u001b[0mstore\u001b[0m \u001b[0;32min\u001b[0m \u001b[0mself\u001b[0m\u001b[0;34m.\u001b[0m\u001b[0mpipes\u001b[0m\u001b[0;34m]\u001b[0m\u001b[0;34m\u001b[0m\u001b[0m\n",
      "\u001b[0;31mRuntimeError\u001b[0m: There are no output pipes.",
      "\nThe above exception was the direct cause of the following exception:\n",
      "\u001b[0;31mRuntimeError\u001b[0m                              Traceback (most recent call last)",
      "\u001b[0;32m<ipython-input-63-3327b57026c8>\u001b[0m in \u001b[0;36m<module>\u001b[0;34m()\u001b[0m\n\u001b[1;32m    106\u001b[0m \u001b[0;34m\u001b[0m\u001b[0m\n\u001b[1;32m    107\u001b[0m \u001b[0mprint\u001b[0m\u001b[0;34m(\u001b[0m\u001b[0;34m'\\nOne-to-many pipe communication\\n'\u001b[0m\u001b[0;34m)\u001b[0m\u001b[0;34m\u001b[0m\u001b[0m\n\u001b[0;32m--> 108\u001b[0;31m \u001b[0menv\u001b[0m\u001b[0;34m.\u001b[0m\u001b[0mrun\u001b[0m\u001b[0;34m(\u001b[0m\u001b[0muntil\u001b[0m\u001b[0;34m=\u001b[0m\u001b[0mSIM_TIME\u001b[0m\u001b[0;34m)\u001b[0m\u001b[0;34m\u001b[0m\u001b[0m\n\u001b[0m",
      "\u001b[0;32m//anaconda/lib/python3.5/site-packages/simpy/core.py\u001b[0m in \u001b[0;36mrun\u001b[0;34m(self, until)\u001b[0m\n\u001b[1;32m    135\u001b[0m         \u001b[0;32mtry\u001b[0m\u001b[0;34m:\u001b[0m\u001b[0;34m\u001b[0m\u001b[0m\n\u001b[1;32m    136\u001b[0m             \u001b[0;32mwhile\u001b[0m \u001b[0;32mTrue\u001b[0m\u001b[0;34m:\u001b[0m\u001b[0;34m\u001b[0m\u001b[0m\n\u001b[0;32m--> 137\u001b[0;31m                 \u001b[0mself\u001b[0m\u001b[0;34m.\u001b[0m\u001b[0mstep\u001b[0m\u001b[0;34m(\u001b[0m\u001b[0;34m)\u001b[0m\u001b[0;34m\u001b[0m\u001b[0m\n\u001b[0m\u001b[1;32m    138\u001b[0m         \u001b[0;32mexcept\u001b[0m \u001b[0mStopSimulation\u001b[0m \u001b[0;32mas\u001b[0m \u001b[0mexc\u001b[0m\u001b[0;34m:\u001b[0m\u001b[0;34m\u001b[0m\u001b[0m\n\u001b[1;32m    139\u001b[0m             \u001b[0;32mreturn\u001b[0m \u001b[0mexc\u001b[0m\u001b[0;34m.\u001b[0m\u001b[0margs\u001b[0m\u001b[0;34m[\u001b[0m\u001b[0;36m0\u001b[0m\u001b[0;34m]\u001b[0m  \u001b[0;31m# == until.value\u001b[0m\u001b[0;34m\u001b[0m\u001b[0m\n",
      "\u001b[0;32m//anaconda/lib/python3.5/site-packages/simpy/core.py\u001b[0m in \u001b[0;36mstep\u001b[0;34m(self)\u001b[0m\n\u001b[1;32m    227\u001b[0m             \u001b[0mexc\u001b[0m \u001b[0;34m=\u001b[0m \u001b[0mtype\u001b[0m\u001b[0;34m(\u001b[0m\u001b[0mevent\u001b[0m\u001b[0;34m.\u001b[0m\u001b[0m_value\u001b[0m\u001b[0;34m)\u001b[0m\u001b[0;34m(\u001b[0m\u001b[0;34m*\u001b[0m\u001b[0mevent\u001b[0m\u001b[0;34m.\u001b[0m\u001b[0m_value\u001b[0m\u001b[0;34m.\u001b[0m\u001b[0margs\u001b[0m\u001b[0;34m)\u001b[0m\u001b[0;34m\u001b[0m\u001b[0m\n\u001b[1;32m    228\u001b[0m             \u001b[0mexc\u001b[0m\u001b[0;34m.\u001b[0m\u001b[0m__cause__\u001b[0m \u001b[0;34m=\u001b[0m \u001b[0mevent\u001b[0m\u001b[0;34m.\u001b[0m\u001b[0m_value\u001b[0m\u001b[0;34m\u001b[0m\u001b[0m\n\u001b[0;32m--> 229\u001b[0;31m             \u001b[0;32mraise\u001b[0m \u001b[0mexc\u001b[0m\u001b[0;34m\u001b[0m\u001b[0m\n\u001b[0m",
      "\u001b[0;31mRuntimeError\u001b[0m: There are no output pipes."
     ]
    }
   ],
   "source": [
    "import random\n",
    "\n",
    "import simpy\n",
    "\n",
    "\n",
    "RANDOM_SEED = 42\n",
    "SIM_TIME = 100\n",
    "\n",
    "\n",
    "class BroadcastPipe(object):\n",
    "    \"\"\"A Broadcast pipe that allows one process to send messages to many.\n",
    "\n",
    "    This construct is useful when message consumers are running at\n",
    "    different rates than message generators and provides an event\n",
    "    buffering to the consuming processes.\n",
    "\n",
    "    The parameters are used to create a new\n",
    "    :class:`~simpy.resources.store.Store` instance each time\n",
    "    :meth:`get_output_conn()` is called.\n",
    "\n",
    "    \"\"\"\n",
    "    def __init__(self, env, capacity=simpy.core.Infinity):\n",
    "        self.env = env\n",
    "        self.capacity = capacity\n",
    "        self.pipes = []\n",
    "\n",
    "    def put(self, value):\n",
    "        \"\"\"Broadcast a *value* to all receivers.\"\"\"\n",
    "        if not self.pipes:\n",
    "            raise RuntimeError('There are no output pipes.')\n",
    "        events = [store.put(value) for store in self.pipes]\n",
    "        return self.env.all_of(events)  # Condition event for all \"events\"\n",
    "\n",
    "    def get_output_conn(self):\n",
    "        \"\"\"Get a new output connection for this broadcast pipe.\n",
    "\n",
    "        The return value is a :class:`~simpy.resources.store.Store`.\n",
    "\n",
    "        \"\"\"\n",
    "        pipe = simpy.Store(self.env, capacity=self.capacity)\n",
    "        self.pipes.append(pipe)\n",
    "        return pipe\n",
    "\n",
    "\n",
    "def message_generator(name, env, out_pipe):\n",
    "    \"\"\"A process which randomly generates messages.\"\"\"\n",
    "    while True:\n",
    "        # wait for next transmission\n",
    "        yield env.timeout(random.randint(6, 10))\n",
    "\n",
    "        # messages are time stamped to later check if the consumer was\n",
    "        # late getting them.  Note, using event.triggered to do this may\n",
    "        # result in failure due to FIFO nature of simulation yields.\n",
    "        # (i.e. if at the same env.now, message_generator puts a message\n",
    "        # in the pipe first and then message_consumer gets from pipe,\n",
    "        # the event.triggered will be True in the other order it will be\n",
    "        # False\n",
    "        msg = (env.now, '%s says hello at %d' % (name, env.now))\n",
    "        out_pipe.put(msg)\n",
    "\n",
    "\n",
    "def message_consumer(name, env, in_pipe):\n",
    "    \"\"\"A process which consumes messages.\"\"\"\n",
    "    while True:\n",
    "        # Get event for message pipe\n",
    "        msg = yield in_pipe.get()\n",
    "\n",
    "        if msg[0] < env.now:\n",
    "            # if message was already put into pipe, then\n",
    "            # message_consumer was late getting to it. Depending on what\n",
    "            # is being modeled this, may, or may not have some\n",
    "            # significance\n",
    "            print('LATE Getting Message: at time %d: %s received message: %s' %\n",
    "                    (env.now, name, msg[1]))\n",
    "\n",
    "        else:\n",
    "            # message_consumer is synchronized with message_generator\n",
    "            print('at time %d: %s received message: %s.' %\n",
    "                    (env.now, name, msg[1]))\n",
    "\n",
    "        # Process does some other work, which may result in missing messages\n",
    "        yield env.timeout(random.randint(4, 8))\n",
    "\n",
    "\n",
    "# Setup and start the simulation\n",
    "print('Process communication')\n",
    "random.seed(RANDOM_SEED)\n",
    "env = simpy.Environment()\n",
    "\n",
    "# For one-to-one or many-to-one type pipes, use Store\n",
    "pipe = simpy.Store(env)\n",
    "env.process(message_generator('A', env, pipe))\n",
    "env.process(message_consumer('B', env, pipe))\n",
    "\n",
    "print('\\nOne-to-one pipe communication\\n')\n",
    "env.run(until=SIM_TIME)\n",
    "\n",
    "# For one-to many use BroadcastPipe\n",
    "# (Note: could also be used for one-to-one,many-to-one or many-to-many)\n",
    "env = simpy.Environment()\n",
    "bc_pipe = BroadcastPipe(env)\n",
    "\n",
    "env.process(message_generator('Generator A', env, bc_pipe))\n",
    "env.process(message_consumer('Consumer A', env, bc_pipe.get_output_conn()))\n",
    "env.process(message_consumer('Consumer B', env, bc_pipe.get_output_conn()))\n",
    "\n",
    "print('\\nOne-to-many pipe communication\\n')\n",
    "env.run(until=SIM_TIME)"
   ]
  },
  {
   "cell_type": "code",
   "execution_count": 17,
   "metadata": {
    "collapsed": false
   },
   "outputs": [
    {
     "name": "stdout",
     "output_type": "stream",
     "text": [
      "User 1 @ 0 {'health': 100, 'id': 0}\n",
      "User 2 @ 0 {'health': 95, 'id': 1}\n",
      "User 1 @ 0 {'health': 95, 'id': 1}\n",
      "User 2 @ 5 {'health': 95, 'id': 1}\n",
      "User 1 @ 5 {'health': 100, 'id': 0}\n",
      "User 2 @ 5 {'health': 100, 'id': 0}\n",
      "[]\n"
     ]
    }
   ],
   "source": [
    "import simpy\n",
    "\n",
    "\n",
    "def user1(machine):\n",
    "    m = yield machine.get()\n",
    "    print('User 1 @', env.now, m)\n",
    "    yield machine.put(m)\n",
    "\n",
    "    m = yield machine.get(lambda m: m['id'] == 1)\n",
    "    print('User 1 @', env.now, m)\n",
    "    yield env.timeout(5)\n",
    "    yield machine.put(m)\n",
    "\n",
    "    m = yield machine.get(lambda m: m['health'] > 98)\n",
    "    print('User 1 @', env.now, m)\n",
    "    yield machine.put(m)\n",
    "\n",
    "def user2(machine):\n",
    "    m = yield machine.get()\n",
    "    print('User 2 @', env.now, m)\n",
    "    yield machine.put(m)\n",
    "\n",
    "    m = yield machine.get(lambda m: m['id'] == 1)\n",
    "    print('User 2 @', env.now, m)\n",
    "    yield machine.put(m)\n",
    "\n",
    "    m = yield machine.get(lambda m: m['health'] > 98)\n",
    "    print('User 2 @', env.now, m)\n",
    "    yield machine.put(m)\n",
    "\n",
    "\n",
    "env = simpy.Environment()\n",
    "machine = simpy.FilterStore(env, 3)\n",
    "machine.put({'health': 100,'id': 0})\n",
    "machine.put({'health': 95, 'id': 1})\n",
    "machine.put({'health': 97.2, 'id': 2})\n",
    "\n",
    "env.process(user1(machine))\n",
    "env.process(user2(machine))\n",
    "\n",
    "\n",
    "env.run()\n",
    "\n",
    "print(machine.get_queue)"
   ]
  },
  {
   "cell_type": "code",
   "execution_count": 27,
   "metadata": {
    "collapsed": false
   },
   "outputs": [
    {
     "name": "stdout",
     "output_type": "stream",
     "text": [
      "3\n",
      "3\n",
      "4\n"
     ]
    }
   ],
   "source": [
    "\n",
    "class Counter:\n",
    "    usages = 0\n",
    "\n",
    "\n",
    "def customer(env, counters):\n",
    "    counter = yield counters.get()\n",
    "    yield env.timeout(1)\n",
    "    counter.usages += 1\n",
    "    yield counters.put(counter)\n",
    "\n",
    "\n",
    "env = simpy.Environment()\n",
    "\n",
    "counters = simpy.FilterStore(env, capacity=3)\n",
    "counters.items = [Counter() for i in range(counters.capacity)]\n",
    "\n",
    "for i in range(10):\n",
    "    env.process(customer(env, counters))\n",
    "env.run()\n",
    "\n",
    "for counter in counters.items:\n",
    "    print(counter.usages)\n",
    "    \n",
    "p = env.process(customer(env,counters))"
   ]
  },
  {
   "cell_type": "code",
   "execution_count": 28,
   "metadata": {
    "collapsed": false
   },
   "outputs": [
    {
     "data": {
      "text/plain": [
       "<Process(customer) object at 0x1067c6f98>"
      ]
     },
     "execution_count": 28,
     "metadata": {},
     "output_type": "execute_result"
    }
   ],
   "source": [
    "p."
   ]
  },
  {
   "cell_type": "code",
   "execution_count": 24,
   "metadata": {
    "collapsed": false
   },
   "outputs": [
    {
     "data": {
      "text/plain": [
       "<module 'simpy.events' from '//anaconda/lib/python3.5/site-packages/simpy/events.py'>"
      ]
     },
     "execution_count": 24,
     "metadata": {},
     "output_type": "execute_result"
    }
   ],
   "source": []
  },
  {
   "cell_type": "code",
   "execution_count": null,
   "metadata": {
    "collapsed": true
   },
   "outputs": [],
   "source": []
  }
 ],
 "metadata": {
  "kernelspec": {
   "display_name": "Python 3",
   "language": "python",
   "name": "python3"
  },
  "language_info": {
   "codemirror_mode": {
    "name": "ipython",
    "version": 3
   },
   "file_extension": ".py",
   "mimetype": "text/x-python",
   "name": "python",
   "nbconvert_exporter": "python",
   "pygments_lexer": "ipython3",
   "version": "3.5.1"
  }
 },
 "nbformat": 4,
 "nbformat_minor": 0
}
