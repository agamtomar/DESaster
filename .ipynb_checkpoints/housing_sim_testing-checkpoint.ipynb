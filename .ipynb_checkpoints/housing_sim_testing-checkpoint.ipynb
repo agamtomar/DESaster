{
 "cells": [
  {
   "cell_type": "code",
   "execution_count": 1,
   "metadata": {
    "collapsed": false
   },
   "outputs": [
    {
     "name": "stdout",
     "output_type": "stream",
     "text": [
      "Populating the interactive namespace from numpy and matplotlib\n"
     ]
    }
   ],
   "source": [
    "# -*- coding: utf-8 -*-\n",
    "\"\"\"\n",
    "\n",
    "@author: hulingd, milessb\n",
    "\"\"\"\n",
    "#dependencies:\n",
    "#SimPy version 3.0.5 \n",
    "import simpy\n",
    "import numpy\n",
    "from numpy.random import normal, random_integers\n",
    "import pandas as pd\n",
    "\n",
    "%pylab inline"
   ]
  },
  {
   "cell_type": "markdown",
   "metadata": {},
   "source": [
    "**Household class definition**"
   ]
  },
  {
   "cell_type": "code",
   "execution_count": 2,
   "metadata": {
    "collapsed": false
   },
   "outputs": [],
   "source": [
    "class Household:\n",
    "\n",
    "    def __init__(self, household):\n",
    "        # Time paramaters\n",
    "        self.response_time = 14           # Initial wait time before inspection is requested\n",
    "        self.inspection_time = 1           # Time it takes to inspect a house\n",
    "        self.claim_time = 90       # Time it takes to process insurance claim\n",
    "        self.assistance_time = 120             # Time required for FEMA to process assistance request\n",
    "        self.rebuild_time = 60         # Time required to rebuild house\n",
    "        \n",
    "        # Inputs\n",
    "        self.name = household['name']                     # Name assigned to household\n",
    "        self.damaged = household['damaged']               # House damaged [True|False]\n",
    "        self.damage_value = household['damage_value']     # Amount needed to rebuild home/repair damage\n",
    "        self.savings = household['savings']               # Pre-event household savings\n",
    "        self.insurance_coverage = household['insurance_coverage']  # Amount of earthquake insurance coverage\n",
    "\n",
    "        #Outputs\n",
    "        self.story = []                  # The story of events for each household\n",
    "        self.inspection_put = 0           # Time that house inspection occurred\n",
    "        self.inspection_get = 0           # Time that house inspection occurred\n",
    "        self.claim_put = 0                 # Start time for insurance claim processing\n",
    "        self.claim_get = 0                  # Stop time for insurance claim processing\n",
    "        self.claim_payout = 0            # Amount of insurance claim payout    \n",
    "        self.assistance_put = 0                 # Time FEMA assistance request is put in\n",
    "        self.assistance_get = 0                  # Time FEMA assistance is received\n",
    "        self.assistance_request = 0                    # Amount of money requested from FEMA\n",
    "        self.assistance_payout = 0             # Amount of assistance provided by FEMA\n",
    "        self.house_put = 0             # Start time for house rebuild\n",
    "        self.house_get = 0              # Stope time for house rebuild\n",
    "        self.money_to_rebuild = 0            # Total funds available to household to rebuild house\n",
    "  \n",
    "    # This is the first household process called -- the hazard has occurred, \n",
    "    # damage may have occurred requiring inspection\n",
    "    def simulate(self, simulation, resources):\n",
    "        \n",
    "        # Write the household's story\n",
    "        self.story.append(\n",
    "            '{0} started with ${1} in savings. '.format(self.name, self.savings))\n",
    "        \n",
    "        # Lag before inspection is requested\n",
    "        yield simulation.timeout(self.response_time)\n",
    "        \n",
    "        # Request inspection process\n",
    "        yield simulation.process(self.request_inspection(simulation, resources))\n",
    "        \n",
    "    # House inspection process\n",
    "    # Called by simulate()) process\n",
    "    def request_inspection(self, simulation, resources):\n",
    "    \n",
    "        with resources['durable'].category['inspectors'].request() as request:\n",
    "            \n",
    "            # Put in request for an inspector (shared resource)\n",
    "            self.inspection_put = simulation.now\n",
    "            yield request\n",
    "            \n",
    "            # Duration of inspection\n",
    "            yield simulation.timeout(self.inspection_time)\n",
    "            \n",
    "            # The time that the inspection has been completed\n",
    "            self.inspection_get = simulation.now\n",
    "\n",
    "        # Write their story \n",
    "        self.story.append(\n",
    "            'The house was inspected {0} days after the earthquake. '.format(\n",
    "            self.response_time))\n",
    "        \n",
    "        # If house is not damaged, household exits simulation\n",
    "        # Otherwise household starts process(es) to find money to rebuild house\n",
    "        if self.damaged == 1:\n",
    "            \n",
    "            # Write the household's story\n",
    "            self.story.append(\n",
    "            '{0}\\'s house suffered ${1} of damage. '.format(\n",
    "            self.name, self.damage_value))\n",
    "            \n",
    "            #When inspection is done check to see if household can rebuild with their savings\n",
    "            #Otherwise check to see if they have insurance. \n",
    "            self.money_to_rebuild = self.savings\n",
    "            if self.money_to_rebuild >= self.damage_value:\n",
    "                \n",
    "                # Write the household's story\n",
    "                self.story.append(\n",
    "                    '{0} had enough savings to rebuild the house. '.format(\n",
    "                    self.name)) \n",
    "                \n",
    "                yield simulation.process(self.rebuild_house(simulation, resources))\n",
    "            \n",
    "            else:\n",
    "                # If has insurance coverage then file a claim\n",
    "                if self.insurance_coverage > 0:       \n",
    "                    # Write the household's story\n",
    "                    self.story.append(\n",
    "                        '{0} had a ${1} insurance policy and filed a claim. '.format(\n",
    "                        self.name, self.insurance_coverage)) \n",
    "\n",
    "                    yield simulation.process(self.file_insurance_claim(simulation, resources))\n",
    "\n",
    "                # If does not have insurance coverage request FEMA indivdidual assistance\n",
    "                else:\n",
    "                    # Write the household's story\n",
    "                    self.story.append(\n",
    "                        '{0} had no insurance and so did not file a claim. '.format(\n",
    "                        self.name))\n",
    "\n",
    "                    yield simulation.process(self.request_fema_assistance(simulation, resources))\n",
    "                \n",
    "        else:\n",
    "            # Write the household's story\n",
    "            self.story.append(\n",
    "                '{0}\\'s house did not suffer any damage. '.format(\n",
    "                self.name))\n",
    "            \n",
    "            yield simulation.exit()\n",
    "\n",
    "    # Process for filing insurance claim (currently assume that all households have insurance)\n",
    "    # Called by request_inspection() process\n",
    "    def file_insurance_claim(self, simulation, resources):\n",
    "        with resources['durable'].category['claim adjusters'].request() as request:\n",
    "            # Record time that claim is put in\n",
    "            self.claim_put = simulation.now\n",
    "            yield request\n",
    "            \n",
    "            # Duration of claim processing\n",
    "            yield simulation.timeout(self.claim_time)\n",
    "\n",
    "            # Amount of insurance claim payout\n",
    "            self.claim_payout = self.insurance_coverage  ### <-- Has thrown \"None not a generator\" exception\n",
    "\n",
    "            # Record when the time when household gets claim payout\n",
    "            self.claim_get = simulation.now\n",
    "        \n",
    "        # If insurance payout exceed damage repair value, there is enough money to rebuild house\n",
    "        # Otherwise request FEMA assistance\n",
    "        self.money_to_rebuild = self.savings + self.claim_payout\n",
    "        \n",
    "        if self.money_to_rebuild >= self.damage_value:\n",
    "            \n",
    "            # Write the household's story\n",
    "            self.story.append(\n",
    "                '{0} received a ${1} insurance payout after a {2} day wait and had enough to rebuild. '.format(\n",
    "                self.name, self.claim_payout, self.claim_time))\n",
    "\n",
    "            yield simulation.process(self.rebuild_house(simulation, resources))\n",
    "            \n",
    "        else:\n",
    "            \n",
    "            # Write the household's story\n",
    "            self.story.append(\n",
    "                '{0} received a ${1} insurance payout but still needed FEMA assistance. '.format(\n",
    "                self.name, self.claim_payout)) \n",
    "            self.story.append(\n",
    "                'It took {0} days to process the claim. '.format(\n",
    "                self.claim_time)\n",
    "            )\n",
    "            \n",
    "            yield simulation.process(self.request_fema_assistance(simulation, resources))  \n",
    "    \n",
    "    # Submit request for FEMA individual assistance\n",
    "    def request_fema_assistance(self, simulation, resources):\n",
    "        \n",
    "        # To process assistance request must request and wait for a FEMA application processor\n",
    "        with resources['durable'].category['fema processors'].request() as request:\n",
    "            # Put in request for FEMA individual assistance; record time requested\n",
    "            self.assistance_put = simulation.now\n",
    "            yield request\n",
    "        \n",
    "            # Time required for FEMA to process assistance request\n",
    "            yield simulation.timeout(self.assistance_time)\n",
    "\n",
    "            # Record time household gets FEMA assistance\n",
    "            self.assistance_get = simulation.now\n",
    "        \n",
    "        # Compute amount of assistance requested from FEMA; if insurance payout covers repair cost it is zero\n",
    "        self.assistance_request = self.damage_value - self.claim_payout\n",
    "        \n",
    "        # If requesting assistance, determine if FEMA has money left to provide assistance\n",
    "        if self.assistance_request > 0:\n",
    "            if self.assistance_request <= resources['nondurable'].category['fema assistance'].level:\n",
    "             \n",
    "                self.assistance_payout = self.assistance_request\n",
    "                                \n",
    "                # Write the household's story\n",
    "                self.story.append(\n",
    "                    '{0} received ${1} from FEMA after a {2} day wait. '.format(\n",
    "                    self.name, self.assistance_payout, self.assistance_time))\n",
    "                \n",
    "                yield resources['nondurable'].category['fema assistance'].get(self.assistance_request) \n",
    "\n",
    "            else:\n",
    "                if resources['nondurable'].category['fema assistance'].level > 0:\n",
    "                    \n",
    "                    self.assistance_payout = resources['nondurable'].category['fema assistance'].level\n",
    "                    \n",
    "                    # Write the household's story\n",
    "                    self.story.append(\n",
    "                        '{0} requested ${1} from FEMA but only received ${2}. '.format(\n",
    "                        self.name, self.assistance_request, self.assistance_payout))\n",
    "                    self.story.append(\n",
    "                        'It took {0} days for FEMA to provide the assistance. '.format(\n",
    "                        self.assistance_time))\n",
    "                    \n",
    "                    yield resources['nondurable'].category['fema assistance'].get(resources['nondurable'].category['fema assistance'].level) \n",
    "                    \n",
    "                else:\n",
    "                    self.assistance_payout = 0\n",
    "                    \n",
    "                    # Write the household's story\n",
    "                    self.story.append(\n",
    "                        '{0} received no money from FEMA because of inadequate funding. '.format(\n",
    "                        self.name))\n",
    "\n",
    "        else:\n",
    "            self.assistance_payout = 0\n",
    "            \n",
    "            # Write the household's story\n",
    "            self.story.append(\n",
    "                '{0} did not need FEMA assistance. '.format(\n",
    "                self.name))\n",
    "        \n",
    "        # After receiving what FEMA assistance is available, calculate how much money is available to rebuild house\n",
    "        # If damage repair value is less than money available to rebuild, the household rebuilds their house\n",
    "        self.money_to_rebuild = self.savings + self.claim_payout + self.assistance_payout \n",
    "        \n",
    "        if self.damage_value <= self.money_to_rebuild:\n",
    "            \n",
    "            # Write the household's story\n",
    "            self.story.append(\n",
    "                '{0} had enough to rebuild with the addition of FEMA assistance. '.format(\n",
    "                self.name))\n",
    "            \n",
    "            yield simulation.process(self.rebuild_house(simulation, resources))\n",
    "\n",
    "        else:\n",
    "            self.house_put = -9\n",
    "            self.house_get = -9\n",
    "            \n",
    "            # Write the household's story\n",
    "            self.story.append(\n",
    "                '{0} did not have enough money to rebuild. '.format(\n",
    "                self.name))\n",
    "\n",
    "    def rebuild_house(self, simulation, resources):\n",
    "            with resources['durable'].category['contractors'].request() as request:\n",
    "                # Put in request for contractors to repair house\n",
    "                self.house_put = simulation.now\n",
    "                yield request\n",
    "                \n",
    "                # Time required to rebuild house\n",
    "                yield simulation.timeout(self.rebuild_time)\n",
    "                \n",
    "                # Record time when household gets house \n",
    "                self.house_get = simulation.now\n",
    "                \n",
    "            # Set house damage state and value to zero\n",
    "            self.damaged = 0\n",
    "            self.damage_value = 0\n",
    "            \n",
    "            # Write the household's story\n",
    "            self.story.append(\n",
    "                'The house was rebuilt {0} days after the quake, taking {1} days to rebuild. '.format(\n",
    "                self.house_get, self.rebuild_time))"
   ]
  },
  {
   "cell_type": "markdown",
   "metadata": {},
   "source": [
    "**Durable resources class definition**"
   ]
  },
  {
   "cell_type": "code",
   "execution_count": 3,
   "metadata": {
    "collapsed": true
   },
   "outputs": [],
   "source": [
    "class DurableResources:\n",
    "    def __init__(self, simulation, resources_dict):\n",
    "        self.simulation = simulation\n",
    "        self.resources_dict = resources_dict\n",
    "        self.fill()\n",
    "    \n",
    "    #Fill is an internal method to fill the dictionary of resource objects\n",
    "    def fill(self):\n",
    "        self.category = {}\n",
    "        for category, quantity in self.resources_dict.iteritems():\n",
    "            self.category[category] = simpy.Resource(self.simulation, quantity)\n",
    "            self.quantity = quantity"
   ]
  },
  {
   "cell_type": "markdown",
   "metadata": {},
   "source": [
    "**Nondurable resources class definition **"
   ]
  },
  {
   "cell_type": "code",
   "execution_count": 4,
   "metadata": {
    "collapsed": false
   },
   "outputs": [],
   "source": [
    "class NondurableResources:\n",
    "    def __init__(self, simulation, resources_dict):\n",
    "        self.simulation = simulation\n",
    "        self.resources_dict = resources_dict\n",
    "        self.fill()\n",
    "\n",
    "    #Fill is an internal method to fill the dictionary of resource objects\n",
    "    def fill(self):\n",
    "        self.category = {}\n",
    "        for category, quantity in self.resources_dict.iteritems():\n",
    "            self.category[category] = simpy.Container(self.simulation, capacity=inf, init=quantity)\n",
    "            self.quantity = quantity"
   ]
  },
  {
   "cell_type": "markdown",
   "metadata": {},
   "source": [
    "** Import household attributes data **"
   ]
  },
  {
   "cell_type": "code",
   "execution_count": 5,
   "metadata": {
    "collapsed": true
   },
   "outputs": [],
   "source": [
    "#households_inputs_csv = 'noDupHouses_coords.csv'\n",
    "#households_inputs = pd.read_csv(households_inputs_csv,index_col=None)"
   ]
  },
  {
   "cell_type": "code",
   "execution_count": 6,
   "metadata": {
    "collapsed": false
   },
   "outputs": [
    {
     "data": {
      "text/html": [
       "<div>\n",
       "<table border=\"1\" class=\"dataframe\">\n",
       "  <thead>\n",
       "    <tr style=\"text-align: right;\">\n",
       "      <th></th>\n",
       "      <th>name</th>\n",
       "      <th>savings</th>\n",
       "      <th>insurance_coverage</th>\n",
       "      <th>damaged</th>\n",
       "      <th>damage_value</th>\n",
       "    </tr>\n",
       "  </thead>\n",
       "  <tbody>\n",
       "    <tr>\n",
       "      <th>0</th>\n",
       "      <td>Bill</td>\n",
       "      <td>100</td>\n",
       "      <td>0</td>\n",
       "      <td>0</td>\n",
       "      <td>10000</td>\n",
       "    </tr>\n",
       "    <tr>\n",
       "      <th>1</th>\n",
       "      <td>Boyd</td>\n",
       "      <td>1000</td>\n",
       "      <td>0</td>\n",
       "      <td>1</td>\n",
       "      <td>10000</td>\n",
       "    </tr>\n",
       "    <tr>\n",
       "      <th>2</th>\n",
       "      <td>Bobby</td>\n",
       "      <td>21000</td>\n",
       "      <td>5000</td>\n",
       "      <td>1</td>\n",
       "      <td>20000</td>\n",
       "    </tr>\n",
       "    <tr>\n",
       "      <th>3</th>\n",
       "      <td>Biff</td>\n",
       "      <td>10000</td>\n",
       "      <td>10000</td>\n",
       "      <td>1</td>\n",
       "      <td>20000</td>\n",
       "    </tr>\n",
       "  </tbody>\n",
       "</table>\n",
       "</div>"
      ],
      "text/plain": [
       "    name  savings  insurance_coverage  damaged  damage_value\n",
       "0   Bill      100                   0        0         10000\n",
       "1   Boyd     1000                   0        1         10000\n",
       "2  Bobby    21000                5000        1         20000\n",
       "3   Biff    10000               10000        1         20000"
      ]
     },
     "execution_count": 6,
     "metadata": {},
     "output_type": "execute_result"
    }
   ],
   "source": [
    "households_inputs_dict = {'name' : ['Bill', 'Boyd', 'Bobby', 'Biff'],\n",
    "                     'savings' : [100.0, 1000.0, 21000.0, 10000.0],\n",
    "                    'damaged' : [0, 1, 1, 1],\n",
    "                    'damage_value' : [10000.0, 10000.0, 20000.0, 20000.0],\n",
    "                    'insurance_coverage' : [0.0, 0.0, 5000.0, 10000.0]\n",
    "                    }\n",
    "\n",
    "households_inputs = pd.DataFrame(households_inputs_dict)\n",
    "\n",
    "households_inputs = households_inputs[['name','savings','insurance_coverage','damaged','damage_value']]\n",
    "households_inputs"
   ]
  },
  {
   "cell_type": "markdown",
   "metadata": {},
   "source": [
    "**Set resources contants**"
   ]
  },
  {
   "cell_type": "code",
   "execution_count": 7,
   "metadata": {
    "collapsed": false
   },
   "outputs": [],
   "source": [
    "NUM_INSPECTORS = 4  #Number of Inspectors \n",
    "NUM_FEMA_PROCESSORS = 4 #Number of FEMA assistance application processors\n",
    "NUM_INSURANCE_ADJUSTERS = 4 #Number of insurance claim adjusters\n",
    "NUM_CONTRACTORS = 4 #Number of Contractors\n",
    "\n",
    "durable_resources_dict = {\"inspectors\": NUM_INSPECTORS,   \n",
    "             \"fema processors\": NUM_FEMA_PROCESSORS,\n",
    "             \"claim adjusters\": NUM_INSURANCE_ADJUSTERS,\n",
    "             \"contractors\": NUM_CONTRACTORS,\n",
    "             }\n",
    "\n",
    "FEMA_ASSISTANCE_BUDGET = 0 # Budget allocated to FEMA to fund individual assistance\n",
    "\n",
    "nondurable_resources_dict = {\"fema assistance\": FEMA_ASSISTANCE_BUDGET}"
   ]
  },
  {
   "cell_type": "markdown",
   "metadata": {},
   "source": [
    "**Instantiate, populate, and run the simulation**"
   ]
  },
  {
   "cell_type": "code",
   "execution_count": 8,
   "metadata": {
    "collapsed": false,
    "scrolled": true
   },
   "outputs": [],
   "source": [
    "# create simulation environment\n",
    "simulation = simpy.Environment()\n",
    "\n",
    "# paramaterize resources and place in simulation environmentl \n",
    "durable_resources = DurableResources(simulation, durable_resources_dict)\n",
    "nondurable_resources = NondurableResources(simulation, nondurable_resources_dict)\n",
    "resources = {'durable': durable_resources,\n",
    "                 'nondurable': nondurable_resources}\n",
    "\n",
    "# Instantiage household objects\n",
    "households = {}\n",
    "for i in households_inputs.index:\n",
    "    households[i] = Household(households_inputs.loc[i])\n",
    "\n",
    "# paramaterize households objects and place in simulation environmentl\n",
    "for household in households.iterkeys():\n",
    "    simulation.process(households[household].simulate(simulation, resources))\n",
    "    \n",
    "# Grab a list of all of the attributes in the households object\n",
    "household_vars = [attr for attr in dir(households[i]) if not callable(attr) and not attr.startswith(\"__\")]\n",
    "\n",
    "# Run the simulation\n",
    "simulation.run() "
   ]
  },
  {
   "cell_type": "markdown",
   "metadata": {},
   "source": [
    "**Extract outputs from individual household objects to joint data table**"
   ]
  },
  {
   "cell_type": "code",
   "execution_count": 9,
   "metadata": {
    "collapsed": false
   },
   "outputs": [],
   "source": [
    "-"
   ]
  },
  {
   "cell_type": "code",
   "execution_count": 10,
   "metadata": {
    "collapsed": false
   },
   "outputs": [
    {
     "data": {
      "text/html": [
       "<div>\n",
       "<table border=\"1\" class=\"dataframe\">\n",
       "  <thead>\n",
       "    <tr style=\"text-align: right;\">\n",
       "      <th></th>\n",
       "      <th>name</th>\n",
       "      <th>savings</th>\n",
       "      <th>insurance_coverage</th>\n",
       "      <th>damaged</th>\n",
       "      <th>damage_value</th>\n",
       "    </tr>\n",
       "  </thead>\n",
       "  <tbody>\n",
       "    <tr>\n",
       "      <th>0</th>\n",
       "      <td>Bill</td>\n",
       "      <td>100</td>\n",
       "      <td>0</td>\n",
       "      <td>0</td>\n",
       "      <td>10000</td>\n",
       "    </tr>\n",
       "    <tr>\n",
       "      <th>1</th>\n",
       "      <td>Boyd</td>\n",
       "      <td>1000</td>\n",
       "      <td>0</td>\n",
       "      <td>1</td>\n",
       "      <td>10000</td>\n",
       "    </tr>\n",
       "    <tr>\n",
       "      <th>2</th>\n",
       "      <td>Bobby</td>\n",
       "      <td>21000</td>\n",
       "      <td>5000</td>\n",
       "      <td>1</td>\n",
       "      <td>20000</td>\n",
       "    </tr>\n",
       "    <tr>\n",
       "      <th>3</th>\n",
       "      <td>Biff</td>\n",
       "      <td>10000</td>\n",
       "      <td>10000</td>\n",
       "      <td>1</td>\n",
       "      <td>20000</td>\n",
       "    </tr>\n",
       "  </tbody>\n",
       "</table>\n",
       "</div>"
      ],
      "text/plain": [
       "    name  savings  insurance_coverage  damaged  damage_value\n",
       "0   Bill      100                   0        0         10000\n",
       "1   Boyd     1000                   0        1         10000\n",
       "2  Bobby    21000                5000        1         20000\n",
       "3   Biff    10000               10000        1         20000"
      ]
     },
     "execution_count": 10,
     "metadata": {},
     "output_type": "execute_result"
    }
   ],
   "source": [
    "households_inputs"
   ]
  },
  {
   "cell_type": "code",
   "execution_count": 11,
   "metadata": {
    "collapsed": false,
    "scrolled": true
   },
   "outputs": [
    {
     "data": {
      "text/html": [
       "<div>\n",
       "<table border=\"1\" class=\"dataframe\">\n",
       "  <thead>\n",
       "    <tr style=\"text-align: right;\">\n",
       "      <th></th>\n",
       "      <th>name</th>\n",
       "      <th>inspection_put</th>\n",
       "      <th>inspection_get</th>\n",
       "      <th>inspection_time</th>\n",
       "    </tr>\n",
       "  </thead>\n",
       "  <tbody>\n",
       "    <tr>\n",
       "      <th>0</th>\n",
       "      <td>Bill</td>\n",
       "      <td>14</td>\n",
       "      <td>15</td>\n",
       "      <td>1</td>\n",
       "    </tr>\n",
       "    <tr>\n",
       "      <th>1</th>\n",
       "      <td>Boyd</td>\n",
       "      <td>14</td>\n",
       "      <td>15</td>\n",
       "      <td>1</td>\n",
       "    </tr>\n",
       "    <tr>\n",
       "      <th>2</th>\n",
       "      <td>Bobby</td>\n",
       "      <td>14</td>\n",
       "      <td>15</td>\n",
       "      <td>1</td>\n",
       "    </tr>\n",
       "    <tr>\n",
       "      <th>3</th>\n",
       "      <td>Biff</td>\n",
       "      <td>14</td>\n",
       "      <td>15</td>\n",
       "      <td>1</td>\n",
       "    </tr>\n",
       "  </tbody>\n",
       "</table>\n",
       "</div>"
      ],
      "text/plain": [
       "    name inspection_put inspection_get inspection_time\n",
       "0   Bill             14             15               1\n",
       "1   Boyd             14             15               1\n",
       "2  Bobby             14             15               1\n",
       "3   Biff             14             15               1"
      ]
     },
     "execution_count": 11,
     "metadata": {},
     "output_type": "execute_result"
    }
   ],
   "source": [
    "households_outputs[['name','inspection_put','inspection_get','inspection_time']]"
   ]
  },
  {
   "cell_type": "code",
   "execution_count": 12,
   "metadata": {
    "collapsed": false
   },
   "outputs": [
    {
     "data": {
      "text/html": [
       "<div>\n",
       "<table border=\"1\" class=\"dataframe\">\n",
       "  <thead>\n",
       "    <tr style=\"text-align: right;\">\n",
       "      <th></th>\n",
       "      <th>name</th>\n",
       "      <th>claim_put</th>\n",
       "      <th>claim_get</th>\n",
       "      <th>claim_time</th>\n",
       "      <th>claim_payout</th>\n",
       "    </tr>\n",
       "  </thead>\n",
       "  <tbody>\n",
       "    <tr>\n",
       "      <th>0</th>\n",
       "      <td>Bill</td>\n",
       "      <td>0</td>\n",
       "      <td>0</td>\n",
       "      <td>90</td>\n",
       "      <td>0</td>\n",
       "    </tr>\n",
       "    <tr>\n",
       "      <th>1</th>\n",
       "      <td>Boyd</td>\n",
       "      <td>0</td>\n",
       "      <td>0</td>\n",
       "      <td>90</td>\n",
       "      <td>0</td>\n",
       "    </tr>\n",
       "    <tr>\n",
       "      <th>2</th>\n",
       "      <td>Bobby</td>\n",
       "      <td>0</td>\n",
       "      <td>0</td>\n",
       "      <td>90</td>\n",
       "      <td>0</td>\n",
       "    </tr>\n",
       "    <tr>\n",
       "      <th>3</th>\n",
       "      <td>Biff</td>\n",
       "      <td>15</td>\n",
       "      <td>105</td>\n",
       "      <td>90</td>\n",
       "      <td>10000</td>\n",
       "    </tr>\n",
       "  </tbody>\n",
       "</table>\n",
       "</div>"
      ],
      "text/plain": [
       "    name claim_put claim_get claim_time claim_payout\n",
       "0   Bill         0         0         90            0\n",
       "1   Boyd         0         0         90            0\n",
       "2  Bobby         0         0         90            0\n",
       "3   Biff        15       105         90        10000"
      ]
     },
     "execution_count": 12,
     "metadata": {},
     "output_type": "execute_result"
    }
   ],
   "source": [
    "households_outputs[['name','claim_put','claim_get','claim_time','claim_payout']]"
   ]
  },
  {
   "cell_type": "code",
   "execution_count": 13,
   "metadata": {
    "collapsed": false
   },
   "outputs": [
    {
     "data": {
      "text/html": [
       "<div>\n",
       "<table border=\"1\" class=\"dataframe\">\n",
       "  <thead>\n",
       "    <tr style=\"text-align: right;\">\n",
       "      <th></th>\n",
       "      <th>name</th>\n",
       "      <th>assistance_put</th>\n",
       "      <th>assistance_get</th>\n",
       "      <th>assistance_time</th>\n",
       "      <th>assistance_payout</th>\n",
       "    </tr>\n",
       "  </thead>\n",
       "  <tbody>\n",
       "    <tr>\n",
       "      <th>0</th>\n",
       "      <td>Bill</td>\n",
       "      <td>0</td>\n",
       "      <td>0</td>\n",
       "      <td>120</td>\n",
       "      <td>0</td>\n",
       "    </tr>\n",
       "    <tr>\n",
       "      <th>1</th>\n",
       "      <td>Boyd</td>\n",
       "      <td>15</td>\n",
       "      <td>135</td>\n",
       "      <td>120</td>\n",
       "      <td>0</td>\n",
       "    </tr>\n",
       "    <tr>\n",
       "      <th>2</th>\n",
       "      <td>Bobby</td>\n",
       "      <td>0</td>\n",
       "      <td>0</td>\n",
       "      <td>120</td>\n",
       "      <td>0</td>\n",
       "    </tr>\n",
       "    <tr>\n",
       "      <th>3</th>\n",
       "      <td>Biff</td>\n",
       "      <td>0</td>\n",
       "      <td>0</td>\n",
       "      <td>120</td>\n",
       "      <td>0</td>\n",
       "    </tr>\n",
       "  </tbody>\n",
       "</table>\n",
       "</div>"
      ],
      "text/plain": [
       "    name assistance_put assistance_get assistance_time assistance_payout\n",
       "0   Bill              0              0             120                 0\n",
       "1   Boyd             15            135             120                 0\n",
       "2  Bobby              0              0             120                 0\n",
       "3   Biff              0              0             120                 0"
      ]
     },
     "execution_count": 13,
     "metadata": {},
     "output_type": "execute_result"
    }
   ],
   "source": [
    "households_outputs[['name','assistance_put','assistance_get','assistance_time','assistance_payout']]"
   ]
  },
  {
   "cell_type": "code",
   "execution_count": 14,
   "metadata": {
    "collapsed": false,
    "scrolled": true
   },
   "outputs": [
    {
     "data": {
      "text/html": [
       "<div>\n",
       "<table border=\"1\" class=\"dataframe\">\n",
       "  <thead>\n",
       "    <tr style=\"text-align: right;\">\n",
       "      <th></th>\n",
       "      <th>name</th>\n",
       "      <th>house_put</th>\n",
       "      <th>house_get</th>\n",
       "      <th>rebuild_time</th>\n",
       "    </tr>\n",
       "  </thead>\n",
       "  <tbody>\n",
       "    <tr>\n",
       "      <th>0</th>\n",
       "      <td>Bill</td>\n",
       "      <td>0</td>\n",
       "      <td>0</td>\n",
       "      <td>60</td>\n",
       "    </tr>\n",
       "    <tr>\n",
       "      <th>1</th>\n",
       "      <td>Boyd</td>\n",
       "      <td>-9</td>\n",
       "      <td>-9</td>\n",
       "      <td>60</td>\n",
       "    </tr>\n",
       "    <tr>\n",
       "      <th>2</th>\n",
       "      <td>Bobby</td>\n",
       "      <td>15</td>\n",
       "      <td>75</td>\n",
       "      <td>60</td>\n",
       "    </tr>\n",
       "    <tr>\n",
       "      <th>3</th>\n",
       "      <td>Biff</td>\n",
       "      <td>105</td>\n",
       "      <td>165</td>\n",
       "      <td>60</td>\n",
       "    </tr>\n",
       "  </tbody>\n",
       "</table>\n",
       "</div>"
      ],
      "text/plain": [
       "    name house_put house_get rebuild_time\n",
       "0   Bill         0         0           60\n",
       "1   Boyd        -9        -9           60\n",
       "2  Bobby        15        75           60\n",
       "3   Biff       105       165           60"
      ]
     },
     "execution_count": 14,
     "metadata": {},
     "output_type": "execute_result"
    }
   ],
   "source": [
    "households_outputs[['name','house_put','house_get','rebuild_time']]"
   ]
  },
  {
   "cell_type": "code",
   "execution_count": 17,
   "metadata": {
    "collapsed": false
   },
   "outputs": [
    {
     "data": {
      "text/plain": [
       "['Biff started with $10000.0 in savings. ',\n",
       " 'The house was inspected 14 days after the earthquake. ',\n",
       " \"Biff's house suffered $20000.0 of damage. \",\n",
       " 'Biff had a $10000.0 insurance policy and filed a claim. ',\n",
       " 'Biff received a $10000.0 insurance payout after a 90 day wait and had enough to rebuild. ',\n",
       " 'The house was rebuilt 165 days after the quake, taking 60 days to rebuild. ']"
      ]
     },
     "execution_count": 17,
     "metadata": {},
     "output_type": "execute_result"
    }
   ],
   "source": [
    "name = 'Biff'\n",
    "households_outputs.loc[households_outputs['name']==name, 'story'].values[0]"
   ]
  },
  {
   "cell_type": "code",
   "execution_count": null,
   "metadata": {
    "collapsed": true
   },
   "outputs": [],
   "source": []
  }
 ],
 "metadata": {
  "kernelspec": {
   "display_name": "Python 2",
   "language": "python",
   "name": "python2"
  },
  "language_info": {
   "codemirror_mode": {
    "name": "ipython",
    "version": 2
   },
   "file_extension": ".py",
   "mimetype": "text/x-python",
   "name": "python",
   "nbconvert_exporter": "python",
   "pygments_lexer": "ipython2",
   "version": "2.7.11"
  }
 },
 "nbformat": 4,
 "nbformat_minor": 0
}
