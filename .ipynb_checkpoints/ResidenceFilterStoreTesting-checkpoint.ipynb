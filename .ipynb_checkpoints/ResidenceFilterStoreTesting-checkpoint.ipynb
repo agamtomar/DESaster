{
 "cells": [
  {
   "cell_type": "code",
   "execution_count": 507,
   "metadata": {
    "collapsed": true
   },
   "outputs": [],
   "source": [
    "import random, pprint\n",
    "import simpy\n",
    "import pandas as pd"
   ]
  },
  {
   "cell_type": "code",
   "execution_count": 508,
   "metadata": {
    "collapsed": false
   },
   "outputs": [],
   "source": [
    "class Residence(object):\n",
    "    def __init__(self, structure, residence_type):\n",
    "        self.uid = structure\n",
    "        self.bedrooms = random.randint(1, 4)\n",
    "        if residence_type == None:\n",
    "            self.type = random.choice([\"house\", \"apartment\", \"condo\"])\n",
    "        else:\n",
    "            self.type = unit"
   ]
  },
  {
   "cell_type": "code",
   "execution_count": 509,
   "metadata": {
    "collapsed": false
   },
   "outputs": [],
   "source": [
    "class Household(object):\n",
    "    def __init__(self, household):\n",
    "        self.name = household['name']\n",
    "        self.residence_type = household['residence_type']\n",
    "        self.bedrooms = household['bedrooms']\n",
    "        self.story = []"
   ]
  },
  {
   "cell_type": "code",
   "execution_count": 510,
   "metadata": {
    "collapsed": false,
    "scrolled": true
   },
   "outputs": [
    {
     "data": {
      "text/html": [
       "<div>\n",
       "<table border=\"1\" class=\"dataframe\">\n",
       "  <thead>\n",
       "    <tr style=\"text-align: right;\">\n",
       "      <th></th>\n",
       "      <th>name</th>\n",
       "      <th>residence_type</th>\n",
       "      <th>bedrooms</th>\n",
       "    </tr>\n",
       "  </thead>\n",
       "  <tbody>\n",
       "    <tr>\n",
       "      <th>0</th>\n",
       "      <td>Bill</td>\n",
       "      <td>house</td>\n",
       "      <td>2</td>\n",
       "    </tr>\n",
       "    <tr>\n",
       "      <th>1</th>\n",
       "      <td>Boyd</td>\n",
       "      <td>house</td>\n",
       "      <td>2</td>\n",
       "    </tr>\n",
       "    <tr>\n",
       "      <th>2</th>\n",
       "      <td>Bobby</td>\n",
       "      <td>house</td>\n",
       "      <td>2</td>\n",
       "    </tr>\n",
       "    <tr>\n",
       "      <th>3</th>\n",
       "      <td>Biff</td>\n",
       "      <td>house</td>\n",
       "      <td>2</td>\n",
       "    </tr>\n",
       "  </tbody>\n",
       "</table>\n",
       "</div>"
      ],
      "text/plain": [
       "    name residence_type  bedrooms\n",
       "0   Bill          house         2\n",
       "1   Boyd          house         2\n",
       "2  Bobby          house         2\n",
       "3   Biff          house         2"
      ]
     },
     "execution_count": 510,
     "metadata": {},
     "output_type": "execute_result"
    }
   ],
   "source": [
    "# Manually create a input data dictionary for testing\n",
    "households_inputs_dict = {'name' : ['Bill', 'Boyd', 'Bobby', 'Biff'],\n",
    "                     'residence_type' : ['house','house','house','house'],\n",
    "                    'bedrooms' : [2, 2, 2, 2]\n",
    "                    }\n",
    "# Create dataframe from dictionary\n",
    "households_df = pd.DataFrame(households_inputs_dict)\n",
    "\n",
    "# Re-order dataframe columns\n",
    "households_df = households_df[['name','residence_type','bedrooms']]\n",
    "households_df"
   ]
  },
  {
   "cell_type": "code",
   "execution_count": 511,
   "metadata": {
    "collapsed": false
   },
   "outputs": [],
   "source": [
    "#Instantiate household objects\n",
    "households = {}\n",
    "for i in households_df.index:\n",
    "    households[i] = Household(households_df.loc[i])"
   ]
  },
  {
   "cell_type": "code",
   "execution_count": 512,
   "metadata": {
    "collapsed": false
   },
   "outputs": [
    {
     "name": "stdout",
     "output_type": "stream",
     "text": [
      "[0, 'house', 2]\n",
      "[1, 'house', 2]\n",
      "[2, 'apartment', 3]\n",
      "[3, 'condo', 2]\n",
      "[4, 'house', 4]\n"
     ]
    }
   ],
   "source": [
    "res_id = [x for x in range(5)]\n",
    "residences = [Residence(id, None) for id in res_id]\n",
    "\n",
    "housing_stock = simpy.FilterStore(env)\n",
    "\n",
    "for residence in residences:\n",
    "    housing_stock.put(residence)\n",
    "    \n",
    "for i in housing_stock.items:\n",
    "    pprint.pprint([i.uid, i.type, i.bedrooms])"
   ]
  },
  {
   "cell_type": "code",
   "execution_count": 513,
   "metadata": {
    "collapsed": false
   },
   "outputs": [],
   "source": [
    "def search_housing(env, household):\n",
    "    household.story.append(\n",
    "    '{0} is searching for a {1} bedroom {2}.'.format(household.name, \n",
    "                                                           household.bedrooms, \n",
    "                                                           household.residence_type)\n",
    "    )\n",
    "    \n",
    "    unit = yield housing_stock.get(lambda look: look.type == household.residence_type and look.bedrooms >= household.bedrooms)\n",
    "    yield env.timeout(2)\n",
    "    \n",
    "    household.story.append(\n",
    "    '{0} recieved residence {1} after {2} days.'.format(household.name, unit.uid, env.now)\n",
    "    )"
   ]
  },
  {
   "cell_type": "code",
   "execution_count": 514,
   "metadata": {
    "collapsed": false
   },
   "outputs": [],
   "source": [
    "env = simpy.Environment()\n",
    "\n",
    "for household in households.keys():\n",
    "    env.process(search_housing(env, households[household]))\n",
    "\n",
    "env.run(until=100)"
   ]
  },
  {
   "cell_type": "code",
   "execution_count": 515,
   "metadata": {
    "collapsed": false
   },
   "outputs": [
    {
     "name": "stdout",
     "output_type": "stream",
     "text": [
      "There are 1 households still waiting for housing\n"
     ]
    }
   ],
   "source": [
    "print(\"There are {0} households still waiting for housing\".format(len(housing_stock.get_queue)))"
   ]
  },
  {
   "cell_type": "code",
   "execution_count": 516,
   "metadata": {
    "collapsed": false
   },
   "outputs": [
    {
     "data": {
      "text/plain": [
       "[<FilterStoreGet() object at 0x109e8bbe0>]"
      ]
     },
     "execution_count": 516,
     "metadata": {},
     "output_type": "execute_result"
    }
   ],
   "source": [
    "housing_stock.get_queue"
   ]
  },
  {
   "cell_type": "code",
   "execution_count": 519,
   "metadata": {
    "collapsed": false
   },
   "outputs": [
    {
     "name": "stdout",
     "output_type": "stream",
     "text": [
      "['Bill is searching for a 2 bedroom house.']\n",
      "['Boyd is searching for a 2 bedroom house.']\n",
      "['Bobby is searching for a 2 bedroom house.']\n",
      "['Biff is searching for a 2 bedroom house.']\n"
     ]
    }
   ],
   "source": [
    "for household in households.keys():\n",
    "    print(households[household].story)"
   ]
  },
  {
   "cell_type": "code",
   "execution_count": null,
   "metadata": {
    "collapsed": true
   },
   "outputs": [],
   "source": []
  }
 ],
 "metadata": {
  "kernelspec": {
   "display_name": "Python 3",
   "language": "python",
   "name": "python3"
  },
  "language_info": {
   "codemirror_mode": {
    "name": "ipython",
    "version": 3
   },
   "file_extension": ".py",
   "mimetype": "text/x-python",
   "name": "python",
   "nbconvert_exporter": "python",
   "pygments_lexer": "ipython3",
   "version": "3.5.1"
  }
 },
 "nbformat": 4,
 "nbformat_minor": 0
}
