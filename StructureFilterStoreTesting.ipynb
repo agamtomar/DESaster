{
 "cells": [
  {
   "cell_type": "code",
   "execution_count": 2,
   "metadata": {
    "collapsed": true
   },
   "outputs": [],
   "source": [
    "import random, pprint\n",
    "import simpy"
   ]
  },
  {
   "cell_type": "code",
   "execution_count": 5,
   "metadata": {
    "collapsed": true
   },
   "outputs": [],
   "source": [
    "class Structure(object):\n",
    "    def __init__(self, structure, _type):\n",
    "        self.uid = structure\n",
    "        if _type == None:\n",
    "            self.type = random.choice([\"House\", \"Business\", \"Public\"])\n",
    "        else:\n",
    "            self.type = _type\n",
    "        self.value = random.randint(60000, 1000000)\n",
    "        self.damage = random.randint(1, 100000)\n",
    "        self.bedrooms = random.randint(1, 4)"
   ]
  },
  {
   "cell_type": "code",
   "execution_count": 6,
   "metadata": {
    "collapsed": true
   },
   "outputs": [],
   "source": [
    "inputs = [x for x in range(15)]\n",
    "structures = [Structure(x, None) for x in inputs]\n",
    "\n",
    "\n",
    "\n",
    "   \n"
   ]
  },
  {
   "cell_type": "code",
   "execution_count": 15,
   "metadata": {
    "collapsed": false
   },
   "outputs": [],
   "source": [
    "def name():\n",
    "    for i in range(11, 100):\n",
    "        yield i\n",
    "a = name()"
   ]
  },
  {
   "cell_type": "code",
   "execution_count": 24,
   "metadata": {
    "collapsed": false
   },
   "outputs": [
    {
     "data": {
      "text/plain": [
       "12"
      ]
     },
     "execution_count": 24,
     "metadata": {},
     "output_type": "execute_result"
    }
   ],
   "source": [
    "next(a)"
   ]
  },
  {
   "cell_type": "code",
   "execution_count": 17,
   "metadata": {
    "collapsed": true
   },
   "outputs": [],
   "source": [
    "env = simpy.Environment()"
   ]
  },
  {
   "cell_type": "code",
   "execution_count": 18,
   "metadata": {
    "collapsed": true
   },
   "outputs": [],
   "source": [
    "housing_stock = simpy.FilterStore(env)\n",
    "\n",
    "for i in structures:\n",
    "    housing_stock.put(i)"
   ]
  },
  {
   "cell_type": "code",
   "execution_count": 20,
   "metadata": {
    "collapsed": false
   },
   "outputs": [
    {
     "data": {
      "text/plain": [
       "[<__main__.Structure at 0x107b7ac50>,\n",
       " <__main__.Structure at 0x107b7aba8>,\n",
       " <__main__.Structure at 0x107b7ad68>,\n",
       " <__main__.Structure at 0x107b7aa58>,\n",
       " <__main__.Structure at 0x107b7ab00>,\n",
       " <__main__.Structure at 0x107b7aa20>,\n",
       " <__main__.Structure at 0x107b7aac8>,\n",
       " <__main__.Structure at 0x107b7ab38>,\n",
       " <__main__.Structure at 0x107b7ab70>,\n",
       " <__main__.Structure at 0x107b7a048>,\n",
       " <__main__.Structure at 0x107b7a080>,\n",
       " <__main__.Structure at 0x107b7a0b8>,\n",
       " <__main__.Structure at 0x107b7a0f0>,\n",
       " <__main__.Structure at 0x107b7a400>,\n",
       " <__main__.Structure at 0x107b7a438>]"
      ]
     },
     "execution_count": 20,
     "metadata": {},
     "output_type": "execute_result"
    }
   ],
   "source": [
    "housing_stock.items"
   ]
  },
  {
   "cell_type": "code",
   "execution_count": 4,
   "metadata": {
    "collapsed": true
   },
   "outputs": [],
   "source": [
    "def sell(env):\n",
    "    yield env.timeout(4)\n",
    "    yield housing_stock.put(Structure(a.next(), \"House\"))\n",
    "#Here i envision this being a method in the household entity class. The bedroom\n",
    "#requirements and that stuff would be an attribute of the household's need.\n",
    "def search(env, name):\n",
    "    \n",
    "    g = yield housing_stock.get(lambda filt: filt.type == \"House\" and filt.bedrooms >= 2)\n",
    "    yield env.timeout(0.25)\n",
    "    print('{2} recieved {0} at {1}'.format(g.uid, env.now, name))\n",
    "    #print name, g.uid, env.now"
   ]
  },
  {
   "cell_type": "code",
   "execution_count": null,
   "metadata": {
    "collapsed": true
   },
   "outputs": [],
   "source": [
    "\n",
    "    \n",
    "names = [\"a\",\"b\",\"c\",\"d\",\"e\",\"f\",\"g\",\"h\",\"i\",\"j\"]\n",
    "for i in names:\n",
    "    env.process(search(env, i))\n",
    "\n",
    "\n",
    "\n",
    "\n"
   ]
  },
  {
   "cell_type": "code",
   "execution_count": null,
   "metadata": {
    "collapsed": true
   },
   "outputs": [],
   "source": [
    "env.process(sell(env))\n",
    "\n",
    "env.run(until=10)"
   ]
  },
  {
   "cell_type": "code",
   "execution_count": null,
   "metadata": {
    "collapsed": true
   },
   "outputs": [],
   "source": [
    "\n",
    "for i in housing_stock.items:\n",
    "    pprint.pprint([i.type, i.value, i.damage, i.bedrooms])\n",
    "\n",
    "\"\"\"\n",
    "for j in housing_stock.get_queue:\n",
    "    pprint.pprint([j.type, j.value, j.damage, j.bedrooms])    \n",
    "#print housing_stock.get_queue\"\"\"\n",
    "\n",
    "print(\"There are {0} households still waiting for housing\".format(len(housing_stock.get_queue)))\n",
    "\n"
   ]
  }
 ],
 "metadata": {
  "kernelspec": {
   "display_name": "Python 3",
   "language": "python",
   "name": "python3"
  },
  "language_info": {
   "codemirror_mode": {
    "name": "ipython",
    "version": 3
   },
   "file_extension": ".py",
   "mimetype": "text/x-python",
   "name": "python",
   "nbconvert_exporter": "python",
   "pygments_lexer": "ipython3",
   "version": "3.5.1"
  }
 },
 "nbformat": 4,
 "nbformat_minor": 0
}
