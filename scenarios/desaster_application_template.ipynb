{
 "cells": [
  {
   "cell_type": "markdown",
   "metadata": {
    "nbpresent": {
     "id": "5d6821e5-6824-4330-a555-39b1dc08357a"
    }
   },
   "source": [
    "# DESaster Application Template\n",
    "v. 060517"
   ]
  },
  {
   "cell_type": "markdown",
   "metadata": {
    "nbpresent": {
     "id": "1d3465f4-2fbf-4582-92e9-7c48d9cf82e6"
    }
   },
   "source": [
    "## Required Modules"
   ]
  },
  {
   "cell_type": "code",
   "execution_count": 1,
   "metadata": {
    "nbpresent": {
     "id": "efe0367b-ecea-4f68-8747-3507afa0a7e4"
    }
   },
   "outputs": [],
   "source": [
    "# System modules\n",
    "import sys, random, inspect\n",
    "from datetime import datetime\n",
    "from IPython.display import display\n",
    "\n",
    "# Data analysis modules\n",
    "import pandas as pd\n",
    "import numpy as np\n",
    "from scipy.stats import uniform, beta\n",
    "import random\n",
    "from ipywidgets import Dropdown\n",
    "\n",
    "\n",
    "# SimPy modules\n",
    "import simpy\n",
    "from simpy import Resource, Container, FilterStore\n",
    "from simpy.util import start_delayed\n",
    "\n",
    "# Viz modules\n",
    "import matplotlib.pyplot as plt\n",
    "import seaborn as sns\n",
    "import folium\n",
    "from folium import plugins\n",
    "import branca.colormap as cm\n",
    "from folium.plugins import MarkerCluster\n",
    "from folium import Map, FeatureGroup, Marker, LayerControl\n",
    "\n",
    "### DESaster Modules\n",
    "desaster_path = \"/Users/geomando/Dropbox/github/DESaster\"\n",
    "sys.path.append(desaster_path)\n",
    "import desaster\n",
    "from desaster.io import *\n",
    "from desaster.structures import *\n",
    "from desaster.financial import *\n",
    "from desaster.technical import *\n",
    "from desaster.entities import *\n",
    "from desaster.policies import *\n",
    "from desaster.distributions import *"
   ]
  },
  {
   "cell_type": "code",
   "execution_count": 42,
   "metadata": {},
   "outputs": [
    {
     "name": "stdout",
     "output_type": "stream",
     "text": [
      "Building\n",
      "Container\n",
      "Entity\n",
      "Household\n",
      "Landlord\n",
      "Owner\n",
      "OwnerHousehold\n",
      "RenterHousehold\n",
      "SingleFamilyResidential\n"
     ]
    }
   ],
   "source": [
    "import sys, inspect\n",
    "\n",
    "# inspect.\n",
    "\n",
    "def print_classes():\n",
    "    for name, obj in inspect.getmembers(desaster.entities):\n",
    "        if inspect.isclass(obj):\n",
    "            print(name)\n",
    "\n",
    "print_classes()"
   ]
  },
  {
   "cell_type": "markdown",
   "metadata": {
    "nbpresent": {
     "id": "cccae357-be1e-4cdd-b6da-33bc39eb27c2"
    }
   },
   "source": [
    "## Import Households Attribute Data\n",
    "Input data must be MS Excel .xlsx file with format (column names and sheet names) of ../inputs/desaster_input_data_template.xlsx"
   ]
  },
  {
   "cell_type": "code",
   "execution_count": 3,
   "metadata": {
    "collapsed": true,
    "nbpresent": {
     "id": "f5ad9903-feef-4cc1-865e-2632556532d1"
    }
   },
   "outputs": [],
   "source": [
    "scenario_file = '../inputs/desaster_input_data_template.xlsx'"
   ]
  },
  {
   "cell_type": "markdown",
   "metadata": {},
   "source": [
    "__Create Pandas dataframe of attribute data for all OwnerHouseholds to be modeled in the simulation.__"
   ]
  },
  {
   "cell_type": "code",
   "execution_count": 4,
   "metadata": {
    "collapsed": true,
    "nbpresent": {
     "id": "77a6f2a4-6ea6-484d-9de2-eba265cd3ce1"
    }
   },
   "outputs": [],
   "source": [
    "owners_df = pd.read_excel(scenario_file, sheetname='owners')"
   ]
  },
  {
   "cell_type": "markdown",
   "metadata": {},
   "source": [
    "__Create Pandas dataframe of attribute data for all RenterHouseholds to be modeled in the simulation.__"
   ]
  },
  {
   "cell_type": "code",
   "execution_count": 5,
   "metadata": {
    "collapsed": true,
    "nbpresent": {
     "id": "2bedb18e-ce6d-41cb-98a4-7b91bd10f9bb"
    }
   },
   "outputs": [],
   "source": [
    "renters_df = pd.read_excel(scenario_file, sheetname='renters')"
   ]
  },
  {
   "cell_type": "markdown",
   "metadata": {
    "nbpresent": {
     "id": "82ea73e7-3af1-4c0e-917f-a2c8c211f877"
    }
   },
   "source": [
    "## Setup the Simulation Environment, Define Parameter Distributions, and Populate with Households, Recovery Programs, and Recovery Policies"
   ]
  },
  {
   "cell_type": "markdown",
   "metadata": {
    "nbpresent": {
     "id": "674d14b6-8c36-4fdb-aa62-2082abb1ade9"
    }
   },
   "source": [
    "__Set Simpy simulation environment__"
   ]
  },
  {
   "cell_type": "code",
   "execution_count": 6,
   "metadata": {
    "collapsed": true,
    "nbpresent": {
     "id": "4b32e43c-2ad8-4103-ab07-110178d9f224"
    }
   },
   "outputs": [],
   "source": [
    "env = simpy.Environment()"
   ]
  },
  {
   "cell_type": "markdown",
   "metadata": {
    "nbpresent": {
     "id": "60da519d-86e8-4159-a232-897fe476c53c"
    }
   },
   "source": [
    "__Indicate whether the simulation will keep track of the stories of each entity in the simulation. This can also be set individually for each group of imported entities (e.g., each call to an entities.Entity class or subclass.__"
   ]
  },
  {
   "cell_type": "code",
   "execution_count": 7,
   "metadata": {
    "collapsed": true,
    "nbpresent": {
     "id": "219edad0-ba39-4977-8836-3bbf81b33cf5"
    }
   },
   "outputs": [],
   "source": [
    "write_story = True"
   ]
  },
  {
   "cell_type": "markdown",
   "metadata": {
    "nbpresent": {
     "id": "c3e629b0-ac2a-4222-a944-939a885c034a"
    }
   },
   "source": [
    "__Define the probability distributions that can be used in the simulation to define various recovery program process event durations.__"
   ]
  },
  {
   "cell_type": "code",
   "execution_count": 8,
   "metadata": {
    "collapsed": true
   },
   "outputs": [],
   "source": [
    "# A determistic scalar\n",
    "scalar_dist = ProbabilityDistribution(dist='scalar', loc=10) \n",
    "# A determistic scalar for the repair program (which dynamically changes the distribution parameters)\n",
    "repair_scalar_dist = ProbabilityDistribution(dist='scalar', loc=10) \n",
    "# A uniform distribution; min = loc, max = (loc + scale)\n",
    "uni_dist = ProbabilityDistribution(dist='uniform', loc=5, scale=10) \n",
    "# A beta distribution; parameters define as numpy.stats.beta\n",
    "beta_dist = ProbabilityDistribution(dist='beta', loc=5, scale=30, shape_a=2.0, shape_b=2.0)\n",
    "# A weibull distribution; parameters define as numpy.stats.beta\n",
    "wei_dist = ProbabilityDistribution(dist='weibull', loc=5, scale=10, shape_c=2.0)\n",
    "\n",
    "# Some distributions to parameterize specific programs\n",
    "sba_dist = DurationDistributionHomeLoanSBA(dist='scalar', loc=10) \n",
    "fema_scalar_dist = ProbabilityDistribution(dist='scalar') "
   ]
  },
  {
   "cell_type": "markdown",
   "metadata": {},
   "source": [
    "__Instantiate the recovery program objects that will be used in the simulation. Each recovery program requires\n",
    "specification of a duration probability distribution (set above). Unlike shown below, the distributions do not have to be the same for each program. Currently all are the same scalars to simplify interpretation and debugging.__"
   ]
  },
  {
   "cell_type": "code",
   "execution_count": 9,
   "metadata": {
    "collapsed": true
   },
   "outputs": [],
   "source": [
    "declaration = 30 # Placeholder deterministic scalar that defines number of days before federal disaster declared\n",
    "sba_deadline = 60 # Typically duration in days after declaration that SBA applications must be submitted\n",
    "\n",
    "# Instantiate a FEMA Individual Assistance program\n",
    "fema_ia = HousingAssistanceFEMA(env, staff=100, budget=10000000, duration_distribution=fema_scalar_dist, max_outlay=30000,\n",
    "                                  deadline=540, declaration_duration=declaration)\n",
    "# Instantiate a SBA Loan program to use w/ OwnerHouseholds\n",
    "sba_home_loan = RealPropertyLoanSBA(env, officers=10, inspectors=10, duration_distribution=sba_dist, max_loan = 200000, \n",
    "                            min_credit = 600, deadline=sba_deadline, declaration_duration=declaration)\n",
    "# Instantiate a SBA Loan program to use w/ Landlords (higher maximum for businesses)\n",
    "sba_biz_loan = RealPropertyLoanSBA(env, officers=10, inspectors=10, duration_distribution=scalar_dist, \n",
    "                           max_loan = 2000000, deadline=sba_deadline, declaration_duration=declaration) # SBA max biz loan = $2mil\n",
    "# Instantiate a private insurance program\n",
    "insurance = OwnersInsurance(env, staff=100, deductible=0.0, duration_distribution=scalar_dist)\n",
    "# Instantiate a rapid inspection (tagging) program\n",
    "inspection = InspectionProgram(env, staff=1000, duration_distribution=scalar_dist)\n",
    "# Instantiate a detailed engineering assessment program\n",
    "assessment = EngineeringAssessment(env, staff=1000, duration_distribution=scalar_dist)\n",
    "# Instantiate a building permit processing program\n",
    "permitting = PermitProgram(env, staff=1000, duration_distribution=scalar_dist) \n",
    "# Instantiate a program to represent private repair contractors\n",
    "repair = RepairProgram(env, staff=1000, materials=1000000000, duration_distribution=repair_scalar_dist)\n",
    "# Instantiate a program to represent private demolition contractors\n",
    "demolition = DemolitionProgram(env, staff=1000, duration_distribution=scalar_dist)"
   ]
  },
  {
   "cell_type": "markdown",
   "metadata": {},
   "source": [
    "__Instantiate any recovery policies. Policies are custom classes that define different recovery program arrangements, sequences, logic, patience, etc. Currently only one is written Insurance_IA_Loan_Sequential, which very loosely mimics FEMA's required sequencing of funding requests. The policy also provides an example of how to model entity \"patience\" and process interuption.__"
   ]
  },
  {
   "cell_type": "code",
   "execution_count": 10,
   "metadata": {
    "collapsed": true
   },
   "outputs": [],
   "source": [
    "insurance_ia_loan_seq = Insurance_IA_SBA_Sequential(env)\n",
    "insurance_ia_loan_para = Insurance_IA_SBA_Parallel(env)\n",
    "insurance_loan_seq = Insurance_SBA_Sequential(env)\n",
    "insurance_loan_para = Insurance_SBA_Parallel(env)\n",
    "repair_stock = RepairVacantBuilding(env)"
   ]
  },
  {
   "cell_type": "markdown",
   "metadata": {
    "nbpresent": {
     "id": "ba511c7a-6df4-4ba1-a590-dbcb877c1c5d"
    }
   },
   "source": [
    "__Create empty Simpy FilterStores to use as housing stocks.__"
   ]
  },
  {
   "cell_type": "code",
   "execution_count": 11,
   "metadata": {
    "collapsed": true,
    "nbpresent": {
     "id": "f462c94a-6efe-4376-a69e-c58cebcab9f2"
    }
   },
   "outputs": [],
   "source": [
    "owned_stock = FilterStore(env)  # To put the residences associated with owners\n",
    "rented_stock = FilterStore(env) # To put the residences associated with renters\n",
    "# forsale_stock = FilterStore(env) # To put the homes associated with vacant home sellers\n",
    "# forrent_stock = FilterStore(env) # To put the homes associated with vacant home landlords"
   ]
  },
  {
   "cell_type": "markdown",
   "metadata": {},
   "source": [
    "__Create a list of OwnerHousehold objects based on input data. Place each associated residence in the rented housing stock.__"
   ]
  },
  {
   "cell_type": "code",
   "execution_count": 12,
   "metadata": {
    "nbpresent": {
     "id": "0a1a343c-01a9-43a3-9309-fb83ddc13acc"
    }
   },
   "outputs": [],
   "source": [
    "owners = importEntities(env, owners_df, 'OwnerHousehold', owned_stock, write_story)"
   ]
  },
  {
   "cell_type": "markdown",
   "metadata": {},
   "source": [
    "__Create a list of RenterHousehold objects based on input data. Place each associated residence in the rented housing stock.__"
   ]
  },
  {
   "cell_type": "code",
   "execution_count": 13,
   "metadata": {
    "collapsed": true,
    "nbpresent": {
     "id": "422d741a-01e2-4fee-bf86-ac07ba86cb2e"
    }
   },
   "outputs": [],
   "source": [
    "renters = importEntities(env, renters_df, 'RenterHousehold', rented_stock, write_story)"
   ]
  },
  {
   "cell_type": "markdown",
   "metadata": {},
   "source": [
    "# Specify master processes for Landlords, OwnerHouseholds, and Renter Households\n",
    "Note: Master processes define custom, case-specific, scenario-based, or user-defined logic for modeled entities. They are not \"hard coded\" processes or policies in DESaster."
   ]
  },
  {
   "cell_type": "markdown",
   "metadata": {},
   "source": [
    "*A listing of arguments for each of the recovery programs and policies to help write master processes.*"
   ]
  },
  {
   "cell_type": "code",
   "execution_count": 14,
   "metadata": {},
   "outputs": [
    {
     "name": "stdout",
     "output_type": "stream",
     "text": [
      "HousingAssistanceFEMA.process ['self', 'entity', 'callbacks']\n",
      "RealPropertyLoanSBA.process ['self', 'entity', 'callbacks']\n",
      "RealPropertyLoanSBA.process ['self', 'entity', 'callbacks']\n",
      "OwnersInsurance.process ['self', 'entity', 'callbacks']\n",
      "InspectionProgram.process ['self', 'structure', 'entity', 'callbacks']\n",
      "EngineeringAssessment.process ['self', 'structure', 'entity', 'callbacks']\n",
      "PermitProgram.process ['self', 'structure', 'entity', 'callbacks']\n",
      "RepairProgram.process ['self', 'structure', 'entity', 'callbacks']\n",
      "DemolitionProgram.process ['self', 'structure', 'entity', 'callbacks']\n",
      "Insurance_IA_SBA_Sequential.policy ['self', 'insurance_program', 'fema_program', 'sba_program', 'entity', 'search_patience']\n",
      "Insurance_IA_SBA_Parallel.policy ['self', 'insurance_program', 'fema_program', 'sba_program', 'entity', 'search_patience']\n",
      "Insurance_SBA_Sequential.policy ['self', 'insurance_program', 'sba_program', 'entity', 'search_patience']\n",
      "Insurance_SBA_Parallel.policy ['self', 'insurance_program', 'sba_program', 'entity', 'search_patience']\n",
      "RepairVacantBuilding.policy ['self', 'inspection_program', 'assessment_program', 'permit_program', 'repair_program', 'entity', 'building_stock', 'repair_probability', 'wait_time']\n"
     ]
    }
   ],
   "source": [
    "def list_args(programs_policies):\n",
    "    for p in programs_policies:\n",
    "        print(str(p.__func__)[10:-16], inspect.getfullargspec(p).args) # Useful to determine the arguments for the recovery programs\n",
    "\n",
    "programs_policies = [fema_ia.process, sba_home_loan.process, sba_biz_loan.process, insurance.process, \n",
    "                     inspection.process, assessment.process, permitting.process, repair.process, \n",
    "                     demolition.process, insurance_ia_loan_seq.policy, insurance_ia_loan_para.policy, \n",
    "                     insurance_loan_seq.policy, insurance_loan_para.policy, repair_stock.policy]\n",
    "\n",
    "list_args(programs_policies)"
   ]
  },
  {
   "cell_type": "markdown",
   "metadata": {},
   "source": [
    "__A really basic custom master process as an example of how to create one.__"
   ]
  },
  {
   "cell_type": "code",
   "execution_count": 15,
   "metadata": {
    "collapsed": true
   },
   "outputs": [],
   "source": [
    "def basic_process(inspection_program, assessment_program, permit_program, repair_program, entity):\n",
    "        yield env.process(inspection_program.process(entity.property, entity))\n",
    "        yield env.process(assessment_program.process(entity.property, entity))\n",
    "        yield env.process(permit_program.process(entity.property, entity))\n",
    "        yield env.process(repair_program.process(entity.property, entity))"
   ]
  },
  {
   "cell_type": "markdown",
   "metadata": {
    "nbpresent": {
     "id": "6872528b-8992-44ce-8de9-79a318a19eec"
    }
   },
   "source": [
    "__A custom master process for Landlords. Landlords are the owners of renters' residences and so are the ones to seek financial assistance for repairs.__"
   ]
  },
  {
   "cell_type": "code",
   "execution_count": 16,
   "metadata": {
    "collapsed": true,
    "nbpresent": {
     "id": "7be4185f-0a7d-449c-b02d-cb35947db032"
    }
   },
   "outputs": [],
   "source": [
    "def landlord_process(env, inspection_program, insurance_program, loan_program, \n",
    "                 assessment_program, permit_program, demolish_program, repair_program, entity):\n",
    "    \n",
    "    money_patience = 100000  # days until give up the search for repair money\n",
    "    \n",
    "    # Do inspection\n",
    "    yield env.process(inspection_program.process(entity.property, entity)) \n",
    "    \n",
    "    # Simulate damaged properties\n",
    "    if entity.property.damage_state != 'None': \n",
    "         \n",
    "        # If is extensively/completely damaged, evict tenant. Eventually initiate temp/transition shelter etc.\n",
    "        if entity.property.damage_state == 'Extensive' or entity.property.damage_state == 'Complete':\n",
    "            entity.evict_tenant()\n",
    "\n",
    "        # Landlord search for financial assistance using an Insurance_Loan policy. Note two alternate versions are \n",
    "        # can be used: a parallel policy or a sequential policy. Uncomment the desired policy approach.\n",
    "        # yield env.process(insurance_loan_seq.policy(insurance_program, loan_program, entity, money_patience)) # Sequential\n",
    "        yield env.process(insurance_loan_para.policy(insurance_program, loan_program, entity, money_patience))  # Parallel\n",
    "\n",
    "        # If landlord gives up looking for recovery funds, evict their tenant\n",
    "        if entity.gave_up_funding_search != None:\n",
    "            entity.evict_tenant()\n",
    "            \n",
    "            if entity.write_story:\n",
    "                entity.story.append(\n",
    "                '{0} decided not to repair their {1}. '.format(\n",
    "                entity.name, entity.property.occupancy.lower()\n",
    "                                                                )\n",
    "                                    )\n",
    "            return\n",
    "        \n",
    "        # If has enough recovery funds, repair; if not, evict tenant.\n",
    "        if entity.recovery_funds.level >= entity.property.damage_value:\n",
    "            yield env.process(assessment_program.process(entity.property, entity))\n",
    "            yield env.process(permit_program.process(entity.property, entity))\n",
    "            \n",
    "            # Demolish property if > extensive damage\n",
    "            if entity.property.damage_state == 'Extensive' or entity.property.damage_state == 'Complete':\n",
    "                yield env.process(demolish_program.process(entity.property, entity))\n",
    "            yield env.process(repair_program.process(entity.property, entity))\n",
    "        else:\n",
    "            if entity.tenant.residence != None:\n",
    "                entity.evict_tenant()  "
   ]
  },
  {
   "cell_type": "markdown",
   "metadata": {},
   "source": [
    "__A custom master process for OwnerHouseholds (owner occupiers). Don't do anything if no damage suffered. If residence damage is \"Complete\", abandon home and look to buy a different one. Otherwise look for financial assistance for repairs. If money for repairs can't be found (patience runs out), look for a new home. If home search patience runs out, simply stop.__"
   ]
  },
  {
   "cell_type": "code",
   "execution_count": 17,
   "metadata": {},
   "outputs": [],
   "source": [
    "def owner_process(env, inspection_program, insurance_program, fema_program, loan_program, \n",
    "                 assessment_program, permit_program, demolish_program, rebuild_program, search_stock, entity):\n",
    "    \n",
    "    money_patience = 200000  # days until give up the search for rebuild money\n",
    "    home_patience = 15000  # days until give up the search for a new home\n",
    "    \n",
    "    # Do inspections\n",
    "    yield env.process(inspection_program.process(entity.property, entity))\n",
    "    \n",
    "    # Process damaged properties\n",
    "    if entity.property.damage_state != 'None':\n",
    "        \n",
    "        # Search for financial assistance\n",
    "        yield env.process(insurance_ia_loan_para.policy(insurance_program, fema_program,\n",
    "                                                   loan_program, entity, money_patience))\n",
    "\n",
    "        # If not enough money to repair home or home completely damaged, search for a new home to purchase.\n",
    "        if (entity.recovery_funds.level < entity.property.damage_value or\n",
    "                entity.property.damage_state == 'Complete'):\n",
    "\n",
    "            yield env.process(entity.replace_home(search_stock, scalar_dist, down_payment_pct = 0.10,\n",
    "                                                  search_patience = home_patience))\n",
    "            \n",
    "            if entity.gave_up_home_search == None:\n",
    "                yield env.process(entity.occupy(duration_distribution = scalar_dist))\n",
    "            \n",
    "            return\n",
    "        # Otherwise repair home.       \n",
    "        elif entity.recovery_funds.level >= entity.property.damage_value:\n",
    "            \n",
    "            yield env.process(assessment_program.process(entity.property, entity))\n",
    "            yield env.process(permit_program.process(entity.property, entity))\n",
    "            if entity.property.damage_state == 'Extensive' or entity.property.damage_state == 'Complete':\n",
    "                yield env.process(demolish_program.process(entity.property, entity))\n",
    "            yield env.process(rebuild_program.process(entity.property, entity))    \n",
    "            yield env.process(entity.occupy(duration_distribution = scalar_dist))     "
   ]
  },
  {
   "cell_type": "markdown",
   "metadata": {},
   "source": [
    "__A custom master process for RenterHouseholds. For the most part it simply initiates a process for their landlords. If they are evicted by their landlords, the renter will look for a new home. If home search patience runs out, simply stop. Otherwise, occupy home after landlord repairs it.__"
   ]
  },
  {
   "cell_type": "code",
   "execution_count": 18,
   "metadata": {
    "collapsed": true,
    "nbpresent": {
     "id": "7872bd09-acde-43e0-a022-ab468070e863"
    }
   },
   "outputs": [],
   "source": [
    "def renter_process(env, inspection_program, landlord_insurance, \n",
    "                   landlord_loan, assessment_program, permit_program, demolish_program, rebuild_program, \n",
    "                   search_stock, entity):\n",
    "        \n",
    "    money_patience = 365  # days until give up the search for rebuild money\n",
    "    home_patience = 550  # days until give up the search for a new home\n",
    "    \n",
    "    # Process damaged homes\n",
    "    if entity.residence.damage_state != 'None':\n",
    "        # Process landlord property repairs\n",
    "        yield env.process(landlord_process(env, inspection_program, landlord_insurance, \n",
    "                                landlord_loan, assessment_program, permit_program, demolish_program, \n",
    "                                rebuild_program, entity.landlord))\n",
    "   \n",
    "        # Check to see if renter has a residence, occupy if so.\n",
    "        if entity.residence != None:\n",
    "            yield env.process(entity.occupy(duration_distribution = scalar_dist))\n",
    "        # Otherwise look for a new residence\n",
    "        else:\n",
    "\n",
    "            yield env.process(entity.replace_home(search_stock, scalar_dist, search_patience = home_patience))\n",
    "\n",
    "            if not entity.gave_up_home_search:\n",
    "                    yield env.process(entity.occupy(duration_distribution = scalar_dist))\n",
    "        \n",
    "        # For printing and viz convenience, add the landlord's story to renter's story\n",
    "        entity.story += entity.landlord.story"
   ]
  },
  {
   "cell_type": "markdown",
   "metadata": {},
   "source": [
    "__Initiate the master process for each owner to be modeled in the simulation.__"
   ]
  },
  {
   "cell_type": "code",
   "execution_count": 19,
   "metadata": {
    "collapsed": true
   },
   "outputs": [],
   "source": [
    "#inspect.getfullargspec(owner_process).args # Useful to determine what arguments are required for the process.\n",
    "\n",
    "for i in range(len(owners)):\n",
    "    env.process(owner_process(env, inspection, insurance, fema_ia, sba_home_loan, \n",
    "                                    assessment, permitting, demolition, repair,\n",
    "                                    owned_stock, owners[i]))"
   ]
  },
  {
   "cell_type": "markdown",
   "metadata": {},
   "source": [
    "__Initiate the master process for each renter to be modeled in the simulation.__"
   ]
  },
  {
   "cell_type": "code",
   "execution_count": 20,
   "metadata": {
    "collapsed": true,
    "nbpresent": {
     "id": "ec9beb28-1118-43d1-9993-11d28a0196ef"
    }
   },
   "outputs": [],
   "source": [
    "# # #inspect.getfullargspec(renter_process).args # Useful to determine what arguments are required for the process.\n",
    "\n",
    "for i in range(len(renters)):\n",
    "    env.process(renter_process(env, inspection, insurance, sba_biz_loan, assessment, permitting, \n",
    "                                    demolition, repair, rented_stock, renters[i]))"
   ]
  },
  {
   "cell_type": "markdown",
   "metadata": {},
   "source": [
    "## Run the simulation"
   ]
  },
  {
   "cell_type": "code",
   "execution_count": 21,
   "metadata": {
    "nbpresent": {
     "id": "aeabefd9-8ded-4a8c-a6e3-83f73b64144a"
    },
    "scrolled": true
   },
   "outputs": [],
   "source": [
    "env.run()"
   ]
  },
  {
   "cell_type": "markdown",
   "metadata": {
    "nbpresent": {
     "id": "7ba728c6-b364-4ad6-9073-20a83a0cbe5c"
    }
   },
   "source": [
    "# Summarize and visualize simulation outputs"
   ]
  },
  {
   "cell_type": "markdown",
   "metadata": {
    "nbpresent": {
     "id": "7d4aada5-0d56-481e-b318-6f7a13dcd8a2"
    }
   },
   "source": [
    "## OwnerHousehold summary statistics"
   ]
  },
  {
   "cell_type": "code",
   "execution_count": 22,
   "metadata": {
    "nbpresent": {
     "id": "b3eb9288-806e-4978-b30a-93cb80d880e0"
    }
   },
   "outputs": [
    {
     "name": "stdout",
     "output_type": "stream",
     "text": [
      "8 out of 8 owners suffered damage to their homes.\n",
      " 3 out of 8 owners rebuilt or repaired their damaged home.\n",
      " 0 out of 8 owners gave up searching for money.\n",
      " 1 out of 8 owners searchesd for a new home.\n",
      " 1 out of 8 owners bought a new home.\n",
      " 0 out of 8 owners gave up searching for a home.\n"
     ]
    }
   ],
   "source": [
    "output_summary(owners, 'OwnerHousehold')"
   ]
  },
  {
   "cell_type": "markdown",
   "metadata": {
    "nbpresent": {
     "id": "099821e3-0cad-402e-9da5-fda4bed7663e"
    }
   },
   "source": [
    "## Print OwnerHousehold stories"
   ]
  },
  {
   "cell_type": "code",
   "execution_count": 23,
   "metadata": {
    "nbpresent": {
     "id": "950d3c2e-68b6-4ca2-a2f9-4094469ba2ae"
    },
    "scrolled": false
   },
   "outputs": [
    {
     "data": {
      "text/plain": [
       "['Alfred resides at 62 That St. ',\n",
       " 'Alfred owns and lives in a 1 room mobile home at 62 That St worth $306,900. ',\n",
       " \"Alfred's mobile home was inspected 10 days after the event and suffered $306,900 of damage (complete). \",\n",
       " 'Alfred has no hazard insurance. ',\n",
       " 'Alfred applied for a $200,000 SBA loan 30.0 days after the event.',\n",
       " 'Alfred requested $30,000 from FEMA 30 days after the event. ',\n",
       " 'Alfred received $30,000 from FEMA 30 days after the event. ',\n",
       " \"SBA inspected Alfred's home on day 41.0 after the event. \",\n",
       " 'Alfred received an initial SBA loan disbursement of $25,000 41.0 days after the event. ',\n",
       " 'Alfred received a second SBA loan disbursement of $175,000 51.0 days after the event. ',\n",
       " 'It took Alfred 21 days to exhaust financial assistance options but still does not have enough money to cover repairs ($230,100). ',\n",
       " 'Alfred started searching for a new mobile home 51 days after the event. ',\n",
       " 'On day 61, Alfred purchased a mobile home at 100 New Ave with a value of $300,000. ',\n",
       " 'Alfred occupied the mobile home 71 days after the event. ']"
      ]
     },
     "execution_count": 23,
     "metadata": {},
     "output_type": "execute_result"
    }
   ],
   "source": [
    "owners[0].story"
   ]
  },
  {
   "cell_type": "code",
   "execution_count": 24,
   "metadata": {
    "nbpresent": {
     "id": "11e73bf1-4ef5-484b-81cd-936043f5b800"
    }
   },
   "outputs": [
    {
     "data": {
      "text/plain": [
       "['Bruce resides at 720 This Rd. ',\n",
       " 'Bruce owns and lives in a 4 room single family dwelling at 720 This Rd worth $837,000. ',\n",
       " \"Bruce's single family dwelling was inspected 10 days after the event and suffered $83,700 of damage (moderate). \",\n",
       " 'Bruce submitted an insurance claim 10 days after the event. ',\n",
       " 'Bruce received a $83,700 insurance payout 20 days after the event. ',\n",
       " 'Bruce requested $30,000 from FEMA 30 days after the event. ',\n",
       " 'Bruce withdrew their application to FEMA 30.0 days after the event because enough recovery funds were found from other sources. ',\n",
       " 'It took Bruce 20 days to exhaust financial assistance options and now has $83,800 for repairs. ',\n",
       " 'Bruce received an engineering assessment 40 days after the event. ',\n",
       " 'Bruce received permit approval 50 days after the event. ',\n",
       " \"Bruce's single family dwelling was repaired 52 days after the event. \",\n",
       " 'Bruce occupied the single family dwelling 62 days after the event. ']"
      ]
     },
     "execution_count": 24,
     "metadata": {},
     "output_type": "execute_result"
    }
   ],
   "source": [
    "owners[1].story"
   ]
  },
  {
   "cell_type": "code",
   "execution_count": 25,
   "metadata": {
    "nbpresent": {
     "id": "a653615f-5f7c-4d96-9430-9cde218c3ffc"
    },
    "scrolled": true
   },
   "outputs": [
    {
     "data": {
      "text/plain": [
       "['Selena resides at 1001 Other Ave. ',\n",
       " 'Selena owns and lives in a 2 room single family dwelling at 1001 Other Ave worth $209,250. ',\n",
       " \"Selena's single family dwelling was inspected 10 days after the event and suffered $93,535 of damage (extensive). \",\n",
       " 'Selena has no hazard insurance. ',\n",
       " 'Selena applied for a $63,535 SBA loan 30.0 days after the event.',\n",
       " 'Selena requested $30,000 from FEMA 30 days after the event. ',\n",
       " 'Selena received $30,000 from FEMA 30 days after the event. ',\n",
       " \"SBA inspected Selena's home on day 41.0 after the event. \",\n",
       " 'Selena received an initial SBA loan disbursement of $25,000 41.0 days after the event. ',\n",
       " 'Selena received a second SBA loan disbursement of $38,535 51.0 days after the event. ',\n",
       " 'It took Selena 21 days to exhaust financial assistance options and now has $93,635 for repairs. ',\n",
       " 'Selena received an engineering assessment 61 days after the event. ',\n",
       " 'Selena received permit approval 71 days after the event. ',\n",
       " \"Selena's single family dwelling was demolished 81 days after the event. \",\n",
       " \"Selena's single family dwelling was repaired 261 days after the event. \",\n",
       " 'Selena occupied the single family dwelling 271 days after the event. ']"
      ]
     },
     "execution_count": 25,
     "metadata": {},
     "output_type": "execute_result"
    }
   ],
   "source": [
    "owners[2].story"
   ]
  },
  {
   "cell_type": "code",
   "execution_count": 26,
   "metadata": {
    "nbpresent": {
     "id": "e45edacc-0055-418a-a65b-d06361b78f36"
    },
    "scrolled": false
   },
   "outputs": [
    {
     "data": {
      "text/plain": [
       "['Fish resides at 26000 Out There Lane. ',\n",
       " 'Fish owns and lives in a 3 room single family dwelling at 26000 Out There Lane worth $558,000. ',\n",
       " \"Fish's single family dwelling was inspected 10 days after the event and suffered $11,160 of damage (slight). \",\n",
       " 'Fish has no hazard insurance. ',\n",
       " 'Fish requested $11,160 from FEMA 30 days after the event. ',\n",
       " 'Fish received $11,160 from FEMA 30 days after the event. ',\n",
       " 'It took Fish 0 days to exhaust financial assistance options and now has $11,260 for repairs. ',\n",
       " 'Fish received an engineering assessment 40 days after the event. ',\n",
       " 'Fish received permit approval 50 days after the event. ',\n",
       " \"Fish's single family dwelling was repaired 52 days after the event. \",\n",
       " 'Fish occupied the single family dwelling 62 days after the event. ']"
      ]
     },
     "execution_count": 26,
     "metadata": {},
     "output_type": "execute_result"
    }
   ],
   "source": [
    "owners[3].story"
   ]
  },
  {
   "cell_type": "markdown",
   "metadata": {
    "nbpresent": {
     "id": "17baf8a7-1023-4c2d-b6f2-5687736b081c"
    }
   },
   "source": [
    "## RenterHousehold summary statistics"
   ]
  },
  {
   "cell_type": "code",
   "execution_count": 27,
   "metadata": {
    "nbpresent": {
     "id": "c98b8cee-da7d-435b-88a8-ecef564957cb"
    }
   },
   "outputs": [
    {
     "name": "stdout",
     "output_type": "stream",
     "text": [
      "8 out of 8 renters' homes suffered damage.\n",
      " 4 out of 8 renters' damaged home was rebuilt or repaired.\n",
      " 4 out of 8 renters' were displaced.\n",
      " 0 landlords gave up searching for repair money.\n"
     ]
    }
   ],
   "source": [
    "output_summary(renters, 'RenterHousehold')"
   ]
  },
  {
   "cell_type": "markdown",
   "metadata": {
    "nbpresent": {
     "id": "04f9c8c8-adbb-4a0f-8a72-a6ed5bfccf91"
    }
   },
   "source": [
    "## Print RenterHousehold stories"
   ]
  },
  {
   "cell_type": "code",
   "execution_count": 28,
   "metadata": {
    "nbpresent": {
     "id": "89bd7c5b-ec66-46bd-88cc-afbd144319ab"
    },
    "scrolled": true
   },
   "outputs": [
    {
     "data": {
      "text/plain": [
       "['Ivy resides at 262 That St. ',\n",
       " 'Ivy rents and lives in a 1 room mobile home at 262 That St. ',\n",
       " 'Ivy occupied the mobile home 42 days after the event. ',\n",
       " 'Alice rents out a 1 bedroom mobile home at 262 That St worth $279,000. ',\n",
       " \"Alice's mobile home was inspected 10 days after the event and suffered $27,900 of damage (moderate). \",\n",
       " 'Alice already had enough money to repair ($30,000) and did not seek assistance. ',\n",
       " 'Alice received an engineering assessment 20 days after the event. ',\n",
       " 'Alice received permit approval 30 days after the event. ',\n",
       " \"Alice's mobile home was repaired 32 days after the event. \"]"
      ]
     },
     "execution_count": 28,
     "metadata": {},
     "output_type": "execute_result"
    }
   ],
   "source": [
    "renters[0].story"
   ]
  },
  {
   "cell_type": "code",
   "execution_count": 29,
   "metadata": {
    "nbpresent": {
     "id": "eb7be125-07cc-4997-bc00-ec9562fd57b3"
    }
   },
   "outputs": [
    {
     "data": {
      "text/plain": [
       "['Edward resides at 4720 This Rd. ',\n",
       " 'Edward rents and lives in a 3 room single family dwelling at 4720 This Rd. ',\n",
       " 'Edward occupied the single family dwelling 42 days after the event. ',\n",
       " 'Julie rents out a 3 bedroom single family dwelling at 4720 This Rd worth $418,500. ',\n",
       " \"Julie's single family dwelling was inspected 10 days after the event and suffered $8,370 of damage (slight). \",\n",
       " 'Julie already had enough money to repair ($30,000) and did not seek assistance. ',\n",
       " 'Julie received an engineering assessment 20 days after the event. ',\n",
       " 'Julie received permit approval 30 days after the event. ',\n",
       " \"Julie's single family dwelling was repaired 32 days after the event. \"]"
      ]
     },
     "execution_count": 29,
     "metadata": {},
     "output_type": "execute_result"
    }
   ],
   "source": [
    "renters[1].story"
   ]
  },
  {
   "cell_type": "code",
   "execution_count": 30,
   "metadata": {},
   "outputs": [
    {
     "data": {
      "text/plain": [
       "['Oswald resides at 2301 Other Ave. ',\n",
       " 'Oswald rents and lives in a 0 room single family dwelling at 2301 Other Ave. ',\n",
       " 'Oswald was evicted because the single family dwelling had extensive damage. ',\n",
       " 'Oswald started searching for a new single family dwelling 240 days after the event. ',\n",
       " 'On day 790, after a 550 day search, Oswald gave up looking for a new home in the local area. ',\n",
       " 'Gerry rents out a 0 bedroom single family dwelling at 2301 Other Ave worth $139,500. ',\n",
       " \"Gerry's single family dwelling was inspected 10 days after the event and suffered $62,356 of damage (extensive). \",\n",
       " 'Gerry submitted an insurance claim 10 days after the event. ',\n",
       " 'Gerry received a $62,356 insurance payout 20 days after the event. ',\n",
       " 'It took Gerry 20 days to exhaust financial assistance options and now has $92,356 for repairs. ',\n",
       " 'Gerry received an engineering assessment 40 days after the event. ',\n",
       " 'Gerry received permit approval 50 days after the event. ',\n",
       " \"Gerry's single family dwelling was demolished 60 days after the event. \",\n",
       " \"Gerry's single family dwelling was repaired 240 days after the event. \"]"
      ]
     },
     "execution_count": 30,
     "metadata": {},
     "output_type": "execute_result"
    }
   ],
   "source": [
    "renters[2].story"
   ]
  },
  {
   "cell_type": "code",
   "execution_count": 31,
   "metadata": {},
   "outputs": [
    {
     "data": {
      "text/plain": [
       "['James resides at 74000 Out There Lane. ',\n",
       " 'James rents and lives in a 2 room single family dwelling at 74000 Out There Lane. ',\n",
       " 'James was evicted because the single family dwelling had complete damage. ',\n",
       " 'James started searching for a new single family dwelling 240 days after the event. ',\n",
       " 'On day 790, after a 550 day search, James gave up looking for a new home in the local area. ',\n",
       " 'Sally rents out a 2 bedroom single family dwelling at 74000 Out There Lane worth $558,000. ',\n",
       " \"Sally's single family dwelling was inspected 10 days after the event and suffered $558,000 of damage (complete). \",\n",
       " 'Sally submitted an insurance claim 10 days after the event. ',\n",
       " 'Sally received a $558,000 insurance payout 20 days after the event. ',\n",
       " 'It took Sally 20 days to exhaust financial assistance options and now has $588,000 for repairs. ',\n",
       " 'Sally received an engineering assessment 40 days after the event. ',\n",
       " 'Sally received permit approval 50 days after the event. ',\n",
       " \"Sally's single family dwelling was demolished 60 days after the event. \",\n",
       " \"Sally's single family dwelling was repaired 240 days after the event. \"]"
      ]
     },
     "execution_count": 31,
     "metadata": {},
     "output_type": "execute_result"
    }
   ],
   "source": [
    "renters[3].story"
   ]
  },
  {
   "cell_type": "code",
   "execution_count": 33,
   "metadata": {},
   "outputs": [],
   "source": [
    "df = households_to_df(owners)\n",
    "\n",
    "outfile = '../outputs/' + str(datetime.now().hour) + str(datetime.now().minute) + str(datetime.now().day) \\\n",
    "                 + str(datetime.now().month) + str(datetime.now().year) + '.csv'\n",
    "\n",
    "# df.to_csv(outfile)"
   ]
  },
  {
   "cell_type": "code",
   "execution_count": 34,
   "metadata": {},
   "outputs": [
    {
     "data": {
      "text/html": [
       "<div>\n",
       "<table border=\"1\" class=\"dataframe\">\n",
       "  <thead>\n",
       "    <tr style=\"text-align: right;\">\n",
       "      <th></th>\n",
       "      <th>address</th>\n",
       "      <th>area</th>\n",
       "      <th>assessment</th>\n",
       "      <th>assessment_get</th>\n",
       "      <th>assessment_put</th>\n",
       "      <th>assistance_payout</th>\n",
       "      <th>bathrooms</th>\n",
       "      <th>bedrooms</th>\n",
       "      <th>claim_amount</th>\n",
       "      <th>claim_get</th>\n",
       "      <th>...</th>\n",
       "      <th>repair_put</th>\n",
       "      <th>residence</th>\n",
       "      <th>savings</th>\n",
       "      <th>sba_amount</th>\n",
       "      <th>sba_get</th>\n",
       "      <th>sba_put</th>\n",
       "      <th>stock</th>\n",
       "      <th>story</th>\n",
       "      <th>value</th>\n",
       "      <th>write_story</th>\n",
       "    </tr>\n",
       "  </thead>\n",
       "  <tbody>\n",
       "    <tr>\n",
       "      <th>0</th>\n",
       "      <td>62 That St</td>\n",
       "      <td>1100.0</td>\n",
       "      <td>False</td>\n",
       "      <td>None</td>\n",
       "      <td>None</td>\n",
       "      <td>0.0</td>\n",
       "      <td>1.0</td>\n",
       "      <td>1.0</td>\n",
       "      <td>0.0</td>\n",
       "      <td>None</td>\n",
       "      <td>...</td>\n",
       "      <td>None</td>\n",
       "      <td>NaN</td>\n",
       "      <td>100.0</td>\n",
       "      <td>200000.00</td>\n",
       "      <td>51</td>\n",
       "      <td>30</td>\n",
       "      <td>NaN</td>\n",
       "      <td>Alfred resides at 62 That St. Alfred owns and ...</td>\n",
       "      <td>306900.0</td>\n",
       "      <td>True</td>\n",
       "    </tr>\n",
       "    <tr>\n",
       "      <th>1</th>\n",
       "      <td>720 This Rd</td>\n",
       "      <td>3000.0</td>\n",
       "      <td>True</td>\n",
       "      <td>40</td>\n",
       "      <td>30</td>\n",
       "      <td>0.0</td>\n",
       "      <td>3.0</td>\n",
       "      <td>4.0</td>\n",
       "      <td>83700.0</td>\n",
       "      <td>20</td>\n",
       "      <td>...</td>\n",
       "      <td>50</td>\n",
       "      <td>NaN</td>\n",
       "      <td>100.0</td>\n",
       "      <td>0.00</td>\n",
       "      <td>None</td>\n",
       "      <td>30</td>\n",
       "      <td>NaN</td>\n",
       "      <td>Bruce resides at 720 This Rd. Bruce owns and l...</td>\n",
       "      <td>837000.0</td>\n",
       "      <td>True</td>\n",
       "    </tr>\n",
       "    <tr>\n",
       "      <th>2</th>\n",
       "      <td>1001 Other Ave</td>\n",
       "      <td>750.0</td>\n",
       "      <td>True</td>\n",
       "      <td>61</td>\n",
       "      <td>51</td>\n",
       "      <td>0.0</td>\n",
       "      <td>1.0</td>\n",
       "      <td>2.0</td>\n",
       "      <td>0.0</td>\n",
       "      <td>None</td>\n",
       "      <td>...</td>\n",
       "      <td>81</td>\n",
       "      <td>NaN</td>\n",
       "      <td>100.0</td>\n",
       "      <td>63534.75</td>\n",
       "      <td>51</td>\n",
       "      <td>30</td>\n",
       "      <td>NaN</td>\n",
       "      <td>Selena resides at 1001 Other Ave. Selena owns ...</td>\n",
       "      <td>209250.0</td>\n",
       "      <td>True</td>\n",
       "    </tr>\n",
       "  </tbody>\n",
       "</table>\n",
       "<p>3 rows × 58 columns</p>\n",
       "</div>"
      ],
      "text/plain": [
       "          address    area assessment assessment_get assessment_put  \\\n",
       "0      62 That St  1100.0      False           None           None   \n",
       "1     720 This Rd  3000.0       True             40             30   \n",
       "2  1001 Other Ave   750.0       True             61             51   \n",
       "\n",
       "   assistance_payout  bathrooms  bedrooms  claim_amount claim_get  \\\n",
       "0                0.0        1.0       1.0           0.0      None   \n",
       "1                0.0        3.0       4.0       83700.0        20   \n",
       "2                0.0        1.0       2.0           0.0      None   \n",
       "\n",
       "      ...      repair_put  residence savings sba_amount  sba_get  sba_put  \\\n",
       "0     ...            None        NaN   100.0  200000.00       51       30   \n",
       "1     ...              50        NaN   100.0       0.00     None       30   \n",
       "2     ...              81        NaN   100.0   63534.75       51       30   \n",
       "\n",
       "  stock                                              story     value  \\\n",
       "0   NaN  Alfred resides at 62 That St. Alfred owns and ...  306900.0   \n",
       "1   NaN  Bruce resides at 720 This Rd. Bruce owns and l...  837000.0   \n",
       "2   NaN  Selena resides at 1001 Other Ave. Selena owns ...  209250.0   \n",
       "\n",
       "   write_story  \n",
       "0         True  \n",
       "1         True  \n",
       "2         True  \n",
       "\n",
       "[3 rows x 58 columns]"
      ]
     },
     "execution_count": 34,
     "metadata": {},
     "output_type": "execute_result"
    }
   ],
   "source": [
    "df.head(3)"
   ]
  },
  {
   "cell_type": "code",
   "execution_count": 35,
   "metadata": {
    "collapsed": true
   },
   "outputs": [],
   "source": [
    "event_list=[]\n",
    "\n",
    "\n",
    "for i in df.columns:\n",
    "    if \"get\" in i or \"put\" in i or \"stop\" in i or \"start\" in i or \"name\" in i or \"gave\" in i:\n",
    "        event_list.append(i)\n",
    "\n",
    "event_df = df[event_list]\n",
    "event_df = event_df.set_index('name')"
   ]
  },
  {
   "cell_type": "markdown",
   "metadata": {},
   "source": [
    "__Visualize events experienced by an individual entity.__"
   ]
  },
  {
   "cell_type": "code",
   "execution_count": 36,
   "metadata": {},
   "outputs": [
    {
     "name": "stderr",
     "output_type": "stream",
     "text": [
      "Widget Javascript not detected.  It may not be installed or enabled properly.\n"
     ]
    },
    {
     "data": {
      "application/vnd.jupyter.widget-view+json": {
       "model_id": "191a34a302854d68bf0a4d9912966a9c"
      }
     },
     "metadata": {},
     "output_type": "display_data"
    }
   ],
   "source": [
    "names = sorted([f for f in df['name']])\n",
    "\n",
    "name_chooser = Dropdown(\n",
    "    options=names\n",
    ")\n",
    "display(name_chooser)\n",
    "\n"
   ]
  },
  {
   "cell_type": "code",
   "execution_count": 37,
   "metadata": {},
   "outputs": [
    {
     "data": {
      "text/plain": [
       "[<matplotlib.text.Text at 0x111d79ba8>, <matplotlib.text.Text at 0x111d283c8>]"
      ]
     },
     "execution_count": 37,
     "metadata": {},
     "output_type": "execute_result"
    },
    {
     "data": {
      "image/png": "[encoded data removed]",
      "text/plain": [
       "<matplotlib.figure.Figure at 0x1072f74a8>"
      ]
     },
     "metadata": {},
     "output_type": "display_data"
    }
   ],
   "source": [
    "name = name_chooser.value\n",
    "\n",
    "name_row = df[df['name']==name][['inspection_put',\n",
    " 'inspection_get',\n",
    " 'fema_put',\n",
    " 'fema_get',\n",
    " 'assessment_put',\n",
    " 'assessment_get',\n",
    " 'permit_put',\n",
    " 'permit_get',\n",
    "'occupy_put',\n",
    "'occupy_get',\n",
    " 'home_put',\n",
    " 'home_get']]\n",
    "\n",
    "%matplotlib inline\n",
    "plt.figure(figsize=(10,10))\n",
    "sns.set_style(style=\"whitegrid\")\n",
    "sns.set(font_scale=2)\n",
    "ax = sns.stripplot(name_row.iloc[0], name_row.columns, jitter=True, size = 15, linewidth=1)\n",
    "ax.set(xlabel=\"Days After Event\", ylabel=\"Housing Recovery Events for {0}\".format(name))"
   ]
  },
  {
   "cell_type": "markdown",
   "metadata": {},
   "source": [
    "Map of outputs"
   ]
  },
  {
   "cell_type": "code",
   "execution_count": 38,
   "metadata": {},
   "outputs": [
    {
     "data": {
      "text/html": [
       "<div style=\"width:100%;\"><div style=\"position:relative;width:100%;height:0;padding-bottom:60%;\"><iframe src=\"data:text/html;charset=utf-8;base64,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\" style=\"position:absolute;width:100%;height:100%;left:0;top:0;border:none !important;\" allowfullscreen webkitallowfullscreen mozallowfullscreen></iframe></div></div>"
      ],
      "text/plain": [
       "<folium.folium.Map at 0x11536b438>"
      ]
     },
     "execution_count": 38,
     "metadata": {},
     "output_type": "execute_result"
    }
   ],
   "source": [
    "map = folium.Map(location=(43.223628, -90.294633), tiles='Stamen Terrain', zoom_start=18)\n",
    "\n",
    "folium.TileLayer('Stamen Terrain').add_to(map)\n",
    "folium.TileLayer('OpenStreetMap').add_to(map)\n",
    "\n",
    "complete_group = FeatureGroup(name='Complete Damage')\n",
    "extensive_group = FeatureGroup(name='Extensive Damage')\n",
    "moderate_group = FeatureGroup(name='Moderate Damage')\n",
    "slight_group = FeatureGroup(name='Slight Damage')\n",
    "none_group = FeatureGroup(name='No Damage')\n",
    "\n",
    "for i in df.iterrows():\n",
    "\n",
    "    if i[1].damage_state_start == 'Complete':\n",
    "        try:\n",
    "            folium.Marker(location = [i[1].latitude, i[1].longitude],\n",
    "                          popup=i[1].story, icon=folium.Icon(\"darkred\", icon='home')).add_to(complete_group)\n",
    "        except AttributeError:\n",
    "            folium.Marker(location = [i[1].latitude, i[1].longitude],\n",
    "                          icon=folium.Icon(\"darkred\", icon='home')).add_to(complete_group)\n",
    "    elif i[1].damage_state_start == 'Extensive':\n",
    "        try:\n",
    "            folium.Marker(location = [i[1].latitude, i[1].longitude],\n",
    "                          popup=i[1].story, icon=folium.Icon(\"red\", icon='home')).add_to(extensive_group)\n",
    "        except AttributeError:\n",
    "            folium.Marker(location = [i[1].latitude, i[1].longitude],\n",
    "                          icon=folium.Icon(\"red\", icon='home')).add_to(extensive_group)\n",
    "    elif i[1].damage_state_start == 'Moderate':\n",
    "        try:\n",
    "            folium.Marker(location = [i[1].latitude, i[1].longitude],\n",
    "                          popup=i[1].story, icon=folium.Icon(\"orange\", icon='home')).add_to(moderate_group)\n",
    "        except AttributeError:\n",
    "            folium.Marker(location = [i[1].latitude, i[1].longitude],\n",
    "                          icon=folium.Icon(\"orange\", icon='home')).add_to(moderate_group)\n",
    "    elif i[1].damage_state_start == 'Slight':\n",
    "        try:\n",
    "            folium.Marker(location = [i[1].latitude, i[1].longitude],\n",
    "                          popup=i[1].story, icon=folium.Icon(\"lightgreen\", icon='home')).add_to(slight_group)\n",
    "        except AttributeError:\n",
    "            folium.Marker(location = [i[1].latitude, i[1].longitude],\n",
    "                          icon=folium.Icon(\"lightgreen\", icon='home')).add_to(slight_group)\n",
    "    else:\n",
    "        try:\n",
    "            folium.Marker(location = [i[1].latitude, i[1].longitude],\n",
    "                          popup=i[1].story, icon=folium.Icon(\"green\", icon='home')).add_to(none_group)\n",
    "        except AttributeError:\n",
    "            folium.Marker(location = [i[1].latitude, i[1].longitude],\n",
    "                          icon=folium.Icon(\"green\", icon='home')).add_to(none_group)\n",
    "\n",
    "\n",
    "map.add_child(complete_group)\n",
    "map.add_child(extensive_group)\n",
    "map.add_child(moderate_group)\n",
    "map.add_child(slight_group)\n",
    "map.add_child(none_group)\n",
    "map.add_child(folium.map.LayerControl())\n",
    "map.add_child(plugins.Fullscreen())\n",
    "\n",
    "map"
   ]
  },
  {
   "cell_type": "markdown",
   "metadata": {},
   "source": [
    "Plots of outputs"
   ]
  },
  {
   "cell_type": "code",
   "execution_count": 39,
   "metadata": {},
   "outputs": [
    {
     "data": {
      "image/png": "[encoded data removed]",
      "text/plain": [
       "<matplotlib.figure.Figure at 0x115342d68>"
      ]
     },
     "metadata": {},
     "output_type": "display_data"
    }
   ],
   "source": [
    "f, ax = plt.subplots(1, figsize=(16, 6))\n",
    "df[\"home_get\"].plot(kind='hist', bins=10, title='Number of Homes Repaired Over Time', figsize=(10,6), fontsize=14)\n",
    "plt.xlabel('Days After Earthquake', fontsize=16)\n",
    "plt.ylabel('Count', fontsize=16)\n",
    "\n",
    "for container in ax.containers:\n",
    "              plt.setp(container, width=1)        "
   ]
  },
  {
   "cell_type": "code",
   "execution_count": 40,
   "metadata": {},
   "outputs": [
    {
     "data": {
      "image/png": "[encoded data removed]",
      "text/plain": [
       "<matplotlib.figure.Figure at 0x115342f28>"
      ]
     },
     "metadata": {},
     "output_type": "display_data"
    }
   ],
   "source": [
    "f, ax = plt.subplots(1, figsize=(16, 6))\n",
    "sns.boxplot(data=df[['inspection_get', 'claim_get', 'fema_get', 'sba_get', \n",
    "                      'assessment_get', 'permit_get', 'home_get']], ax=ax)\n",
    "plt.xlabel('Event', fontsize=16)\n",
    "plt.ylabel('Event Duration (Days)', fontsize=16)\n",
    "plt.xticks(fontsize=12)\n",
    "plt.title('Time Distributions For Housing Recovey Simulation Events')\n",
    "\n",
    "ax.tick_params(labelsize=16)"
   ]
  },
  {
   "cell_type": "code",
   "execution_count": 41,
   "metadata": {
    "collapsed": true,
    "scrolled": false
   },
   "outputs": [],
   "source": [
    "# f, ax = plt.subplots(1, figsize=(16, 6))\n",
    "\n",
    "# order = ['None', 'Slight', 'Moderate','Extensive','Complete']\n",
    "\n",
    "# df_damage_state = df[['home_get', 'damage_state_start']].groupby('damage_state_start')\n",
    "\n",
    "# df_damage_state_mean = df_damage_state.mean().ix[order]\n",
    "\n",
    "# df_damage_state_mean.plot(kind='bar', rot=0, legend=False, ax=ax)\n",
    "\n",
    "# plt.xlabel('Damage State', fontsize=16)\n",
    "# plt.ylabel('Days After Earthquake', fontsize=16)\n",
    "# plt.xticks(fontsize=12)\n",
    "# plt.title('Mean Time To Repair Home vs. Damage State')\n",
    "\n",
    "# ax.tick_params(labelsize=16)"
   ]
  }
 ],
 "metadata": {
  "anaconda-cloud": {},
  "kernelspec": {
   "display_name": "Python [default]",
   "language": "python",
   "name": "python3"
  },
  "language_info": {
   "codemirror_mode": {
    "name": "ipython",
    "version": 3
   },
   "file_extension": ".py",
   "mimetype": "text/x-python",
   "name": "python",
   "nbconvert_exporter": "python",
   "pygments_lexer": "ipython3",
   "version": "3.5.2"
  },
  "nbpresent": {
   "slides": {
    "c70bf630-c1ab-4568-8b60-1be60a4c6f14": {
     "id": "c70bf630-c1ab-4568-8b60-1be60a4c6f14",
     "layout": "grid",
     "prev": null,
     "regions": {
      "4937cfd3-95ef-472b-8bcb-0fe395034eeb": {
       "attrs": {
        "height": 0.75,
        "pad": 0.01,
        "treemap:weight": 1,
        "width": 0.3333333333333333,
        "x": 0.6666666666666666,
        "y": 0
       },
       "id": "4937cfd3-95ef-472b-8bcb-0fe395034eeb"
      },
      "5fbef4a8-e9f1-4a08-86db-46056e211b66": {
       "attrs": {
        "height": 0.75,
        "pad": 0.01,
        "treemap:weight": 1,
        "width": 0.3333333333333333,
        "x": 0.3333333333333333,
        "y": 0
       },
       "id": "5fbef4a8-e9f1-4a08-86db-46056e211b66"
      },
      "7ee15621-2c2c-44b3-b170-4eb63bd818cc": {
       "attrs": {
        "height": 0.25,
        "pad": 0.01,
        "treemap:weight": 1,
        "width": 1,
        "x": 0,
        "y": 0.75
       },
       "id": "7ee15621-2c2c-44b3-b170-4eb63bd818cc"
      },
      "fc201ce3-4473-4f2f-b833-b627be3edf18": {
       "attrs": {
        "height": 0.75,
        "pad": 0.01,
        "treemap:weight": 1,
        "width": 0.3333333333333333,
        "x": 0,
        "y": 0
       },
       "content": {
        "cell": "daf47265-2d0b-406e-bda0-4d5c93d295ab",
        "part": "source"
       },
       "id": "fc201ce3-4473-4f2f-b833-b627be3edf18"
      }
     }
    }
   },
   "themes": {}
  }
 },
 "nbformat": 4,
 "nbformat_minor": 1
}
