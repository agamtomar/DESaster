{
 "cells": [
  {
   "cell_type": "markdown",
   "metadata": {
    "nbpresent": {
     "id": "5d6821e5-6824-4330-a555-39b1dc08357a"
    }
   },
   "source": [
    "# DESaster Application Template\n",
    "v. 050917\n",
    "\n",
    "Features include Owner, Renter, Landlord, FinancialRecoveryProgram, TechnicalRecoveryProgram, Policies"
   ]
  },
  {
   "cell_type": "markdown",
   "metadata": {
    "nbpresent": {
     "id": "1d3465f4-2fbf-4582-92e9-7c48d9cf82e6"
    }
   },
   "source": [
    "## Required Modules"
   ]
  },
  {
   "cell_type": "code",
   "execution_count": 1,
   "metadata": {
    "nbpresent": {
     "id": "efe0367b-ecea-4f68-8747-3507afa0a7e4"
    }
   },
   "outputs": [],
   "source": [
    "### External Modules\n",
    "import sys, random, inspect\n",
    "desaster_path = \"/Users/geomando/Dropbox/github/DESaster\"\n",
    "sys.path.append(desaster_path)\n",
    "import simpy\n",
    "from simpy import Resource, Container, FilterStore\n",
    "from simpy.util import start_delayed\n",
    "import pandas as pd\n",
    "import numpy as np\n",
    "from scipy.stats import uniform, beta\n",
    "import seaborn as sns\n",
    "import matplotlib.pyplot as plt\n",
    "import random\n",
    "\n",
    "### DESaster Modules\n",
    "from desaster.io import *\n",
    "from desaster.structures import *\n",
    "from desaster.financial import *\n",
    "from desaster.technical import *\n",
    "from desaster.entities import *\n",
    "from desaster.policies import *\n",
    "from desaster.distributions import *\n"
   ]
  },
  {
   "cell_type": "markdown",
   "metadata": {},
   "source": [
    "# %%%%Finish writing writeX functions, starting with LoanSBA() %%%"
   ]
  },
  {
   "cell_type": "markdown",
   "metadata": {},
   "source": [
    "## For technical recovery programs do a get and put of the property in the bldg stock FilterStore"
   ]
  },
  {
   "cell_type": "markdown",
   "metadata": {
    "nbpresent": {
     "id": "cccae357-be1e-4cdd-b6da-33bc39eb27c2"
    }
   },
   "source": [
    "## Input Data\n",
    "Input data must be MS Excel .xlsx file with format (column names and sheet names) of ../inputs/desaster_input_data_template.xlsx"
   ]
  },
  {
   "cell_type": "code",
   "execution_count": 2,
   "metadata": {
    "collapsed": true,
    "nbpresent": {
     "id": "f5ad9903-feef-4cc1-865e-2632556532d1"
    }
   },
   "outputs": [],
   "source": [
    "scenario_file = '../inputs/desaster_input_data_template.xlsx'"
   ]
  },
  {
   "cell_type": "markdown",
   "metadata": {},
   "source": [
    "__Create Pandas dataframe of attribute data for all owners to be modeled in the simulation.__"
   ]
  },
  {
   "cell_type": "code",
   "execution_count": 3,
   "metadata": {
    "nbpresent": {
     "id": "77a6f2a4-6ea6-484d-9de2-eba265cd3ce1"
    }
   },
   "outputs": [
    {
     "data": {
      "text/html": [
       "<div>\n",
       "<table border=\"1\" class=\"dataframe\">\n",
       "  <thead>\n",
       "    <tr style=\"text-align: right;\">\n",
       "      <th></th>\n",
       "      <th>Name</th>\n",
       "      <th>Owner Savings</th>\n",
       "      <th>Owner Insurance</th>\n",
       "      <th>Address</th>\n",
       "      <th>Cost</th>\n",
       "      <th>Occupancy</th>\n",
       "      <th>Bedrooms</th>\n",
       "      <th>Bathrooms</th>\n",
       "      <th>Area</th>\n",
       "      <th>Year Built</th>\n",
       "      <th>Value</th>\n",
       "      <th>Damage State</th>\n",
       "      <th>Listed</th>\n",
       "      <th>Longitude</th>\n",
       "      <th>Latitude</th>\n",
       "      <th>Owner Credit</th>\n",
       "    </tr>\n",
       "  </thead>\n",
       "  <tbody>\n",
       "    <tr>\n",
       "      <th>0</th>\n",
       "      <td>Alfred</td>\n",
       "      <td>0</td>\n",
       "      <td>0</td>\n",
       "      <td>62 That St</td>\n",
       "      <td>1000</td>\n",
       "      <td>Mobile Home</td>\n",
       "      <td>1</td>\n",
       "      <td>1</td>\n",
       "      <td>1100</td>\n",
       "      <td>1920</td>\n",
       "      <td>100000</td>\n",
       "      <td>Slight</td>\n",
       "      <td>False</td>\n",
       "      <td>0</td>\n",
       "      <td>0</td>\n",
       "      <td>700</td>\n",
       "    </tr>\n",
       "    <tr>\n",
       "      <th>1</th>\n",
       "      <td>Bruce</td>\n",
       "      <td>0</td>\n",
       "      <td>0</td>\n",
       "      <td>720 This Rd</td>\n",
       "      <td>4000</td>\n",
       "      <td>Single Family Dwelling</td>\n",
       "      <td>4</td>\n",
       "      <td>5</td>\n",
       "      <td>5000</td>\n",
       "      <td>1920</td>\n",
       "      <td>10000000</td>\n",
       "      <td>Slight</td>\n",
       "      <td>False</td>\n",
       "      <td>0</td>\n",
       "      <td>0</td>\n",
       "      <td>700</td>\n",
       "    </tr>\n",
       "    <tr>\n",
       "      <th>2</th>\n",
       "      <td>Selena</td>\n",
       "      <td>0</td>\n",
       "      <td>0</td>\n",
       "      <td>1001 Other Ave</td>\n",
       "      <td>1000</td>\n",
       "      <td>Single Family Dwelling</td>\n",
       "      <td>2</td>\n",
       "      <td>1</td>\n",
       "      <td>1200</td>\n",
       "      <td>1960</td>\n",
       "      <td>10000</td>\n",
       "      <td>Slight</td>\n",
       "      <td>False</td>\n",
       "      <td>0</td>\n",
       "      <td>0</td>\n",
       "      <td>700</td>\n",
       "    </tr>\n",
       "    <tr>\n",
       "      <th>3</th>\n",
       "      <td>Fish</td>\n",
       "      <td>0</td>\n",
       "      <td>0</td>\n",
       "      <td>26000 Out There Lane</td>\n",
       "      <td>2000</td>\n",
       "      <td>Single Family Dwelling</td>\n",
       "      <td>3</td>\n",
       "      <td>2</td>\n",
       "      <td>2000</td>\n",
       "      <td>2010</td>\n",
       "      <td>800000</td>\n",
       "      <td>Slight</td>\n",
       "      <td>False</td>\n",
       "      <td>0</td>\n",
       "      <td>0</td>\n",
       "      <td>700</td>\n",
       "    </tr>\n",
       "    <tr>\n",
       "      <th>4</th>\n",
       "      <td>Jerome</td>\n",
       "      <td>100000000</td>\n",
       "      <td>0</td>\n",
       "      <td>100 New Ave</td>\n",
       "      <td>1000</td>\n",
       "      <td>Mobile Home</td>\n",
       "      <td>1</td>\n",
       "      <td>1</td>\n",
       "      <td>1100</td>\n",
       "      <td>1920</td>\n",
       "      <td>100000</td>\n",
       "      <td>Slight</td>\n",
       "      <td>True</td>\n",
       "      <td>0</td>\n",
       "      <td>0</td>\n",
       "      <td>700</td>\n",
       "    </tr>\n",
       "    <tr>\n",
       "      <th>5</th>\n",
       "      <td>Barbara</td>\n",
       "      <td>100000000</td>\n",
       "      <td>0</td>\n",
       "      <td>101 New Ave</td>\n",
       "      <td>4000</td>\n",
       "      <td>Single Family Dwelling</td>\n",
       "      <td>4</td>\n",
       "      <td>5</td>\n",
       "      <td>5000</td>\n",
       "      <td>1920</td>\n",
       "      <td>10000000</td>\n",
       "      <td>Slight</td>\n",
       "      <td>True</td>\n",
       "      <td>0</td>\n",
       "      <td>0</td>\n",
       "      <td>700</td>\n",
       "    </tr>\n",
       "    <tr>\n",
       "      <th>6</th>\n",
       "      <td>Lucius</td>\n",
       "      <td>100000000</td>\n",
       "      <td>0</td>\n",
       "      <td>102 New Ave</td>\n",
       "      <td>1000</td>\n",
       "      <td>Single Family Dwelling</td>\n",
       "      <td>2</td>\n",
       "      <td>1</td>\n",
       "      <td>1200</td>\n",
       "      <td>1960</td>\n",
       "      <td>10000</td>\n",
       "      <td>Slight</td>\n",
       "      <td>True</td>\n",
       "      <td>0</td>\n",
       "      <td>0</td>\n",
       "      <td>700</td>\n",
       "    </tr>\n",
       "    <tr>\n",
       "      <th>7</th>\n",
       "      <td>Dick</td>\n",
       "      <td>100000000</td>\n",
       "      <td>0</td>\n",
       "      <td>103 New Ave</td>\n",
       "      <td>2000</td>\n",
       "      <td>Single Family Dwelling</td>\n",
       "      <td>3</td>\n",
       "      <td>2</td>\n",
       "      <td>2000</td>\n",
       "      <td>2010</td>\n",
       "      <td>700000</td>\n",
       "      <td>Slight</td>\n",
       "      <td>True</td>\n",
       "      <td>0</td>\n",
       "      <td>0</td>\n",
       "      <td>700</td>\n",
       "    </tr>\n",
       "  </tbody>\n",
       "</table>\n",
       "</div>"
      ],
      "text/plain": [
       "      Name  Owner Savings  Owner Insurance               Address  Cost  \\\n",
       "0   Alfred              0                0            62 That St  1000   \n",
       "1    Bruce              0                0           720 This Rd  4000   \n",
       "2   Selena              0                0        1001 Other Ave  1000   \n",
       "3     Fish              0                0  26000 Out There Lane  2000   \n",
       "4   Jerome      100000000                0           100 New Ave  1000   \n",
       "5  Barbara      100000000                0           101 New Ave  4000   \n",
       "6   Lucius      100000000                0           102 New Ave  1000   \n",
       "7     Dick      100000000                0           103 New Ave  2000   \n",
       "\n",
       "                Occupancy  Bedrooms  Bathrooms  Area  Year Built     Value  \\\n",
       "0             Mobile Home         1          1  1100        1920    100000   \n",
       "1  Single Family Dwelling         4          5  5000        1920  10000000   \n",
       "2  Single Family Dwelling         2          1  1200        1960     10000   \n",
       "3  Single Family Dwelling         3          2  2000        2010    800000   \n",
       "4             Mobile Home         1          1  1100        1920    100000   \n",
       "5  Single Family Dwelling         4          5  5000        1920  10000000   \n",
       "6  Single Family Dwelling         2          1  1200        1960     10000   \n",
       "7  Single Family Dwelling         3          2  2000        2010    700000   \n",
       "\n",
       "  Damage State Listed  Longitude  Latitude  Owner Credit  \n",
       "0       Slight  False          0         0           700  \n",
       "1       Slight  False          0         0           700  \n",
       "2       Slight  False          0         0           700  \n",
       "3       Slight  False          0         0           700  \n",
       "4       Slight   True          0         0           700  \n",
       "5       Slight   True          0         0           700  \n",
       "6       Slight   True          0         0           700  \n",
       "7       Slight   True          0         0           700  "
      ]
     },
     "execution_count": 3,
     "metadata": {},
     "output_type": "execute_result"
    }
   ],
   "source": [
    "owners_df = pd.read_excel(scenario_file, sheetname='owners')\n",
    "owners_df"
   ]
  },
  {
   "cell_type": "markdown",
   "metadata": {},
   "source": [
    "__Create Pandas dataframe of attribute data for all renters to be modeled in the simulation.__"
   ]
  },
  {
   "cell_type": "code",
   "execution_count": 4,
   "metadata": {
    "nbpresent": {
     "id": "2bedb18e-ce6d-41cb-98a4-7b91bd10f9bb"
    }
   },
   "outputs": [
    {
     "data": {
      "text/html": [
       "<div>\n",
       "<table border=\"1\" class=\"dataframe\">\n",
       "  <thead>\n",
       "    <tr style=\"text-align: right;\">\n",
       "      <th></th>\n",
       "      <th>Name</th>\n",
       "      <th>Address</th>\n",
       "      <th>Occupancy</th>\n",
       "      <th>Cost</th>\n",
       "      <th>Bedrooms</th>\n",
       "      <th>Bathrooms</th>\n",
       "      <th>Area</th>\n",
       "      <th>Year Built</th>\n",
       "      <th>Value</th>\n",
       "      <th>Damage State</th>\n",
       "      <th>Landlord</th>\n",
       "      <th>Owner Savings</th>\n",
       "      <th>Owner Insurance</th>\n",
       "      <th>Listed</th>\n",
       "      <th>Longitude</th>\n",
       "      <th>Latitude</th>\n",
       "      <th>Owner Credit</th>\n",
       "    </tr>\n",
       "  </thead>\n",
       "  <tbody>\n",
       "    <tr>\n",
       "      <th>0</th>\n",
       "      <td>Ivy</td>\n",
       "      <td>262 That St</td>\n",
       "      <td>Mobile Home</td>\n",
       "      <td>1000</td>\n",
       "      <td>1</td>\n",
       "      <td>1</td>\n",
       "      <td>700</td>\n",
       "      <td>1920</td>\n",
       "      <td>100000</td>\n",
       "      <td>Complete</td>\n",
       "      <td>Alice</td>\n",
       "      <td>0</td>\n",
       "      <td>0</td>\n",
       "      <td>False</td>\n",
       "      <td>0</td>\n",
       "      <td>0</td>\n",
       "      <td>700</td>\n",
       "    </tr>\n",
       "    <tr>\n",
       "      <th>1</th>\n",
       "      <td>Edward</td>\n",
       "      <td>4720 This Rd</td>\n",
       "      <td>Single Family Dwelling</td>\n",
       "      <td>3000</td>\n",
       "      <td>3</td>\n",
       "      <td>2</td>\n",
       "      <td>5000</td>\n",
       "      <td>1920</td>\n",
       "      <td>10000000</td>\n",
       "      <td>Complete</td>\n",
       "      <td>Julie</td>\n",
       "      <td>0</td>\n",
       "      <td>0</td>\n",
       "      <td>False</td>\n",
       "      <td>0</td>\n",
       "      <td>0</td>\n",
       "      <td>700</td>\n",
       "    </tr>\n",
       "    <tr>\n",
       "      <th>2</th>\n",
       "      <td>Oswald</td>\n",
       "      <td>2301 Other Ave</td>\n",
       "      <td>Single Family Dwelling</td>\n",
       "      <td>750</td>\n",
       "      <td>0</td>\n",
       "      <td>1</td>\n",
       "      <td>250</td>\n",
       "      <td>1960</td>\n",
       "      <td>10000</td>\n",
       "      <td>Complete</td>\n",
       "      <td>Gerry</td>\n",
       "      <td>0</td>\n",
       "      <td>1</td>\n",
       "      <td>False</td>\n",
       "      <td>0</td>\n",
       "      <td>0</td>\n",
       "      <td>700</td>\n",
       "    </tr>\n",
       "    <tr>\n",
       "      <th>3</th>\n",
       "      <td>James</td>\n",
       "      <td>74000 Out There Lane</td>\n",
       "      <td>Single Family Dwelling</td>\n",
       "      <td>1500</td>\n",
       "      <td>2</td>\n",
       "      <td>2</td>\n",
       "      <td>2000</td>\n",
       "      <td>2010</td>\n",
       "      <td>800000</td>\n",
       "      <td>Complete</td>\n",
       "      <td>Sally</td>\n",
       "      <td>0</td>\n",
       "      <td>1</td>\n",
       "      <td>False</td>\n",
       "      <td>0</td>\n",
       "      <td>0</td>\n",
       "      <td>700</td>\n",
       "    </tr>\n",
       "    <tr>\n",
       "      <th>4</th>\n",
       "      <td>Butch</td>\n",
       "      <td>100 Old Ave</td>\n",
       "      <td>Mobile Home</td>\n",
       "      <td>100</td>\n",
       "      <td>1</td>\n",
       "      <td>1</td>\n",
       "      <td>700</td>\n",
       "      <td>1920</td>\n",
       "      <td>99999</td>\n",
       "      <td>Complete</td>\n",
       "      <td>Greg</td>\n",
       "      <td>100000000</td>\n",
       "      <td>1</td>\n",
       "      <td>True</td>\n",
       "      <td>0</td>\n",
       "      <td>0</td>\n",
       "      <td>700</td>\n",
       "    </tr>\n",
       "    <tr>\n",
       "      <th>5</th>\n",
       "      <td>Harvey</td>\n",
       "      <td>101 Old Ave</td>\n",
       "      <td>Single Family Dwelling</td>\n",
       "      <td>100000</td>\n",
       "      <td>2</td>\n",
       "      <td>2</td>\n",
       "      <td>5000</td>\n",
       "      <td>1920</td>\n",
       "      <td>9999</td>\n",
       "      <td>Complete</td>\n",
       "      <td>Allison</td>\n",
       "      <td>100000000</td>\n",
       "      <td>1</td>\n",
       "      <td>True</td>\n",
       "      <td>0</td>\n",
       "      <td>0</td>\n",
       "      <td>700</td>\n",
       "    </tr>\n",
       "    <tr>\n",
       "      <th>6</th>\n",
       "      <td>Lee</td>\n",
       "      <td>102 Old Ave</td>\n",
       "      <td>Mobile Home</td>\n",
       "      <td>10</td>\n",
       "      <td>0</td>\n",
       "      <td>1</td>\n",
       "      <td>250</td>\n",
       "      <td>1960</td>\n",
       "      <td>9999</td>\n",
       "      <td>Complete</td>\n",
       "      <td>Rachel</td>\n",
       "      <td>100000000</td>\n",
       "      <td>1</td>\n",
       "      <td>True</td>\n",
       "      <td>0</td>\n",
       "      <td>0</td>\n",
       "      <td>700</td>\n",
       "    </tr>\n",
       "    <tr>\n",
       "      <th>7</th>\n",
       "      <td>Carmine</td>\n",
       "      <td>103 Old Ave</td>\n",
       "      <td>Single Family Dwelling</td>\n",
       "      <td>2000</td>\n",
       "      <td>3</td>\n",
       "      <td>2</td>\n",
       "      <td>2000</td>\n",
       "      <td>2010</td>\n",
       "      <td>800000</td>\n",
       "      <td>Complete</td>\n",
       "      <td>Larry</td>\n",
       "      <td>100000000</td>\n",
       "      <td>1</td>\n",
       "      <td>True</td>\n",
       "      <td>0</td>\n",
       "      <td>0</td>\n",
       "      <td>700</td>\n",
       "    </tr>\n",
       "  </tbody>\n",
       "</table>\n",
       "</div>"
      ],
      "text/plain": [
       "      Name               Address               Occupancy    Cost  Bedrooms  \\\n",
       "0      Ivy           262 That St             Mobile Home    1000         1   \n",
       "1   Edward          4720 This Rd  Single Family Dwelling    3000         3   \n",
       "2   Oswald        2301 Other Ave  Single Family Dwelling     750         0   \n",
       "3    James  74000 Out There Lane  Single Family Dwelling    1500         2   \n",
       "4    Butch           100 Old Ave             Mobile Home     100         1   \n",
       "5   Harvey           101 Old Ave  Single Family Dwelling  100000         2   \n",
       "6      Lee           102 Old Ave             Mobile Home      10         0   \n",
       "7  Carmine           103 Old Ave  Single Family Dwelling    2000         3   \n",
       "\n",
       "   Bathrooms  Area  Year Built     Value Damage State Landlord  Owner Savings  \\\n",
       "0          1   700        1920    100000     Complete    Alice              0   \n",
       "1          2  5000        1920  10000000     Complete    Julie              0   \n",
       "2          1   250        1960     10000     Complete    Gerry              0   \n",
       "3          2  2000        2010    800000     Complete    Sally              0   \n",
       "4          1   700        1920     99999     Complete     Greg      100000000   \n",
       "5          2  5000        1920      9999     Complete  Allison      100000000   \n",
       "6          1   250        1960      9999     Complete   Rachel      100000000   \n",
       "7          2  2000        2010    800000     Complete    Larry      100000000   \n",
       "\n",
       "   Owner Insurance Listed  Longitude  Latitude  Owner Credit  \n",
       "0                0  False          0         0           700  \n",
       "1                0  False          0         0           700  \n",
       "2                1  False          0         0           700  \n",
       "3                1  False          0         0           700  \n",
       "4                1   True          0         0           700  \n",
       "5                1   True          0         0           700  \n",
       "6                1   True          0         0           700  \n",
       "7                1   True          0         0           700  "
      ]
     },
     "execution_count": 4,
     "metadata": {},
     "output_type": "execute_result"
    }
   ],
   "source": [
    "renters_df = pd.read_excel(scenario_file, sheetname='renters')\n",
    "renters_df"
   ]
  },
  {
   "cell_type": "markdown",
   "metadata": {
    "nbpresent": {
     "id": "82ea73e7-3af1-4c0e-917f-a2c8c211f877"
    }
   },
   "source": [
    "## Setup the Simulaiton Environment and Populate with Entities and Processes"
   ]
  },
  {
   "cell_type": "markdown",
   "metadata": {
    "nbpresent": {
     "id": "674d14b6-8c36-4fdb-aa62-2082abb1ade9"
    }
   },
   "source": [
    "__Set Simpy simulation environment__"
   ]
  },
  {
   "cell_type": "code",
   "execution_count": 5,
   "metadata": {
    "collapsed": true,
    "nbpresent": {
     "id": "4b32e43c-2ad8-4103-ab07-110178d9f224"
    }
   },
   "outputs": [],
   "source": [
    "env = simpy.Environment()"
   ]
  },
  {
   "cell_type": "markdown",
   "metadata": {
    "nbpresent": {
     "id": "60da519d-86e8-4159-a232-897fe476c53c"
    }
   },
   "source": [
    "__Indicate whether the simulation will keep track of the stories of each entity in the simulation. This can also be set individually for each group of imported entities (e.g., each call to an entities.Entity class or subclass.__"
   ]
  },
  {
   "cell_type": "code",
   "execution_count": 6,
   "metadata": {
    "collapsed": true,
    "nbpresent": {
     "id": "219edad0-ba39-4977-8836-3bbf81b33cf5"
    }
   },
   "outputs": [],
   "source": [
    "write_story = True"
   ]
  },
  {
   "cell_type": "markdown",
   "metadata": {
    "nbpresent": {
     "id": "c3e629b0-ac2a-4222-a944-939a885c034a"
    }
   },
   "source": [
    "__Define the probability distributions that can/will be used in the simulation to define various recovery program process event durations.__"
   ]
  },
  {
   "cell_type": "code",
   "execution_count": 7,
   "metadata": {
    "collapsed": true
   },
   "outputs": [],
   "source": [
    "# A determistic scalar\n",
    "scalar_dist = ProbabilityDistribution(dist='scalar', loc=10) \n",
    "# A determistic scalar for the repair program (which dynamically changes the distribution parameters)\n",
    "repair_scalar_dist = ProbabilityDistribution(dist='scalar', loc=10) \n",
    "# A uniform distribution; min = loc, max = (loc + scale)\n",
    "uni_dist = ProbabilityDistribution(dist='uniform', loc=5, scale=10) \n",
    "# A beta distribution; parameters define as numpy.stats.beta\n",
    "beta_dist = ProbabilityDistribution(dist='beta', loc=5, scale=10, shape_a=2.0, shape_b=2.0)\n",
    "# A weibull distribution; parameters define as numpy.stats.beta\n",
    "wei_dist = ProbabilityDistribution(dist='weibull', loc=5, scale=10, shape_c=2.0)\n",
    "\n",
    "sba_dist = DurationDistributionHomeLoanSBA(dist='scalar', loc=10) "
   ]
  },
  {
   "cell_type": "markdown",
   "metadata": {},
   "source": [
    "__Instantiate the recovery program objects that will be used in the simulation. Each recovery program requires\n",
    "specification of a duration probability distribution (set above). Unlike shown below, the distributions do not have to be the same for each program. Currently all are the same scalars to simplify interpretation and debugging.__"
   ]
  },
  {
   "cell_type": "code",
   "execution_count": 8,
   "metadata": {
    "collapsed": true
   },
   "outputs": [],
   "source": [
    "fema_ia = IndividualAssistance(env, staff=100, budget=100000, duration_distribution=scalar_dist, max_outlay=30000)\n",
    "sba_home_loan = LoanSBA(env, officers=10, inspectors=10, duration_distribution=sba_dist, \n",
    "                             max_loan = 200000, min_credit = 600) # SBA max home loan = $200k\n",
    "sba_biz_loan = LoanSBA(env, officers=10, inspectors=10, duration_distribution=scalar_dist, \n",
    "                           max_loan = 2000000) # SBA max biz loan = $2mil\n",
    "insurance = OwnersInsurance(env, staff=100, deductible=0.0, duration_distribution=scalar_dist)\n",
    "homeowner_inspection = InspectionProgram(env, staff=1000, duration_distribution=scalar_dist)\n",
    "landlord_inspection = InspectionProgram(env, staff=1000, duration_distribution=scalar_dist)\n",
    "assessment = EngineeringAssessment(env, staff=1000, duration_distribution=scalar_dist)\n",
    "permitting = PermitProgram(env, staff=1000, duration_distribution=scalar_dist) \n",
    "repair = RepairProgram(env, staff=1000, materials=1000000000, duration_distribution=repair_scalar_dist)\n",
    "demolition = DemolitionProgram(env, staff=1000, duration_distribution=scalar_dist)"
   ]
  },
  {
   "cell_type": "code",
   "execution_count": 9,
   "metadata": {},
   "outputs": [
    {
     "data": {
      "text/plain": [
       "10"
      ]
     },
     "execution_count": 9,
     "metadata": {},
     "output_type": "execute_result"
    }
   ],
   "source": [
    "scalar_dist.value()"
   ]
  },
  {
   "cell_type": "code",
   "execution_count": 10,
   "metadata": {
    "collapsed": true
   },
   "outputs": [],
   "source": [
    "#inspect.getfullargspec(rebuild_prog.process).args # Useful to determine the arguments for the recovery programs"
   ]
  },
  {
   "cell_type": "markdown",
   "metadata": {},
   "source": [
    "__Instantiate any recovery policies. Policies are custom classes that define different recovery program arrangements, sequences, logic, patience, etc. Currently only one is written Insurance_IA_Loan_Sequential, which very loosely mimics FEMA's required sequencing of funding requests. The policy also provides an example of how to model entity \"patience\" and process interuption.__"
   ]
  },
  {
   "cell_type": "code",
   "execution_count": 11,
   "metadata": {},
   "outputs": [],
   "source": [
    "insurance_ia_loan_seq = Insurance_IA_SBA_Sequential(env)\n",
    "insurance_ia_loan_para = Insurance_IA_SBA_Parallel(env)\n",
    "insurance_loan_seq = Insurance_SBA_Sequential(env)\n",
    "insurance_loan_para = Insurance_SBA_Parallel(env)\n",
    "repair_stock = RepairVacantBuilding(env)"
   ]
  },
  {
   "cell_type": "markdown",
   "metadata": {
    "nbpresent": {
     "id": "ba511c7a-6df4-4ba1-a590-dbcb877c1c5d"
    }
   },
   "source": [
    "__Create empty Simpy FilterStores to use as housing stocks.__"
   ]
  },
  {
   "cell_type": "code",
   "execution_count": 12,
   "metadata": {
    "collapsed": true,
    "nbpresent": {
     "id": "f462c94a-6efe-4376-a69e-c58cebcab9f2"
    }
   },
   "outputs": [],
   "source": [
    "owned_stock = FilterStore(env)  # To put the residences associated with owners\n",
    "rented_stock = FilterStore(env) # To put the residences associated with renters\n",
    "# forsale_stock = FilterStore(env) # To put the homes associated with vacant home sellers\n",
    "# forrent_stock = FilterStore(env) # To put the homes associated with vacant home landlords"
   ]
  },
  {
   "cell_type": "code",
   "execution_count": 13,
   "metadata": {
    "nbpresent": {
     "id": "0a1a343c-01a9-43a3-9309-fb83ddc13acc"
    }
   },
   "outputs": [],
   "source": [
    "owners = importEntities(env, owners_df, 'OwnerHousehold', owned_stock, write_story)"
   ]
  },
  {
   "cell_type": "markdown",
   "metadata": {},
   "source": [
    "__Create a list of RenterHousehold objects based on input data. Place each associated residence in the rented housing stock.__"
   ]
  },
  {
   "cell_type": "code",
   "execution_count": 14,
   "metadata": {
    "collapsed": true,
    "nbpresent": {
     "id": "422d741a-01e2-4fee-bf86-ac07ba86cb2e"
    }
   },
   "outputs": [],
   "source": [
    "renters = importEntities(env, renters_df, 'RenterHousehold', rented_stock, write_story)"
   ]
  },
  {
   "cell_type": "markdown",
   "metadata": {},
   "source": [
    "__Create a list of Owner objects based on vacant for-sale housing data. Place each associated residence in the for sale housing stock.__"
   ]
  },
  {
   "cell_type": "code",
   "execution_count": 15,
   "metadata": {
    "collapsed": true,
    "scrolled": true
   },
   "outputs": [],
   "source": [
    "# owners_forsale = importEntities(env, forsale_stock, forsale_stock_df, 'Owner')"
   ]
  },
  {
   "cell_type": "markdown",
   "metadata": {},
   "source": [
    "__Create a list of Owner objects based on vacant for-rent housing data. Place each associated residence in the for rent housing stock.__"
   ]
  },
  {
   "cell_type": "code",
   "execution_count": 16,
   "metadata": {
    "collapsed": true
   },
   "outputs": [],
   "source": [
    "# landlords_forrent = importEntities(env, forrent_stock, forrent_stock_df, 'Owner')"
   ]
  },
  {
   "cell_type": "markdown",
   "metadata": {},
   "source": [
    "__A really basic custom master process to as an example of how to create one.__"
   ]
  },
  {
   "cell_type": "code",
   "execution_count": 17,
   "metadata": {
    "collapsed": true
   },
   "outputs": [],
   "source": [
    "def basic_process(inspection_program, assessment_program, permit_program, rebuild_program, entity):\n",
    "\n",
    "        yield env.process(inspection_program.process(entity.property, entity))\n",
    "        yield env.process(assessment_program.process(entity.property, entity))\n",
    "        yield env.process(permit_program.process(entity.property, entity))\n",
    "        yield env.process(rebuild_program.process(entity.property, entity))"
   ]
  },
  {
   "cell_type": "markdown",
   "metadata": {
    "nbpresent": {
     "id": "6872528b-8992-44ce-8de9-79a318a19eec"
    }
   },
   "source": [
    "__A custom master process for landlords. Landlords are the owners and so are the ones to seek financial assistance for repairs. If repairs can't be made etc., evict the tenants.__"
   ]
  },
  {
   "cell_type": "code",
   "execution_count": 18,
   "metadata": {
    "collapsed": true,
    "nbpresent": {
     "id": "7be4185f-0a7d-449c-b02d-cb35947db032"
    }
   },
   "outputs": [],
   "source": [
    "def landlord_process(env, inspection_program, insurance_program, loan_program, \n",
    "                 assessment_program, permit_program, demolish_program, rebuild_program, entity):\n",
    "    \n",
    "    money_patience = 100000  # days until give up the search for rebuild money\n",
    "    \n",
    "    yield env.process(inspection_program.process(entity.property, entity))\n",
    "    \n",
    "    if entity.property.damage_state != 'None':\n",
    "        \n",
    "        # If home is completely damaged, evict tenant\n",
    "        if entity.property.damage_state == 'Extensive' or entity.property.damage_state == 'Complete':\n",
    "            entity.tenant.prior_residence.append(entity.tenant.residence)\n",
    "            entity.tenant.residence = None\n",
    "            \n",
    "            if entity.write_story == True:\n",
    "                entity.tenant.story.append(\n",
    "                '{0} was permanently evicted because the {1} had {2} damage. '.format(\n",
    "                                                entity.tenant.name, entity.property.occupancy.lower(),\n",
    "                                                entity.property.damage_state.lower()\n",
    "                                                                                        )\n",
    "                                            )\n",
    "\n",
    "        # Landlord search for financial assistance\n",
    "\n",
    "        yield env.process(insurance_loan_para.policy(insurance_program, loan_program, entity, money_patience))\n",
    "\n",
    "        if entity.gave_up_funding_search != None:\n",
    "            entity.tenant.prior_residence.append(entity.tenant.residence)\n",
    "            entity.tenant.residence = None\n",
    "            \n",
    "            if entity.write_story == True:\n",
    "                entity.tenant.story.append(\n",
    "                '{0} was permanently evicted because the {1} was not repaired. '.format(\n",
    "                entity.tenant.name, entity.property.occupancy.lower())\n",
    "                )\n",
    "                \n",
    "                entity.story.append(\n",
    "                '{0} decided not to repair their {1}. '.format(\n",
    "                entity.name, entity.property.occupancy.lower()\n",
    "                                                                )\n",
    "                                    )\n",
    "            return\n",
    "        if entity.money_to_rebuild >= entity.property.damage_value:\n",
    "            yield env.process(assessment_program.process(entity.property, entity))\n",
    "            yield env.process(permit_program.process(entity.property, entity))\n",
    "            if entity.property.damage_state == 'Extensive' or entity.property.damage_state == 'Complete':\n",
    "                yield env.process(demolish_program.process(entity.property, entity))\n",
    "            yield env.process(rebuild_program.process(entity.property, entity))\n",
    "        else:\n",
    "            if entity.tenant.residence != None:\n",
    "                entity.tenant.prior_residence.append(entity.tenant.residence)\n",
    "                entity.tenant.residence = None\n",
    "\n",
    "                if entity.write_story == True:\n",
    "                    entity.tenant.story.append(\n",
    "                    '{0} was permanently evicted because the {1} was not repaired. '.format(\n",
    "                    entity.tenant.name, entity.property.occupancy.lower()\n",
    "                                                                                            )\n",
    "                                                )   "
   ]
  },
  {
   "cell_type": "markdown",
   "metadata": {},
   "source": [
    "__A custom master process for OwnerHouseholds (owner occupiers). Don't do anything if no damage suffered. If residence damage is \"Complete\", abandon home and look to buy a different one. Otherwise look for financial assistance for repairs. If money for repairs can't be found (patience runs out), look for a new home. If home search patience runs out, simply stop.__"
   ]
  },
  {
   "cell_type": "code",
   "execution_count": 19,
   "metadata": {
    "collapsed": true
   },
   "outputs": [],
   "source": [
    "def owner_process(env, inspection_program, insurance_program, fema_program, loan_program, \n",
    "                 assessment_program, permit_program, demolish_program, rebuild_program, search_stock, entity):\n",
    "    \n",
    "    money_patience = 900  # days until give up the search for rebuild money\n",
    "    home_patience = 15000  # days until give up the search for a new home\n",
    "    \n",
    "    yield env.process(inspection_program.process(entity.property, entity))\n",
    "    \n",
    "    # Specify the event sequence for households from the time of the hazard through the decisions to relocate \n",
    "    # or rebuild\n",
    "    if entity.property.damage_state != 'None':\n",
    "\n",
    "        # If home is completely damaged, search for a new home to purchase.\n",
    "        if entity.property.damage_state == 'Complete':\n",
    "\n",
    "            yield env.process(entity.replace_home(home_patience, search_stock)) \n",
    "\n",
    "            if entity.gave_up_home_search == None:\n",
    "                yield env.process(entity.occupy(duration_prob_dist = scalar_dist))\n",
    "\n",
    "            return\n",
    "        \n",
    "        # Search for financial assistance\n",
    "        yield env.process(insurance_ia_loan_para.policy(insurance_program, fema_program,\n",
    "                                                   loan_program, entity, money_patience))\n",
    "        \n",
    "        if entity.gave_up_funding_search != None:\n",
    "            return\n",
    "\n",
    "        # If not enough money to repair home, search for a new home to purchase.\n",
    "        if entity.money_to_rebuild < entity.property.damage_value:\n",
    "\n",
    "            yield env.process(entity.replace_home(home_patience, search_stock)) \n",
    "            \n",
    "            if entity.gave_up_home_search == None:\n",
    "                yield env.process(entity.occupy(duration_prob_dist = scalar_dist))\n",
    "            \n",
    "            return\n",
    "                \n",
    "        elif entity.money_to_rebuild >= entity.property.damage_value:\n",
    "            \n",
    "            yield env.process(assessment_program.process(entity.property, entity))\n",
    "            yield env.process(permit_program.process(entity.property, entity))\n",
    "            if entity.property.damage_state == 'Extensive':\n",
    "                yield env.process(demolish_program.process(entity.property, entity))\n",
    "            yield env.process(rebuild_program.process(entity.property, entity))    \n",
    "            yield env.process(entity.occupy(duration_distribution = scalar_dist))     "
   ]
  },
  {
   "cell_type": "markdown",
   "metadata": {},
   "source": [
    "__A custom master process for RenterHouseholds. For the most part it simply initiates a process for their landlords. If they are evicted by their landlords, the renter will look for a new home. If home search patience runs out, simply stop. Otherwise, occupy home after landlord repairs it.__"
   ]
  },
  {
   "cell_type": "code",
   "execution_count": 20,
   "metadata": {
    "collapsed": true,
    "nbpresent": {
     "id": "7872bd09-acde-43e0-a022-ab468070e863"
    }
   },
   "outputs": [],
   "source": [
    "def renter_process(env, inspection_program, insurance_program, loan_program, assessment_program, \n",
    "                   permit_program, demolish_program, rebuild_program, search_stock, entity):\n",
    "        \n",
    "    yield env.process(landlord_process(env, inspection_program, insurance_program, \n",
    "                            loan_program, assessment_program, permit_program, demolish_program, \n",
    "                            rebuild_program, entity.landlord))\n",
    "\n",
    "    if entity.residence != None:\n",
    "        yield env.process(entity.occupy(duration_distribution = scalar_dist))\n",
    "    else:\n",
    "        search_patience = 550  # days until give up the search for a new home\n",
    "        \n",
    "        yield env.process(entity.replace_home(search_patience, search_stock))\n",
    "        \n",
    "        if not entity.gave_up_home_search:\n",
    "                yield env.process(entity.occupy(duration_distribution = scalar_dist))"
   ]
  },
  {
   "cell_type": "markdown",
   "metadata": {},
   "source": [
    "__Initiate the master process for each owner to be modeled in the simulation.__"
   ]
  },
  {
   "cell_type": "code",
   "execution_count": 21,
   "metadata": {
    "collapsed": true
   },
   "outputs": [],
   "source": [
    "#inspect.getfullargspec(owner_process).args # Useful to determine what arguments are required for the process.\n",
    "\n",
    "for i in range(len(owners)):\n",
    "    env.process(owner_process(env, homeowner_inspection, insurance, fema_ia, sba_home_loan, \n",
    "                                    assessment, permitting, demolition, repair,\n",
    "                                    owned_stock, owners[i]))"
   ]
  },
  {
   "cell_type": "markdown",
   "metadata": {},
   "source": [
    "__Initiate the master process for each renter to be modeled in the simulation.__"
   ]
  },
  {
   "cell_type": "code",
   "execution_count": 22,
   "metadata": {
    "collapsed": true,
    "nbpresent": {
     "id": "ec9beb28-1118-43d1-9993-11d28a0196ef"
    }
   },
   "outputs": [],
   "source": [
    "# # #inspect.getfullargspec(renter_process).args # Useful to determine what arguments are required for the process.\n",
    "\n",
    "# # sba_biz_loan specified because it is for the landlord, which can get an SBA business loan\n",
    "# for i in range(len(renters)):\n",
    "#     env.process(renter_process(env, landlord_inspection, insurance, sba_biz_loan, assessment, permitting, \n",
    "#                                demolition, repair, rented_stock, renters[i]))"
   ]
  },
  {
   "cell_type": "markdown",
   "metadata": {},
   "source": [
    "## Run the simulation"
   ]
  },
  {
   "cell_type": "code",
   "execution_count": 23,
   "metadata": {},
   "outputs": [
    {
     "data": {
      "text/plain": [
       "True"
      ]
     },
     "execution_count": 23,
     "metadata": {},
     "output_type": "execute_result"
    }
   ],
   "source": [
    "type(sba_dist) == DurationDistributionHomeLoanSBA"
   ]
  },
  {
   "cell_type": "code",
   "execution_count": 24,
   "metadata": {
    "nbpresent": {
     "id": "aeabefd9-8ded-4a8c-a6e3-83f73b64144a"
    },
    "scrolled": false
   },
   "outputs": [
    {
     "name": "stdout",
     "output_type": "stream",
     "text": [
      "30000\n"
     ]
    }
   ],
   "source": [
    "env.run()"
   ]
  },
  {
   "cell_type": "markdown",
   "metadata": {
    "nbpresent": {
     "id": "7ba728c6-b364-4ad6-9073-20a83a0cbe5c"
    }
   },
   "source": [
    "# Inspect Simulation Outputs"
   ]
  },
  {
   "cell_type": "markdown",
   "metadata": {
    "nbpresent": {
     "id": "7d4aada5-0d56-481e-b318-6f7a13dcd8a2"
    }
   },
   "source": [
    "## OwnerHousehold summary statistics"
   ]
  },
  {
   "cell_type": "code",
   "execution_count": 25,
   "metadata": {
    "nbpresent": {
     "id": "b3eb9288-806e-4978-b30a-93cb80d880e0"
    }
   },
   "outputs": [
    {
     "name": "stdout",
     "output_type": "stream",
     "text": [
      "8 out of 8 owners suffered damage to their homes.\n",
      " 8 out of 8 owners rebuilt or repaired their damaged home.\n",
      " 0 out of 8 owners gave up searching for money.\n",
      " 0 out of 8 owners searched for a new home.\n",
      " 0 out of 8 owners bought a new home.\n",
      " 0 out of 8 owners gave up searching for a home.\n",
      "\n"
     ]
    }
   ],
   "source": [
    "num_damaged = 0\n",
    "num_rebuilt = 0\n",
    "num_gave_up_funding_search = 0\n",
    "num_relocated = 0\n",
    "num_homesearch = 0\n",
    "num_gave_up_home_search = 0\n",
    "num_vacant_fixed = 0\n",
    "\n",
    "for household in owners:\n",
    "    if household.residence.damage_state != None: num_damaged += 1\n",
    "    if household.repair_get != None: num_rebuilt += 1\n",
    "    if household.gave_up_funding_search: num_gave_up_funding_search += 1\n",
    "    if household.home_put != None: num_homesearch += 1\n",
    "    if household.home_get != None: num_relocated += 1\n",
    "    if household.gave_up_home_search: num_gave_up_home_search += 1\n",
    "\n",
    "\n",
    "        \n",
    "print('{0} out of {1} owners suffered damage to their homes.\\n'.format(num_damaged, len(owners)),\n",
    "      '{0} out of {1} owners rebuilt or repaired their damaged home.\\n'.format(num_rebuilt, len(owners)),\n",
    "        '{0} out of {1} owners gave up searching for money.\\n'.format(num_gave_up_funding_search, len(owners)),\n",
    "      '{0} out of {1} owners searched for a new home.\\n'.format(num_homesearch, len(owners)),\n",
    "        '{0} out of {1} owners bought a new home.\\n'.format(num_relocated, len(owners)),\n",
    "        '{0} out of {1} owners gave up searching for a home.\\n'.format(num_gave_up_home_search, len(owners))\n",
    "     )\n",
    "\n"
   ]
  },
  {
   "cell_type": "markdown",
   "metadata": {
    "nbpresent": {
     "id": "099821e3-0cad-402e-9da5-fda4bed7663e"
    }
   },
   "source": [
    "## Print OwnerHousehold stories"
   ]
  },
  {
   "cell_type": "code",
   "execution_count": 26,
   "metadata": {
    "nbpresent": {
     "id": "950d3c2e-68b6-4ca2-a2f9-4094469ba2ae"
    },
    "scrolled": true
   },
   "outputs": [
    {
     "data": {
      "text/plain": [
       "['Alfred resides at 62 That St. ',\n",
       " 'Alfred owns and lives in a 1 room mobile home at 62 That St worth $100,000. ',\n",
       " \"Alfred's mobile home was inspected 10 days after the event and suffered $2,000 of damage (slight). \",\n",
       " 'Alfred has no hazard insurance. ',\n",
       " 'Alfred applied for a $2,000 SBA loan 10 days after the event. ',\n",
       " 'Alfred requested $2,000 from FEMA 10 days after the event. ',\n",
       " 'Alfred received $2,000 from FEMA 20 days after the event. ',\n",
       " \"SBA inspected Alfred's home on day 21 after the event. \",\n",
       " 'SBA provisionally approved Alfred for a $2,000 loan 21 days after the event. ',\n",
       " 'Alfred withdrew the SBA loan application 21 days after the event. ',\n",
       " 'It took Alfred 11 days to exhaust financial assistance options but still does not have enough money to cover repairs ($2,000). ',\n",
       " 'Alfred received an engineering assessment 31 days after the event. ',\n",
       " 'Alfred received permit approval 41 days after the event. ',\n",
       " \"Alfred's mobile home was repaired 43 days after the event, taking 2 days to rebuild. \",\n",
       " 'Alfred occupied the mobile home 53 days after the event. ']"
      ]
     },
     "execution_count": 26,
     "metadata": {},
     "output_type": "execute_result"
    }
   ],
   "source": [
    "owners[0].story"
   ]
  },
  {
   "cell_type": "code",
   "execution_count": 27,
   "metadata": {
    "nbpresent": {
     "id": "11e73bf1-4ef5-484b-81cd-936043f5b800"
    }
   },
   "outputs": [
    {
     "data": {
      "text/plain": [
       "['Bruce resides at 720 This Rd. ',\n",
       " 'Bruce owns and lives in a 4 room single family dwelling at 720 This Rd worth $10,000,000. ',\n",
       " \"Bruce's single family dwelling was inspected 10 days after the event and suffered $200,000 of damage (slight). \",\n",
       " 'Bruce has no hazard insurance. ',\n",
       " 'Bruce applied for a $200,000 SBA loan 10 days after the event. ',\n",
       " 'Bruce requested $30,000 from FEMA 10 days after the event. ',\n",
       " 'Bruce received $30,000 from FEMA 20 days after the event. ',\n",
       " \"SBA inspected Bruce's home on day 21 after the event. \",\n",
       " 'SBA provisionally approved Bruce for a $200,000 loan 21 days after the event. ',\n",
       " 'Bruce received an initial SBA loan disbursement of $25,000 21 days after the event. ',\n",
       " 'Bruce received a second SBA loan disbursement of 145,000 31 days after the event. ',\n",
       " 'It took Bruce 21 days to exhaust financial assistance options but still does not have enough money to cover repairs ($200,000). ',\n",
       " 'Bruce received an engineering assessment 41 days after the event. ',\n",
       " 'Bruce received permit approval 51 days after the event. ',\n",
       " \"Bruce's single family dwelling was repaired 53 days after the event, taking 2 days to rebuild. \",\n",
       " 'Bruce occupied the single family dwelling 63 days after the event. ']"
      ]
     },
     "execution_count": 27,
     "metadata": {},
     "output_type": "execute_result"
    }
   ],
   "source": [
    "owners[1].story"
   ]
  },
  {
   "cell_type": "code",
   "execution_count": 28,
   "metadata": {
    "nbpresent": {
     "id": "a653615f-5f7c-4d96-9430-9cde218c3ffc"
    },
    "scrolled": true
   },
   "outputs": [
    {
     "data": {
      "text/plain": [
       "['Selena resides at 1001 Other Ave. ',\n",
       " 'Selena owns and lives in a 2 room single family dwelling at 1001 Other Ave worth $10,000. ',\n",
       " \"Selena's single family dwelling was inspected 10 days after the event and suffered $200 of damage (slight). \",\n",
       " 'Selena has no hazard insurance. ',\n",
       " 'Selena applied for a $200 SBA loan 10 days after the event. ',\n",
       " 'Selena requested $200 from FEMA 10 days after the event. ',\n",
       " 'Selena received $200 from FEMA 20 days after the event. ',\n",
       " \"SBA inspected Selena's home on day 21 after the event. \",\n",
       " 'SBA provisionally approved Selena for a $200 loan 21 days after the event. ',\n",
       " 'Selena withdrew the SBA loan application 21 days after the event. ',\n",
       " 'It took Selena 11 days to exhaust financial assistance options but still does not have enough money to cover repairs ($200). ',\n",
       " 'Selena received an engineering assessment 31 days after the event. ',\n",
       " 'Selena received permit approval 41 days after the event. ',\n",
       " \"Selena's single family dwelling was repaired 43 days after the event, taking 2 days to rebuild. \",\n",
       " 'Selena occupied the single family dwelling 53 days after the event. ']"
      ]
     },
     "execution_count": 28,
     "metadata": {},
     "output_type": "execute_result"
    }
   ],
   "source": [
    "owners[2].story"
   ]
  },
  {
   "cell_type": "code",
   "execution_count": 29,
   "metadata": {
    "nbpresent": {
     "id": "e45edacc-0055-418a-a65b-d06361b78f36"
    },
    "scrolled": false
   },
   "outputs": [
    {
     "data": {
      "text/plain": [
       "['Fish resides at 26000 Out There Lane. ',\n",
       " 'Fish owns and lives in a 3 room single family dwelling at 26000 Out There Lane worth $800,000. ',\n",
       " \"Fish's single family dwelling was inspected 10 days after the event and suffered $16,000 of damage (slight). \",\n",
       " 'Fish has no hazard insurance. ',\n",
       " 'Fish applied for a $16,000 SBA loan 10 days after the event. ',\n",
       " 'Fish requested $16,000 from FEMA 10 days after the event. ',\n",
       " 'Fish received $16,000 from FEMA 20 days after the event. ',\n",
       " \"SBA inspected Fish's home on day 21 after the event. \",\n",
       " 'SBA provisionally approved Fish for a $16,000 loan 21 days after the event. ',\n",
       " 'Fish withdrew the SBA loan application 21 days after the event. ',\n",
       " 'It took Fish 11 days to exhaust financial assistance options but still does not have enough money to cover repairs ($16,000). ',\n",
       " 'Fish received an engineering assessment 31 days after the event. ',\n",
       " 'Fish received permit approval 41 days after the event. ',\n",
       " \"Fish's single family dwelling was repaired 43 days after the event, taking 2 days to rebuild. \",\n",
       " 'Fish occupied the single family dwelling 53 days after the event. ']"
      ]
     },
     "execution_count": 29,
     "metadata": {},
     "output_type": "execute_result"
    }
   ],
   "source": [
    "owners[3].story"
   ]
  },
  {
   "cell_type": "code",
   "execution_count": 30,
   "metadata": {},
   "outputs": [
    {
     "data": {
      "text/plain": [
       "'None'"
      ]
     },
     "execution_count": 30,
     "metadata": {},
     "output_type": "execute_result"
    }
   ],
   "source": [
    "owners[7].property.damage_state"
   ]
  },
  {
   "cell_type": "markdown",
   "metadata": {
    "nbpresent": {
     "id": "17baf8a7-1023-4c2d-b6f2-5687736b081c"
    }
   },
   "source": [
    "## RenterHousehold summary statistics"
   ]
  },
  {
   "cell_type": "code",
   "execution_count": 31,
   "metadata": {
    "nbpresent": {
     "id": "c98b8cee-da7d-435b-88a8-ecef564957cb"
    }
   },
   "outputs": [
    {
     "name": "stdout",
     "output_type": "stream",
     "text": [
      "8 out of 8 renters' homes suffered damage.\n",
      " 0 out of 8 renters' damaged home was rebuilt or repaired.\n",
      " 0 out of 8 renters' were displaced.\n",
      " 0 landlords gave up searching for repair money.\n",
      "\n"
     ]
    }
   ],
   "source": [
    "num_damaged = 0\n",
    "num_rebuilt = 0\n",
    "num_relocated = 0\n",
    "num_displaced = 0\n",
    "num_gave_up_funding_search = 0\n",
    "num_gave_up_home_search = 0\n",
    "num_vacant_fixed = 0\n",
    "\n",
    "for renter in renters:\n",
    "\n",
    "    if renter.landlord.property.damage_state != None: num_damaged += 1\n",
    "    if renter.landlord.repair_get != None: num_rebuilt += 1\n",
    "    if renter.landlord.gave_up_funding_search != None: num_gave_up_funding_search += 1\n",
    "    if not renter.residence: num_displaced += 1\n",
    "    if renter.gave_up_home_search: num_displaced += 1\n",
    "\n",
    "\n",
    "        \n",
    "print('{0} out of {1} renters\\' homes suffered damage.\\n'.format(num_damaged, len(renters)),\n",
    "      '{0} out of {1} renters\\' damaged home was rebuilt or repaired.\\n'.format(num_rebuilt, len(renters)),\n",
    "      '{0} out of {1} renters\\' were displaced.\\n'.format(num_displaced, len(renters)),\n",
    "      '{0} landlords gave up searching for repair money.\\n'.format(num_gave_up_funding_search)\n",
    "     )"
   ]
  },
  {
   "cell_type": "code",
   "execution_count": 32,
   "metadata": {
    "collapsed": true
   },
   "outputs": [],
   "source": [
    "# for lessor in landlords_forrent:\n",
    "#     if lessor.property.damage_state_start != lessor.property.damage_state:\n",
    "#         num_vacant_fixed += 1\n",
    "        \n",
    "# print(\n",
    "#       '{0} of {1} vacant rental homes were repaired and returned to the vacant rental stock.'.format(num_vacant_fixed,\n",
    "#                                                                                                      len(landlords_forrent))\n",
    "#       )"
   ]
  },
  {
   "cell_type": "markdown",
   "metadata": {
    "nbpresent": {
     "id": "04f9c8c8-adbb-4a0f-8a72-a6ed5bfccf91"
    }
   },
   "source": [
    "## Print RenterHousehold stories"
   ]
  },
  {
   "cell_type": "code",
   "execution_count": 33,
   "metadata": {
    "nbpresent": {
     "id": "89bd7c5b-ec66-46bd-88cc-afbd144319ab"
    },
    "scrolled": true
   },
   "outputs": [
    {
     "data": {
      "text/plain": [
       "['Ivy resides at 262 That St. ',\n",
       " 'Ivy rents and lives in a 1 room mobile home at 262 That St. ',\n",
       " 'Alice rents out a 1 bedroom mobile home at 262 That St worth $100,000. ']"
      ]
     },
     "execution_count": 33,
     "metadata": {},
     "output_type": "execute_result"
    }
   ],
   "source": [
    "renters[0].story + renters[0].landlord.story"
   ]
  },
  {
   "cell_type": "code",
   "execution_count": 34,
   "metadata": {
    "nbpresent": {
     "id": "eb7be125-07cc-4997-bc00-ec9562fd57b3"
    }
   },
   "outputs": [
    {
     "data": {
      "text/plain": [
       "['Edward resides at 4720 This Rd. ',\n",
       " 'Edward rents and lives in a 3 room single family dwelling at 4720 This Rd. ',\n",
       " 'Julie rents out a 3 bedroom single family dwelling at 4720 This Rd worth $10,000,000. ']"
      ]
     },
     "execution_count": 34,
     "metadata": {},
     "output_type": "execute_result"
    }
   ],
   "source": [
    "renters[1].story + renters[1].landlord.story"
   ]
  },
  {
   "cell_type": "code",
   "execution_count": 35,
   "metadata": {
    "nbpresent": {
     "id": "5bb40ceb-ff03-4ceb-92f7-ac77964205cb"
    },
    "scrolled": false
   },
   "outputs": [
    {
     "data": {
      "text/plain": [
       "['Oswald resides at 2301 Other Ave. ',\n",
       " 'Oswald rents and lives in a 0 room single family dwelling at 2301 Other Ave. ',\n",
       " 'Gerry rents out a 0 bedroom single family dwelling at 2301 Other Ave worth $10,000. ']"
      ]
     },
     "execution_count": 35,
     "metadata": {},
     "output_type": "execute_result"
    }
   ],
   "source": [
    "renters[2].story + renters[2].landlord.story"
   ]
  },
  {
   "cell_type": "code",
   "execution_count": 36,
   "metadata": {
    "nbpresent": {
     "id": "6864ad7a-9889-42f4-8968-b6c2a5b98924"
    },
    "scrolled": true
   },
   "outputs": [
    {
     "data": {
      "text/plain": [
       "['James resides at 74000 Out There Lane. ',\n",
       " 'James rents and lives in a 2 room single family dwelling at 74000 Out There Lane. ',\n",
       " 'Sally rents out a 2 bedroom single family dwelling at 74000 Out There Lane worth $800,000. ']"
      ]
     },
     "execution_count": 36,
     "metadata": {},
     "output_type": "execute_result"
    }
   ],
   "source": [
    "renters[3].story + renters[3].landlord.story"
   ]
  },
  {
   "cell_type": "markdown",
   "metadata": {},
   "source": [
    "__*** This works but is a bandaid for saving simulation outputs for external visualization or stats. *** Create output file for visualizing__"
   ]
  },
  {
   "cell_type": "code",
   "execution_count": 37,
   "metadata": {},
   "outputs": [
    {
     "data": {
      "text/html": [
       "<div>\n",
       "<table border=\"1\" class=\"dataframe\">\n",
       "  <thead>\n",
       "    <tr style=\"text-align: right;\">\n",
       "      <th></th>\n",
       "      <th>address</th>\n",
       "      <th>area</th>\n",
       "      <th>assessment</th>\n",
       "      <th>assessment_get</th>\n",
       "      <th>assessment_put</th>\n",
       "      <th>assistance_payout</th>\n",
       "      <th>bathrooms</th>\n",
       "      <th>bedrooms</th>\n",
       "      <th>claim_amount</th>\n",
       "      <th>claim_get</th>\n",
       "      <th>...</th>\n",
       "      <th>repair_put</th>\n",
       "      <th>residence</th>\n",
       "      <th>savings</th>\n",
       "      <th>sba_amount</th>\n",
       "      <th>sba_get</th>\n",
       "      <th>sba_put</th>\n",
       "      <th>stock</th>\n",
       "      <th>story</th>\n",
       "      <th>value</th>\n",
       "      <th>write_story</th>\n",
       "    </tr>\n",
       "  </thead>\n",
       "  <tbody>\n",
       "    <tr>\n",
       "      <th>0</th>\n",
       "      <td>NaN</td>\n",
       "      <td>NaN</td>\n",
       "      <td>NaN</td>\n",
       "      <td>31.0</td>\n",
       "      <td>21.0</td>\n",
       "      <td>0.0</td>\n",
       "      <td>NaN</td>\n",
       "      <td>NaN</td>\n",
       "      <td>0.0</td>\n",
       "      <td>None</td>\n",
       "      <td>...</td>\n",
       "      <td>None</td>\n",
       "      <td>&lt;desaster.structures.SingleFamilyResidential o...</td>\n",
       "      <td>0.0</td>\n",
       "      <td>0.0</td>\n",
       "      <td>None</td>\n",
       "      <td>10</td>\n",
       "      <td>NaN</td>\n",
       "      <td>Alfred resides at 62 That St. Alfred owns and ...</td>\n",
       "      <td>NaN</td>\n",
       "      <td>True</td>\n",
       "    </tr>\n",
       "    <tr>\n",
       "      <th>1</th>\n",
       "      <td>NaN</td>\n",
       "      <td>NaN</td>\n",
       "      <td>NaN</td>\n",
       "      <td>41.0</td>\n",
       "      <td>31.0</td>\n",
       "      <td>0.0</td>\n",
       "      <td>NaN</td>\n",
       "      <td>NaN</td>\n",
       "      <td>0.0</td>\n",
       "      <td>None</td>\n",
       "      <td>...</td>\n",
       "      <td>None</td>\n",
       "      <td>&lt;desaster.structures.SingleFamilyResidential o...</td>\n",
       "      <td>0.0</td>\n",
       "      <td>170000.0</td>\n",
       "      <td>31</td>\n",
       "      <td>10</td>\n",
       "      <td>NaN</td>\n",
       "      <td>Bruce resides at 720 This Rd. Bruce owns and l...</td>\n",
       "      <td>NaN</td>\n",
       "      <td>True</td>\n",
       "    </tr>\n",
       "    <tr>\n",
       "      <th>2</th>\n",
       "      <td>NaN</td>\n",
       "      <td>NaN</td>\n",
       "      <td>NaN</td>\n",
       "      <td>31.0</td>\n",
       "      <td>21.0</td>\n",
       "      <td>0.0</td>\n",
       "      <td>NaN</td>\n",
       "      <td>NaN</td>\n",
       "      <td>0.0</td>\n",
       "      <td>None</td>\n",
       "      <td>...</td>\n",
       "      <td>None</td>\n",
       "      <td>&lt;desaster.structures.SingleFamilyResidential o...</td>\n",
       "      <td>0.0</td>\n",
       "      <td>0.0</td>\n",
       "      <td>None</td>\n",
       "      <td>10</td>\n",
       "      <td>NaN</td>\n",
       "      <td>Selena resides at 1001 Other Ave. Selena owns ...</td>\n",
       "      <td>NaN</td>\n",
       "      <td>True</td>\n",
       "    </tr>\n",
       "    <tr>\n",
       "      <th>3</th>\n",
       "      <td>NaN</td>\n",
       "      <td>NaN</td>\n",
       "      <td>NaN</td>\n",
       "      <td>31.0</td>\n",
       "      <td>21.0</td>\n",
       "      <td>0.0</td>\n",
       "      <td>NaN</td>\n",
       "      <td>NaN</td>\n",
       "      <td>0.0</td>\n",
       "      <td>None</td>\n",
       "      <td>...</td>\n",
       "      <td>None</td>\n",
       "      <td>&lt;desaster.structures.SingleFamilyResidential o...</td>\n",
       "      <td>0.0</td>\n",
       "      <td>0.0</td>\n",
       "      <td>None</td>\n",
       "      <td>10</td>\n",
       "      <td>NaN</td>\n",
       "      <td>Fish resides at 26000 Out There Lane. Fish own...</td>\n",
       "      <td>NaN</td>\n",
       "      <td>True</td>\n",
       "    </tr>\n",
       "    <tr>\n",
       "      <th>4</th>\n",
       "      <td>NaN</td>\n",
       "      <td>NaN</td>\n",
       "      <td>NaN</td>\n",
       "      <td>20.0</td>\n",
       "      <td>10.0</td>\n",
       "      <td>0.0</td>\n",
       "      <td>NaN</td>\n",
       "      <td>NaN</td>\n",
       "      <td>0.0</td>\n",
       "      <td>None</td>\n",
       "      <td>...</td>\n",
       "      <td>None</td>\n",
       "      <td>&lt;desaster.structures.SingleFamilyResidential o...</td>\n",
       "      <td>100000000.0</td>\n",
       "      <td>0.0</td>\n",
       "      <td>None</td>\n",
       "      <td>None</td>\n",
       "      <td>NaN</td>\n",
       "      <td>Jerome resides at 100 New Ave. Jerome owns and...</td>\n",
       "      <td>NaN</td>\n",
       "      <td>True</td>\n",
       "    </tr>\n",
       "  </tbody>\n",
       "</table>\n",
       "<p>5 rows × 58 columns</p>\n",
       "</div>"
      ],
      "text/plain": [
       "   address  area  assessment  assessment_get  assessment_put  \\\n",
       "0      NaN   NaN         NaN            31.0            21.0   \n",
       "1      NaN   NaN         NaN            41.0            31.0   \n",
       "2      NaN   NaN         NaN            31.0            21.0   \n",
       "3      NaN   NaN         NaN            31.0            21.0   \n",
       "4      NaN   NaN         NaN            20.0            10.0   \n",
       "\n",
       "   assistance_payout  bathrooms  bedrooms  claim_amount claim_get     ...      \\\n",
       "0                0.0        NaN       NaN           0.0      None     ...       \n",
       "1                0.0        NaN       NaN           0.0      None     ...       \n",
       "2                0.0        NaN       NaN           0.0      None     ...       \n",
       "3                0.0        NaN       NaN           0.0      None     ...       \n",
       "4                0.0        NaN       NaN           0.0      None     ...       \n",
       "\n",
       "  repair_put                                          residence      savings  \\\n",
       "0       None  <desaster.structures.SingleFamilyResidential o...          0.0   \n",
       "1       None  <desaster.structures.SingleFamilyResidential o...          0.0   \n",
       "2       None  <desaster.structures.SingleFamilyResidential o...          0.0   \n",
       "3       None  <desaster.structures.SingleFamilyResidential o...          0.0   \n",
       "4       None  <desaster.structures.SingleFamilyResidential o...  100000000.0   \n",
       "\n",
       "  sba_amount sba_get  sba_put  stock  \\\n",
       "0        0.0    None       10    NaN   \n",
       "1   170000.0      31       10    NaN   \n",
       "2        0.0    None       10    NaN   \n",
       "3        0.0    None       10    NaN   \n",
       "4        0.0    None     None    NaN   \n",
       "\n",
       "                                               story value write_story  \n",
       "0  Alfred resides at 62 That St. Alfred owns and ...   NaN        True  \n",
       "1  Bruce resides at 720 This Rd. Bruce owns and l...   NaN        True  \n",
       "2  Selena resides at 1001 Other Ave. Selena owns ...   NaN        True  \n",
       "3  Fish resides at 26000 Out There Lane. Fish own...   NaN        True  \n",
       "4  Jerome resides at 100 New Ave. Jerome owns and...   NaN        True  \n",
       "\n",
       "[5 rows x 58 columns]"
      ]
     },
     "execution_count": 37,
     "metadata": {},
     "output_type": "execute_result"
    }
   ],
   "source": [
    "a = list(vars(owners[3]).keys()) #gets all potential column names\n",
    "a.extend(list(vars(owners[3].property).keys()))\n",
    "df = pd.DataFrame(columns=a)\n",
    "iters = 0\n",
    "att_itter = 0\n",
    "new_column={}\n",
    "log = []\n",
    "for i in owners: #loop through all entities\n",
    "    i.story = i.story_to_text()\n",
    "#     i.latitude = i.residence.latitude\n",
    "#     i.longitude = i.residence.longitude\n",
    "#     i.gave_up_funding_search = int(i.gave_up_funding_search)\n",
    "#     i.gave_up_home_search = int(i.gave_up_home_search)\n",
    "    i.damage_state_start = i.residence.damage_state_start\n",
    "    i.damage_state = i.residence.damage_state\n",
    "    i.damage_value = i.residence.damage_value\n",
    "    i.damage_value_start = i.residence.damage_value_start\n",
    "    for att in a: #loop through the attributes in our list of column names we want\n",
    "        try:\n",
    "            new_column[att] = i.__getattribute__(att) #set the b dictionary\n",
    "            #mydata[att]= i.__getattribute__(att)\n",
    "            \n",
    "        except ValueError:\n",
    "            new_column[att] = np.nan\n",
    "        except AttributeError as e:\n",
    "            new_column[att] = np.nan\n",
    "            log.append(\"Household {0} had an attr error, {1}\".format(i.name, e))\n",
    "        finally:\n",
    "            att_itter += 1\n",
    "    mydata=pd.DataFrame([new_column]) #this turns our newly made column into a database where it can be combined with the df\n",
    "\n",
    "    df = df.append(mydata, ignore_index=True)\n",
    "\n",
    "    iters += 1\n",
    "\n",
    "# output_path = \"../outputs/output_df.csv\"\n",
    "# df.to_csv(output_path)\n",
    "df.head()"
   ]
  },
  {
   "cell_type": "code",
   "execution_count": 38,
   "metadata": {},
   "outputs": [
    {
     "data": {
      "text/html": [
       "<div>\n",
       "<table border=\"1\" class=\"dataframe\">\n",
       "  <thead>\n",
       "    <tr style=\"text-align: right;\">\n",
       "      <th></th>\n",
       "      <th>assessment_get</th>\n",
       "      <th>assessment_put</th>\n",
       "      <th>claim_get</th>\n",
       "      <th>claim_put</th>\n",
       "      <th>damage_state_start</th>\n",
       "      <th>damage_value_start</th>\n",
       "      <th>demolition_get</th>\n",
       "      <th>demolition_put</th>\n",
       "      <th>fema_get</th>\n",
       "      <th>fema_put</th>\n",
       "      <th>...</th>\n",
       "      <th>inspection_put</th>\n",
       "      <th>occupy_get</th>\n",
       "      <th>occupy_put</th>\n",
       "      <th>permit_get</th>\n",
       "      <th>permit_put</th>\n",
       "      <th>rebuild_put</th>\n",
       "      <th>repair_get</th>\n",
       "      <th>repair_put</th>\n",
       "      <th>sba_get</th>\n",
       "      <th>sba_put</th>\n",
       "    </tr>\n",
       "    <tr>\n",
       "      <th>name</th>\n",
       "      <th></th>\n",
       "      <th></th>\n",
       "      <th></th>\n",
       "      <th></th>\n",
       "      <th></th>\n",
       "      <th></th>\n",
       "      <th></th>\n",
       "      <th></th>\n",
       "      <th></th>\n",
       "      <th></th>\n",
       "      <th></th>\n",
       "      <th></th>\n",
       "      <th></th>\n",
       "      <th></th>\n",
       "      <th></th>\n",
       "      <th></th>\n",
       "      <th></th>\n",
       "      <th></th>\n",
       "      <th></th>\n",
       "      <th></th>\n",
       "      <th></th>\n",
       "    </tr>\n",
       "  </thead>\n",
       "  <tbody>\n",
       "    <tr>\n",
       "      <th>Alfred</th>\n",
       "      <td>31.0</td>\n",
       "      <td>21.0</td>\n",
       "      <td>None</td>\n",
       "      <td>None</td>\n",
       "      <td>Slight</td>\n",
       "      <td>2000.0</td>\n",
       "      <td>None</td>\n",
       "      <td>None</td>\n",
       "      <td>20</td>\n",
       "      <td>10</td>\n",
       "      <td>...</td>\n",
       "      <td>0.0</td>\n",
       "      <td>53.0</td>\n",
       "      <td>43.0</td>\n",
       "      <td>41.0</td>\n",
       "      <td>31.0</td>\n",
       "      <td>41.0</td>\n",
       "      <td>43.0</td>\n",
       "      <td>None</td>\n",
       "      <td>None</td>\n",
       "      <td>10</td>\n",
       "    </tr>\n",
       "    <tr>\n",
       "      <th>Bruce</th>\n",
       "      <td>41.0</td>\n",
       "      <td>31.0</td>\n",
       "      <td>None</td>\n",
       "      <td>None</td>\n",
       "      <td>Slight</td>\n",
       "      <td>200000.0</td>\n",
       "      <td>None</td>\n",
       "      <td>None</td>\n",
       "      <td>20</td>\n",
       "      <td>10</td>\n",
       "      <td>...</td>\n",
       "      <td>0.0</td>\n",
       "      <td>63.0</td>\n",
       "      <td>53.0</td>\n",
       "      <td>51.0</td>\n",
       "      <td>41.0</td>\n",
       "      <td>51.0</td>\n",
       "      <td>53.0</td>\n",
       "      <td>None</td>\n",
       "      <td>31</td>\n",
       "      <td>10</td>\n",
       "    </tr>\n",
       "    <tr>\n",
       "      <th>Selena</th>\n",
       "      <td>31.0</td>\n",
       "      <td>21.0</td>\n",
       "      <td>None</td>\n",
       "      <td>None</td>\n",
       "      <td>Slight</td>\n",
       "      <td>200.0</td>\n",
       "      <td>None</td>\n",
       "      <td>None</td>\n",
       "      <td>20</td>\n",
       "      <td>10</td>\n",
       "      <td>...</td>\n",
       "      <td>0.0</td>\n",
       "      <td>53.0</td>\n",
       "      <td>43.0</td>\n",
       "      <td>41.0</td>\n",
       "      <td>31.0</td>\n",
       "      <td>41.0</td>\n",
       "      <td>43.0</td>\n",
       "      <td>None</td>\n",
       "      <td>None</td>\n",
       "      <td>10</td>\n",
       "    </tr>\n",
       "    <tr>\n",
       "      <th>Fish</th>\n",
       "      <td>31.0</td>\n",
       "      <td>21.0</td>\n",
       "      <td>None</td>\n",
       "      <td>None</td>\n",
       "      <td>Slight</td>\n",
       "      <td>16000.0</td>\n",
       "      <td>None</td>\n",
       "      <td>None</td>\n",
       "      <td>20</td>\n",
       "      <td>10</td>\n",
       "      <td>...</td>\n",
       "      <td>0.0</td>\n",
       "      <td>53.0</td>\n",
       "      <td>43.0</td>\n",
       "      <td>41.0</td>\n",
       "      <td>31.0</td>\n",
       "      <td>41.0</td>\n",
       "      <td>43.0</td>\n",
       "      <td>None</td>\n",
       "      <td>None</td>\n",
       "      <td>10</td>\n",
       "    </tr>\n",
       "    <tr>\n",
       "      <th>Jerome</th>\n",
       "      <td>20.0</td>\n",
       "      <td>10.0</td>\n",
       "      <td>None</td>\n",
       "      <td>None</td>\n",
       "      <td>Slight</td>\n",
       "      <td>2000.0</td>\n",
       "      <td>None</td>\n",
       "      <td>None</td>\n",
       "      <td>None</td>\n",
       "      <td>None</td>\n",
       "      <td>...</td>\n",
       "      <td>0.0</td>\n",
       "      <td>42.0</td>\n",
       "      <td>32.0</td>\n",
       "      <td>30.0</td>\n",
       "      <td>20.0</td>\n",
       "      <td>30.0</td>\n",
       "      <td>32.0</td>\n",
       "      <td>None</td>\n",
       "      <td>None</td>\n",
       "      <td>None</td>\n",
       "    </tr>\n",
       "    <tr>\n",
       "      <th>Barbara</th>\n",
       "      <td>20.0</td>\n",
       "      <td>10.0</td>\n",
       "      <td>None</td>\n",
       "      <td>None</td>\n",
       "      <td>Slight</td>\n",
       "      <td>200000.0</td>\n",
       "      <td>None</td>\n",
       "      <td>None</td>\n",
       "      <td>None</td>\n",
       "      <td>None</td>\n",
       "      <td>...</td>\n",
       "      <td>0.0</td>\n",
       "      <td>42.0</td>\n",
       "      <td>32.0</td>\n",
       "      <td>30.0</td>\n",
       "      <td>20.0</td>\n",
       "      <td>30.0</td>\n",
       "      <td>32.0</td>\n",
       "      <td>None</td>\n",
       "      <td>None</td>\n",
       "      <td>None</td>\n",
       "    </tr>\n",
       "    <tr>\n",
       "      <th>Lucius</th>\n",
       "      <td>20.0</td>\n",
       "      <td>10.0</td>\n",
       "      <td>None</td>\n",
       "      <td>None</td>\n",
       "      <td>Slight</td>\n",
       "      <td>200.0</td>\n",
       "      <td>None</td>\n",
       "      <td>None</td>\n",
       "      <td>None</td>\n",
       "      <td>None</td>\n",
       "      <td>...</td>\n",
       "      <td>0.0</td>\n",
       "      <td>42.0</td>\n",
       "      <td>32.0</td>\n",
       "      <td>30.0</td>\n",
       "      <td>20.0</td>\n",
       "      <td>30.0</td>\n",
       "      <td>32.0</td>\n",
       "      <td>None</td>\n",
       "      <td>None</td>\n",
       "      <td>None</td>\n",
       "    </tr>\n",
       "    <tr>\n",
       "      <th>Dick</th>\n",
       "      <td>20.0</td>\n",
       "      <td>10.0</td>\n",
       "      <td>None</td>\n",
       "      <td>None</td>\n",
       "      <td>Slight</td>\n",
       "      <td>14000.0</td>\n",
       "      <td>None</td>\n",
       "      <td>None</td>\n",
       "      <td>None</td>\n",
       "      <td>None</td>\n",
       "      <td>...</td>\n",
       "      <td>0.0</td>\n",
       "      <td>42.0</td>\n",
       "      <td>32.0</td>\n",
       "      <td>30.0</td>\n",
       "      <td>20.0</td>\n",
       "      <td>30.0</td>\n",
       "      <td>32.0</td>\n",
       "      <td>None</td>\n",
       "      <td>None</td>\n",
       "      <td>None</td>\n",
       "    </tr>\n",
       "  </tbody>\n",
       "</table>\n",
       "<p>8 rows × 25 columns</p>\n",
       "</div>"
      ],
      "text/plain": [
       "         assessment_get  assessment_put claim_get claim_put  \\\n",
       "name                                                          \n",
       "Alfred             31.0            21.0      None      None   \n",
       "Bruce              41.0            31.0      None      None   \n",
       "Selena             31.0            21.0      None      None   \n",
       "Fish               31.0            21.0      None      None   \n",
       "Jerome             20.0            10.0      None      None   \n",
       "Barbara            20.0            10.0      None      None   \n",
       "Lucius             20.0            10.0      None      None   \n",
       "Dick               20.0            10.0      None      None   \n",
       "\n",
       "        damage_state_start  damage_value_start demolition_get demolition_put  \\\n",
       "name                                                                           \n",
       "Alfred              Slight              2000.0           None           None   \n",
       "Bruce               Slight            200000.0           None           None   \n",
       "Selena              Slight               200.0           None           None   \n",
       "Fish                Slight             16000.0           None           None   \n",
       "Jerome              Slight              2000.0           None           None   \n",
       "Barbara             Slight            200000.0           None           None   \n",
       "Lucius              Slight               200.0           None           None   \n",
       "Dick                Slight             14000.0           None           None   \n",
       "\n",
       "        fema_get fema_put   ...    inspection_put occupy_get occupy_put  \\\n",
       "name                        ...                                           \n",
       "Alfred        20       10   ...               0.0       53.0       43.0   \n",
       "Bruce         20       10   ...               0.0       63.0       53.0   \n",
       "Selena        20       10   ...               0.0       53.0       43.0   \n",
       "Fish          20       10   ...               0.0       53.0       43.0   \n",
       "Jerome      None     None   ...               0.0       42.0       32.0   \n",
       "Barbara     None     None   ...               0.0       42.0       32.0   \n",
       "Lucius      None     None   ...               0.0       42.0       32.0   \n",
       "Dick        None     None   ...               0.0       42.0       32.0   \n",
       "\n",
       "        permit_get  permit_put  rebuild_put  repair_get  repair_put  sba_get  \\\n",
       "name                                                                           \n",
       "Alfred        41.0        31.0         41.0        43.0        None     None   \n",
       "Bruce         51.0        41.0         51.0        53.0        None       31   \n",
       "Selena        41.0        31.0         41.0        43.0        None     None   \n",
       "Fish          41.0        31.0         41.0        43.0        None     None   \n",
       "Jerome        30.0        20.0         30.0        32.0        None     None   \n",
       "Barbara       30.0        20.0         30.0        32.0        None     None   \n",
       "Lucius        30.0        20.0         30.0        32.0        None     None   \n",
       "Dick          30.0        20.0         30.0        32.0        None     None   \n",
       "\n",
       "         sba_put  \n",
       "name              \n",
       "Alfred        10  \n",
       "Bruce         10  \n",
       "Selena        10  \n",
       "Fish          10  \n",
       "Jerome      None  \n",
       "Barbara     None  \n",
       "Lucius      None  \n",
       "Dick        None  \n",
       "\n",
       "[8 rows x 25 columns]"
      ]
     },
     "execution_count": 38,
     "metadata": {},
     "output_type": "execute_result"
    }
   ],
   "source": [
    "event_list=[]\n",
    "\n",
    "\n",
    "for i in df.columns:\n",
    "    if \"get\" in i or \"put\" in i or \"stop\" in i or \"start\" in i or \"name\" in i or \"gave\" in i:\n",
    "        event_list.append(i)\n",
    "\n",
    "event_df = df[event_list]\n",
    "event_df = event_df.set_index('name')\n",
    "event_df"
   ]
  },
  {
   "cell_type": "markdown",
   "metadata": {},
   "source": [
    "__Example of how to visualize individual entities.__"
   ]
  },
  {
   "cell_type": "code",
   "execution_count": 39,
   "metadata": {},
   "outputs": [
    {
     "data": {
      "text/plain": [
       "[<matplotlib.text.Text at 0x114f0fc88>, <matplotlib.text.Text at 0x114f01438>]"
      ]
     },
     "execution_count": 39,
     "metadata": {},
     "output_type": "execute_result"
    },
    {
     "data": {
      "image/png": "[encoded data removed]",
      "text/plain": [
       "<matplotlib.figure.Figure at 0x11156d978>"
      ]
     },
     "metadata": {},
     "output_type": "display_data"
    }
   ],
   "source": [
    "name = \"Bruce\"\n",
    "\n",
    "name_row = df[df['name']==name][['inspection_put',\n",
    " 'inspection_get',\n",
    " 'fema_put',\n",
    " 'fema_get',\n",
    " 'assessment_put',\n",
    " 'assessment_get',\n",
    " 'permit_put',\n",
    " 'permit_get',\n",
    "'occupy_put',\n",
    "'occupy_get',\n",
    " 'home_put',\n",
    " 'home_get']]\n",
    "\n",
    "%matplotlib inline\n",
    "plt.figure(figsize=(10,10))\n",
    "sns.set_style(style=\"whitegrid\")\n",
    "sns.set(font_scale=2)\n",
    "ax = sns.stripplot(name_row.iloc[0], name_row.columns, jitter=True, size = 15, linewidth=1)\n",
    "ax.set(xlabel=\"Days After Event\", ylabel=\"Housing Recovery Events for {0}\".format(name))"
   ]
  },
  {
   "cell_type": "code",
   "execution_count": 40,
   "metadata": {},
   "outputs": [
    {
     "data": {
      "text/html": [
       "<div>\n",
       "<table border=\"1\" class=\"dataframe\">\n",
       "  <thead>\n",
       "    <tr style=\"text-align: right;\">\n",
       "      <th></th>\n",
       "      <th>inspection_put</th>\n",
       "      <th>inspection_get</th>\n",
       "      <th>fema_put</th>\n",
       "      <th>fema_get</th>\n",
       "      <th>assessment_put</th>\n",
       "      <th>assessment_get</th>\n",
       "      <th>permit_put</th>\n",
       "      <th>permit_get</th>\n",
       "      <th>occupy_put</th>\n",
       "      <th>occupy_get</th>\n",
       "      <th>home_put</th>\n",
       "      <th>home_get</th>\n",
       "    </tr>\n",
       "  </thead>\n",
       "  <tbody>\n",
       "    <tr>\n",
       "      <th>1</th>\n",
       "      <td>0.0</td>\n",
       "      <td>10.0</td>\n",
       "      <td>10</td>\n",
       "      <td>20</td>\n",
       "      <td>31.0</td>\n",
       "      <td>41.0</td>\n",
       "      <td>41.0</td>\n",
       "      <td>51.0</td>\n",
       "      <td>53.0</td>\n",
       "      <td>63.0</td>\n",
       "      <td>None</td>\n",
       "      <td>None</td>\n",
       "    </tr>\n",
       "  </tbody>\n",
       "</table>\n",
       "</div>"
      ],
      "text/plain": [
       "   inspection_put  inspection_get fema_put fema_get  assessment_put  \\\n",
       "1             0.0            10.0       10       20            31.0   \n",
       "\n",
       "   assessment_get  permit_put  permit_get  occupy_put  occupy_get home_put  \\\n",
       "1            41.0        41.0        51.0        53.0        63.0     None   \n",
       "\n",
       "  home_get  \n",
       "1     None  "
      ]
     },
     "execution_count": 40,
     "metadata": {},
     "output_type": "execute_result"
    }
   ],
   "source": [
    "name_row"
   ]
  },
  {
   "cell_type": "code",
   "execution_count": 41,
   "metadata": {},
   "outputs": [],
   "source": [
    "# f, ax = plt.subplots(1, figsize=(16, 6))\n",
    "# df[\"home_get\"].plot(kind='hist', bins=10, title='Number of Homes Repaired Over Time', figsize=(10,6), fontsize=14)\n",
    "# plt.xlabel('Days After Earthquake', fontsize=16)\n",
    "# plt.ylabel('Count', fontsize=16)\n",
    "\n",
    "# for container in ax.containers:\n",
    "#               plt.setp(container, width=1)        "
   ]
  },
  {
   "cell_type": "code",
   "execution_count": 42,
   "metadata": {},
   "outputs": [],
   "source": [
    "# f, ax = plt.subplots(1, figsize=(16, 6))\n",
    "# sns.boxplot(data=df[['inspection_get', 'claim_get', 'assistance_get', 'sba_get', \n",
    "#                       'assessment_get', 'permit_get', 'home_get']], ax=ax)\n",
    "# plt.xlabel('Event', fontsize=16)\n",
    "# plt.ylabel('Event Duration (Days)', fontsize=16)\n",
    "# plt.xticks(fontsize=12)\n",
    "# plt.title('Time Distributions For Housing Recovey Simulation Events')\n",
    "\n",
    "# ax.tick_params(labelsize=16)"
   ]
  },
  {
   "cell_type": "code",
   "execution_count": 43,
   "metadata": {
    "collapsed": true,
    "scrolled": false
   },
   "outputs": [],
   "source": [
    "# f, ax = plt.subplots(1, figsize=(16, 6))\n",
    "\n",
    "# order = ['None', 'Slight', 'Moderate','Extensive','Complete']\n",
    "\n",
    "# df_damage_state = df[['home_get', 'damage_state_start']].groupby('damage_state_start')\n",
    "\n",
    "# df_damage_state_mean = df_damage_state.mean().ix[order]\n",
    "\n",
    "# df_damage_state_mean.plot(kind='bar', rot=0, legend=False, ax=ax)\n",
    "\n",
    "# plt.xlabel('Damage State', fontsize=16)\n",
    "# plt.ylabel('Days After Earthquake', fontsize=16)\n",
    "# plt.xticks(fontsize=12)\n",
    "# plt.title('Mean Time To Repair Home vs. Damage State')\n",
    "\n",
    "# ax.tick_params(labelsize=16)"
   ]
  },
  {
   "cell_type": "code",
   "execution_count": null,
   "metadata": {
    "collapsed": true
   },
   "outputs": [],
   "source": []
  }
 ],
 "metadata": {
  "anaconda-cloud": {},
  "kernelspec": {
   "display_name": "Python [default]",
   "language": "python",
   "name": "python3"
  },
  "language_info": {
   "codemirror_mode": {
    "name": "ipython",
    "version": 3
   },
   "file_extension": ".py",
   "mimetype": "text/x-python",
   "name": "python",
   "nbconvert_exporter": "python",
   "pygments_lexer": "ipython3",
   "version": "3.5.2"
  },
  "nbpresent": {
   "slides": {
    "c70bf630-c1ab-4568-8b60-1be60a4c6f14": {
     "id": "c70bf630-c1ab-4568-8b60-1be60a4c6f14",
     "layout": "grid",
     "prev": null,
     "regions": {
      "4937cfd3-95ef-472b-8bcb-0fe395034eeb": {
       "attrs": {
        "height": 0.75,
        "pad": 0.01,
        "treemap:weight": 1,
        "width": 0.3333333333333333,
        "x": 0.6666666666666666,
        "y": 0
       },
       "id": "4937cfd3-95ef-472b-8bcb-0fe395034eeb"
      },
      "5fbef4a8-e9f1-4a08-86db-46056e211b66": {
       "attrs": {
        "height": 0.75,
        "pad": 0.01,
        "treemap:weight": 1,
        "width": 0.3333333333333333,
        "x": 0.3333333333333333,
        "y": 0
       },
       "id": "5fbef4a8-e9f1-4a08-86db-46056e211b66"
      },
      "7ee15621-2c2c-44b3-b170-4eb63bd818cc": {
       "attrs": {
        "height": 0.25,
        "pad": 0.01,
        "treemap:weight": 1,
        "width": 1,
        "x": 0,
        "y": 0.75
       },
       "id": "7ee15621-2c2c-44b3-b170-4eb63bd818cc"
      },
      "fc201ce3-4473-4f2f-b833-b627be3edf18": {
       "attrs": {
        "height": 0.75,
        "pad": 0.01,
        "treemap:weight": 1,
        "width": 0.3333333333333333,
        "x": 0,
        "y": 0
       },
       "content": {
        "cell": "daf47265-2d0b-406e-bda0-4d5c93d295ab",
        "part": "source"
       },
       "id": "fc201ce3-4473-4f2f-b833-b627be3edf18"
      }
     }
    }
   },
   "themes": {}
  }
 },
 "nbformat": 4,
 "nbformat_minor": 1
}
