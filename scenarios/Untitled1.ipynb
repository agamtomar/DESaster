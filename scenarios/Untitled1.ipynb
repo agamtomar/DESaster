{
 "cells": [
  {
   "cell_type": "code",
   "execution_count": 1,
   "metadata": {
    "collapsed": true
   },
   "outputs": [],
   "source": [
    "import simpy"
   ]
  },
  {
   "cell_type": "code",
   "execution_count": 6,
   "metadata": {
    "collapsed": true
   },
   "outputs": [],
   "source": [
    "env = simpy.Environment()"
   ]
  },
  {
   "cell_type": "code",
   "execution_count": 49,
   "metadata": {},
   "outputs": [
    {
     "name": "stdout",
     "output_type": "stream",
     "text": [
      "Geez\n"
     ]
    }
   ],
   "source": [
    "bob = None\n",
    "def test_condition(env, bill):\n",
    "#     t1, t2 = env.timeout(1, value='spam'), env.timeout(2, value='eggs')\n",
    "#     ret=yield t1 | t2\n",
    "#     print(ret)\n",
    "#     t1, t2 = env.timeout(1, value='spam'), env.timeout(2, value='eggs')\n",
    "#     ret = yield t1 & t2\n",
    "#     print(ret)\n",
    "    \n",
    "    # You can also concatenate & and |\n",
    "    e1 = env.timeout(11, value='spam')\n",
    "    e2 = env.timeout(2, value='eggs')\n",
    "    e3 = env.timeout(10, value='toast')\n",
    "    ret = yield (e1 & e2) | e3\n",
    "    bill = ret\n",
    "\n",
    "    if 'eggs' in str(ret): print('Geez')\n",
    "        \n",
    "proc = env.process(test_condition(env, bob))\n",
    "env.run()"
   ]
  },
  {
   "cell_type": "code",
   "execution_count": 43,
   "metadata": {},
   "outputs": [],
   "source": [
    "bob"
   ]
  },
  {
   "cell_type": "code",
   "execution_count": null,
   "metadata": {
    "collapsed": true
   },
   "outputs": [],
   "source": []
  }
 ],
 "metadata": {
  "kernelspec": {
   "display_name": "Python [default]",
   "language": "python",
   "name": "python3"
  },
  "language_info": {
   "codemirror_mode": {
    "name": "ipython",
    "version": 3
   },
   "file_extension": ".py",
   "mimetype": "text/x-python",
   "name": "python",
   "nbconvert_exporter": "python",
   "pygments_lexer": "ipython3",
   "version": "3.5.2"
  }
 },
 "nbformat": 4,
 "nbformat_minor": 2
}
