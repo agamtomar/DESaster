{
 "cells": [
  {
   "cell_type": "code",
   "execution_count": 33,
   "metadata": {},
   "outputs": [],
   "source": [
    "from scipy.stats import uniform, beta, weibull_min"
   ]
  },
  {
   "cell_type": "code",
   "execution_count": 52,
   "metadata": {},
   "outputs": [],
   "source": [
    "class ProbabilityDistribution(object):\n",
    "    \"\"\"A general class to hold parameters for defining different probability\n",
    "    distibutions for use with io.random_duration_function() to dynamically randomly\n",
    "    sample a duration for a given process.\n",
    "    \n",
    "    Parameter terminology follows the generalized terms from numpy.stats module:\n",
    "    https://docs.scipy.org/doc/scipy/reference/stats.html#module-scipy.stats\n",
    "    \"\"\"\n",
    "    def __init__(self, dist='scalar', loc=0.0, scale=None, shape_a=None, shape_b=None, shape_c=None):\n",
    "        \"\"\"Initiate a DurationProbabilityDistribution object.\n",
    "        \n",
    "        Parameter terminology follows the generalized terms from numpy.stats module:\n",
    "        https://docs.scipy.org/doc/scipy/reference/stats.html#module-scipy.stats\n",
    "        \"\"\"\n",
    "        self.dist = dist # String. Name of a probability distribution \n",
    "                            # (must be supported by io.random_duration_function())\n",
    "        self.loc = loc # Float. The location of the distribution (e.g., mean, for Gaussian)\n",
    "        self.scale = scale # Float. Scale of the distribution. (e.g., distribution range for Uniform)\n",
    "        self.shape_a = shape_a # Float. Numpy.stats shape parameter \"a\". (e.g., for Beta)\n",
    "        self.shape_b = shape_b # Float. Numpy.stats shape parameter \"b\". (e.g., for Beta)\n",
    "        self.shape_c = shape_c # Float. Numpy.stats shape parameter \"c\". (e.g., for Weibull)\n",
    "        \n",
    "    def value(self):\n",
    "        \"\"\"A function that returns a pointer to a lambda function that will \n",
    "        dynamically randomly sample a duration for a given process based on distribution \n",
    "        type and parameters specified by inputted io.DurationProbabilityDistribution. \n",
    "        Random number generators for different distributions from numpy.stats. \n",
    "        \n",
    "        Supported numpy.stats Distributions:\n",
    "        scalar (determistic scalar location)\n",
    "        uniform.rvs\n",
    "        beta.rvs\n",
    "        weibull_min.rvs\n",
    "        \n",
    "        Returns\n",
    "        lambda numpy.stats.[ProbabilityDistribution].rvs()\n",
    "        \"\"\"\n",
    "        try:\n",
    "            if self.dist == \"scalar\":\n",
    "                return self.loc\n",
    "            elif self.dist == \"uniform\":\n",
    "                return uniform.rvs(loc=self.loc, scale=self.scale)\n",
    "            elif self.dist == \"beta\":\n",
    "                return beta.rvs(a=self.shape_a, b=self.shape_b,loc=self.loc,scale=self.scale)\n",
    "            elif self.dist == \"weibull\":\n",
    "                return weibull_min.rvs(c=self.shape_c,loc=self.loc,scale=self.scale)\n",
    "            else:\n",
    "                raise ValueError(\"Probability distibution type not specified or supported.\")\n",
    "                return\n",
    "        except TypeError as te:\n",
    "            print(\"Duration probability distribution not specified: \", te)\n",
    "            return"
   ]
  },
  {
   "cell_type": "code",
   "execution_count": 53,
   "metadata": {
    "collapsed": true
   },
   "outputs": [],
   "source": [
    "scalar_dist = ProbabilityDistribution(dist='scalar', loc=10) "
   ]
  },
  {
   "cell_type": "code",
   "execution_count": 57,
   "metadata": {},
   "outputs": [
    {
     "data": {
      "text/plain": [
       "10"
      ]
     },
     "execution_count": 57,
     "metadata": {},
     "output_type": "execute_result"
    }
   ],
   "source": [
    "scalar_dist.value()"
   ]
  },
  {
   "cell_type": "code",
   "execution_count": 56,
   "metadata": {},
   "outputs": [
    {
     "data": {
      "text/plain": [
       "10"
      ]
     },
     "execution_count": 56,
     "metadata": {},
     "output_type": "execute_result"
    }
   ],
   "source": [
    "bob"
   ]
  },
  {
   "cell_type": "code",
   "execution_count": 59,
   "metadata": {
    "collapsed": true
   },
   "outputs": [],
   "source": [
    "beta_dist = ProbabilityDistribution(dist='beta', loc=5, scale=10, shape_a=2.0, shape_b=2.0)"
   ]
  },
  {
   "cell_type": "code",
   "execution_count": 62,
   "metadata": {},
   "outputs": [
    {
     "data": {
      "text/plain": [
       "10.899040112205807"
      ]
     },
     "execution_count": 62,
     "metadata": {},
     "output_type": "execute_result"
    }
   ],
   "source": [
    "beta_dist.value()"
   ]
  },
  {
   "cell_type": "code",
   "execution_count": 23,
   "metadata": {},
   "outputs": [
    {
     "ename": "TypeError",
     "evalue": "'numpy.float64' object is not callable",
     "output_type": "error",
     "traceback": [
      "\u001b[0;31m---------------------------------------------------------------------------\u001b[0m",
      "\u001b[0;31mTypeError\u001b[0m                                 Traceback (most recent call last)",
      "\u001b[0;32m<ipython-input-23-5e2866e1ec09>\u001b[0m in \u001b[0;36m<module>\u001b[0;34m()\u001b[0m\n\u001b[0;32m----> 1\u001b[0;31m \u001b[0mbob\u001b[0m\u001b[0;34m(\u001b[0m\u001b[0;34m)\u001b[0m\u001b[0;34m\u001b[0m\u001b[0m\n\u001b[0m",
      "\u001b[0;31mTypeError\u001b[0m: 'numpy.float64' object is not callable"
     ]
    }
   ],
   "source": [
    "bob()"
   ]
  },
  {
   "cell_type": "code",
   "execution_count": 49,
   "metadata": {},
   "outputs": [],
   "source": [
    "value =  lambda x,y  : beta.rvs(a=2,b=2, \n",
    "                            loc=0, scale=0) if x >= y else beta.rvs(\n",
    "                            a=2,b=2,loc=1500,scale=30)"
   ]
  },
  {
   "cell_type": "code",
   "execution_count": 51,
   "metadata": {},
   "outputs": [
    {
     "data": {
      "text/plain": [
       "1515.1833764221547"
      ]
     },
     "execution_count": 51,
     "metadata": {},
     "output_type": "execute_result"
    }
   ],
   "source": [
    "value(1, 600)"
   ]
  },
  {
   "cell_type": "code",
   "execution_count": null,
   "metadata": {
    "collapsed": true
   },
   "outputs": [],
   "source": []
  }
 ],
 "metadata": {
  "kernelspec": {
   "display_name": "Python [default]",
   "language": "python",
   "name": "python3"
  },
  "language_info": {
   "codemirror_mode": {
    "name": "ipython",
    "version": 3
   },
   "file_extension": ".py",
   "mimetype": "text/x-python",
   "name": "python",
   "nbconvert_exporter": "python",
   "pygments_lexer": "ipython3",
   "version": "3.5.2"
  }
 },
 "nbformat": 4,
 "nbformat_minor": 2
}
